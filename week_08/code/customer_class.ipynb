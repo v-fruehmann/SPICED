{
 "cells": [
  {
   "cell_type": "code",
   "execution_count": 5,
   "id": "56fa5895",
   "metadata": {},
   "outputs": [],
   "source": [
    "import numpy as np\n",
    "import pandas as pd\n",
    "import random\n",
    "\n"
   ]
  },
  {
   "cell_type": "code",
   "execution_count": 11,
   "id": "366de821",
   "metadata": {},
   "outputs": [],
   "source": [
    "# states of chain\n",
    "STATES = ['entrance','dairy', 'drinks', 'fruit', 'spices', 'checkout']\n",
    "\n",
    "# Transition matrix\n",
    "\n",
    "#probs = trans_prob_matrix\n",
    "probs = {\n",
    "    'entrance':[0,0.25, 0.25, 0.25,0.10, 0.15],\n",
    "    'dairy': [0, 0.391211, 0.000000, 0.223151, 0.189925, 0.195713],\n",
    "    'drinks': [0,0.537023, 0.027159, 0.000000, 0.219062, 0.216756],\n",
    "    'fruit': [0,0.499511, 0.238319, 0.136266, 0.000000, 0.125904],\n",
    "    'spices': [0,0.251000, 0.323553, 0.273140, 0.152307, 0.000000],\n",
    "    'checkout': [0,0.391211, 0.537023, 0.499511, 0.251000, 0.000000]\n",
    "}\n",
    "\n",
    "customers = ['Mary','Peter','Jack','Tom','Marta','Alice']"
   ]
  },
  {
   "cell_type": "code",
   "execution_count": 12,
   "id": "8cc9b9a3",
   "metadata": {},
   "outputs": [],
   "source": [
    "class Customer: \n",
    "    \n",
    "    def __init__(self, name, probs=probs, current_location ='entrance'):\n",
    "        self.name = name\n",
    "        self.probs = probs\n",
    "        self.current_location = current_location\n",
    "        \n",
    "        \n",
    "    def is_active(self):\n",
    "        return self.current_location != 'checkout' \n",
    "        \n",
    "    def next_location(self):\n",
    "        '''\n",
    "        Customer class selects next location.\n",
    "        \n",
    "        '''\n",
    "        self.current_location = random.choices(STATES, probs[self.current_location])[0]\n",
    "        #print(f'I am at {self.current_location}')  \n",
    "       \n",
    "            \n",
    "    def __repr__(self):\n",
    "        return f\"The customer {self.name} is at {self.current_location}\"\n",
    "\n",
    "\n",
    "cust1=Customer('Peter',probs)\n",
    "#print(cust1.current_location)\n",
    "cust1.next_location()\n",
    "#print(cust1.current_location)\n",
    "\n",
    "\n",
    "customers =['Mary','Peter','Jack','Tom','Marta','Alice']\n",
    "\n",
    "def save_predicted_state(customers):\n",
    "    for name in customers:\n",
    "        new_customer = Customer(name)\n",
    "        print(new_customer)\n",
    "        new_customer.next_location()\n",
    "        print(new_customer)\n",
    "        states = new_customer.current_location\n",
    "        \n",
    "#save_predicted_state(customers)"
   ]
  },
  {
   "cell_type": "code",
   "execution_count": null,
   "id": "2081bc55",
   "metadata": {},
   "outputs": [],
   "source": []
  }
 ],
 "metadata": {
  "kernelspec": {
   "display_name": "Python 3 (ipykernel)",
   "language": "python",
   "name": "python3"
  },
  "language_info": {
   "codemirror_mode": {
    "name": "ipython",
    "version": 3
   },
   "file_extension": ".py",
   "mimetype": "text/x-python",
   "name": "python",
   "nbconvert_exporter": "python",
   "pygments_lexer": "ipython3",
   "version": "3.9.12"
  }
 },
 "nbformat": 4,
 "nbformat_minor": 5
}
