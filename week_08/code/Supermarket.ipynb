{
 "cells": [
  {
   "cell_type": "code",
   "execution_count": 53,
   "id": "e4f655d2",
   "metadata": {},
   "outputs": [],
   "source": [
    "import numpy as np\n",
    "import pandas as pd\n",
    "import random\n",
    "import time\n",
    "import datetime\n",
    "from datetime import datetime\n",
    "import import_ipynb\n",
    "from customer_class import Customer\n",
    "from faker import Faker"
   ]
  },
  {
   "cell_type": "code",
   "execution_count": 21,
   "id": "d562d7d0",
   "metadata": {},
   "outputs": [],
   "source": [
    "STATES = ['entrance','dairy', 'drinks', 'fruit', 'spices', 'checkout']\n",
    "\n",
    "probs = {\n",
    "    'entrance':[0,0.25, 0.25, 0.25,0.10, 0.15],\n",
    "    'dairy': [0, 0.391211, 0.000000, 0.223151, 0.189925, 0.195713],\n",
    "    'drinks': [0,0.537023, 0.027159, 0.000000, 0.219062, 0.216756],\n",
    "    'fruit': [0,0.499511, 0.238319, 0.136266, 0.000000, 0.125904],\n",
    "    'spices': [0,0.251000, 0.323553, 0.273140, 0.152307, 0.000000],\n",
    "    'checkout': [0,0.391211, 0.537023, 0.499511, 0.251000, 0.000000]\n",
    "}"
   ]
  },
  {
   "cell_type": "code",
   "execution_count": 128,
   "id": "b17c42d0",
   "metadata": {},
   "outputs": [],
   "source": [
    "class Supermarket:\n",
    "    \"\"\"manages multiple Customer instances that are currently in the market.\n",
    "    \"\"\"\n",
    "\n",
    "    def __init__(self):        \n",
    "        self.customers = []\n",
    "        self.minutes = 0\n",
    "        self.last_id = 0\n",
    "        self.current_time=0\n",
    "        \n",
    "    def __repr__(self):\n",
    "        return f'Supermarket(\"{self.customers}\", \"{self.current_time}\")'\n",
    "\n",
    "    def get_time(self):\n",
    "        \"\"\"current time in HH:MM format\n",
    "        \"\"\"\n",
    "        current_time = datetime.now()\n",
    "        time = current_time.strftime(\"%H:%M\")\n",
    "        print(f'current_time: {time}')\n",
    "        return time\n",
    "    \n",
    "\n",
    "    def print_customers(self):\n",
    "        \"\"\"print all customers with the current time and id in CSV format.\n",
    "        \"\"\"\n",
    "        for customers in self.customers:\n",
    "            time=self.get_time()\n",
    "            name=customer.name\n",
    "            current_location=customer.current_location\n",
    "            \n",
    "            fields=[time,name,state]\n",
    "            with open('./spiced_working_files/customer.csv','a') as f:\n",
    "                writer=csv.writer(f)\n",
    "                writer.writerow(fields)\n",
    "            return None\n",
    "\n",
    "    def next_minute(self):\n",
    "        \"\"\"propagates all customers to the next state.\n",
    "        \"\"\"\n",
    "        for customer in self.customers:\n",
    "            customer.next_location()\n",
    "            print(f\"{customer.name} to {customer.current_location}\")\n",
    "        \n",
    "        return None\n",
    "    \n",
    "    def add_new_customers(self):\n",
    "        \"\"\"randomly creates new customers.\n",
    "        \"\"\"\n",
    "        for i in range(random.randint(1,5)):\n",
    "            fake=Faker()\n",
    "            name=fake.name()\n",
    "            customer=Customer(name)\n",
    "            self.customers.append(customer)\n",
    "        return None\n",
    "\n",
    "    def remove_exitsting_customers(self):\n",
    "        \"\"\"removes every customer that is not active any more.\n",
    "        \"\"\"\n",
    "        self.is_active()\n",
    "        for customer in self.customers:\n",
    "            if cust.current_location=='checkout':\n",
    "                self.customers.remove(cust)\n",
    "                print(f'{cust} removed')\n",
    "        "
   ]
  },
  {
   "cell_type": "code",
   "execution_count": 130,
   "id": "5b799e0b",
   "metadata": {},
   "outputs": [],
   "source": [
    "rewe=Supermarket()"
   ]
  },
  {
   "cell_type": "code",
   "execution_count": 131,
   "id": "d9d28b12",
   "metadata": {},
   "outputs": [
    {
     "name": "stdout",
     "output_type": "stream",
     "text": [
      "Supermarket(\"[]\", \"0\")\n"
     ]
    }
   ],
   "source": [
    "print(repr(rewe))"
   ]
  },
  {
   "cell_type": "code",
   "execution_count": 132,
   "id": "d4920a02",
   "metadata": {},
   "outputs": [
    {
     "name": "stdout",
     "output_type": "stream",
     "text": [
      "current_time: 12:07\n"
     ]
    },
    {
     "data": {
      "text/plain": [
       "'12:07'"
      ]
     },
     "execution_count": 132,
     "metadata": {},
     "output_type": "execute_result"
    }
   ],
   "source": [
    "rewe.get_time()"
   ]
  },
  {
   "cell_type": "code",
   "execution_count": 134,
   "id": "5f6bf493",
   "metadata": {},
   "outputs": [],
   "source": [
    "rewe.print_customers()"
   ]
  },
  {
   "cell_type": "code",
   "execution_count": 135,
   "id": "4ff763b6",
   "metadata": {},
   "outputs": [
    {
     "data": {
      "text/plain": [
       "[]"
      ]
     },
     "execution_count": 135,
     "metadata": {},
     "output_type": "execute_result"
    }
   ],
   "source": [
    "rewe.customers"
   ]
  },
  {
   "cell_type": "code",
   "execution_count": 136,
   "id": "e4bdeec7",
   "metadata": {},
   "outputs": [],
   "source": [
    "rewe.add_new_customers()"
   ]
  },
  {
   "cell_type": "code",
   "execution_count": 138,
   "id": "ade82f0a",
   "metadata": {},
   "outputs": [
    {
     "data": {
      "text/plain": [
       "[The customer Belinda Jones is at entrance,\n",
       " The customer Michelle Norman is at entrance]"
      ]
     },
     "execution_count": 138,
     "metadata": {},
     "output_type": "execute_result"
    }
   ],
   "source": [
    "rewe.customers"
   ]
  },
  {
   "cell_type": "code",
   "execution_count": 139,
   "id": "08b3f228",
   "metadata": {},
   "outputs": [
    {
     "name": "stdout",
     "output_type": "stream",
     "text": [
      "Belinda Jones to dairy\n",
      "Michelle Norman to fruit\n"
     ]
    }
   ],
   "source": [
    "rewe.next_minute()"
   ]
  },
  {
   "cell_type": "code",
   "execution_count": null,
   "id": "c954801d",
   "metadata": {},
   "outputs": [],
   "source": []
  }
 ],
 "metadata": {
  "kernelspec": {
   "display_name": "Python 3.9.6 64-bit",
   "language": "python",
   "name": "python3"
  },
  "language_info": {
   "codemirror_mode": {
    "name": "ipython",
    "version": 3
   },
   "file_extension": ".py",
   "mimetype": "text/x-python",
   "name": "python",
   "nbconvert_exporter": "python",
   "pygments_lexer": "ipython3",
   "version": "3.9.6"
  },
  "vscode": {
   "interpreter": {
    "hash": "31f2aee4e71d21fbe5cf8b01ff0e069b9275f58929596ceb00d14d90e3e16cd6"
   }
  }
 },
 "nbformat": 4,
 "nbformat_minor": 5
}
