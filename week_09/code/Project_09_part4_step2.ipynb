{
  "nbformat": 4,
  "nbformat_minor": 0,
  "metadata": {
    "colab": {
      "provenance": []
    },
    "kernelspec": {
      "name": "python3",
      "display_name": "Python 3"
    },
    "language_info": {
      "name": "python"
    }
  },
  "cells": [
    {
      "cell_type": "code",
      "execution_count": 1,
      "metadata": {
        "id": "AxLeFtexja_T"
      },
      "outputs": [],
      "source": [
        "import tensorflow as tf\n",
        "import matplotlib.pyplot as plt\n",
        "from tensorflow.keras.preprocessing import image\n",
        "from tensorflow.keras.preprocessing.image import load_img\n",
        "from tensorflow.keras.utils import to_categorical\n",
        "from tensorflow.keras.applications.vgg16 import preprocess_input\n",
        "from tensorflow import keras\n",
        "import numpy as np\n",
        "import pandas as pd\n",
        "from pprint import pprint\n",
        "import os\n",
        "\n",
        "plt.rcParams['figure.figsize'] = (10,35)"
      ]
    },
    {
      "cell_type": "code",
      "source": [
        "#!pip install pillow (python imaging library)"
      ],
      "metadata": {
        "id": "BZ31TBUO3so9"
      },
      "execution_count": 2,
      "outputs": []
    },
    {
      "cell_type": "code",
      "source": [
        "from google.colab import drive\n",
        "drive.mount('/content/drive')"
      ],
      "metadata": {
        "colab": {
          "base_uri": "https://localhost:8080/"
        },
        "id": "RQTH4LgokOhv",
        "outputId": "b6ede68e-e3f1-464d-901f-0289ba6b9bdb"
      },
      "execution_count": 3,
      "outputs": [
        {
          "output_type": "stream",
          "name": "stdout",
          "text": [
            "Drive already mounted at /content/drive; to attempt to forcibly remount, call drive.mount(\"/content/drive\", force_remount=True).\n"
          ]
        }
      ]
    },
    {
      "cell_type": "markdown",
      "source": [
        "# Pre-trained networks"
      ],
      "metadata": {
        "id": "G6jTNpMvl4vR"
      }
    },
    {
      "cell_type": "code",
      "source": [
        "# Instantiate the model\n",
        "vgg_model = keras.applications.vgg16.VGG16(weights='imagenet')"
      ],
      "metadata": {
        "id": "HyDwJLqwkQ4p"
      },
      "execution_count": 4,
      "outputs": []
    },
    {
      "cell_type": "code",
      "source": [
        "vgg_model.summary()"
      ],
      "metadata": {
        "colab": {
          "base_uri": "https://localhost:8080/"
        },
        "id": "khNVLsfxl1ld",
        "outputId": "a790e074-72dd-41d1-af5e-f9f8af7e6010"
      },
      "execution_count": 5,
      "outputs": [
        {
          "output_type": "stream",
          "name": "stdout",
          "text": [
            "Model: \"vgg16\"\n",
            "_________________________________________________________________\n",
            " Layer (type)                Output Shape              Param #   \n",
            "=================================================================\n",
            " input_1 (InputLayer)        [(None, 224, 224, 3)]     0         \n",
            "                                                                 \n",
            " block1_conv1 (Conv2D)       (None, 224, 224, 64)      1792      \n",
            "                                                                 \n",
            " block1_conv2 (Conv2D)       (None, 224, 224, 64)      36928     \n",
            "                                                                 \n",
            " block1_pool (MaxPooling2D)  (None, 112, 112, 64)      0         \n",
            "                                                                 \n",
            " block2_conv1 (Conv2D)       (None, 112, 112, 128)     73856     \n",
            "                                                                 \n",
            " block2_conv2 (Conv2D)       (None, 112, 112, 128)     147584    \n",
            "                                                                 \n",
            " block2_pool (MaxPooling2D)  (None, 56, 56, 128)       0         \n",
            "                                                                 \n",
            " block3_conv1 (Conv2D)       (None, 56, 56, 256)       295168    \n",
            "                                                                 \n",
            " block3_conv2 (Conv2D)       (None, 56, 56, 256)       590080    \n",
            "                                                                 \n",
            " block3_conv3 (Conv2D)       (None, 56, 56, 256)       590080    \n",
            "                                                                 \n",
            " block3_pool (MaxPooling2D)  (None, 28, 28, 256)       0         \n",
            "                                                                 \n",
            " block4_conv1 (Conv2D)       (None, 28, 28, 512)       1180160   \n",
            "                                                                 \n",
            " block4_conv2 (Conv2D)       (None, 28, 28, 512)       2359808   \n",
            "                                                                 \n",
            " block4_conv3 (Conv2D)       (None, 28, 28, 512)       2359808   \n",
            "                                                                 \n",
            " block4_pool (MaxPooling2D)  (None, 14, 14, 512)       0         \n",
            "                                                                 \n",
            " block5_conv1 (Conv2D)       (None, 14, 14, 512)       2359808   \n",
            "                                                                 \n",
            " block5_conv2 (Conv2D)       (None, 14, 14, 512)       2359808   \n",
            "                                                                 \n",
            " block5_conv3 (Conv2D)       (None, 14, 14, 512)       2359808   \n",
            "                                                                 \n",
            " block5_pool (MaxPooling2D)  (None, 7, 7, 512)         0         \n",
            "                                                                 \n",
            " flatten (Flatten)           (None, 25088)             0         \n",
            "                                                                 \n",
            " fc1 (Dense)                 (None, 4096)              102764544 \n",
            "                                                                 \n",
            " fc2 (Dense)                 (None, 4096)              16781312  \n",
            "                                                                 \n",
            " predictions (Dense)         (None, 1000)              4097000   \n",
            "                                                                 \n",
            "=================================================================\n",
            "Total params: 138,357,544\n",
            "Trainable params: 138,357,544\n",
            "Non-trainable params: 0\n",
            "_________________________________________________________________\n"
          ]
        }
      ]
    },
    {
      "cell_type": "code",
      "source": [
        "vgg_model.get_layer(vgg_model.layers[0]._name).input"
      ],
      "metadata": {
        "colab": {
          "base_uri": "https://localhost:8080/"
        },
        "id": "H3f5zoCV1nEf",
        "outputId": "ad027afa-3684-49d3-c1dc-87d5f9676bb6"
      },
      "execution_count": 6,
      "outputs": [
        {
          "output_type": "execute_result",
          "data": {
            "text/plain": [
              "<KerasTensor: shape=(None, 224, 224, 3) dtype=float32 (created by layer 'input_1')>"
            ]
          },
          "metadata": {},
          "execution_count": 6
        }
      ]
    },
    {
      "cell_type": "code",
      "source": [
        "print(f\"The full model has {len(vgg_model.layers)} layers\")"
      ],
      "metadata": {
        "colab": {
          "base_uri": "https://localhost:8080/"
        },
        "id": "lm90N0VC1S6H",
        "outputId": "712dac54-c2fd-42b7-92ec-1a0a086b7bc2"
      },
      "execution_count": 7,
      "outputs": [
        {
          "output_type": "stream",
          "name": "stdout",
          "text": [
            "The full model has 23 layers\n"
          ]
        }
      ]
    },
    {
      "cell_type": "markdown",
      "source": [
        "### Base model"
      ],
      "metadata": {
        "id": "QT0aB27mu5ib"
      }
    },
    {
      "cell_type": "code",
      "source": [
        "base_model = keras.applications.vgg16.VGG16(weights='imagenet',\n",
        "                                            input_shape=(224,224,3),\n",
        "                                            include_top=False)"
      ],
      "metadata": {
        "colab": {
          "base_uri": "https://localhost:8080/"
        },
        "id": "VOdoMelBu34w",
        "outputId": "5ab8aa83-dc2b-45d0-c8a8-6b9bd4820e28"
      },
      "execution_count": 8,
      "outputs": [
        {
          "output_type": "stream",
          "name": "stdout",
          "text": [
            "Downloading data from https://storage.googleapis.com/tensorflow/keras-applications/vgg16/vgg16_weights_tf_dim_ordering_tf_kernels_notop.h5\n",
            "58889256/58889256 [==============================] - 3s 0us/step\n"
          ]
        }
      ]
    },
    {
      "cell_type": "code",
      "source": [
        "base_model.summary()"
      ],
      "metadata": {
        "colab": {
          "base_uri": "https://localhost:8080/"
        },
        "id": "kaN8OnqFu4m0",
        "outputId": "49cdf4a3-1c11-490e-a96d-c54af7ba96eb"
      },
      "execution_count": 9,
      "outputs": [
        {
          "output_type": "stream",
          "name": "stdout",
          "text": [
            "Model: \"vgg16\"\n",
            "_________________________________________________________________\n",
            " Layer (type)                Output Shape              Param #   \n",
            "=================================================================\n",
            " input_2 (InputLayer)        [(None, 224, 224, 3)]     0         \n",
            "                                                                 \n",
            " block1_conv1 (Conv2D)       (None, 224, 224, 64)      1792      \n",
            "                                                                 \n",
            " block1_conv2 (Conv2D)       (None, 224, 224, 64)      36928     \n",
            "                                                                 \n",
            " block1_pool (MaxPooling2D)  (None, 112, 112, 64)      0         \n",
            "                                                                 \n",
            " block2_conv1 (Conv2D)       (None, 112, 112, 128)     73856     \n",
            "                                                                 \n",
            " block2_conv2 (Conv2D)       (None, 112, 112, 128)     147584    \n",
            "                                                                 \n",
            " block2_pool (MaxPooling2D)  (None, 56, 56, 128)       0         \n",
            "                                                                 \n",
            " block3_conv1 (Conv2D)       (None, 56, 56, 256)       295168    \n",
            "                                                                 \n",
            " block3_conv2 (Conv2D)       (None, 56, 56, 256)       590080    \n",
            "                                                                 \n",
            " block3_conv3 (Conv2D)       (None, 56, 56, 256)       590080    \n",
            "                                                                 \n",
            " block3_pool (MaxPooling2D)  (None, 28, 28, 256)       0         \n",
            "                                                                 \n",
            " block4_conv1 (Conv2D)       (None, 28, 28, 512)       1180160   \n",
            "                                                                 \n",
            " block4_conv2 (Conv2D)       (None, 28, 28, 512)       2359808   \n",
            "                                                                 \n",
            " block4_conv3 (Conv2D)       (None, 28, 28, 512)       2359808   \n",
            "                                                                 \n",
            " block4_pool (MaxPooling2D)  (None, 14, 14, 512)       0         \n",
            "                                                                 \n",
            " block5_conv1 (Conv2D)       (None, 14, 14, 512)       2359808   \n",
            "                                                                 \n",
            " block5_conv2 (Conv2D)       (None, 14, 14, 512)       2359808   \n",
            "                                                                 \n",
            " block5_conv3 (Conv2D)       (None, 14, 14, 512)       2359808   \n",
            "                                                                 \n",
            " block5_pool (MaxPooling2D)  (None, 7, 7, 512)         0         \n",
            "                                                                 \n",
            "=================================================================\n",
            "Total params: 14,714,688\n",
            "Trainable params: 14,714,688\n",
            "Non-trainable params: 0\n",
            "_________________________________________________________________\n"
          ]
        }
      ]
    },
    {
      "cell_type": "code",
      "source": [
        "print(f\"Excluding the top layers the base model contains {len(base_model.layers)} layers\")"
      ],
      "metadata": {
        "colab": {
          "base_uri": "https://localhost:8080/"
        },
        "id": "OSPWJJeyvF70",
        "outputId": "5f6671dc-8d83-4471-be7b-71603df927c4"
      },
      "execution_count": 10,
      "outputs": [
        {
          "output_type": "stream",
          "name": "stdout",
          "text": [
            "Excluding the top layers the base model contains 19 layers\n"
          ]
        }
      ]
    },
    {
      "cell_type": "code",
      "source": [
        "base_model.layers"
      ],
      "metadata": {
        "colab": {
          "base_uri": "https://localhost:8080/"
        },
        "id": "4JPRsuBGvGe1",
        "outputId": "68cf49bb-94e1-4df6-c43f-d8b72ab4661a"
      },
      "execution_count": 11,
      "outputs": [
        {
          "output_type": "execute_result",
          "data": {
            "text/plain": [
              "[<keras.engine.input_layer.InputLayer at 0x7fb43aacadd0>,\n",
              " <keras.layers.convolutional.conv2d.Conv2D at 0x7fb43aab43d0>,\n",
              " <keras.layers.convolutional.conv2d.Conv2D at 0x7fb43aacaf90>,\n",
              " <keras.layers.pooling.max_pooling2d.MaxPooling2D at 0x7fb43aac5890>,\n",
              " <keras.layers.convolutional.conv2d.Conv2D at 0x7fb43aa7aed0>,\n",
              " <keras.layers.convolutional.conv2d.Conv2D at 0x7fb43aa7add0>,\n",
              " <keras.layers.pooling.max_pooling2d.MaxPooling2D at 0x7fb43aa76890>,\n",
              " <keras.layers.convolutional.conv2d.Conv2D at 0x7fb43aa82110>,\n",
              " <keras.layers.convolutional.conv2d.Conv2D at 0x7fb43aa89d50>,\n",
              " <keras.layers.convolutional.conv2d.Conv2D at 0x7fb43aa89050>,\n",
              " <keras.layers.pooling.max_pooling2d.MaxPooling2D at 0x7fb43ab02050>,\n",
              " <keras.layers.convolutional.conv2d.Conv2D at 0x7fb43ab1bed0>,\n",
              " <keras.layers.convolutional.conv2d.Conv2D at 0x7fb43aa9ee90>,\n",
              " <keras.layers.convolutional.conv2d.Conv2D at 0x7fb43aa7c190>,\n",
              " <keras.layers.pooling.max_pooling2d.MaxPooling2D at 0x7fb43aa32610>,\n",
              " <keras.layers.convolutional.conv2d.Conv2D at 0x7fb43aaac3d0>,\n",
              " <keras.layers.convolutional.conv2d.Conv2D at 0x7fb43aaac950>,\n",
              " <keras.layers.convolutional.conv2d.Conv2D at 0x7fb43aaa1ad0>,\n",
              " <keras.layers.pooling.max_pooling2d.MaxPooling2D at 0x7fb43aa3dfd0>]"
            ]
          },
          "metadata": {},
          "execution_count": 11
        }
      ]
    },
    {
      "cell_type": "code",
      "source": [
        "for layers in base_model.layers[:]: \n",
        "    layers.trainable = False "
      ],
      "metadata": {
        "id": "KPNA1ukwvM7C"
      },
      "execution_count": 12,
      "outputs": []
    },
    {
      "cell_type": "code",
      "source": [
        "base_model.summary()"
      ],
      "metadata": {
        "colab": {
          "base_uri": "https://localhost:8080/"
        },
        "id": "RXzUmnsBvPSE",
        "outputId": "1367d2e3-5a99-4d5f-91f9-088885bf8b00"
      },
      "execution_count": 13,
      "outputs": [
        {
          "output_type": "stream",
          "name": "stdout",
          "text": [
            "Model: \"vgg16\"\n",
            "_________________________________________________________________\n",
            " Layer (type)                Output Shape              Param #   \n",
            "=================================================================\n",
            " input_2 (InputLayer)        [(None, 224, 224, 3)]     0         \n",
            "                                                                 \n",
            " block1_conv1 (Conv2D)       (None, 224, 224, 64)      1792      \n",
            "                                                                 \n",
            " block1_conv2 (Conv2D)       (None, 224, 224, 64)      36928     \n",
            "                                                                 \n",
            " block1_pool (MaxPooling2D)  (None, 112, 112, 64)      0         \n",
            "                                                                 \n",
            " block2_conv1 (Conv2D)       (None, 112, 112, 128)     73856     \n",
            "                                                                 \n",
            " block2_conv2 (Conv2D)       (None, 112, 112, 128)     147584    \n",
            "                                                                 \n",
            " block2_pool (MaxPooling2D)  (None, 56, 56, 128)       0         \n",
            "                                                                 \n",
            " block3_conv1 (Conv2D)       (None, 56, 56, 256)       295168    \n",
            "                                                                 \n",
            " block3_conv2 (Conv2D)       (None, 56, 56, 256)       590080    \n",
            "                                                                 \n",
            " block3_conv3 (Conv2D)       (None, 56, 56, 256)       590080    \n",
            "                                                                 \n",
            " block3_pool (MaxPooling2D)  (None, 28, 28, 256)       0         \n",
            "                                                                 \n",
            " block4_conv1 (Conv2D)       (None, 28, 28, 512)       1180160   \n",
            "                                                                 \n",
            " block4_conv2 (Conv2D)       (None, 28, 28, 512)       2359808   \n",
            "                                                                 \n",
            " block4_conv3 (Conv2D)       (None, 28, 28, 512)       2359808   \n",
            "                                                                 \n",
            " block4_pool (MaxPooling2D)  (None, 14, 14, 512)       0         \n",
            "                                                                 \n",
            " block5_conv1 (Conv2D)       (None, 14, 14, 512)       2359808   \n",
            "                                                                 \n",
            " block5_conv2 (Conv2D)       (None, 14, 14, 512)       2359808   \n",
            "                                                                 \n",
            " block5_conv3 (Conv2D)       (None, 14, 14, 512)       2359808   \n",
            "                                                                 \n",
            " block5_pool (MaxPooling2D)  (None, 7, 7, 512)         0         \n",
            "                                                                 \n",
            "=================================================================\n",
            "Total params: 14,714,688\n",
            "Trainable params: 0\n",
            "Non-trainable params: 14,714,688\n",
            "_________________________________________________________________\n"
          ]
        }
      ]
    },
    {
      "cell_type": "markdown",
      "source": [
        "## Test model"
      ],
      "metadata": {
        "id": "rl9KB5ko1t4B"
      }
    },
    {
      "cell_type": "code",
      "source": [
        "pic_location=\"/content/drive/MyDrive/images2/sunglasses/21-55-02-198741.png\"\n",
        "img =keras.preprocessing.image.load_img(pic_location)\n",
        "img"
      ],
      "metadata": {
        "colab": {
          "base_uri": "https://localhost:8080/",
          "height": 241
        },
        "id": "-b96RWB61S-M",
        "outputId": "17e76f47-2680-45e2-c2e0-872bfc9c6db0"
      },
      "execution_count": 14,
      "outputs": [
        {
          "output_type": "execute_result",
          "data": {
            "text/plain": [
              "<PIL.PngImagePlugin.PngImageFile image mode=RGB size=224x224 at 0x7FB43AA6DC10>"
            ],
            "image/png": "[encoded data removed]"
          },
          "metadata": {},
          "execution_count": 14
        }
      ]
    },
    {
      "cell_type": "code",
      "source": [
        "img.size"
      ],
      "metadata": {
        "colab": {
          "base_uri": "https://localhost:8080/"
        },
        "id": "t-VjwBUA1TCL",
        "outputId": "630029c4-3133-4865-d156-997ab7d8a5e1"
      },
      "execution_count": 15,
      "outputs": [
        {
          "output_type": "execute_result",
          "data": {
            "text/plain": [
              "(224, 224)"
            ]
          },
          "metadata": {},
          "execution_count": 15
        }
      ]
    },
    {
      "cell_type": "code",
      "source": [
        "# turn the image into a 3D array (hight, width, color_channels)\n",
        "numpy_image = np.array(img)\n",
        "numpy_image.shape"
      ],
      "metadata": {
        "colab": {
          "base_uri": "https://localhost:8080/"
        },
        "id": "imlPqvuc10fn",
        "outputId": "12b26276-301e-4a3e-c22e-14230fd3d3dc"
      },
      "execution_count": 16,
      "outputs": [
        {
          "output_type": "execute_result",
          "data": {
            "text/plain": [
              "(224, 224, 3)"
            ]
          },
          "metadata": {},
          "execution_count": 16
        }
      ]
    },
    {
      "cell_type": "code",
      "source": [
        "# add an extra dimention (n_samples,hight, width, color_channels)\n",
        "image_batch = np.expand_dims(numpy_image, axis=0) # or np.reshape(numpy_image, (1,224,224,3))\n",
        "image_batch.shape"
      ],
      "metadata": {
        "colab": {
          "base_uri": "https://localhost:8080/"
        },
        "id": "vB1ski5-13Ke",
        "outputId": "e2d5c1db-2843-469c-ff15-5b632a236554"
      },
      "execution_count": 17,
      "outputs": [
        {
          "output_type": "execute_result",
          "data": {
            "text/plain": [
              "(1, 224, 224, 3)"
            ]
          },
          "metadata": {},
          "execution_count": 17
        }
      ]
    },
    {
      "cell_type": "code",
      "source": [
        "# pre-process the input image \n",
        "processed_image = keras.applications.vgg16.preprocess_input(image_batch)"
      ],
      "metadata": {
        "id": "GLiLZoWn17cP"
      },
      "execution_count": 18,
      "outputs": []
    },
    {
      "cell_type": "code",
      "source": [
        "# Predict\n",
        "prediction = vgg_model.predict(processed_image)\n",
        "label_vgg = keras.applications.imagenet_utils.decode_predictions(prediction)\n",
        "label_vgg"
      ],
      "metadata": {
        "colab": {
          "base_uri": "https://localhost:8080/"
        },
        "id": "k7Yjwhzn2Apo",
        "outputId": "af9d7286-b129-4550-cedb-2d3e40a64380"
      },
      "execution_count": 19,
      "outputs": [
        {
          "output_type": "stream",
          "name": "stdout",
          "text": [
            "1/1 [==============================] - 2s 2s/step\n"
          ]
        },
        {
          "output_type": "execute_result",
          "data": {
            "text/plain": [
              "[[('n02219486', 'ant', 0.15474488),\n",
              "  ('n04356056', 'sunglasses', 0.058307365),\n",
              "  ('n01770081', 'harvestman', 0.054842703),\n",
              "  ('n01776313', 'tick', 0.047108207),\n",
              "  ('n03814906', 'necklace', 0.045351867)]]"
            ]
          },
          "metadata": {},
          "execution_count": 19
        }
      ]
    },
    {
      "cell_type": "markdown",
      "source": [
        "### Pretrained model for predicting random images"
      ],
      "metadata": {
        "id": "BGhB0uZC6Nd0"
      }
    },
    {
      "cell_type": "code",
      "source": [
        "base_path = \"/content/drive/MyDrive/images3/\"\n",
        "files = []\n",
        "for file in os.listdir(path=base_path):\n",
        "    if file != \".DS_Store\":\n",
        "        files.append(file)\n",
        "files"
      ],
      "metadata": {
        "colab": {
          "base_uri": "https://localhost:8080/"
        },
        "id": "TfMdAvJJmEdc",
        "outputId": "d85f8214-4b3f-4783-a2d1-1228868fa3c3"
      },
      "execution_count": 20,
      "outputs": [
        {
          "output_type": "execute_result",
          "data": {
            "text/plain": [
              "['21-55-02-720843.png',\n",
              " '21-57-03-668019.png',\n",
              " '22-07-14-711035.png',\n",
              " '22-10-40-547295.png',\n",
              " '22-10-40-678422.png',\n",
              " '22-04-41-328421.png']"
            ]
          },
          "metadata": {},
          "execution_count": 20
        }
      ]
    },
    {
      "cell_type": "code",
      "source": [
        "def batch_prediction(files = files):\n",
        "\n",
        "    for i in range(len(files)):\n",
        "        \n",
        "        \"\"\"read and preprocess\"\"\"\n",
        "        my_path = f\"{base_path}{files[i]}\"\n",
        "        pic = keras.preprocessing.image.load_img(my_path,target_size=(224,224)) #load image\n",
        "        numpy_image = np.array(pic) # from image to numpy array\n",
        "        image_batch = np.expand_dims(numpy_image, axis=0) #add 1 dimention\n",
        "        processed_image = keras.applications.vgg16.preprocess_input(image_batch) #preprocess image\n",
        "        \n",
        "        \"\"\"predict\"\"\"\n",
        "        predictions = vgg_model.predict(processed_image) # prediction\n",
        "        label_vgg = keras.applications.imagenet_utils.decode_predictions(\n",
        "    predictions) #extract label\n",
        "\n",
        "        \"\"\"plot\"\"\"\n",
        "        plt.subplot(15,2,i+1);\n",
        "        plt.tight_layout()\n",
        "        plt.imshow(pic)\n",
        "        plt.title(f\"\"\"{label_vgg[0][0][1]} or {label_vgg[0][1][1]}\"\"\" )\n",
        "    return my_path\n",
        "    \n",
        "\n",
        "batch_prediction()"
      ],
      "metadata": {
        "colab": {
          "base_uri": "https://localhost:8080/",
          "height": 647
        },
        "id": "pfXheLOO7EX-",
        "outputId": "ecd34604-da92-4464-b4d4-f108512c968f"
      },
      "execution_count": 21,
      "outputs": [
        {
          "output_type": "stream",
          "name": "stdout",
          "text": [
            "1/1 [==============================] - 1s 1s/step\n",
            "1/1 [==============================] - 1s 874ms/step\n",
            "1/1 [==============================] - 1s 594ms/step\n",
            "1/1 [==============================] - 1s 627ms/step\n",
            "1/1 [==============================] - 1s 612ms/step\n",
            "1/1 [==============================] - 1s 592ms/step\n"
          ]
        },
        {
          "output_type": "execute_result",
          "data": {
            "text/plain": [
              "'/content/drive/MyDrive/images3/22-04-41-328421.png'"
            ],
            "application/vnd.google.colaboratory.intrinsic+json": {
              "type": "string"
            }
          },
          "metadata": {},
          "execution_count": 21
        },
        {
          "output_type": "display_data",
          "data": {
            "text/plain": [
              "<Figure size 720x2520 with 6 Axes>"
            ],
            "image/png": "[encoded data removed]"
          },
          "metadata": {
            "needs_background": "light"
          }
        }
      ]
    },
    {
      "cell_type": "code",
      "source": [
        "# How to check for VGG16 (whole network) input\n",
        "vgg_model.input"
      ],
      "metadata": {
        "colab": {
          "base_uri": "https://localhost:8080/"
        },
        "id": "Pi13w4iJ6wve",
        "outputId": "c78f6969-e4c9-4a45-cd05-60396cd231ca"
      },
      "execution_count": 22,
      "outputs": [
        {
          "output_type": "execute_result",
          "data": {
            "text/plain": [
              "<KerasTensor: shape=(None, 224, 224, 3) dtype=float32 (created by layer 'input_1')>"
            ]
          },
          "metadata": {},
          "execution_count": 22
        }
      ]
    },
    {
      "cell_type": "code",
      "source": [
        "#Select one layer\n",
        "layer_name = vgg_model.layers[11]._name"
      ],
      "metadata": {
        "id": "oX4aOkWC7RfT"
      },
      "execution_count": 23,
      "outputs": []
    },
    {
      "cell_type": "code",
      "source": [
        "layer_name"
      ],
      "metadata": {
        "colab": {
          "base_uri": "https://localhost:8080/",
          "height": 37
        },
        "id": "csRhKCdckUWa",
        "outputId": "b181f8b3-8ffa-4232-933b-5386471eb4fd"
      },
      "execution_count": 24,
      "outputs": [
        {
          "output_type": "execute_result",
          "data": {
            "text/plain": [
              "'block4_conv1'"
            ],
            "application/vnd.google.colaboratory.intrinsic+json": {
              "type": "string"
            }
          },
          "metadata": {},
          "execution_count": 24
        }
      ]
    },
    {
      "cell_type": "code",
      "source": [
        "# Input of a specific layer\n",
        "vgg_model.get_layer(layer_name).input"
      ],
      "metadata": {
        "colab": {
          "base_uri": "https://localhost:8080/"
        },
        "id": "vzvDrR7FkXer",
        "outputId": "94330d74-5f19-45ab-a57e-0f013126d257"
      },
      "execution_count": 25,
      "outputs": [
        {
          "output_type": "execute_result",
          "data": {
            "text/plain": [
              "<KerasTensor: shape=(None, 28, 28, 256) dtype=float32 (created by layer 'block3_pool')>"
            ]
          },
          "metadata": {},
          "execution_count": 25
        }
      ]
    },
    {
      "cell_type": "code",
      "source": [
        "# Output of a specific layer\n",
        "layer_output = vgg_model.get_layer(layer_name).output\n",
        "layer_output"
      ],
      "metadata": {
        "colab": {
          "base_uri": "https://localhost:8080/"
        },
        "id": "M-dy3z0lkaW5",
        "outputId": "b24c0960-7827-4ad8-a926-9bd8884af540"
      },
      "execution_count": 26,
      "outputs": [
        {
          "output_type": "execute_result",
          "data": {
            "text/plain": [
              "<KerasTensor: shape=(None, 28, 28, 512) dtype=float32 (created by layer 'block4_conv1')>"
            ]
          },
          "metadata": {},
          "execution_count": 26
        }
      ]
    },
    {
      "cell_type": "code",
      "source": [
        "# Redefine model to output right after the first layer\n",
        "intermediate_layer_model = keras.models.Model(inputs=vgg_model.input,\n",
        "                                 outputs=layer_output)\n",
        "intermediate_layer_model.summary()"
      ],
      "metadata": {
        "colab": {
          "base_uri": "https://localhost:8080/"
        },
        "id": "zMjwZEAgkfH8",
        "outputId": "ee8050ee-9b34-4aab-d460-f4b6432b9674"
      },
      "execution_count": 27,
      "outputs": [
        {
          "output_type": "stream",
          "name": "stdout",
          "text": [
            "Model: \"model\"\n",
            "_________________________________________________________________\n",
            " Layer (type)                Output Shape              Param #   \n",
            "=================================================================\n",
            " input_1 (InputLayer)        [(None, 224, 224, 3)]     0         \n",
            "                                                                 \n",
            " block1_conv1 (Conv2D)       (None, 224, 224, 64)      1792      \n",
            "                                                                 \n",
            " block1_conv2 (Conv2D)       (None, 224, 224, 64)      36928     \n",
            "                                                                 \n",
            " block1_pool (MaxPooling2D)  (None, 112, 112, 64)      0         \n",
            "                                                                 \n",
            " block2_conv1 (Conv2D)       (None, 112, 112, 128)     73856     \n",
            "                                                                 \n",
            " block2_conv2 (Conv2D)       (None, 112, 112, 128)     147584    \n",
            "                                                                 \n",
            " block2_pool (MaxPooling2D)  (None, 56, 56, 128)       0         \n",
            "                                                                 \n",
            " block3_conv1 (Conv2D)       (None, 56, 56, 256)       295168    \n",
            "                                                                 \n",
            " block3_conv2 (Conv2D)       (None, 56, 56, 256)       590080    \n",
            "                                                                 \n",
            " block3_conv3 (Conv2D)       (None, 56, 56, 256)       590080    \n",
            "                                                                 \n",
            " block3_pool (MaxPooling2D)  (None, 28, 28, 256)       0         \n",
            "                                                                 \n",
            " block4_conv1 (Conv2D)       (None, 28, 28, 512)       1180160   \n",
            "                                                                 \n",
            "=================================================================\n",
            "Total params: 2,915,648\n",
            "Trainable params: 2,915,648\n",
            "Non-trainable params: 0\n",
            "_________________________________________________________________\n"
          ]
        }
      ]
    },
    {
      "cell_type": "code",
      "source": [
        "# Feature map\n",
        "feature_map = intermediate_layer_model.predict(processed_image)\n",
        "feature_map.shape"
      ],
      "metadata": {
        "colab": {
          "base_uri": "https://localhost:8080/"
        },
        "id": "piXIX6eukjYm",
        "outputId": "9a1f6ffe-3dc3-4e9e-8a73-2242d29ac6c7"
      },
      "execution_count": 28,
      "outputs": [
        {
          "output_type": "stream",
          "name": "stdout",
          "text": [
            "1/1 [==============================] - 0s 487ms/step\n"
          ]
        },
        {
          "output_type": "execute_result",
          "data": {
            "text/plain": [
              "(1, 28, 28, 512)"
            ]
          },
          "metadata": {},
          "execution_count": 28
        }
      ]
    },
    {
      "cell_type": "code",
      "source": [
        "#  visualize a few feature maps\n",
        "plt.subplot(1, 3, 1)\n",
        "plt.imshow(feature_map[0,:, :, 0])\n",
        "\n",
        "plt.subplot(1, 3, 2)\n",
        "plt.imshow(feature_map[0,:, :, 1])\n",
        "\n",
        "plt.subplot(1, 3, 3)\n",
        "plt.imshow(feature_map[0,:, :, 0]);"
      ],
      "metadata": {
        "colab": {
          "base_uri": "https://localhost:8080/",
          "height": 213
        },
        "id": "O3nSMEyAmbjU",
        "outputId": "506d47c5-98b5-4dec-d487-b69b1bd93b1b"
      },
      "execution_count": 29,
      "outputs": [
        {
          "output_type": "display_data",
          "data": {
            "text/plain": [
              "<Figure size 720x2520 with 3 Axes>"
            ],
            "image/png": "[encoded data removed]"
          },
          "metadata": {
            "needs_background": "light"
          }
        }
      ]
    },
    {
      "cell_type": "markdown",
      "source": [
        "### TransferLearn"
      ],
      "metadata": {
        "id": "yshPItGmn24Y"
      }
    },
    {
      "cell_type": "code",
      "source": [
        "base_model.summary()"
      ],
      "metadata": {
        "colab": {
          "base_uri": "https://localhost:8080/"
        },
        "id": "5HTweYmFn7-Y",
        "outputId": "a7c0d6f7-f83c-42ae-af75-1361b98fa0d0"
      },
      "execution_count": 30,
      "outputs": [
        {
          "output_type": "stream",
          "name": "stdout",
          "text": [
            "Model: \"vgg16\"\n",
            "_________________________________________________________________\n",
            " Layer (type)                Output Shape              Param #   \n",
            "=================================================================\n",
            " input_2 (InputLayer)        [(None, 224, 224, 3)]     0         \n",
            "                                                                 \n",
            " block1_conv1 (Conv2D)       (None, 224, 224, 64)      1792      \n",
            "                                                                 \n",
            " block1_conv2 (Conv2D)       (None, 224, 224, 64)      36928     \n",
            "                                                                 \n",
            " block1_pool (MaxPooling2D)  (None, 112, 112, 64)      0         \n",
            "                                                                 \n",
            " block2_conv1 (Conv2D)       (None, 112, 112, 128)     73856     \n",
            "                                                                 \n",
            " block2_conv2 (Conv2D)       (None, 112, 112, 128)     147584    \n",
            "                                                                 \n",
            " block2_pool (MaxPooling2D)  (None, 56, 56, 128)       0         \n",
            "                                                                 \n",
            " block3_conv1 (Conv2D)       (None, 56, 56, 256)       295168    \n",
            "                                                                 \n",
            " block3_conv2 (Conv2D)       (None, 56, 56, 256)       590080    \n",
            "                                                                 \n",
            " block3_conv3 (Conv2D)       (None, 56, 56, 256)       590080    \n",
            "                                                                 \n",
            " block3_pool (MaxPooling2D)  (None, 28, 28, 256)       0         \n",
            "                                                                 \n",
            " block4_conv1 (Conv2D)       (None, 28, 28, 512)       1180160   \n",
            "                                                                 \n",
            " block4_conv2 (Conv2D)       (None, 28, 28, 512)       2359808   \n",
            "                                                                 \n",
            " block4_conv3 (Conv2D)       (None, 28, 28, 512)       2359808   \n",
            "                                                                 \n",
            " block4_pool (MaxPooling2D)  (None, 14, 14, 512)       0         \n",
            "                                                                 \n",
            " block5_conv1 (Conv2D)       (None, 14, 14, 512)       2359808   \n",
            "                                                                 \n",
            " block5_conv2 (Conv2D)       (None, 14, 14, 512)       2359808   \n",
            "                                                                 \n",
            " block5_conv3 (Conv2D)       (None, 14, 14, 512)       2359808   \n",
            "                                                                 \n",
            " block5_pool (MaxPooling2D)  (None, 7, 7, 512)         0         \n",
            "                                                                 \n",
            "=================================================================\n",
            "Total params: 14,714,688\n",
            "Trainable params: 0\n",
            "Non-trainable params: 14,714,688\n",
            "_________________________________________________________________\n"
          ]
        }
      ]
    },
    {
      "cell_type": "code",
      "source": [
        "for layers in base_model.layers[:]: \n",
        "    layers.trainable = False"
      ],
      "metadata": {
        "id": "8M_3Od8tndia"
      },
      "execution_count": 31,
      "outputs": []
    },
    {
      "cell_type": "code",
      "source": [
        "# Let's explore the data folder\n",
        "base_path = '/content/drive/MyDrive/images2/'\n",
        "\n",
        "# Let's define the classes\n",
        "classes = os.listdir(base_path)\n"
      ],
      "metadata": {
        "id": "61KYTH90neT3"
      },
      "execution_count": 32,
      "outputs": []
    },
    {
      "cell_type": "code",
      "source": [
        "classes"
      ],
      "metadata": {
        "colab": {
          "base_uri": "https://localhost:8080/"
        },
        "id": "U7zzxe61pKnL",
        "outputId": "0d913fdf-d8cd-42ec-9181-848d22ed7738"
      },
      "execution_count": 33,
      "outputs": [
        {
          "output_type": "execute_result",
          "data": {
            "text/plain": [
              "['sunglasses', 'empty', 'watch']"
            ]
          },
          "metadata": {},
          "execution_count": 33
        }
      ]
    },
    {
      "cell_type": "code",
      "source": [
        "classes=classes"
      ],
      "metadata": {
        "id": "QZTA39COpJtV"
      },
      "execution_count": 34,
      "outputs": []
    },
    {
      "cell_type": "code",
      "source": [
        "def load_image(base_path):\n",
        "    \"\"\"it loads all the image into X and the classes in y \"\"\"\n",
        "    X_list = []\n",
        "    y_list = []\n",
        "    classes = os.listdir(base_path)\n",
        "    classes=classes\n",
        "    for class_ in classes:\n",
        "        files = os.listdir(base_path+class_)\n",
        "        #print(files)\n",
        "        for file in files:\n",
        "            if file != \".DS_Store\":\n",
        "                pic = keras.preprocessing.image.load_img(path=base_path+class_+'/'+f'{file}',target_size=(224,224))\n",
        "                numpy_image = np.array(pic)\n",
        "                processed_image = preprocess_input(numpy_image)\n",
        "                X_list.append(processed_image)\n",
        "                y_list.append(class_)\n",
        "        \n",
        "    X = np.array(X_list)\n",
        "    y = np.array(y_list)\n",
        "    \n",
        "    return X, y, classes"
      ],
      "metadata": {
        "id": "_kWzZeb4otwp"
      },
      "execution_count": 35,
      "outputs": []
    },
    {
      "cell_type": "code",
      "source": [
        "X,y,classes= load_image(base_path)"
      ],
      "metadata": {
        "id": "AM7GheWto2DY"
      },
      "execution_count": 36,
      "outputs": []
    },
    {
      "cell_type": "code",
      "source": [
        "X.shape"
      ],
      "metadata": {
        "colab": {
          "base_uri": "https://localhost:8080/"
        },
        "id": "Y8YFYCbko-L-",
        "outputId": "7398c9d3-e17b-4fc2-97d6-672df755aa0a"
      },
      "execution_count": 37,
      "outputs": [
        {
          "output_type": "execute_result",
          "data": {
            "text/plain": [
              "(342, 224, 224, 3)"
            ]
          },
          "metadata": {},
          "execution_count": 37
        }
      ]
    },
    {
      "cell_type": "code",
      "source": [
        "y"
      ],
      "metadata": {
        "colab": {
          "base_uri": "https://localhost:8080/"
        },
        "id": "w4r_ADhmpAPx",
        "outputId": "de34aee2-663f-4736-b022-176a34e17b79"
      },
      "execution_count": 38,
      "outputs": [
        {
          "output_type": "execute_result",
          "data": {
            "text/plain": [
              "array(['sunglasses', 'sunglasses', 'sunglasses', 'sunglasses',\n",
              "       'sunglasses', 'sunglasses', 'sunglasses', 'sunglasses',\n",
              "       'sunglasses', 'sunglasses', 'sunglasses', 'sunglasses',\n",
              "       'sunglasses', 'sunglasses', 'sunglasses', 'sunglasses',\n",
              "       'sunglasses', 'sunglasses', 'sunglasses', 'sunglasses',\n",
              "       'sunglasses', 'sunglasses', 'sunglasses', 'sunglasses',\n",
              "       'sunglasses', 'sunglasses', 'sunglasses', 'sunglasses',\n",
              "       'sunglasses', 'sunglasses', 'sunglasses', 'sunglasses',\n",
              "       'sunglasses', 'sunglasses', 'sunglasses', 'sunglasses',\n",
              "       'sunglasses', 'sunglasses', 'sunglasses', 'sunglasses',\n",
              "       'sunglasses', 'sunglasses', 'sunglasses', 'sunglasses',\n",
              "       'sunglasses', 'sunglasses', 'sunglasses', 'sunglasses',\n",
              "       'sunglasses', 'sunglasses', 'sunglasses', 'sunglasses',\n",
              "       'sunglasses', 'sunglasses', 'sunglasses', 'sunglasses',\n",
              "       'sunglasses', 'sunglasses', 'sunglasses', 'sunglasses',\n",
              "       'sunglasses', 'sunglasses', 'sunglasses', 'sunglasses',\n",
              "       'sunglasses', 'sunglasses', 'sunglasses', 'sunglasses',\n",
              "       'sunglasses', 'sunglasses', 'sunglasses', 'sunglasses',\n",
              "       'sunglasses', 'sunglasses', 'sunglasses', 'sunglasses',\n",
              "       'sunglasses', 'sunglasses', 'sunglasses', 'sunglasses',\n",
              "       'sunglasses', 'sunglasses', 'sunglasses', 'sunglasses',\n",
              "       'sunglasses', 'sunglasses', 'sunglasses', 'sunglasses',\n",
              "       'sunglasses', 'sunglasses', 'sunglasses', 'sunglasses',\n",
              "       'sunglasses', 'sunglasses', 'sunglasses', 'sunglasses',\n",
              "       'sunglasses', 'sunglasses', 'sunglasses', 'sunglasses',\n",
              "       'sunglasses', 'sunglasses', 'sunglasses', 'sunglasses',\n",
              "       'sunglasses', 'sunglasses', 'sunglasses', 'sunglasses',\n",
              "       'sunglasses', 'sunglasses', 'sunglasses', 'sunglasses',\n",
              "       'sunglasses', 'sunglasses', 'empty', 'empty', 'empty', 'empty',\n",
              "       'empty', 'empty', 'empty', 'empty', 'empty', 'empty', 'empty',\n",
              "       'empty', 'empty', 'empty', 'empty', 'empty', 'empty', 'empty',\n",
              "       'empty', 'empty', 'empty', 'empty', 'empty', 'empty', 'empty',\n",
              "       'empty', 'empty', 'empty', 'empty', 'empty', 'empty', 'empty',\n",
              "       'empty', 'empty', 'empty', 'empty', 'empty', 'empty', 'empty',\n",
              "       'empty', 'empty', 'empty', 'empty', 'empty', 'empty', 'empty',\n",
              "       'empty', 'empty', 'empty', 'empty', 'empty', 'empty', 'empty',\n",
              "       'empty', 'empty', 'empty', 'empty', 'empty', 'empty', 'empty',\n",
              "       'empty', 'empty', 'empty', 'empty', 'empty', 'empty', 'empty',\n",
              "       'empty', 'empty', 'empty', 'empty', 'empty', 'empty', 'empty',\n",
              "       'empty', 'empty', 'empty', 'empty', 'empty', 'empty', 'empty',\n",
              "       'empty', 'empty', 'empty', 'empty', 'empty', 'empty', 'empty',\n",
              "       'empty', 'empty', 'empty', 'empty', 'empty', 'empty', 'empty',\n",
              "       'empty', 'empty', 'empty', 'empty', 'empty', 'empty', 'empty',\n",
              "       'empty', 'empty', 'empty', 'empty', 'empty', 'empty', 'empty',\n",
              "       'empty', 'empty', 'empty', 'empty', 'empty', 'watch', 'watch',\n",
              "       'watch', 'watch', 'watch', 'watch', 'watch', 'watch', 'watch',\n",
              "       'watch', 'watch', 'watch', 'watch', 'watch', 'watch', 'watch',\n",
              "       'watch', 'watch', 'watch', 'watch', 'watch', 'watch', 'watch',\n",
              "       'watch', 'watch', 'watch', 'watch', 'watch', 'watch', 'watch',\n",
              "       'watch', 'watch', 'watch', 'watch', 'watch', 'watch', 'watch',\n",
              "       'watch', 'watch', 'watch', 'watch', 'watch', 'watch', 'watch',\n",
              "       'watch', 'watch', 'watch', 'watch', 'watch', 'watch', 'watch',\n",
              "       'watch', 'watch', 'watch', 'watch', 'watch', 'watch', 'watch',\n",
              "       'watch', 'watch', 'watch', 'watch', 'watch', 'watch', 'watch',\n",
              "       'watch', 'watch', 'watch', 'watch', 'watch', 'watch', 'watch',\n",
              "       'watch', 'watch', 'watch', 'watch', 'watch', 'watch', 'watch',\n",
              "       'watch', 'watch', 'watch', 'watch', 'watch', 'watch', 'watch',\n",
              "       'watch', 'watch', 'watch', 'watch', 'watch', 'watch', 'watch',\n",
              "       'watch', 'watch', 'watch', 'watch', 'watch', 'watch', 'watch',\n",
              "       'watch', 'watch', 'watch', 'watch', 'watch', 'watch', 'watch',\n",
              "       'watch', 'watch', 'watch', 'watch', 'watch', 'watch', 'watch'],\n",
              "      dtype='<U10')"
            ]
          },
          "metadata": {},
          "execution_count": 38
        }
      ]
    },
    {
      "cell_type": "code",
      "source": [
        "# y to categorical\n",
        "y = pd.Series(y).map({classes[0]:0, classes[1]:1, classes[2]:2})"
      ],
      "metadata": {
        "id": "qdgp04lLpDx3"
      },
      "execution_count": 39,
      "outputs": []
    },
    {
      "cell_type": "code",
      "source": [
        "y"
      ],
      "metadata": {
        "colab": {
          "base_uri": "https://localhost:8080/"
        },
        "id": "NPojO7DRsaoQ",
        "outputId": "105aea5d-ad3e-467e-da0a-625ea357e142"
      },
      "execution_count": 40,
      "outputs": [
        {
          "output_type": "execute_result",
          "data": {
            "text/plain": [
              "0      0\n",
              "1      0\n",
              "2      0\n",
              "3      0\n",
              "4      0\n",
              "      ..\n",
              "337    2\n",
              "338    2\n",
              "339    2\n",
              "340    2\n",
              "341    2\n",
              "Length: 342, dtype: int64"
            ]
          },
          "metadata": {},
          "execution_count": 40
        }
      ]
    },
    {
      "cell_type": "markdown",
      "source": [
        "**Calculate feature vector for all images\n",
        "use `base_model.predict(X)`**"
      ],
      "metadata": {
        "id": "cgjYAgu2sw7F"
      }
    },
    {
      "cell_type": "code",
      "source": [
        "base_model.summary()"
      ],
      "metadata": {
        "colab": {
          "base_uri": "https://localhost:8080/"
        },
        "id": "7BWiLK1yuO0U",
        "outputId": "9dfee2bf-cdc9-430b-bb61-420440251da9"
      },
      "execution_count": 41,
      "outputs": [
        {
          "output_type": "stream",
          "name": "stdout",
          "text": [
            "Model: \"vgg16\"\n",
            "_________________________________________________________________\n",
            " Layer (type)                Output Shape              Param #   \n",
            "=================================================================\n",
            " input_2 (InputLayer)        [(None, 224, 224, 3)]     0         \n",
            "                                                                 \n",
            " block1_conv1 (Conv2D)       (None, 224, 224, 64)      1792      \n",
            "                                                                 \n",
            " block1_conv2 (Conv2D)       (None, 224, 224, 64)      36928     \n",
            "                                                                 \n",
            " block1_pool (MaxPooling2D)  (None, 112, 112, 64)      0         \n",
            "                                                                 \n",
            " block2_conv1 (Conv2D)       (None, 112, 112, 128)     73856     \n",
            "                                                                 \n",
            " block2_conv2 (Conv2D)       (None, 112, 112, 128)     147584    \n",
            "                                                                 \n",
            " block2_pool (MaxPooling2D)  (None, 56, 56, 128)       0         \n",
            "                                                                 \n",
            " block3_conv1 (Conv2D)       (None, 56, 56, 256)       295168    \n",
            "                                                                 \n",
            " block3_conv2 (Conv2D)       (None, 56, 56, 256)       590080    \n",
            "                                                                 \n",
            " block3_conv3 (Conv2D)       (None, 56, 56, 256)       590080    \n",
            "                                                                 \n",
            " block3_pool (MaxPooling2D)  (None, 28, 28, 256)       0         \n",
            "                                                                 \n",
            " block4_conv1 (Conv2D)       (None, 28, 28, 512)       1180160   \n",
            "                                                                 \n",
            " block4_conv2 (Conv2D)       (None, 28, 28, 512)       2359808   \n",
            "                                                                 \n",
            " block4_conv3 (Conv2D)       (None, 28, 28, 512)       2359808   \n",
            "                                                                 \n",
            " block4_pool (MaxPooling2D)  (None, 14, 14, 512)       0         \n",
            "                                                                 \n",
            " block5_conv1 (Conv2D)       (None, 14, 14, 512)       2359808   \n",
            "                                                                 \n",
            " block5_conv2 (Conv2D)       (None, 14, 14, 512)       2359808   \n",
            "                                                                 \n",
            " block5_conv3 (Conv2D)       (None, 14, 14, 512)       2359808   \n",
            "                                                                 \n",
            " block5_pool (MaxPooling2D)  (None, 7, 7, 512)         0         \n",
            "                                                                 \n",
            "=================================================================\n",
            "Total params: 14,714,688\n",
            "Trainable params: 0\n",
            "Non-trainable params: 14,714,688\n",
            "_________________________________________________________________\n"
          ]
        }
      ]
    },
    {
      "cell_type": "code",
      "source": [
        "out_features_vector = base_model.predict(X)\n",
        "out_features_vector.shape"
      ],
      "metadata": {
        "colab": {
          "base_uri": "https://localhost:8080/"
        },
        "id": "v-WF8YVjrcZG",
        "outputId": "481e1459-f3e0-4682-c2ed-ced69b003a06"
      },
      "execution_count": 42,
      "outputs": [
        {
          "output_type": "stream",
          "name": "stdout",
          "text": [
            "11/11 [==============================] - 187s 17s/step\n"
          ]
        },
        {
          "output_type": "execute_result",
          "data": {
            "text/plain": [
              "(342, 7, 7, 512)"
            ]
          },
          "metadata": {},
          "execution_count": 42
        }
      ]
    },
    {
      "cell_type": "code",
      "source": [
        "X.shape"
      ],
      "metadata": {
        "colab": {
          "base_uri": "https://localhost:8080/"
        },
        "id": "X5s0tDzjpw_i",
        "outputId": "847a7d9a-db4b-4b63-b390-dab559c127d2"
      },
      "execution_count": 43,
      "outputs": [
        {
          "output_type": "execute_result",
          "data": {
            "text/plain": [
              "(342, 224, 224, 3)"
            ]
          },
          "metadata": {},
          "execution_count": 43
        }
      ]
    },
    {
      "cell_type": "code",
      "source": [
        "X_reshaped = out_features_vector.reshape((342,7*7*512))\n",
        "X_reshaped.shape"
      ],
      "metadata": {
        "colab": {
          "base_uri": "https://localhost:8080/"
        },
        "id": "3v6G197rqMc2",
        "outputId": "7ce03a01-8d91-43b3-f31b-75e80a10ec0f"
      },
      "execution_count": 44,
      "outputs": [
        {
          "output_type": "execute_result",
          "data": {
            "text/plain": [
              "(342, 25088)"
            ]
          },
          "metadata": {},
          "execution_count": 44
        }
      ]
    },
    {
      "cell_type": "markdown",
      "source": [
        "####  Train Test split"
      ],
      "metadata": {
        "id": "ny0pvPI6tAtY"
      }
    },
    {
      "cell_type": "code",
      "source": [
        "from sklearn.model_selection import train_test_split,cross_val_score\n",
        "from sklearn.linear_model import LogisticRegression\n",
        "from sklearn.metrics import accuracy_score"
      ],
      "metadata": {
        "id": "35pYYAyMtBQP"
      },
      "execution_count": 45,
      "outputs": []
    },
    {
      "cell_type": "code",
      "source": [
        "Xtrain,Xtest,ytrain,ytest = train_test_split(X_reshaped, \n",
        "                                             y.values, \n",
        "                                             test_size=0.25,\n",
        "                                             random_state=42)"
      ],
      "metadata": {
        "id": "P8WHF8mvxBpY"
      },
      "execution_count": 46,
      "outputs": []
    },
    {
      "cell_type": "code",
      "source": [
        "log_reg = LogisticRegression()\n",
        "log_reg.fit(Xtrain,ytrain)"
      ],
      "metadata": {
        "colab": {
          "base_uri": "https://localhost:8080/"
        },
        "id": "nE0XnPSAxFXV",
        "outputId": "a2adbe03-ec50-4ccb-b775-96bebda03bc9"
      },
      "execution_count": 47,
      "outputs": [
        {
          "output_type": "execute_result",
          "data": {
            "text/plain": [
              "LogisticRegression()"
            ]
          },
          "metadata": {},
          "execution_count": 47
        }
      ]
    },
    {
      "cell_type": "code",
      "source": [
        "ypred_train=log_reg.predict(Xtrain)\n",
        "ypred_test = log_reg.predict(Xtest)"
      ],
      "metadata": {
        "id": "59qUIurnxHwv"
      },
      "execution_count": 48,
      "outputs": []
    },
    {
      "cell_type": "code",
      "source": [
        "ypred_train"
      ],
      "metadata": {
        "colab": {
          "base_uri": "https://localhost:8080/"
        },
        "id": "UfNGhxjJxJqt",
        "outputId": "2d0e0890-e5a8-4427-91fc-676dda38177a"
      },
      "execution_count": 49,
      "outputs": [
        {
          "output_type": "execute_result",
          "data": {
            "text/plain": [
              "array([0, 2, 1, 1, 2, 2, 2, 2, 1, 1, 0, 1, 0, 1, 0, 1, 2, 0, 2, 2, 1, 2,\n",
              "       2, 1, 0, 0, 1, 0, 0, 2, 1, 0, 0, 0, 2, 2, 0, 1, 0, 2, 2, 0, 1, 2,\n",
              "       1, 1, 1, 1, 0, 0, 1, 0, 2, 0, 1, 0, 0, 0, 1, 1, 0, 2, 2, 1, 1, 1,\n",
              "       0, 2, 2, 2, 1, 2, 2, 2, 1, 2, 1, 0, 2, 2, 1, 0, 2, 1, 1, 2, 2, 2,\n",
              "       2, 1, 1, 1, 1, 1, 0, 1, 1, 2, 1, 2, 2, 1, 0, 2, 0, 0, 2, 0, 1, 1,\n",
              "       1, 1, 2, 0, 2, 0, 2, 0, 1, 0, 1, 0, 0, 0, 1, 1, 2, 1, 2, 0, 0, 2,\n",
              "       1, 1, 1, 0, 0, 2, 1, 1, 0, 2, 1, 2, 0, 0, 2, 2, 2, 0, 1, 1, 2, 1,\n",
              "       1, 0, 1, 0, 0, 1, 0, 1, 2, 0, 0, 2, 0, 2, 1, 2, 0, 2, 2, 1, 2, 1,\n",
              "       0, 1, 1, 0, 0, 0, 1, 0, 2, 2, 1, 2, 2, 1, 1, 2, 2, 2, 2, 2, 1, 1,\n",
              "       0, 1, 1, 2, 0, 0, 0, 0, 0, 1, 0, 2, 0, 0, 2, 2, 0, 0, 2, 1, 2, 1,\n",
              "       2, 2, 0, 0, 1, 1, 2, 1, 1, 0, 0, 2, 2, 0, 2, 1, 2, 1, 2, 2, 2, 1,\n",
              "       1, 1, 0, 0, 2, 1, 1, 2, 0, 1, 0, 0, 2, 0])"
            ]
          },
          "metadata": {},
          "execution_count": 49
        }
      ]
    },
    {
      "cell_type": "code",
      "source": [
        "# validation\n",
        "scores_train = cross_val_score(log_reg,Xtrain,ytrain,cv=10)\n",
        "scores_train"
      ],
      "metadata": {
        "colab": {
          "base_uri": "https://localhost:8080/"
        },
        "id": "s30du242xLo9",
        "outputId": "4f1f67fd-c98a-461a-b826-2daf76649061"
      },
      "execution_count": 50,
      "outputs": [
        {
          "output_type": "execute_result",
          "data": {
            "text/plain": [
              "array([1., 1., 1., 1., 1., 1., 1., 1., 1., 1.])"
            ]
          },
          "metadata": {},
          "execution_count": 50
        }
      ]
    },
    {
      "cell_type": "code",
      "source": [
        "print(f\"accuracy score on train: {accuracy_score(ytrain,ypred_train)}\")\n",
        "print(f\"accuracy score on test: {accuracy_score(ytest,ypred_test)}\")"
      ],
      "metadata": {
        "colab": {
          "base_uri": "https://localhost:8080/"
        },
        "id": "ETnO3JrKxOOj",
        "outputId": "04780440-f54d-4150-9859-db58add2c216"
      },
      "execution_count": 51,
      "outputs": [
        {
          "output_type": "stream",
          "name": "stdout",
          "text": [
            "accuracy score on train: 1.0\n",
            "accuracy score on test: 1.0\n"
          ]
        }
      ]
    },
    {
      "cell_type": "markdown",
      "source": [
        "### Base Model + Customized Dense Layers for Classification"
      ],
      "metadata": {
        "id": "BaiMes1n0Bhb"
      }
    },
    {
      "cell_type": "code",
      "source": [
        "from tensorflow.keras import backend as K"
      ],
      "metadata": {
        "id": "j3UO5Wet0Agh"
      },
      "execution_count": 53,
      "outputs": []
    },
    {
      "cell_type": "code",
      "source": [
        "K.clear_session()\n",
        "\n",
        "new_model = keras.models.Sequential([vgg_model, \n",
        "                                      keras.layers.Flatten(),\n",
        "                                      keras.layers.Dense(3, activation='softmax')])\n",
        "new_model = keras.models.Sequential([\n",
        "    \n",
        "    # Base model\n",
        "    base_model,\n",
        "    \n",
        "    # Flatten layer\n",
        "    keras.layers.Flatten(),\n",
        "    \n",
        "    #keras.layers.Dropout(.5),\n",
        "    # fc1 fully connected layer\n",
        "    keras.layers.Dense(units=30, activation=keras.activations.relu, name='fc1'),\n",
        "    \n",
        "    # fc2 fully connected layer\n",
        "    keras.layers.Dense(units=15, activation=keras.activations.relu, name='fc2'),\n",
        "    \n",
        "    # output layer\n",
        "    keras.layers.Dense(units=1, activation=keras.activations.sigmoid, name='otput')\n",
        "\n",
        "])"
      ],
      "metadata": {
        "id": "pnJSaH4vxP_M"
      },
      "execution_count": 92,
      "outputs": []
    },
    {
      "cell_type": "code",
      "source": [
        "new_model.summary()"
      ],
      "metadata": {
        "colab": {
          "base_uri": "https://localhost:8080/"
        },
        "id": "g1CbmyoRz7tK",
        "outputId": "456200e2-71a3-4438-9d25-ab17cc78e274"
      },
      "execution_count": 93,
      "outputs": [
        {
          "output_type": "stream",
          "name": "stdout",
          "text": [
            "Model: \"sequential_1\"\n",
            "_________________________________________________________________\n",
            " Layer (type)                Output Shape              Param #   \n",
            "=================================================================\n",
            " vgg16 (Functional)          (None, 7, 7, 512)         14714688  \n",
            "                                                                 \n",
            " flatten_1 (Flatten)         (None, 25088)             0         \n",
            "                                                                 \n",
            " fc1 (Dense)                 (None, 30)                752670    \n",
            "                                                                 \n",
            " fc2 (Dense)                 (None, 15)                465       \n",
            "                                                                 \n",
            " otput (Dense)               (None, 1)                 16        \n",
            "                                                                 \n",
            "=================================================================\n",
            "Total params: 15,467,839\n",
            "Trainable params: 7,832,575\n",
            "Non-trainable params: 7,635,264\n",
            "_________________________________________________________________\n"
          ]
        }
      ]
    },
    {
      "cell_type": "code",
      "source": [
        "new_model.compile(loss=keras.losses.categorical_crossentropy,\n",
        "                  optimizer=keras.optimizers.Adam(learning_rate=0.0001),\n",
        "                 )"
      ],
      "metadata": {
        "id": "XySReb4l0KsD"
      },
      "execution_count": 94,
      "outputs": []
    },
    {
      "cell_type": "code",
      "source": [
        "X.shape, y.shape"
      ],
      "metadata": {
        "colab": {
          "base_uri": "https://localhost:8080/"
        },
        "id": "d4A8U6bC0ca4",
        "outputId": "f44ae1b7-a3c2-4ea1-a6ca-1c43e448833d"
      },
      "execution_count": 95,
      "outputs": [
        {
          "output_type": "execute_result",
          "data": {
            "text/plain": [
              "((342, 224, 224, 3), (342,))"
            ]
          },
          "metadata": {},
          "execution_count": 95
        }
      ]
    },
    {
      "cell_type": "code",
      "source": [
        "X_train = np.asarray(X)\n",
        "y_train = np.asarray(y)"
      ],
      "metadata": {
        "id": "JsaHaJeU0cgB"
      },
      "execution_count": 96,
      "outputs": []
    },
    {
      "cell_type": "code",
      "source": [
        "history = new_model.fit(X_train,y_train,batch_size=20, epochs=5)"
      ],
      "metadata": {
        "colab": {
          "base_uri": "https://localhost:8080/"
        },
        "id": "09PPuhIM0fOm",
        "outputId": "49ae7ee2-6813-4705-8f49-93fd9dc98275"
      },
      "execution_count": 97,
      "outputs": [
        {
          "output_type": "stream",
          "name": "stdout",
          "text": [
            "Epoch 1/5\n",
            "18/18 [==============================] - 222s 12s/step - loss: 0.0000e+00\n",
            "Epoch 2/5\n",
            "18/18 [==============================] - 218s 12s/step - loss: 0.0000e+00\n",
            "Epoch 3/5\n",
            "18/18 [==============================] - 219s 12s/step - loss: 0.0000e+00\n",
            "Epoch 4/5\n",
            "18/18 [==============================] - 219s 12s/step - loss: 0.0000e+00\n",
            "Epoch 5/5\n",
            "18/18 [==============================] - 219s 12s/step - loss: 0.0000e+00\n"
          ]
        }
      ]
    },
    {
      "cell_type": "code",
      "source": [
        "pd.DataFrame(history.history).plot()\n",
        "plt.grid(True)\n",
        "plt.gca().set_ylim(-0.01,1)\n",
        "plt.savefig('conv_frozen_new_fcl.png')"
      ],
      "metadata": {
        "colab": {
          "base_uri": "https://localhost:8080/",
          "height": 1000
        },
        "id": "YLl_4Nx70khD",
        "outputId": "d4fcdf6a-1df4-4c38-c2f8-ab9d88de2021"
      },
      "execution_count": 98,
      "outputs": [
        {
          "output_type": "display_data",
          "data": {
            "text/plain": [
              "<Figure size 720x2520 with 1 Axes>"
            ],
            "image/png": "[encoded data removed]"
          },
          "metadata": {
            "needs_background": "light"
          }
        }
      ]
    },
    {
      "cell_type": "code",
      "source": [
        "new_model.save('new_denselayers.h5')"
      ],
      "metadata": {
        "id": "Jntr8MYn0ng2"
      },
      "execution_count": 99,
      "outputs": []
    },
    {
      "cell_type": "markdown",
      "source": [
        "### Fine tuning"
      ],
      "metadata": {
        "id": "NvfSJBo00x13"
      }
    },
    {
      "cell_type": "code",
      "source": [
        "base_model.summary()"
      ],
      "metadata": {
        "colab": {
          "base_uri": "https://localhost:8080/"
        },
        "id": "TrELoh610qMl",
        "outputId": "bf050603-9392-4b82-abcf-e98969108d10"
      },
      "execution_count": 100,
      "outputs": [
        {
          "output_type": "stream",
          "name": "stdout",
          "text": [
            "Model: \"vgg16\"\n",
            "_________________________________________________________________\n",
            " Layer (type)                Output Shape              Param #   \n",
            "=================================================================\n",
            " input_2 (InputLayer)        [(None, 224, 224, 3)]     0         \n",
            "                                                                 \n",
            " block1_conv1 (Conv2D)       (None, 224, 224, 64)      1792      \n",
            "                                                                 \n",
            " block1_conv2 (Conv2D)       (None, 224, 224, 64)      36928     \n",
            "                                                                 \n",
            " block1_pool (MaxPooling2D)  (None, 112, 112, 64)      0         \n",
            "                                                                 \n",
            " block2_conv1 (Conv2D)       (None, 112, 112, 128)     73856     \n",
            "                                                                 \n",
            " block2_conv2 (Conv2D)       (None, 112, 112, 128)     147584    \n",
            "                                                                 \n",
            " block2_pool (MaxPooling2D)  (None, 56, 56, 128)       0         \n",
            "                                                                 \n",
            " block3_conv1 (Conv2D)       (None, 56, 56, 256)       295168    \n",
            "                                                                 \n",
            " block3_conv2 (Conv2D)       (None, 56, 56, 256)       590080    \n",
            "                                                                 \n",
            " block3_conv3 (Conv2D)       (None, 56, 56, 256)       590080    \n",
            "                                                                 \n",
            " block3_pool (MaxPooling2D)  (None, 28, 28, 256)       0         \n",
            "                                                                 \n",
            " block4_conv1 (Conv2D)       (None, 28, 28, 512)       1180160   \n",
            "                                                                 \n",
            " block4_conv2 (Conv2D)       (None, 28, 28, 512)       2359808   \n",
            "                                                                 \n",
            " block4_conv3 (Conv2D)       (None, 28, 28, 512)       2359808   \n",
            "                                                                 \n",
            " block4_pool (MaxPooling2D)  (None, 14, 14, 512)       0         \n",
            "                                                                 \n",
            " block5_conv1 (Conv2D)       (None, 14, 14, 512)       2359808   \n",
            "                                                                 \n",
            " block5_conv2 (Conv2D)       (None, 14, 14, 512)       2359808   \n",
            "                                                                 \n",
            " block5_conv3 (Conv2D)       (None, 14, 14, 512)       2359808   \n",
            "                                                                 \n",
            " block5_pool (MaxPooling2D)  (None, 7, 7, 512)         0         \n",
            "                                                                 \n",
            "=================================================================\n",
            "Total params: 14,714,688\n",
            "Trainable params: 7,079,424\n",
            "Non-trainable params: 7,635,264\n",
            "_________________________________________________________________\n"
          ]
        }
      ]
    },
    {
      "cell_type": "code",
      "source": [
        "#to unfreeze some layers\n",
        "unfreeze_layers = 5\n",
        "for layers in base_model.layers[-unfreeze_layers:]: # --> last 5 layers trainable\n",
        "    layers.trainable = True"
      ],
      "metadata": {
        "id": "DM26FZI206LA"
      },
      "execution_count": 101,
      "outputs": []
    },
    {
      "cell_type": "code",
      "source": [
        "base_model.summary()"
      ],
      "metadata": {
        "colab": {
          "base_uri": "https://localhost:8080/"
        },
        "id": "6qc57DQC1krm",
        "outputId": "cb004c1e-7064-4bcb-b899-42bddbbe2f70"
      },
      "execution_count": 102,
      "outputs": [
        {
          "output_type": "stream",
          "name": "stdout",
          "text": [
            "Model: \"vgg16\"\n",
            "_________________________________________________________________\n",
            " Layer (type)                Output Shape              Param #   \n",
            "=================================================================\n",
            " input_2 (InputLayer)        [(None, 224, 224, 3)]     0         \n",
            "                                                                 \n",
            " block1_conv1 (Conv2D)       (None, 224, 224, 64)      1792      \n",
            "                                                                 \n",
            " block1_conv2 (Conv2D)       (None, 224, 224, 64)      36928     \n",
            "                                                                 \n",
            " block1_pool (MaxPooling2D)  (None, 112, 112, 64)      0         \n",
            "                                                                 \n",
            " block2_conv1 (Conv2D)       (None, 112, 112, 128)     73856     \n",
            "                                                                 \n",
            " block2_conv2 (Conv2D)       (None, 112, 112, 128)     147584    \n",
            "                                                                 \n",
            " block2_pool (MaxPooling2D)  (None, 56, 56, 128)       0         \n",
            "                                                                 \n",
            " block3_conv1 (Conv2D)       (None, 56, 56, 256)       295168    \n",
            "                                                                 \n",
            " block3_conv2 (Conv2D)       (None, 56, 56, 256)       590080    \n",
            "                                                                 \n",
            " block3_conv3 (Conv2D)       (None, 56, 56, 256)       590080    \n",
            "                                                                 \n",
            " block3_pool (MaxPooling2D)  (None, 28, 28, 256)       0         \n",
            "                                                                 \n",
            " block4_conv1 (Conv2D)       (None, 28, 28, 512)       1180160   \n",
            "                                                                 \n",
            " block4_conv2 (Conv2D)       (None, 28, 28, 512)       2359808   \n",
            "                                                                 \n",
            " block4_conv3 (Conv2D)       (None, 28, 28, 512)       2359808   \n",
            "                                                                 \n",
            " block4_pool (MaxPooling2D)  (None, 14, 14, 512)       0         \n",
            "                                                                 \n",
            " block5_conv1 (Conv2D)       (None, 14, 14, 512)       2359808   \n",
            "                                                                 \n",
            " block5_conv2 (Conv2D)       (None, 14, 14, 512)       2359808   \n",
            "                                                                 \n",
            " block5_conv3 (Conv2D)       (None, 14, 14, 512)       2359808   \n",
            "                                                                 \n",
            " block5_pool (MaxPooling2D)  (None, 7, 7, 512)         0         \n",
            "                                                                 \n",
            "=================================================================\n",
            "Total params: 14,714,688\n",
            "Trainable params: 7,079,424\n",
            "Non-trainable params: 7,635,264\n",
            "_________________________________________________________________\n"
          ]
        }
      ]
    },
    {
      "cell_type": "code",
      "source": [
        "K.clear_session()\n",
        "new_model = keras.models.Sequential([\n",
        "    \n",
        "    # Base model\n",
        "    base_model,\n",
        "    \n",
        "    # Flatten layer\n",
        "    keras.layers.Flatten(),\n",
        "    \n",
        "    #keras.layers.Dropout(.5),\n",
        "    # fc1 fully connected layer\n",
        "    keras.layers.Dense(units=30, activation=keras.activations.relu, name='fc1'),\n",
        "    \n",
        "    # fc2 fully connected layer\n",
        "    keras.layers.Dense(units=15, activation=keras.activations.relu, name='fc2'),\n",
        "    \n",
        "    # output layer\n",
        "    keras.layers.Dense(units=1, activation=keras.activations.sigmoid, name='otput')\n",
        "\n",
        "])"
      ],
      "metadata": {
        "id": "sBY2pvfL1nNc"
      },
      "execution_count": 103,
      "outputs": []
    },
    {
      "cell_type": "code",
      "source": [
        "new_model.summary()"
      ],
      "metadata": {
        "colab": {
          "base_uri": "https://localhost:8080/"
        },
        "id": "fArGfaA11p5e",
        "outputId": "6c3e3f26-b2c4-4ad8-e483-2e377f86234a"
      },
      "execution_count": 104,
      "outputs": [
        {
          "output_type": "stream",
          "name": "stdout",
          "text": [
            "Model: \"sequential\"\n",
            "_________________________________________________________________\n",
            " Layer (type)                Output Shape              Param #   \n",
            "=================================================================\n",
            " vgg16 (Functional)          (None, 7, 7, 512)         14714688  \n",
            "                                                                 \n",
            " flatten (Flatten)           (None, 25088)             0         \n",
            "                                                                 \n",
            " fc1 (Dense)                 (None, 30)                752670    \n",
            "                                                                 \n",
            " fc2 (Dense)                 (None, 15)                465       \n",
            "                                                                 \n",
            " otput (Dense)               (None, 1)                 16        \n",
            "                                                                 \n",
            "=================================================================\n",
            "Total params: 15,467,839\n",
            "Trainable params: 7,832,575\n",
            "Non-trainable params: 7,635,264\n",
            "_________________________________________________________________\n"
          ]
        }
      ]
    },
    {
      "cell_type": "code",
      "source": [
        "new_model.compile(loss=keras.losses.categorical_crossentropy,\n",
        "                  optimizer=keras.optimizers.Adam(learning_rate=0.001),\n",
        "                 )"
      ],
      "metadata": {
        "id": "KWr0UtEU1s1f"
      },
      "execution_count": 105,
      "outputs": []
    },
    {
      "cell_type": "code",
      "source": [
        "history = new_model.fit(X_train,y_train,batch_size=10, epochs=5)"
      ],
      "metadata": {
        "colab": {
          "base_uri": "https://localhost:8080/"
        },
        "id": "Cu8kg8ha7Sdh",
        "outputId": "ded0c83e-ee7b-4837-b3ed-addeac3b7925"
      },
      "execution_count": 106,
      "outputs": [
        {
          "output_type": "stream",
          "name": "stdout",
          "text": [
            "Epoch 1/5\n",
            "35/35 [==============================] - 222s 6s/step - loss: 0.0000e+00\n",
            "Epoch 2/5\n",
            "35/35 [==============================] - 221s 6s/step - loss: 0.0000e+00\n",
            "Epoch 3/5\n",
            "35/35 [==============================] - 221s 6s/step - loss: 0.0000e+00\n",
            "Epoch 4/5\n",
            "35/35 [==============================] - 222s 6s/step - loss: 0.0000e+00\n",
            "Epoch 5/5\n",
            "35/35 [==============================] - 221s 6s/step - loss: 0.0000e+00\n"
          ]
        }
      ]
    },
    {
      "cell_type": "code",
      "source": [
        "pd.DataFrame(history.history).plot()\n",
        "plt.grid(True)\n",
        "plt.gca().set_ylim(0,1)"
      ],
      "metadata": {
        "colab": {
          "base_uri": "https://localhost:8080/",
          "height": 1000
        },
        "id": "NFmB95UE7pIF",
        "outputId": "1c1400c1-665c-4d90-b32e-4ce6527109d6"
      },
      "execution_count": 107,
      "outputs": [
        {
          "output_type": "execute_result",
          "data": {
            "text/plain": [
              "(0.0, 1.0)"
            ]
          },
          "metadata": {},
          "execution_count": 107
        },
        {
          "output_type": "display_data",
          "data": {
            "text/plain": [
              "<Figure size 720x2520 with 1 Axes>"
            ],
            "image/png": "[encoded data removed]"
          },
          "metadata": {
            "needs_background": "light"
          }
        }
      ]
    },
    {
      "cell_type": "code",
      "source": [],
      "metadata": {
        "id": "33xYQ56l7r66"
      },
      "execution_count": null,
      "outputs": []
    }
  ]
}