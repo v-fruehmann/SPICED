{
 "cells": [
  {
   "cell_type": "code",
   "execution_count": 1,
   "id": "f75c8b29",
   "metadata": {},
   "outputs": [],
   "source": [
    "from selenium import webdriver\n",
    "from selenium.webdriver.firefox.options import Options\n",
    "import time\n",
    "from selenium.webdriver.common.keys import Keys\n",
    "from selenium.webdriver.support.select import Select\n",
    "from selenium.webdriver.common.action_chains import ActionChains\n",
    "from bs4 import BeautifulSoup\n",
    "import lxml"
   ]
  },
  {
   "cell_type": "code",
   "execution_count": 2,
   "id": "7c4efb06",
   "metadata": {},
   "outputs": [
    {
     "name": "stderr",
     "output_type": "stream",
     "text": [
      "C:\\Users\\mihai\\AppData\\Local\\Temp/ipykernel_5500/343461132.py:4: DeprecationWarning: executable_path has been deprecated, please pass in a Service object\n",
      "  driver = webdriver.Firefox(executable_path=\"C:\\\\Users\\\\mihai\\\\Downloads\\\\geckodriver-v0.32.0-win32\\\\geckodriver.exe\", options=options)\n"
     ]
    }
   ],
   "source": [
    "url = \"https://www.google.com/maps/search/activity+for+kids+berlin/@52.4937334,12.8665503,10z/data=!4m2!2m1!6e1?hl=en\"\n",
    "options = Options()\n",
    "options.binary_location = r'C:\\Program Files\\Mozilla Firefox\\firefox.exe'\n",
    "driver = webdriver.Firefox(executable_path=\"C:\\\\Users\\\\mihai\\\\Downloads\\\\geckodriver-v0.32.0-win32\\\\geckodriver.exe\", options=options)\n",
    "options.add_argument(\"user-agent=Mozilla/5.0 (Windows NT 10.0; WOW64) AppleWebKit/537.36 (KHTML, like Gecko) Chrome/92.0.4515.107 Safari/537.36\")\n",
    "driver.get(url=url)"
   ]
  },
  {
   "cell_type": "code",
   "execution_count": 10,
   "id": "f3789804",
   "metadata": {},
   "outputs": [],
   "source": [
    "objects = driver.find_elements('xpath', \"//a[@class = 'hfpxzc']\")"
   ]
  },
  {
   "cell_type": "code",
   "execution_count": 11,
   "id": "d741b7b4",
   "metadata": {},
   "outputs": [],
   "source": [
    "links = []\n",
    "for i in objects:\n",
    "    links.append(i.get_attribute('href')) ## links - список с ссылками на все необходимы места"
   ]
  },
  {
   "cell_type": "code",
   "execution_count": 45,
   "id": "4fd15249",
   "metadata": {},
   "outputs": [],
   "source": [
    "with open(\"links.txt\", \"a\", encoding = \"utf-8\") as f:\n",
    "    for i in links:\n",
    "        f.write('%s\\n' % i) "
   ]
  },
  {
   "cell_type": "code",
   "execution_count": 2,
   "id": "f8728b3f",
   "metadata": {},
   "outputs": [],
   "source": [
    "links = []\n",
    "with open('links.txt', 'r') as filehandle:\n",
    "    for line in filehandle:\n",
    "        currentPlace = line[:-1]\n",
    "        links.append(currentPlace)"
   ]
  },
  {
   "cell_type": "code",
   "execution_count": 1,
   "id": "34d1d916",
   "metadata": {},
   "outputs": [
    {
     "ename": "NameError",
     "evalue": "name 'links' is not defined",
     "output_type": "error",
     "traceback": [
      "\u001b[0;31m---------------------------------------------------------------------------\u001b[0m",
      "\u001b[0;31mNameError\u001b[0m                                 Traceback (most recent call last)",
      "Cell \u001b[0;32mIn [1], line 3\u001b[0m\n\u001b[1;32m      1\u001b[0m info \u001b[39m=\u001b[39m []\n\u001b[1;32m      2\u001b[0m count \u001b[39m=\u001b[39m \u001b[39m0\u001b[39m\n\u001b[0;32m----> 3\u001b[0m \u001b[39mfor\u001b[39;00m i \u001b[39min\u001b[39;00m links:\n\u001b[1;32m      4\u001b[0m     comment_list \u001b[39m=\u001b[39m []\n\u001b[1;32m      5\u001b[0m     options \u001b[39m=\u001b[39m webdriver\u001b[39m.\u001b[39mChromeOptions()\n",
      "\u001b[0;31mNameError\u001b[0m: name 'links' is not defined"
     ]
    }
   ],
   "source": [
    "info = []\n",
    "count = 0\n",
    "for i in links:\n",
    "    comment_list = []\n",
    "    options = webdriver.ChromeOptions()\n",
    "    #options.binary_location = r'C:\\Program Files\\Google\\Chrome\\Application\\chrome.exe'\n",
    "    driver = webdriver.Chrome(executable_path=\"C:\\\\Users\\\\mihai\\\\Downloads\\\\chromedriver_win32\\\\chromedriver.exe\")\n",
    "    #options.add_argument(\"user-agent=Mozilla/5.0 (Windows NT 10.0; WOW64) AppleWebKit/537.36 (KHTML, like Gecko) Chrome/92.0.4515.107 Safari/537.36\")\n",
    "    driver.get(url=i)\n",
    "    time.sleep(7)\n",
    "    soup = BeautifulSoup(driver.page_source, \"lxml\")\n",
    "    try:\n",
    "        name = soup.find(\"h1\", class_ = \"DUwDvf fontHeadlineLarge\").find('span').text\n",
    "    except:\n",
    "        name = \"no_name\"\n",
    "    try:\n",
    "        rating = soup.find(\"span\", class_ = 'ceNzKf')[\"aria-label\"]\n",
    "    except:\n",
    "        rating = \"no_rating\"\n",
    "    rating = str(rating).strip()\n",
    "    rating = rating.split(\" \")\n",
    "    rating = rating[0]\n",
    "    try:\n",
    "        description = soup.find('button', class_ = 'DkEaL u6ijk').text\n",
    "    except:\n",
    "        description = \"no_description\"\n",
    "    try:\n",
    "        adress = soup.find(\"div\", class_ = \"rogA2c\").find(\"div\", class_ = 'Io6YTe fontBodyMedium').text\n",
    "    except:\n",
    "        adress = \"no_adress\"\n",
    "    try:\n",
    "        web_site = soup.find(\"div\", class_ = \"rogA2c ITvuef\").find(\"div\", 'Io6YTe fontBodyMedium').text\n",
    "    except:\n",
    "        web_site = \"no_web_site\"\n",
    "    time.sleep(10)\n",
    "    try:\n",
    "        driver.find_element('xpath', \"//div[@class = 'F7nice mmu3tf']\").click()\n",
    "    except: \n",
    "        continue\n",
    "    try:\n",
    "        time.sleep(4)    \n",
    "        driver.find_element('xpath', \"//button[@aria-label = 'Sort reviews']\").click()\n",
    "        time.sleep(4)\n",
    "        driver.find_element('xpath', f\"//div[@data-index = '2']\").click()\n",
    "        time.sleep(6)\n",
    "        more_button = driver.find_elements('xpath', \"//button[@aria-label = ' See more ']\")\n",
    "        for i in range(len(more_button)):\n",
    "            driver.find_element('xpath', \"//button[@aria-label = ' See more ']\").click()  \n",
    "            time.sleep(3)\n",
    "        soup = BeautifulSoup(driver.page_source, \"lxml\")\n",
    "        comment_list = soup.find_all('span', class_ = 'wiI7pd')\n",
    "        c_r = soup.find_all('div', class_ = \"DU9Pgb\")\n",
    "        comment_rating = []\n",
    "        for i in comment_rating:\n",
    "            rating = i.get(\"aria-label\")\n",
    "            comment_rating.append(rating)\n",
    "        good_1 = comment_list[0].text\n",
    "        good_2 = comment_list[1].text\n",
    "        good_3 = comment_list[2].text\n",
    "    except:\n",
    "        good_1 = \"no_com\"\n",
    "        good_2 = \"no_com\"\n",
    "        good_3 = \"no_com\"\n",
    "    try:\n",
    "        time.sleep(4)    \n",
    "        driver.find_element('xpath', \"//button[@aria-label = 'Sort reviews']\").click()\n",
    "        time.sleep(4)\n",
    "        driver.find_element('xpath', f\"//div[@data-index = '3']\").click()\n",
    "        time.sleep(6)\n",
    "        more_button = driver.find_elements('xpath', \"//button[@aria-label = ' See more ']\")\n",
    "        for i in range(len(more_button)):\n",
    "            driver.find_element('xpath', \"//button[@aria-label = ' See more ']\").click()  \n",
    "            time.sleep(3)\n",
    "        soup = BeautifulSoup(driver.page_source, \"lxml\")\n",
    "        comment_list = soup.find_all('span', class_ = 'wiI7pd')\n",
    "        c_r = soup.find_all('div', class_ = \"DU9Pgb\")\n",
    "        comment_rating = []\n",
    "        for i in comment_rating:\n",
    "            rating = i.get(\"aria-label\")\n",
    "            comment_rating.append(rating)\n",
    "        bad_1 = comment_list[0].text\n",
    "        bad_2 = comment_list[1].text\n",
    "        bad_3 = comment_list[2].text\n",
    "    except:\n",
    "        bad_1 = \"no_com\"\n",
    "        bad_2 = \"no_com\"\n",
    "        bad_3 = \"no_com\"        \n",
    "    info.append({\"name\":name, \"rating\":rating,\"description\":description, \"adress\":adress, \"web_site\":web_site, \"good_1\":good_1,\"good_2\":good_2, \"good_3\":good_3,\"bad_1\":bad_1, \"bad_2\":bad_2, \"bad_3\":bad_3})\n",
    "    count+=1\n",
    "    print(f'done {count}')\n",
    "    driver.close()"
   ]
  },
  {
   "cell_type": "code",
   "execution_count": 13,
   "id": "f74d1590",
   "metadata": {},
   "outputs": [],
   "source": [
    "import json\n",
    "import csv"
   ]
  },
  {
   "cell_type": "code",
   "execution_count": 14,
   "id": "25ccf612",
   "metadata": {},
   "outputs": [],
   "source": [
    "with open(\"json_1.json\", \"a\", encoding = \"utf-8\") as file:\n",
    "    json.dump(info, file, indent = 4, ensure_ascii = False)"
   ]
  },
  {
   "cell_type": "code",
   "execution_count": 15,
   "id": "10137af1",
   "metadata": {},
   "outputs": [],
   "source": [
    "with open('csv_1.csv', 'w', encoding='utf8', newline='') as output_file:\n",
    "    fc = csv.DictWriter(output_file, fieldnames=info[0].keys(),\n",
    "                       )\n",
    "    fc.writeheader()\n",
    "    fc.writerows(info)"
   ]
  }
 ],
 "metadata": {
  "kernelspec": {
   "display_name": "Python 3.9.6 64-bit",
   "language": "python",
   "name": "python3"
  },
  "language_info": {
   "codemirror_mode": {
    "name": "ipython",
    "version": 3
   },
   "file_extension": ".py",
   "mimetype": "text/x-python",
   "name": "python",
   "nbconvert_exporter": "python",
   "pygments_lexer": "ipython3",
   "version": "3.9.6"
  },
  "vscode": {
   "interpreter": {
    "hash": "31f2aee4e71d21fbe5cf8b01ff0e069b9275f58929596ceb00d14d90e3e16cd6"
   }
  }
 },
 "nbformat": 4,
 "nbformat_minor": 5
}
