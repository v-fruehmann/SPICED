{
 "cells": [
  {
   "cell_type": "code",
   "execution_count": 1,
   "id": "b9aea60b",
   "metadata": {},
   "outputs": [],
   "source": [
    "# data analysis & wrangling\n",
    "import numpy as np # linear algebra\n",
    "import pandas as pd # data processing\n",
    "import random as rnd\n",
    "\n",
    "# visualization\n",
    "import seaborn as sns\n",
    "import matplotlib.pyplot as plt\n",
    "%matplotlib inline\n",
    "\n",
    "# ML\n",
    "from sklearn.linear_model import LogisticRegression\n",
    "from sklearn.tree import DecisionTreeClassifier, plot_tree\n",
    "from sklearn.ensemble import RandomForestClassifier\n",
    "from sklearn.model_selection import (\n",
    "    train_test_split, \n",
    "    cross_validate, \n",
    "    cross_val_score, \n",
    "    StratifiedShuffleSplit, \n",
    "    GridSearchCV\n",
    ")\n",
    "\n",
    "from sklearn.dummy import DummyClassifier\n",
    "from sklearn.metrics import (\n",
    "    accuracy_score,\n",
    "    roc_curve,\n",
    "    roc_auc_score,\n",
    "    mean_squared_error,\n",
    "    confusion_matrix,\n",
    "    ConfusionMatrixDisplay,\n",
    "    plot_confusion_matrix,\n",
    "    precision_score,\n",
    "    recall_score,\n",
    "    f1_score,\n",
    "    log_loss,\n",
    "    auc,\n",
    "    plot_roc_curve, \n",
    "    roc_curve\n",
    ")\n",
    "\n",
    "from sklearn.preprocessing import (\n",
    "    LabelEncoder, \n",
    "    OneHotEncoder,\n",
    "    RobustScaler,\n",
    "    StandardScaler,\n",
    "    MinMaxScaler,\n",
    "    OrdinalEncoder,\n",
    "    FunctionTransformer\n",
    ")\n",
    "\n",
    "from sklearn.compose import ColumnTransformer\n",
    "from sklearn.pipeline import Pipeline\n",
    "from sklearn.impute import SimpleImputer\n",
    "\n",
    "# ignore warnings\n",
    "import warnings\n",
    "warnings.filterwarnings('ignore')"
   ]
  },
  {
   "cell_type": "code",
   "execution_count": 2,
   "id": "358f3d21",
   "metadata": {},
   "outputs": [],
   "source": [
    "data = pd.read_csv(\"train.csv\")"
   ]
  },
  {
   "cell_type": "code",
   "execution_count": 3,
   "id": "04636edd",
   "metadata": {},
   "outputs": [
    {
     "data": {
      "text/html": [
       "<div>\n",
       "<style scoped>\n",
       "    .dataframe tbody tr th:only-of-type {\n",
       "        vertical-align: middle;\n",
       "    }\n",
       "\n",
       "    .dataframe tbody tr th {\n",
       "        vertical-align: top;\n",
       "    }\n",
       "\n",
       "    .dataframe thead th {\n",
       "        text-align: right;\n",
       "    }\n",
       "</style>\n",
       "<table border=\"1\" class=\"dataframe\">\n",
       "  <thead>\n",
       "    <tr style=\"text-align: right;\">\n",
       "      <th></th>\n",
       "      <th>PassengerId</th>\n",
       "      <th>Survived</th>\n",
       "      <th>Pclass</th>\n",
       "      <th>Name</th>\n",
       "      <th>Sex</th>\n",
       "      <th>Age</th>\n",
       "      <th>SibSp</th>\n",
       "      <th>Parch</th>\n",
       "      <th>Ticket</th>\n",
       "      <th>Fare</th>\n",
       "      <th>Cabin</th>\n",
       "      <th>Embarked</th>\n",
       "    </tr>\n",
       "  </thead>\n",
       "  <tbody>\n",
       "    <tr>\n",
       "      <th>0</th>\n",
       "      <td>1</td>\n",
       "      <td>0</td>\n",
       "      <td>3</td>\n",
       "      <td>Braund, Mr. Owen Harris</td>\n",
       "      <td>male</td>\n",
       "      <td>22.0</td>\n",
       "      <td>1</td>\n",
       "      <td>0</td>\n",
       "      <td>A/5 21171</td>\n",
       "      <td>7.2500</td>\n",
       "      <td>NaN</td>\n",
       "      <td>S</td>\n",
       "    </tr>\n",
       "    <tr>\n",
       "      <th>1</th>\n",
       "      <td>2</td>\n",
       "      <td>1</td>\n",
       "      <td>1</td>\n",
       "      <td>Cumings, Mrs. John Bradley (Florence Briggs Th...</td>\n",
       "      <td>female</td>\n",
       "      <td>38.0</td>\n",
       "      <td>1</td>\n",
       "      <td>0</td>\n",
       "      <td>PC 17599</td>\n",
       "      <td>71.2833</td>\n",
       "      <td>C85</td>\n",
       "      <td>C</td>\n",
       "    </tr>\n",
       "    <tr>\n",
       "      <th>2</th>\n",
       "      <td>3</td>\n",
       "      <td>1</td>\n",
       "      <td>3</td>\n",
       "      <td>Heikkinen, Miss. Laina</td>\n",
       "      <td>female</td>\n",
       "      <td>26.0</td>\n",
       "      <td>0</td>\n",
       "      <td>0</td>\n",
       "      <td>STON/O2. 3101282</td>\n",
       "      <td>7.9250</td>\n",
       "      <td>NaN</td>\n",
       "      <td>S</td>\n",
       "    </tr>\n",
       "    <tr>\n",
       "      <th>3</th>\n",
       "      <td>4</td>\n",
       "      <td>1</td>\n",
       "      <td>1</td>\n",
       "      <td>Futrelle, Mrs. Jacques Heath (Lily May Peel)</td>\n",
       "      <td>female</td>\n",
       "      <td>35.0</td>\n",
       "      <td>1</td>\n",
       "      <td>0</td>\n",
       "      <td>113803</td>\n",
       "      <td>53.1000</td>\n",
       "      <td>C123</td>\n",
       "      <td>S</td>\n",
       "    </tr>\n",
       "    <tr>\n",
       "      <th>4</th>\n",
       "      <td>5</td>\n",
       "      <td>0</td>\n",
       "      <td>3</td>\n",
       "      <td>Allen, Mr. William Henry</td>\n",
       "      <td>male</td>\n",
       "      <td>35.0</td>\n",
       "      <td>0</td>\n",
       "      <td>0</td>\n",
       "      <td>373450</td>\n",
       "      <td>8.0500</td>\n",
       "      <td>NaN</td>\n",
       "      <td>S</td>\n",
       "    </tr>\n",
       "  </tbody>\n",
       "</table>\n",
       "</div>"
      ],
      "text/plain": [
       "   PassengerId  Survived  Pclass  \\\n",
       "0            1         0       3   \n",
       "1            2         1       1   \n",
       "2            3         1       3   \n",
       "3            4         1       1   \n",
       "4            5         0       3   \n",
       "\n",
       "                                                Name     Sex   Age  SibSp  \\\n",
       "0                            Braund, Mr. Owen Harris    male  22.0      1   \n",
       "1  Cumings, Mrs. John Bradley (Florence Briggs Th...  female  38.0      1   \n",
       "2                             Heikkinen, Miss. Laina  female  26.0      0   \n",
       "3       Futrelle, Mrs. Jacques Heath (Lily May Peel)  female  35.0      1   \n",
       "4                           Allen, Mr. William Henry    male  35.0      0   \n",
       "\n",
       "   Parch            Ticket     Fare Cabin Embarked  \n",
       "0      0         A/5 21171   7.2500   NaN        S  \n",
       "1      0          PC 17599  71.2833   C85        C  \n",
       "2      0  STON/O2. 3101282   7.9250   NaN        S  \n",
       "3      0            113803  53.1000  C123        S  \n",
       "4      0            373450   8.0500   NaN        S  "
      ]
     },
     "execution_count": 3,
     "metadata": {},
     "output_type": "execute_result"
    }
   ],
   "source": [
    "data.head()"
   ]
  },
  {
   "cell_type": "markdown",
   "id": "07f9c788",
   "metadata": {},
   "source": [
    "# 1. Preprocessing"
   ]
  },
  {
   "cell_type": "code",
   "execution_count": 4,
   "id": "22817eba",
   "metadata": {},
   "outputs": [
    {
     "data": {
      "text/plain": [
       "Cabin          687\n",
       "Age            177\n",
       "Embarked         2\n",
       "PassengerId      0\n",
       "Survived         0\n",
       "Pclass           0\n",
       "Name             0\n",
       "Sex              0\n",
       "SibSp            0\n",
       "Parch            0\n",
       "Ticket           0\n",
       "Fare             0\n",
       "dtype: int64"
      ]
     },
     "execution_count": 4,
     "metadata": {},
     "output_type": "execute_result"
    }
   ],
   "source": [
    "# check the missing values\n",
    "data.isnull().sum().sort_values(ascending=False)"
   ]
  },
  {
   "cell_type": "code",
   "execution_count": 5,
   "id": "c965caf2",
   "metadata": {},
   "outputs": [],
   "source": [
    "# fill the missing values with mean values according to the 'Pclass' and 'Sex'\n",
    "data['Age'].fillna(data.groupby(['Sex','Pclass'])['Age'].transform('mean').round(0), inplace=True)"
   ]
  },
  {
   "cell_type": "code",
   "execution_count": 6,
   "id": "82dae9bf",
   "metadata": {},
   "outputs": [],
   "source": [
    "# cut the 'Age' column into 5 equal-sized bins\n",
    "data['age_cut'] = pd.qcut(data['Age'],5,labels = ['kids', 'young', 'middle_aged', 'old','super_old'])"
   ]
  },
  {
   "cell_type": "code",
   "execution_count": 7,
   "id": "09b13e4c",
   "metadata": {},
   "outputs": [],
   "source": [
    "# count the family members\n",
    "data['family_size'] = data['SibSp'] + data['Parch'] + 1\n",
    "#data['family_size'].value_counts(sort=False)"
   ]
  },
  {
   "cell_type": "code",
   "execution_count": 8,
   "id": "be0df621",
   "metadata": {},
   "outputs": [],
   "source": [
    "#pd.cut(data[\"family_size\"],bins=[0,1,2,4,6]).value_counts()"
   ]
  },
  {
   "cell_type": "code",
   "execution_count": 9,
   "id": "efc9def8",
   "metadata": {},
   "outputs": [],
   "source": [
    "data['family_category'] = pd.cut(data['family_size'],bins=[0,1,2,4,6], labels= ['alone','couple','small_family', 'big_family'])\n",
    "#data[\"family_category\"].value_counts()"
   ]
  },
  {
   "cell_type": "code",
   "execution_count": 10,
   "id": "78100575",
   "metadata": {},
   "outputs": [],
   "source": [
    "data['cabin_number'] = (data['Cabin'].notnull().astype('int'))"
   ]
  },
  {
   "cell_type": "code",
   "execution_count": 11,
   "id": "02e7acfd",
   "metadata": {},
   "outputs": [],
   "source": [
    "southampton = data[data['Embarked'] == \"S\"].shape[0]\n",
    "cherbourg = data[data['Embarked'] == \"C\"].shape[0]\n",
    "queenstown = data[data['Embarked'] == \"Q\"].shape[0]\n",
    "\n",
    "# impute the missing values to the most frequent value\n",
    "imputer = SimpleImputer(strategy='most_frequent')\n",
    "imputer.fit(data[['Embarked']])        \n",
    "data['Embarked'] = imputer.transform(data[['Embarked']]);"
   ]
  },
  {
   "cell_type": "code",
   "execution_count": 12,
   "id": "f21b3754",
   "metadata": {},
   "outputs": [],
   "source": [
    "data['title'] = data.Name.str.extract(' ([A-Za-z]+)\\.', expand=False)\n",
    "data['title'].value_counts()\n",
    "\n",
    "# grouping the 'title' into five groups\n",
    "data['title'] = data['title'].replace(['Lady', 'Capt', 'Col', 'Don', 'Dr', 'Major',\n",
    "                                       'Rev', 'Jonkheer', 'Dona', 'Countess', 'Sir'], 'Other')\n",
    "data['title'] = data['title'].replace('Mlle', 'Miss')\n",
    "data['title'] = data['title'].replace('Ms', 'Miss')\n",
    "data['title'] = data['title'].replace('Mme', 'Mrs')\n",
    "\n",
    "# map each of the title groups to a numerical value\n",
    "#title_dict = {\"Mr\": 1, \"Miss\": 2, \"Mrs\": 3, \"Master\": 4, \"Other\": 5}\n",
    "#data['title'] = data['title'].replace(to_replace=title_dict)"
   ]
  },
  {
   "cell_type": "code",
   "execution_count": 13,
   "id": "f82b9907",
   "metadata": {},
   "outputs": [],
   "source": [
    "data['Cabin'].fillna('Unknown')\n",
    "data['cabin_label'] = data.Cabin.apply(lambda x: str(x)[0])"
   ]
  },
  {
   "cell_type": "code",
   "execution_count": 14,
   "id": "bdb7dd3f",
   "metadata": {},
   "outputs": [],
   "source": [
    "#pd.cut(data['Fare'],bins=[0,8,10,25,50,100]).value_counts()"
   ]
  },
  {
   "cell_type": "code",
   "execution_count": 15,
   "id": "f32406da",
   "metadata": {},
   "outputs": [
    {
     "data": {
      "text/plain": [
       "very_cheap        226\n",
       "middle            221\n",
       "expensive         174\n",
       "very_expensive    107\n",
       "cheap              95\n",
       "Name: fare_range, dtype: int64"
      ]
     },
     "execution_count": 15,
     "metadata": {},
     "output_type": "execute_result"
    }
   ],
   "source": [
    "data['Fare']= data['Fare'].round(2)\n",
    "\n",
    "data['fare_range'] = pd.cut(data['Fare'],bins=[0,8,10,25,50,100], labels= ['very_cheap', 'cheap', 'middle', 'expensive', 'very_expensive'])\n",
    "data['fare_range'].value_counts()"
   ]
  },
  {
   "cell_type": "markdown",
   "id": "96d067e8",
   "metadata": {},
   "source": [
    "Transformations"
   ]
  },
  {
   "cell_type": "code",
   "execution_count": 16,
   "id": "81210b8b",
   "metadata": {},
   "outputs": [
    {
     "data": {
      "text/html": [
       "<div>\n",
       "<style scoped>\n",
       "    .dataframe tbody tr th:only-of-type {\n",
       "        vertical-align: middle;\n",
       "    }\n",
       "\n",
       "    .dataframe tbody tr th {\n",
       "        vertical-align: top;\n",
       "    }\n",
       "\n",
       "    .dataframe thead th {\n",
       "        text-align: right;\n",
       "    }\n",
       "</style>\n",
       "<table border=\"1\" class=\"dataframe\">\n",
       "  <thead>\n",
       "    <tr style=\"text-align: right;\">\n",
       "      <th></th>\n",
       "      <th>PassengerId</th>\n",
       "      <th>Survived</th>\n",
       "      <th>Pclass</th>\n",
       "      <th>Name</th>\n",
       "      <th>Sex</th>\n",
       "      <th>Age</th>\n",
       "      <th>SibSp</th>\n",
       "      <th>Parch</th>\n",
       "      <th>Ticket</th>\n",
       "      <th>Fare</th>\n",
       "      <th>Cabin</th>\n",
       "      <th>Embarked</th>\n",
       "      <th>age_cut</th>\n",
       "      <th>family_size</th>\n",
       "      <th>family_category</th>\n",
       "      <th>cabin_number</th>\n",
       "      <th>title</th>\n",
       "      <th>cabin_label</th>\n",
       "      <th>fare_range</th>\n",
       "    </tr>\n",
       "  </thead>\n",
       "  <tbody>\n",
       "    <tr>\n",
       "      <th>0</th>\n",
       "      <td>1</td>\n",
       "      <td>0</td>\n",
       "      <td>3</td>\n",
       "      <td>Braund, Mr. Owen Harris</td>\n",
       "      <td>male</td>\n",
       "      <td>22.0</td>\n",
       "      <td>1</td>\n",
       "      <td>0</td>\n",
       "      <td>A/5 21171</td>\n",
       "      <td>7.25</td>\n",
       "      <td>NaN</td>\n",
       "      <td>S</td>\n",
       "      <td>young</td>\n",
       "      <td>2</td>\n",
       "      <td>couple</td>\n",
       "      <td>0</td>\n",
       "      <td>Mr</td>\n",
       "      <td>n</td>\n",
       "      <td>very_cheap</td>\n",
       "    </tr>\n",
       "    <tr>\n",
       "      <th>1</th>\n",
       "      <td>2</td>\n",
       "      <td>1</td>\n",
       "      <td>1</td>\n",
       "      <td>Cumings, Mrs. John Bradley (Florence Briggs Th...</td>\n",
       "      <td>female</td>\n",
       "      <td>38.0</td>\n",
       "      <td>1</td>\n",
       "      <td>0</td>\n",
       "      <td>PC 17599</td>\n",
       "      <td>71.28</td>\n",
       "      <td>C85</td>\n",
       "      <td>C</td>\n",
       "      <td>old</td>\n",
       "      <td>2</td>\n",
       "      <td>couple</td>\n",
       "      <td>1</td>\n",
       "      <td>Mrs</td>\n",
       "      <td>C</td>\n",
       "      <td>very_expensive</td>\n",
       "    </tr>\n",
       "  </tbody>\n",
       "</table>\n",
       "</div>"
      ],
      "text/plain": [
       "   PassengerId  Survived  Pclass  \\\n",
       "0            1         0       3   \n",
       "1            2         1       1   \n",
       "\n",
       "                                                Name     Sex   Age  SibSp  \\\n",
       "0                            Braund, Mr. Owen Harris    male  22.0      1   \n",
       "1  Cumings, Mrs. John Bradley (Florence Briggs Th...  female  38.0      1   \n",
       "\n",
       "   Parch     Ticket   Fare Cabin Embarked age_cut  family_size  \\\n",
       "0      0  A/5 21171   7.25   NaN        S   young            2   \n",
       "1      0   PC 17599  71.28   C85        C     old            2   \n",
       "\n",
       "  family_category  cabin_number title cabin_label      fare_range  \n",
       "0          couple             0    Mr           n      very_cheap  \n",
       "1          couple             1   Mrs           C  very_expensive  "
      ]
     },
     "execution_count": 16,
     "metadata": {},
     "output_type": "execute_result"
    }
   ],
   "source": [
    "data.head(2)"
   ]
  },
  {
   "cell_type": "code",
   "execution_count": null,
   "id": "02f46f3d",
   "metadata": {},
   "outputs": [],
   "source": [
    "#data = data.drop(['Name', 'Ticket'], axis=1)"
   ]
  },
  {
   "cell_type": "markdown",
   "id": "377f0add",
   "metadata": {},
   "source": [
    "# 2. Division the columns into numeric and categorical columns"
   ]
  },
  {
   "cell_type": "code",
   "execution_count": 19,
   "id": "989bac0f",
   "metadata": {},
   "outputs": [
    {
     "data": {
      "text/plain": [
       "Index(['PassengerId', 'Survived', 'Pclass', 'Name', 'Sex', 'Age', 'SibSp',\n",
       "       'Parch', 'Ticket', 'Fare', 'Cabin', 'Embarked', 'age_cut',\n",
       "       'family_size', 'family_category', 'cabin_number', 'title',\n",
       "       'cabin_label', 'fare_range'],\n",
       "      dtype='object')"
      ]
     },
     "execution_count": 19,
     "metadata": {},
     "output_type": "execute_result"
    }
   ],
   "source": [
    "data.columns"
   ]
  },
  {
   "cell_type": "code",
   "execution_count": 28,
   "id": "cff24930",
   "metadata": {},
   "outputs": [],
   "source": [
    "#bin_cols = ['Sex', 'cabin_number']\n",
    "#label_encoder = LabelEncoder()\n",
    "#for column in bin_cols:\n",
    "    #data[column] = label_encoder.fit_transform(data[column])\n",
    "\n",
    "#category_cols = ['age_cut', 'family_category',\n",
    "                 #'title', 'cabin_label', 'fare_range']\n",
    "#for column in category_cols:\n",
    "    #data[column] = data[column].astype('category').cat.codes  \n",
    "    \n",
    "#cat_transformer = OneHotEncoder(sparse=False).fit_transform(data[cat_cols].values)"
   ]
  },
  {
   "cell_type": "code",
   "execution_count": 50,
   "id": "dc7f9588",
   "metadata": {},
   "outputs": [],
   "source": [
    "cat_cols = ['Pclass', 'Embarked','age_cut', 'family_category',\n",
    "                 'title', 'cabin_label', 'fare_range', 'Sex', 'cabin_number']\n",
    "\n",
    "cat_transformer = OneHotEncoder(handle_unknown=\"ignore\")\n",
    "\n",
    "num_cols = ['Age', 'Fare']\n",
    "num_transformer = MinMaxScaler()"
   ]
  },
  {
   "cell_type": "code",
   "execution_count": 51,
   "id": "c4c2a00f",
   "metadata": {},
   "outputs": [],
   "source": [
    "preprocessor = ColumnTransformer(\n",
    "    transformers=[\n",
    "        (\"num\", num_transformer, num_cols),\n",
    "        (\"cat\", cat_transformer, cat_cols)\n",
    "    ]\n",
    ")"
   ]
  },
  {
   "cell_type": "code",
   "execution_count": 52,
   "id": "46c11e43",
   "metadata": {},
   "outputs": [
    {
     "data": {
      "text/plain": [
       "ColumnTransformer(transformers=[('num', MinMaxScaler(), ['Age', 'Fare']),\n",
       "                                ('cat', OneHotEncoder(handle_unknown='ignore'),\n",
       "                                 ['Pclass', 'Embarked', 'age_cut',\n",
       "                                  'family_category', 'title', 'cabin_label',\n",
       "                                  'fare_range', 'Sex', 'cabin_number'])])"
      ]
     },
     "execution_count": 52,
     "metadata": {},
     "output_type": "execute_result"
    }
   ],
   "source": [
    "preprocessor"
   ]
  },
  {
   "cell_type": "markdown",
   "id": "09d11e0f",
   "metadata": {},
   "source": [
    "# 3. Pipelines"
   ]
  },
  {
   "cell_type": "markdown",
   "id": "0943ebe7",
   "metadata": {},
   "source": [
    "# LogisticRegression"
   ]
  },
  {
   "cell_type": "code",
   "execution_count": 87,
   "id": "02d2cd1e",
   "metadata": {},
   "outputs": [],
   "source": [
    "m_lr1 = Pipeline(\n",
    "    steps=[(\"preprocessor\", preprocessor), (\"classifier\",\n",
    "                                            LogisticRegression(max_iter=1000))]\n",
    ")"
   ]
  },
  {
   "cell_type": "code",
   "execution_count": null,
   "id": "5152727b",
   "metadata": {},
   "outputs": [],
   "source": [
    "#logreg = Pipeline(\n",
    "    #steps=[(\"preprocessor\", preprocessor), (\"classifier\",\n",
    "                                            #LogisticRegression(max_iter=1000, class_weight=\"balanced\"))])\n",
    "#with class_weight=\"balanced\" train score is 0.84"
   ]
  },
  {
   "cell_type": "code",
   "execution_count": null,
   "id": "53aac5f9",
   "metadata": {},
   "outputs": [],
   "source": [
    "data = data.drop(['PassengerId', 'SibSp', 'Parch', 'Name', 'Ticket', 'Cabin', ], axis=1)"
   ]
  },
  {
   "cell_type": "code",
   "execution_count": 83,
   "id": "3a7413b9",
   "metadata": {},
   "outputs": [],
   "source": [
    "X = data.drop('Survived', axis=1)\n",
    "y = data['Survived']"
   ]
  },
  {
   "cell_type": "code",
   "execution_count": 84,
   "id": "d638adc0",
   "metadata": {},
   "outputs": [],
   "source": [
    "X_train, X_val, y_train, y_val = train_test_split(X, y, test_size=0.25, random_state=42)"
   ]
  },
  {
   "cell_type": "code",
   "execution_count": 88,
   "id": "6e367b19",
   "metadata": {},
   "outputs": [],
   "source": [
    "m_lr1.fit(X_train, y_train);"
   ]
  },
  {
   "cell_type": "code",
   "execution_count": 89,
   "id": "d7c7253b",
   "metadata": {},
   "outputs": [
    {
     "name": "stdout",
     "output_type": "stream",
     "text": [
      "Logistic Regression Results\n",
      "Train score: 0.85\n",
      "Test score: 0.83\n"
     ]
    }
   ],
   "source": [
    "m_lr1.score(X_val, y_val)\n",
    "print(\n",
    "    f\"Logistic Regression Results\\nTrain score: {round(logreg.score(X_train, y_train), 2)}\\nTest score: {round(logreg.score(X_val, y_val), 2)}\")"
   ]
  },
  {
   "cell_type": "code",
   "execution_count": 90,
   "id": "48ea0da8",
   "metadata": {},
   "outputs": [
    {
     "data": {
      "text/plain": [
       "0.8295964125560538"
      ]
     },
     "execution_count": 90,
     "metadata": {},
     "output_type": "execute_result"
    }
   ],
   "source": [
    "ypred = m_lr1.predict(X_val)  # generating predictive results\n",
    "accuracy_score(y_val, ypred)"
   ]
  },
  {
   "cell_type": "code",
   "execution_count": 91,
   "id": "542ec527",
   "metadata": {},
   "outputs": [
    {
     "name": "stdout",
     "output_type": "stream",
     "text": [
      "accuracy:  0.8295964125560538\n",
      "precision:  0.8\n",
      "recall:  0.7640449438202247\n",
      "f1_score:  0.7816091954022989\n"
     ]
    }
   ],
   "source": [
    "# comparing metrics\n",
    "metrics = ['accuracy', 'precision', 'recall', 'f1_score', 'ROC_AUC']\n",
    "summary = pd.DataFrame(index=metrics)\n",
    "\n",
    "\n",
    "def summary_metrics(summary, col, y_val, ypred, y_probs):\n",
    "    values = [accuracy_score(y_val, ypred), precision_score(y_val, ypred), recall_score(y, ypred),\n",
    "              f1_score(y_val, ypred), roc_auc_score(y_val, y_probs)]\n",
    "    summary[col] = values\n",
    "    return summary\n",
    "\n",
    "print('accuracy: ', accuracy_score(y_val, ypred))\n",
    "print('precision: ', precision_score(y_val, ypred))\n",
    "print('recall: ', recall_score(y_val, ypred))\n",
    "print('f1_score: ', f1_score(y_val, ypred))"
   ]
  },
  {
   "cell_type": "code",
   "execution_count": 92,
   "id": "704d0b58",
   "metadata": {},
   "outputs": [
    {
     "data": {
      "text/plain": [
       "array([[117,  17],\n",
       "       [ 21,  68]])"
      ]
     },
     "execution_count": 92,
     "metadata": {},
     "output_type": "execute_result"
    }
   ],
   "source": [
    "conf = confusion_matrix(y_val, ypred)\n",
    "conf"
   ]
  },
  {
   "cell_type": "code",
   "execution_count": 93,
   "id": "45847230",
   "metadata": {},
   "outputs": [
    {
     "data": {
      "text/plain": [
       "<sklearn.metrics._plot.roc_curve.RocCurveDisplay at 0x7fd514aef8b0>"
      ]
     },
     "execution_count": 93,
     "metadata": {},
     "output_type": "execute_result"
    },
    {
     "data": {
      "image/png": "[encoded data removed]",
      "text/plain": [
       "<Figure size 432x288 with 1 Axes>"
      ]
     },
     "metadata": {
      "needs_background": "light"
     },
     "output_type": "display_data"
    }
   ],
   "source": [
    "plot_roc_curve(m_lr1, X_val, y_val)"
   ]
  },
  {
   "cell_type": "code",
   "execution_count": 94,
   "id": "4ec85f6f",
   "metadata": {},
   "outputs": [],
   "source": [
    "fpr, tpr, threshold = roc_curve(y_val, m_lr1.predict_proba(X_val)[:,1]);"
   ]
  },
  {
   "cell_type": "code",
   "execution_count": 95,
   "id": "6e993c71",
   "metadata": {},
   "outputs": [
    {
     "name": "stdout",
     "output_type": "stream",
     "text": [
      "Area under the curve =  0.8798423612275701\n"
     ]
    }
   ],
   "source": [
    "auc_score = auc(fpr, tpr)\n",
    "print(\"Area under the curve = \", auc_score)"
   ]
  },
  {
   "cell_type": "code",
   "execution_count": 96,
   "id": "0a3a8bb8",
   "metadata": {},
   "outputs": [
    {
     "data": {
      "image/png": "[encoded data removed]",
      "text/plain": [
       "<Figure size 432x288 with 1 Axes>"
      ]
     },
     "metadata": {
      "needs_background": "light"
     },
     "output_type": "display_data"
    }
   ],
   "source": [
    "probs = m_lr1.predict_proba(X_val)\n",
    "probs = probs[:, 1]\n",
    "\n",
    "fpr, tpr, threshold = roc_curve(y_val, probs)\n",
    "roc_auc = roc_auc_score(y_val, probs)\n",
    "\n",
    "# visualisation ROC AUC\n",
    "plt.figure()\n",
    "plt.plot([0, 1], label='Baseline', linestyle='--')\n",
    "plt.plot(fpr, tpr, label='Regression')\n",
    "plt.title('Logistic Regression ROC AUC = %0.3f' % roc_auc)\n",
    "plt.ylabel('True Positive Rate')\n",
    "plt.xlabel('False Positive Rate')\n",
    "plt.legend(loc='lower right')\n",
    "plt.show()"
   ]
  },
  {
   "cell_type": "markdown",
   "id": "be90bb9c",
   "metadata": {},
   "source": [
    "# RandomForest"
   ]
  },
  {
   "cell_type": "code",
   "execution_count": 97,
   "id": "93532018",
   "metadata": {},
   "outputs": [],
   "source": [
    "m_rf1 = Pipeline(\n",
    "    steps=[(\"preprocessor\", preprocessor), (\"classifier\", RandomForestClassifier(n_estimators=15, max_depth=5))]\n",
    ")"
   ]
  },
  {
   "cell_type": "code",
   "execution_count": 98,
   "id": "3826003b",
   "metadata": {},
   "outputs": [
    {
     "data": {
      "text/plain": [
       "Pipeline(steps=[('preprocessor',\n",
       "                 ColumnTransformer(transformers=[('num', MinMaxScaler(),\n",
       "                                                  ['Age', 'Fare']),\n",
       "                                                 ('cat',\n",
       "                                                  OneHotEncoder(handle_unknown='ignore'),\n",
       "                                                  ['Pclass', 'Embarked',\n",
       "                                                   'age_cut', 'family_category',\n",
       "                                                   'title', 'cabin_label',\n",
       "                                                   'fare_range', 'Sex',\n",
       "                                                   'cabin_number'])])),\n",
       "                ('classifier',\n",
       "                 RandomForestClassifier(max_depth=5, n_estimators=15))])"
      ]
     },
     "execution_count": 98,
     "metadata": {},
     "output_type": "execute_result"
    }
   ],
   "source": [
    "m_rf1.fit(X_train,y_train)"
   ]
  },
  {
   "cell_type": "code",
   "execution_count": 99,
   "id": "67bd07ea",
   "metadata": {},
   "outputs": [],
   "source": [
    "ypred = m_rf1.predict(X_val)"
   ]
  },
  {
   "cell_type": "code",
   "execution_count": 100,
   "id": "e66c751b",
   "metadata": {},
   "outputs": [
    {
     "name": "stdout",
     "output_type": "stream",
     "text": [
      "Random Forest Results\n",
      "Test score: 0.81\n"
     ]
    }
   ],
   "source": [
    "print(f\"Random Forest Results\\nTest score: {round(accuracy_score(ypred,y_val), 2)}\")"
   ]
  },
  {
   "cell_type": "code",
   "execution_count": 101,
   "id": "de859b84",
   "metadata": {},
   "outputs": [
    {
     "name": "stdout",
     "output_type": "stream",
     "text": [
      "accuracy:  0.8071748878923767\n",
      "precision:  0.7674418604651163\n",
      "recall:  0.7415730337078652\n",
      "f1_score:  0.7542857142857143\n"
     ]
    }
   ],
   "source": [
    "print('accuracy: ', accuracy_score(y_val, ypred))\n",
    "print('precision: ', precision_score(y_val, ypred))\n",
    "print('recall: ', recall_score(y_val, ypred))\n",
    "print('f1_score: ', f1_score(y_val, ypred))"
   ]
  },
  {
   "cell_type": "code",
   "execution_count": 102,
   "id": "22250b1f",
   "metadata": {},
   "outputs": [
    {
     "data": {
      "text/plain": [
       "array([[114,  20],\n",
       "       [ 23,  66]])"
      ]
     },
     "execution_count": 102,
     "metadata": {},
     "output_type": "execute_result"
    }
   ],
   "source": [
    "conf = confusion_matrix(y_val, ypred)\n",
    "conf"
   ]
  },
  {
   "cell_type": "code",
   "execution_count": 103,
   "id": "aba61bf5",
   "metadata": {},
   "outputs": [
    {
     "data": {
      "text/plain": [
       "<sklearn.metrics._plot.roc_curve.RocCurveDisplay at 0x7fd514ad2b50>"
      ]
     },
     "execution_count": 103,
     "metadata": {},
     "output_type": "execute_result"
    },
    {
     "data": {
      "image/png": "[encoded data removed]",
      "text/plain": [
       "<Figure size 432x288 with 1 Axes>"
      ]
     },
     "metadata": {
      "needs_background": "light"
     },
     "output_type": "display_data"
    }
   ],
   "source": [
    "plot_roc_curve(m_rf1, X_val, y_val)"
   ]
  },
  {
   "cell_type": "code",
   "execution_count": 104,
   "id": "b9851ec3",
   "metadata": {},
   "outputs": [],
   "source": [
    "fpr, tpr, threshold = roc_curve(y_val, m_rf1.predict_proba(X_val)[:,1]);"
   ]
  },
  {
   "cell_type": "code",
   "execution_count": 105,
   "id": "b811fe13",
   "metadata": {},
   "outputs": [
    {
     "name": "stdout",
     "output_type": "stream",
     "text": [
      "Area under the curve =  0.8707026664430657\n"
     ]
    }
   ],
   "source": [
    "auc_score = auc(fpr, tpr)\n",
    "print(\"Area under the curve = \", auc_score)"
   ]
  },
  {
   "cell_type": "code",
   "execution_count": 106,
   "id": "7ad5f7ea",
   "metadata": {},
   "outputs": [
    {
     "data": {
      "image/png": "[encoded data removed]",
      "text/plain": [
       "<Figure size 432x288 with 1 Axes>"
      ]
     },
     "metadata": {
      "needs_background": "light"
     },
     "output_type": "display_data"
    }
   ],
   "source": [
    "probs = m_rf1.predict_proba(X_val)\n",
    "probs = probs[:, 1]\n",
    "\n",
    "fpr, tpr, threshold = roc_curve(y_val, probs)\n",
    "roc_auc = roc_auc_score(y_val, probs)\n",
    "\n",
    "# visualisation ROC AUC\n",
    "plt.figure()\n",
    "plt.plot([0, 1], label='Baseline', linestyle='--')\n",
    "plt.plot(fpr, tpr, label='Regression')\n",
    "plt.title('Logistic Regression ROC AUC = %0.3f' % roc_auc)\n",
    "plt.ylabel('True Positive Rate')\n",
    "plt.xlabel('False Positive Rate')\n",
    "plt.legend(loc='lower right')\n",
    "plt.show()"
   ]
  },
  {
   "cell_type": "code",
   "execution_count": 107,
   "id": "aee2d282",
   "metadata": {},
   "outputs": [
    {
     "data": {
      "text/plain": [
       "array([0.88059701, 0.71641791, 0.85074627, 0.89552239, 0.8358209 ,\n",
       "       0.73134328, 0.82089552, 0.76119403, 0.75757576, 0.92424242])"
      ]
     },
     "execution_count": 107,
     "metadata": {},
     "output_type": "execute_result"
    }
   ],
   "source": [
    "acc_rf = cross_val_score(m_rf1, X_train, y_train, \\\n",
    "                      cv=10, scoring='accuracy')\n",
    "acc_rf"
   ]
  },
  {
   "cell_type": "code",
   "execution_count": 108,
   "id": "43ae6853",
   "metadata": {},
   "outputs": [
    {
     "data": {
      "text/plain": [
       "0.8264360018091361"
      ]
     },
     "execution_count": 108,
     "metadata": {},
     "output_type": "execute_result"
    }
   ],
   "source": [
    "results = cross_val_score(m_rf1, X_train, y_train,cv=10) \n",
    "results.mean()"
   ]
  },
  {
   "cell_type": "code",
   "execution_count": 109,
   "id": "2bcba862",
   "metadata": {},
   "outputs": [
    {
     "data": {
      "text/plain": [
       "0.05941360233202771"
      ]
     },
     "execution_count": 109,
     "metadata": {},
     "output_type": "execute_result"
    }
   ],
   "source": [
    "results.std()"
   ]
  }
 ],
 "metadata": {
  "kernelspec": {
   "display_name": "Python 3 (ipykernel)",
   "language": "python",
   "name": "python3"
  },
  "language_info": {
   "codemirror_mode": {
    "name": "ipython",
    "version": 3
   },
   "file_extension": ".py",
   "mimetype": "text/x-python",
   "name": "python",
   "nbconvert_exporter": "python",
   "pygments_lexer": "ipython3",
   "version": "3.9.12"
  }
 },
 "nbformat": 4,
 "nbformat_minor": 5
}
