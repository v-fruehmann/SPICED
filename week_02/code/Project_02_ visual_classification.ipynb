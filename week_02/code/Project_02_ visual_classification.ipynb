{
 "cells": [
  {
   "cell_type": "code",
   "execution_count": 1,
   "id": "a5dc555f",
   "metadata": {},
   "outputs": [],
   "source": [
    "# Data analysis & wrangling\n",
    "import numpy as np # linear algebra\n",
    "import pandas as pd # data processing\n",
    "import random as rnd\n",
    "\n",
    "# Visualization\n",
    "import seaborn as sns\n",
    "import matplotlib.pyplot as plt\n",
    "%matplotlib inline\n",
    "\n",
    "# ML\n",
    "from sklearn.linear_model import LogisticRegression\n",
    "from sklearn.tree import DecisionTreeClassifier, plot_tree\n",
    "from sklearn.ensemble import RandomForestClassifier\n",
    "from sklearn.model_selection import (\n",
    "    train_test_split, \n",
    "    cross_validate, \n",
    "    cross_val_score, \n",
    "    StratifiedShuffleSplit, \n",
    "    GridSearchCV\n",
    ")\n",
    "\n",
    "from sklearn.dummy import DummyClassifier\n",
    "from sklearn.metrics import (\n",
    "    accuracy_score,\n",
    "    roc_curve,\n",
    "    roc_auc_score,\n",
    "    mean_squared_error,\n",
    "    confusion_matrix,\n",
    "    ConfusionMatrixDisplay,\n",
    "    plot_confusion_matrix,\n",
    "    precision_score,\n",
    "    recall_score,\n",
    "    f1_score,\n",
    "    log_loss,\n",
    "    auc,\n",
    "    plot_roc_curve, \n",
    "    roc_curve\n",
    ")\n",
    "\n",
    "from sklearn.preprocessing import (\n",
    "    LabelEncoder, \n",
    "    OneHotEncoder,\n",
    "    RobustScaler,\n",
    "    StandardScaler,\n",
    "    MinMaxScaler,\n",
    "    OrdinalEncoder, \n",
    "    Binarizer, \n",
    "    PolynomialFeatures\n",
    ")\n",
    "\n",
    "# ignore warnings\n",
    "import warnings\n",
    "warnings.filterwarnings('ignore')"
   ]
  },
  {
   "cell_type": "code",
   "execution_count": 2,
   "id": "d7b6abac",
   "metadata": {},
   "outputs": [],
   "source": [
    "# import dataset\n",
    "data = pd.read_csv(\"train.csv\")"
   ]
  },
  {
   "cell_type": "code",
   "execution_count": 3,
   "id": "e32f180c",
   "metadata": {},
   "outputs": [
    {
     "name": "stdout",
     "output_type": "stream",
     "text": [
      "<class 'pandas.core.frame.DataFrame'>\n",
      "RangeIndex: 891 entries, 0 to 890\n",
      "Data columns (total 12 columns):\n",
      " #   Column       Non-Null Count  Dtype  \n",
      "---  ------       --------------  -----  \n",
      " 0   PassengerId  891 non-null    int64  \n",
      " 1   Survived     891 non-null    int64  \n",
      " 2   Pclass       891 non-null    int64  \n",
      " 3   Name         891 non-null    object \n",
      " 4   Sex          891 non-null    object \n",
      " 5   Age          714 non-null    float64\n",
      " 6   SibSp        891 non-null    int64  \n",
      " 7   Parch        891 non-null    int64  \n",
      " 8   Ticket       891 non-null    object \n",
      " 9   Fare         891 non-null    float64\n",
      " 10  Cabin        204 non-null    object \n",
      " 11  Embarked     889 non-null    object \n",
      "dtypes: float64(2), int64(5), object(5)\n",
      "memory usage: 83.7+ KB\n"
     ]
    },
    {
     "data": {
      "text/plain": [
       "(891, 12)"
      ]
     },
     "execution_count": 3,
     "metadata": {},
     "output_type": "execute_result"
    }
   ],
   "source": [
    "data.info()\n",
    "data.shape"
   ]
  },
  {
   "cell_type": "code",
   "execution_count": 4,
   "id": "f96a0c4e",
   "metadata": {},
   "outputs": [
    {
     "data": {
      "text/html": [
       "<div>\n",
       "<style scoped>\n",
       "    .dataframe tbody tr th:only-of-type {\n",
       "        vertical-align: middle;\n",
       "    }\n",
       "\n",
       "    .dataframe tbody tr th {\n",
       "        vertical-align: top;\n",
       "    }\n",
       "\n",
       "    .dataframe thead th {\n",
       "        text-align: right;\n",
       "    }\n",
       "</style>\n",
       "<table border=\"1\" class=\"dataframe\">\n",
       "  <thead>\n",
       "    <tr style=\"text-align: right;\">\n",
       "      <th></th>\n",
       "      <th>PassengerId</th>\n",
       "      <th>Survived</th>\n",
       "      <th>Pclass</th>\n",
       "      <th>Name</th>\n",
       "      <th>Sex</th>\n",
       "      <th>Age</th>\n",
       "      <th>SibSp</th>\n",
       "      <th>Parch</th>\n",
       "      <th>Ticket</th>\n",
       "      <th>Fare</th>\n",
       "      <th>Cabin</th>\n",
       "      <th>Embarked</th>\n",
       "    </tr>\n",
       "  </thead>\n",
       "  <tbody>\n",
       "    <tr>\n",
       "      <th>0</th>\n",
       "      <td>1</td>\n",
       "      <td>0</td>\n",
       "      <td>3</td>\n",
       "      <td>Braund, Mr. Owen Harris</td>\n",
       "      <td>male</td>\n",
       "      <td>22.0</td>\n",
       "      <td>1</td>\n",
       "      <td>0</td>\n",
       "      <td>A/5 21171</td>\n",
       "      <td>7.2500</td>\n",
       "      <td>NaN</td>\n",
       "      <td>S</td>\n",
       "    </tr>\n",
       "    <tr>\n",
       "      <th>1</th>\n",
       "      <td>2</td>\n",
       "      <td>1</td>\n",
       "      <td>1</td>\n",
       "      <td>Cumings, Mrs. John Bradley (Florence Briggs Th...</td>\n",
       "      <td>female</td>\n",
       "      <td>38.0</td>\n",
       "      <td>1</td>\n",
       "      <td>0</td>\n",
       "      <td>PC 17599</td>\n",
       "      <td>71.2833</td>\n",
       "      <td>C85</td>\n",
       "      <td>C</td>\n",
       "    </tr>\n",
       "    <tr>\n",
       "      <th>2</th>\n",
       "      <td>3</td>\n",
       "      <td>1</td>\n",
       "      <td>3</td>\n",
       "      <td>Heikkinen, Miss. Laina</td>\n",
       "      <td>female</td>\n",
       "      <td>26.0</td>\n",
       "      <td>0</td>\n",
       "      <td>0</td>\n",
       "      <td>STON/O2. 3101282</td>\n",
       "      <td>7.9250</td>\n",
       "      <td>NaN</td>\n",
       "      <td>S</td>\n",
       "    </tr>\n",
       "  </tbody>\n",
       "</table>\n",
       "</div>"
      ],
      "text/plain": [
       "   PassengerId  Survived  Pclass  \\\n",
       "0            1         0       3   \n",
       "1            2         1       1   \n",
       "2            3         1       3   \n",
       "\n",
       "                                                Name     Sex   Age  SibSp  \\\n",
       "0                            Braund, Mr. Owen Harris    male  22.0      1   \n",
       "1  Cumings, Mrs. John Bradley (Florence Briggs Th...  female  38.0      1   \n",
       "2                             Heikkinen, Miss. Laina  female  26.0      0   \n",
       "\n",
       "   Parch            Ticket     Fare Cabin Embarked  \n",
       "0      0         A/5 21171   7.2500   NaN        S  \n",
       "1      0          PC 17599  71.2833   C85        C  \n",
       "2      0  STON/O2. 3101282   7.9250   NaN        S  "
      ]
     },
     "execution_count": 4,
     "metadata": {},
     "output_type": "execute_result"
    }
   ],
   "source": [
    "data.head(3)"
   ]
  },
  {
   "cell_type": "code",
   "execution_count": 5,
   "id": "d2f48ad7",
   "metadata": {},
   "outputs": [
    {
     "name": "stdout",
     "output_type": "stream",
     "text": [
      "Index(['PassengerId', 'Survived', 'Pclass', 'Name', 'Sex', 'Age', 'SibSp',\n",
      "       'Parch', 'Ticket', 'Fare', 'Cabin', 'Embarked'],\n",
      "      dtype='object')\n"
     ]
    }
   ],
   "source": [
    "# get a list of the features within the dataset\n",
    "print(data.columns)"
   ]
  },
  {
   "cell_type": "code",
   "execution_count": 6,
   "id": "66dae895",
   "metadata": {},
   "outputs": [
    {
     "data": {
      "text/html": [
       "<div>\n",
       "<style scoped>\n",
       "    .dataframe tbody tr th:only-of-type {\n",
       "        vertical-align: middle;\n",
       "    }\n",
       "\n",
       "    .dataframe tbody tr th {\n",
       "        vertical-align: top;\n",
       "    }\n",
       "\n",
       "    .dataframe thead th {\n",
       "        text-align: right;\n",
       "    }\n",
       "</style>\n",
       "<table border=\"1\" class=\"dataframe\">\n",
       "  <thead>\n",
       "    <tr style=\"text-align: right;\">\n",
       "      <th></th>\n",
       "      <th>PassengerId</th>\n",
       "      <th>Survived</th>\n",
       "      <th>Pclass</th>\n",
       "      <th>Age</th>\n",
       "      <th>SibSp</th>\n",
       "      <th>Parch</th>\n",
       "      <th>Fare</th>\n",
       "    </tr>\n",
       "  </thead>\n",
       "  <tbody>\n",
       "    <tr>\n",
       "      <th>count</th>\n",
       "      <td>891.000000</td>\n",
       "      <td>891.000000</td>\n",
       "      <td>891.000000</td>\n",
       "      <td>714.000000</td>\n",
       "      <td>891.000000</td>\n",
       "      <td>891.000000</td>\n",
       "      <td>891.000000</td>\n",
       "    </tr>\n",
       "    <tr>\n",
       "      <th>mean</th>\n",
       "      <td>446.000000</td>\n",
       "      <td>0.383838</td>\n",
       "      <td>2.308642</td>\n",
       "      <td>29.699118</td>\n",
       "      <td>0.523008</td>\n",
       "      <td>0.381594</td>\n",
       "      <td>32.204208</td>\n",
       "    </tr>\n",
       "    <tr>\n",
       "      <th>std</th>\n",
       "      <td>257.353842</td>\n",
       "      <td>0.486592</td>\n",
       "      <td>0.836071</td>\n",
       "      <td>14.526497</td>\n",
       "      <td>1.102743</td>\n",
       "      <td>0.806057</td>\n",
       "      <td>49.693429</td>\n",
       "    </tr>\n",
       "    <tr>\n",
       "      <th>min</th>\n",
       "      <td>1.000000</td>\n",
       "      <td>0.000000</td>\n",
       "      <td>1.000000</td>\n",
       "      <td>0.420000</td>\n",
       "      <td>0.000000</td>\n",
       "      <td>0.000000</td>\n",
       "      <td>0.000000</td>\n",
       "    </tr>\n",
       "    <tr>\n",
       "      <th>25%</th>\n",
       "      <td>223.500000</td>\n",
       "      <td>0.000000</td>\n",
       "      <td>2.000000</td>\n",
       "      <td>20.125000</td>\n",
       "      <td>0.000000</td>\n",
       "      <td>0.000000</td>\n",
       "      <td>7.910400</td>\n",
       "    </tr>\n",
       "    <tr>\n",
       "      <th>50%</th>\n",
       "      <td>446.000000</td>\n",
       "      <td>0.000000</td>\n",
       "      <td>3.000000</td>\n",
       "      <td>28.000000</td>\n",
       "      <td>0.000000</td>\n",
       "      <td>0.000000</td>\n",
       "      <td>14.454200</td>\n",
       "    </tr>\n",
       "    <tr>\n",
       "      <th>75%</th>\n",
       "      <td>668.500000</td>\n",
       "      <td>1.000000</td>\n",
       "      <td>3.000000</td>\n",
       "      <td>38.000000</td>\n",
       "      <td>1.000000</td>\n",
       "      <td>0.000000</td>\n",
       "      <td>31.000000</td>\n",
       "    </tr>\n",
       "    <tr>\n",
       "      <th>max</th>\n",
       "      <td>891.000000</td>\n",
       "      <td>1.000000</td>\n",
       "      <td>3.000000</td>\n",
       "      <td>80.000000</td>\n",
       "      <td>8.000000</td>\n",
       "      <td>6.000000</td>\n",
       "      <td>512.329200</td>\n",
       "    </tr>\n",
       "  </tbody>\n",
       "</table>\n",
       "</div>"
      ],
      "text/plain": [
       "       PassengerId    Survived      Pclass         Age       SibSp  \\\n",
       "count   891.000000  891.000000  891.000000  714.000000  891.000000   \n",
       "mean    446.000000    0.383838    2.308642   29.699118    0.523008   \n",
       "std     257.353842    0.486592    0.836071   14.526497    1.102743   \n",
       "min       1.000000    0.000000    1.000000    0.420000    0.000000   \n",
       "25%     223.500000    0.000000    2.000000   20.125000    0.000000   \n",
       "50%     446.000000    0.000000    3.000000   28.000000    0.000000   \n",
       "75%     668.500000    1.000000    3.000000   38.000000    1.000000   \n",
       "max     891.000000    1.000000    3.000000   80.000000    8.000000   \n",
       "\n",
       "            Parch        Fare  \n",
       "count  891.000000  891.000000  \n",
       "mean     0.381594   32.204208  \n",
       "std      0.806057   49.693429  \n",
       "min      0.000000    0.000000  \n",
       "25%      0.000000    7.910400  \n",
       "50%      0.000000   14.454200  \n",
       "75%      0.000000   31.000000  \n",
       "max      6.000000  512.329200  "
      ]
     },
     "execution_count": 6,
     "metadata": {},
     "output_type": "execute_result"
    }
   ],
   "source": [
    "# statistic information of dataset\n",
    "data.describe()"
   ]
  },
  {
   "cell_type": "markdown",
   "id": "efeef37d",
   "metadata": {
    "heading_collapsed": true
   },
   "source": [
    "# Dataset description"
   ]
  },
  {
   "cell_type": "markdown",
   "id": "9450d66b",
   "metadata": {
    "hidden": true
   },
   "source": [
    "PassengerId - a unique ID to each passenger(1-891); Survived - a boolean variable: 1 - Survived, 0 - Dead; Pclass - ticket Class: 1 - 1st, 2 - 2nd, 3 - 3rd class; Name - passenger name Sex - sex of passenger Age - age (in years) SibSp - number of siblings(brother/sister)/spouses(wife/husband) aboard Parch - number of parents/children aboard Ticket - a ticket number Fare - passenger fare Cabin - cabin number Embarked - port of embarkation (C - Cherbourg, Q - Queenstown, S - Southampton)\n",
    "\n",
    "Numerical Features: Age (continuous), Fare (continuous), SibSp (discrete), Parch (discrete) Categorical Features: Survived, Sex, Embarked, Pclass Alphanumeric Features: Ticket, Cabin"
   ]
  },
  {
   "cell_type": "markdown",
   "id": "28935dc6",
   "metadata": {},
   "source": [
    "# EDA"
   ]
  },
  {
   "cell_type": "code",
   "execution_count": 7,
   "id": "02d01ca2",
   "metadata": {},
   "outputs": [
    {
     "data": {
      "text/plain": [
       "PassengerId    891\n",
       "Survived         2\n",
       "Pclass           3\n",
       "Name           891\n",
       "Sex              2\n",
       "Age             88\n",
       "SibSp            7\n",
       "Parch            7\n",
       "Ticket         681\n",
       "Fare           248\n",
       "Cabin          147\n",
       "Embarked         3\n",
       "dtype: int64"
      ]
     },
     "execution_count": 7,
     "metadata": {},
     "output_type": "execute_result"
    }
   ],
   "source": [
    "# count number of distinct elements\n",
    "data.nunique()"
   ]
  },
  {
   "cell_type": "code",
   "execution_count": 8,
   "id": "3e7b6903",
   "metadata": {},
   "outputs": [
    {
     "data": {
      "text/plain": [
       "Cabin          687\n",
       "Age            177\n",
       "Embarked         2\n",
       "PassengerId      0\n",
       "Survived         0\n",
       "Pclass           0\n",
       "Name             0\n",
       "Sex              0\n",
       "SibSp            0\n",
       "Parch            0\n",
       "Ticket           0\n",
       "Fare             0\n",
       "dtype: int64"
      ]
     },
     "execution_count": 8,
     "metadata": {},
     "output_type": "execute_result"
    }
   ],
   "source": [
    "# check the missing values\n",
    "data.isnull().sum().sort_values(ascending=False)"
   ]
  },
  {
   "cell_type": "code",
   "execution_count": 9,
   "id": "a27fa3e7",
   "metadata": {},
   "outputs": [
    {
     "data": {
      "text/plain": [
       "<AxesSubplot:xlabel='Survived', ylabel='count'>"
      ]
     },
     "execution_count": 9,
     "metadata": {},
     "output_type": "execute_result"
    },
    {
     "data": {
      "image/png": "[encoded data removed]",
      "text/plain": [
       "<Figure size 432x288 with 1 Axes>"
      ]
     },
     "metadata": {
      "needs_background": "light"
     },
     "output_type": "display_data"
    }
   ],
   "source": [
    "# number of surviving/non-surviving passengers\n",
    "survival = pd.DataFrame(data[\"Survived\"].value_counts())\n",
    "survival.index = [\"Not_survived\", \"Survived\"]\n",
    "# survival.plot.bar();\n",
    "sns.countplot(x=\"Survived\", data=data)"
   ]
  },
  {
   "cell_type": "code",
   "execution_count": 10,
   "id": "c839045d",
   "metadata": {},
   "outputs": [
    {
     "data": {
      "text/plain": [
       "0    549\n",
       "1    342\n",
       "Name: Survived, dtype: int64"
      ]
     },
     "execution_count": 10,
     "metadata": {},
     "output_type": "execute_result"
    }
   ],
   "source": [
    "data['Survived'].value_counts()"
   ]
  },
  {
   "cell_type": "code",
   "execution_count": 11,
   "id": "05354f4e",
   "metadata": {},
   "outputs": [
    {
     "data": {
      "text/html": [
       "<div>\n",
       "<style scoped>\n",
       "    .dataframe tbody tr th:only-of-type {\n",
       "        vertical-align: middle;\n",
       "    }\n",
       "\n",
       "    .dataframe tbody tr th {\n",
       "        vertical-align: top;\n",
       "    }\n",
       "\n",
       "    .dataframe thead th {\n",
       "        text-align: right;\n",
       "    }\n",
       "</style>\n",
       "<table border=\"1\" class=\"dataframe\">\n",
       "  <thead>\n",
       "    <tr style=\"text-align: right;\">\n",
       "      <th></th>\n",
       "      <th>Pclass</th>\n",
       "      <th>Survived</th>\n",
       "    </tr>\n",
       "  </thead>\n",
       "  <tbody>\n",
       "    <tr>\n",
       "      <th>0</th>\n",
       "      <td>1</td>\n",
       "      <td>0.629630</td>\n",
       "    </tr>\n",
       "    <tr>\n",
       "      <th>1</th>\n",
       "      <td>2</td>\n",
       "      <td>0.472826</td>\n",
       "    </tr>\n",
       "    <tr>\n",
       "      <th>2</th>\n",
       "      <td>3</td>\n",
       "      <td>0.242363</td>\n",
       "    </tr>\n",
       "  </tbody>\n",
       "</table>\n",
       "</div>"
      ],
      "text/plain": [
       "   Pclass  Survived\n",
       "0       1  0.629630\n",
       "1       2  0.472826\n",
       "2       3  0.242363"
      ]
     },
     "execution_count": 11,
     "metadata": {},
     "output_type": "execute_result"
    }
   ],
   "source": [
    "# proportion of surviving 1st class passengers with regards to the total number of 1st class passengers\n",
    "data[['Pclass', 'Survived']].groupby(\n",
    "    ['Pclass'], as_index=False).mean().sort_values(by='Survived', ascending=False)"
   ]
  },
  {
   "cell_type": "code",
   "execution_count": 12,
   "id": "94ebaef5",
   "metadata": {},
   "outputs": [
    {
     "data": {
      "text/plain": [
       "1    136\n",
       "0     80\n",
       "Name: Survived, dtype: int64"
      ]
     },
     "execution_count": 12,
     "metadata": {},
     "output_type": "execute_result"
    }
   ],
   "source": [
    "data[data['Pclass'] == 1]['Survived'].value_counts()"
   ]
  },
  {
   "cell_type": "code",
   "execution_count": 13,
   "id": "9515d641",
   "metadata": {},
   "outputs": [
    {
     "data": {
      "text/plain": [
       "<AxesSubplot:xlabel='Survived', ylabel='count'>"
      ]
     },
     "execution_count": 13,
     "metadata": {},
     "output_type": "execute_result"
    },
    {
     "data": {
      "image/png": "[encoded data removed]",
      "text/plain": [
       "<Figure size 432x288 with 1 Axes>"
      ]
     },
     "metadata": {
      "needs_background": "light"
     },
     "output_type": "display_data"
    }
   ],
   "source": [
    "sns.countplot(x=\"Survived\", hue=\"Pclass\", data=data)"
   ]
  },
  {
   "cell_type": "code",
   "execution_count": 14,
   "id": "22ce6b17",
   "metadata": {},
   "outputs": [
    {
     "data": {
      "text/html": [
       "<div>\n",
       "<style scoped>\n",
       "    .dataframe tbody tr th:only-of-type {\n",
       "        vertical-align: middle;\n",
       "    }\n",
       "\n",
       "    .dataframe tbody tr th {\n",
       "        vertical-align: top;\n",
       "    }\n",
       "\n",
       "    .dataframe thead th {\n",
       "        text-align: right;\n",
       "    }\n",
       "</style>\n",
       "<table border=\"1\" class=\"dataframe\">\n",
       "  <thead>\n",
       "    <tr style=\"text-align: right;\">\n",
       "      <th></th>\n",
       "      <th>Sex</th>\n",
       "      <th>Survived</th>\n",
       "    </tr>\n",
       "  </thead>\n",
       "  <tbody>\n",
       "    <tr>\n",
       "      <th>0</th>\n",
       "      <td>female</td>\n",
       "      <td>0.742038</td>\n",
       "    </tr>\n",
       "    <tr>\n",
       "      <th>1</th>\n",
       "      <td>male</td>\n",
       "      <td>0.188908</td>\n",
       "    </tr>\n",
       "  </tbody>\n",
       "</table>\n",
       "</div>"
      ],
      "text/plain": [
       "      Sex  Survived\n",
       "0  female  0.742038\n",
       "1    male  0.188908"
      ]
     },
     "execution_count": 14,
     "metadata": {},
     "output_type": "execute_result"
    },
    {
     "data": {
      "image/png": "[encoded data removed]",
      "text/plain": [
       "<Figure size 432x288 with 1 Axes>"
      ]
     },
     "metadata": {
      "needs_background": "light"
     },
     "output_type": "display_data"
    }
   ],
   "source": [
    "sns.countplot(x=\"Survived\", hue=\"Sex\", data=data)\n",
    "data.groupby('Sex', as_index=False).Survived.mean()"
   ]
  },
  {
   "cell_type": "code",
   "execution_count": 15,
   "id": "b39aea84",
   "metadata": {
    "scrolled": true
   },
   "outputs": [
    {
     "name": "stdout",
     "output_type": "stream",
     "text": [
      "Class 1\n",
      "Info about the male passengers\n",
      "0    77\n",
      "1    45\n",
      "Name: Survived, dtype: int64\n",
      "\n",
      "Info about the female passengers\n",
      "1    91\n",
      "0     3\n",
      "Name: Survived, dtype: int64\n",
      "\n",
      "Class 2\n",
      "Info about the male passengers\n",
      "0    91\n",
      "1    17\n",
      "Name: Survived, dtype: int64\n",
      "\n",
      "Info about the female passengers\n",
      "1    70\n",
      "0     6\n",
      "Name: Survived, dtype: int64\n",
      "\n",
      "Class 3\n",
      "Info about the male passengers\n",
      "0    300\n",
      "1     47\n",
      "Name: Survived, dtype: int64\n",
      "\n",
      "Info about the female passengers\n",
      "1    72\n",
      "0    72\n",
      "Name: Survived, dtype: int64\n",
      "\n"
     ]
    }
   ],
   "source": [
    "# info on male/female survived/dead passengers with regards to the class\n",
    "for cls in sorted(data['Pclass'].unique()):\n",
    "    print('Class', cls)\n",
    "    for sex in data['Sex'].unique():\n",
    "        if sex == 'male':\n",
    "            print('Info about the male passengers')\n",
    "        else:\n",
    "            print('Info about the female passengers')\n",
    "        print(data[(data['Sex'] == sex) & (data['Pclass'] == cls)]\n",
    "              ['Survived'].value_counts())\n",
    "        print()"
   ]
  },
  {
   "cell_type": "code",
   "execution_count": 16,
   "id": "7e02431f",
   "metadata": {},
   "outputs": [
    {
     "data": {
      "image/png": "[encoded data removed]",
      "text/plain": [
       "<Figure size 1800x1368 with 4 Axes>"
      ]
     },
     "metadata": {
      "needs_background": "light"
     },
     "output_type": "display_data"
    }
   ],
   "source": [
    "# visualization of 'Pclass' and 'Sex' features\n",
    "fig, ax = plt.subplots(2, 2, figsize=(25, 19))\n",
    "\n",
    "# Axes 0\n",
    "data[['Sex', 'Survived']].groupby(['Sex']).mean().plot.bar(ax=ax[0][0])\n",
    "ax[0][0].set_title('Survived grouped by Sex')\n",
    "ax[0][0].set_ylabel('Mean')\n",
    "ax[0][0].bar_label(ax[0][0].containers[0])\n",
    "sns.countplot('Sex', hue='Survived', data=data, ax=ax[0][1])\n",
    "ax[0][1].set_title('Survived vs Not_Survived sorted by sex')\n",
    "ax[0][1].bar_label(ax[0][1].containers[0])\n",
    "ax[0][1].bar_label(ax[0][1].containers[1])\n",
    "# Axes 1\n",
    "data[['Pclass', 'Survived']].groupby(['Pclass']).mean().plot.bar(ax=ax[1][0])\n",
    "ax[1][0].set_title('Survived grouped by Pclass')\n",
    "ax[1][0].set_ylabel('Mean')\n",
    "ax[1][0].bar_label(ax[1][0].containers[0])\n",
    "sns.countplot('Pclass', hue='Survived', data=data, ax=ax[1][1])\n",
    "ax[1][1].set_title('Survived vs Not_Survived sorted by class')\n",
    "ax[1][1].bar_label(ax[1][1].containers[0])\n",
    "ax[1][1].bar_label(ax[1][1].containers[1])\n",
    "plt.show()"
   ]
  },
  {
   "cell_type": "code",
   "execution_count": 17,
   "id": "30653296",
   "metadata": {
    "scrolled": true
   },
   "outputs": [
    {
     "data": {
      "image/png": "[encoded data removed]",
      "text/plain": [
       "<Figure size 432x288 with 1 Axes>"
      ]
     },
     "metadata": {
      "needs_background": "light"
     },
     "output_type": "display_data"
    },
    {
     "name": "stdout",
     "output_type": "stream",
     "text": [
      "The average age of passengers is : 29\n",
      "The maximum age of passengers is : 80\n",
      "The minimum age of passengers is : 0\n"
     ]
    }
   ],
   "source": [
    "# a histogram showing the age distribution of passengers\n",
    "data.Age.hist(bins=30, color='green', alpha=0.7)\n",
    "plt.xlabel('Age')\n",
    "plt.ylabel('Count')\n",
    "plt.show()\n",
    "print(\"The average age of passengers is :\", int(data.Age.mean()))\n",
    "print(\"The maximum age of passengers is :\", int(data.Age.max()))\n",
    "print(\"The minimum age of passengers is :\", int(data.Age.min()))"
   ]
  },
  {
   "cell_type": "code",
   "execution_count": 18,
   "id": "2f88736f",
   "metadata": {},
   "outputs": [
    {
     "data": {
      "image/png": "[encoded data removed]",
      "text/plain": [
       "<Figure size 720x432 with 1 Axes>"
      ]
     },
     "metadata": {
      "needs_background": "light"
     },
     "output_type": "display_data"
    }
   ],
   "source": [
    "plt.figure(figsize=(10, 6))\n",
    "sns.histplot(data=data, x='Age', hue='Sex');"
   ]
  },
  {
   "cell_type": "code",
   "execution_count": 19,
   "id": "ee4b4436",
   "metadata": {},
   "outputs": [
    {
     "name": "stdout",
     "output_type": "stream",
     "text": [
      "The average age of not survived passengers is  31.0 years.\n",
      "The average age of survived passengers is  28.0 years.\n"
     ]
    },
    {
     "data": {
      "text/html": [
       "<div>\n",
       "<style scoped>\n",
       "    .dataframe tbody tr th:only-of-type {\n",
       "        vertical-align: middle;\n",
       "    }\n",
       "\n",
       "    .dataframe tbody tr th {\n",
       "        vertical-align: top;\n",
       "    }\n",
       "\n",
       "    .dataframe thead th {\n",
       "        text-align: right;\n",
       "    }\n",
       "</style>\n",
       "<table border=\"1\" class=\"dataframe\">\n",
       "  <thead>\n",
       "    <tr style=\"text-align: right;\">\n",
       "      <th></th>\n",
       "      <th>Survived</th>\n",
       "      <th>Age</th>\n",
       "    </tr>\n",
       "  </thead>\n",
       "  <tbody>\n",
       "    <tr>\n",
       "      <th>0</th>\n",
       "      <td>0</td>\n",
       "      <td>30.626179</td>\n",
       "    </tr>\n",
       "    <tr>\n",
       "      <th>1</th>\n",
       "      <td>1</td>\n",
       "      <td>28.343690</td>\n",
       "    </tr>\n",
       "  </tbody>\n",
       "</table>\n",
       "</div>"
      ],
      "text/plain": [
       "   Survived        Age\n",
       "0         0  30.626179\n",
       "1         1  28.343690"
      ]
     },
     "execution_count": 19,
     "metadata": {},
     "output_type": "execute_result"
    }
   ],
   "source": [
    "# the average age for survived and not survived passengers\n",
    "age_surv = round(data.groupby([\"Survived\"])[\"Age\"].mean(), 0)\n",
    "age_surv.index = [\"Not_survived\", \"Survived\"]\n",
    "\n",
    "print(f'The average age of not survived passengers is  {age_surv[0]} years.')\n",
    "print(f'The average age of survived passengers is  {age_surv[1]} years.')\n",
    "\n",
    "data.groupby('Survived', as_index=False)['Age'].mean()"
   ]
  },
  {
   "cell_type": "code",
   "execution_count": 20,
   "id": "eb0a30a5",
   "metadata": {},
   "outputs": [],
   "source": [
    "# average age according to the class\n",
    "age_1 = data[data['Pclass'] == 1]['Age'].mean()\n",
    "age_2 = data[data['Pclass'] == 2]['Age'].mean()\n",
    "age_3 = data[data['Pclass'] == 3]['Age'].mean()"
   ]
  },
  {
   "cell_type": "code",
   "execution_count": 21,
   "id": "587681fa",
   "metadata": {},
   "outputs": [],
   "source": [
    "def fill_age(row):\n",
    "    if pd.isnull(row['Age']):\n",
    "        if row['Pclass'] == 1:\n",
    "            return age_1\n",
    "        if row['Pclass'] == 2:\n",
    "            return age_2\n",
    "        return age_3\n",
    "    return row['Age']"
   ]
  },
  {
   "cell_type": "code",
   "execution_count": 22,
   "id": "785e5648",
   "metadata": {},
   "outputs": [],
   "source": [
    "data['Age'] = data.apply(fill_age, axis=1)"
   ]
  },
  {
   "cell_type": "code",
   "execution_count": 23,
   "id": "7d9b9399",
   "metadata": {
    "scrolled": true
   },
   "outputs": [
    {
     "data": {
      "text/plain": [
       "Sex     Pclass\n",
       "female  1         34.958521\n",
       "        2         28.753359\n",
       "        3         22.738931\n",
       "male    1         40.756740\n",
       "        2         30.668784\n",
       "        3         26.137286\n",
       "Name: Age, dtype: float64"
      ]
     },
     "metadata": {},
     "output_type": "display_data"
    }
   ],
   "source": [
    "# alternative way according to the 'Pclass' and 'Sex'\n",
    "mean_ages = data.groupby(['Sex', 'Pclass'])['Age'].mean()\n",
    "display(mean_ages)"
   ]
  },
  {
   "cell_type": "code",
   "execution_count": 24,
   "id": "9663f56d",
   "metadata": {},
   "outputs": [],
   "source": [
    "def replace_nan_age(row):\n",
    "    if pd.isnull(row['Age']):\n",
    "        return mean_ages[row['Sex'], row['Pclass']]\n",
    "    else:\n",
    "        return row['Age']\n",
    "\n",
    "\n",
    "data['Age'] = data.apply(replace_nan_age, axis=1)"
   ]
  },
  {
   "cell_type": "code",
   "execution_count": 25,
   "id": "cdbd4bf9",
   "metadata": {},
   "outputs": [
    {
     "data": {
      "text/html": [
       "<div>\n",
       "<style scoped>\n",
       "    .dataframe tbody tr th:only-of-type {\n",
       "        vertical-align: middle;\n",
       "    }\n",
       "\n",
       "    .dataframe tbody tr th {\n",
       "        vertical-align: top;\n",
       "    }\n",
       "\n",
       "    .dataframe thead th {\n",
       "        text-align: right;\n",
       "    }\n",
       "</style>\n",
       "<table border=\"1\" class=\"dataframe\">\n",
       "  <thead>\n",
       "    <tr style=\"text-align: right;\">\n",
       "      <th>Sex</th>\n",
       "      <th>female</th>\n",
       "      <th>male</th>\n",
       "    </tr>\n",
       "    <tr>\n",
       "      <th>Pclass</th>\n",
       "      <th></th>\n",
       "      <th></th>\n",
       "    </tr>\n",
       "  </thead>\n",
       "  <tbody>\n",
       "    <tr>\n",
       "      <th>1</th>\n",
       "      <td>94</td>\n",
       "      <td>122</td>\n",
       "    </tr>\n",
       "    <tr>\n",
       "      <th>2</th>\n",
       "      <td>76</td>\n",
       "      <td>108</td>\n",
       "    </tr>\n",
       "    <tr>\n",
       "      <th>3</th>\n",
       "      <td>144</td>\n",
       "      <td>347</td>\n",
       "    </tr>\n",
       "  </tbody>\n",
       "</table>\n",
       "</div>"
      ],
      "text/plain": [
       "Sex     female  male\n",
       "Pclass              \n",
       "1           94   122\n",
       "2           76   108\n",
       "3          144   347"
      ]
     },
     "execution_count": 25,
     "metadata": {},
     "output_type": "execute_result"
    }
   ],
   "source": [
    "# create a table counting the number of surviving/dead passengers separately for 1st/2nd/3rd class and male/female.\n",
    "data.pivot_table(index='Pclass', columns='Sex',\n",
    "                 values='Survived', aggfunc='count')"
   ]
  },
  {
   "cell_type": "code",
   "execution_count": 26,
   "id": "045ff86f",
   "metadata": {},
   "outputs": [
    {
     "data": {
      "image/png": "[encoded data removed]",
      "text/plain": [
       "<Figure size 1800x1368 with 4 Axes>"
      ]
     },
     "metadata": {
      "needs_background": "light"
     },
     "output_type": "display_data"
    }
   ],
   "source": [
    "# visualization of 'Parch' and 'SibSp' features according to 'Survived'\n",
    "fig, ax = plt.subplots(2, 2, figsize=(25, 19))\n",
    "\n",
    "# Axes 0\n",
    "data[['Parch', 'Survived']].groupby(['Parch']).mean().plot.bar(ax=ax[0][0])\n",
    "ax[0][0].set_title('Survived grouped by number of parents / children aboard')\n",
    "ax[0][0].set_ylabel('Mean')\n",
    "ax[0][0].bar_label(ax[0][0].containers[0])\n",
    "sns.countplot('Parch', hue='Survived', data=data, ax=ax[0][1])\n",
    "ax[0][1].set_title(\n",
    "    'Survived vs Not_Survived sorted by number of parents / children aboard')\n",
    "ax[0][1].bar_label(ax[0][1].containers[0])\n",
    "ax[0][1].bar_label(ax[0][1].containers[1])\n",
    "# Axes 1\n",
    "data[['SibSp', 'Survived']].groupby(['SibSp']).mean().plot.bar(ax=ax[1][0])\n",
    "ax[1][0].set_title('Survived grouped by number of Siblings / spouses aboard')\n",
    "ax[1][0].set_ylabel('Mean')\n",
    "ax[1][0].bar_label(ax[1][0].containers[0])\n",
    "sns.countplot('SibSp', hue='Survived', data=data, ax=ax[1][1])\n",
    "ax[1][1].set_title(\n",
    "    'Survived vs Not_Survived sorted by number of Siblings / Spouses aboard')\n",
    "ax[1][1].bar_label(ax[1][1].containers[0])\n",
    "ax[1][1].bar_label(ax[1][1].containers[1])\n",
    "plt.show()"
   ]
  },
  {
   "cell_type": "code",
   "execution_count": 27,
   "id": "29c1b7cc",
   "metadata": {},
   "outputs": [],
   "source": [
    "def is_alone(row):\n",
    "    if row['SibSp'] + row['Parch'] == 0:\n",
    "        return 0\n",
    "    return 1\n",
    "\n",
    "\n",
    "data['alone'] = data.apply(is_alone, axis=1)"
   ]
  },
  {
   "cell_type": "code",
   "execution_count": 28,
   "id": "b6f14bb3",
   "metadata": {},
   "outputs": [
    {
     "data": {
      "text/html": [
       "<div>\n",
       "<style scoped>\n",
       "    .dataframe tbody tr th:only-of-type {\n",
       "        vertical-align: middle;\n",
       "    }\n",
       "\n",
       "    .dataframe tbody tr th {\n",
       "        vertical-align: top;\n",
       "    }\n",
       "\n",
       "    .dataframe thead th {\n",
       "        text-align: right;\n",
       "    }\n",
       "</style>\n",
       "<table border=\"1\" class=\"dataframe\">\n",
       "  <thead>\n",
       "    <tr style=\"text-align: right;\">\n",
       "      <th></th>\n",
       "      <th>Survived</th>\n",
       "      <th>alone</th>\n",
       "    </tr>\n",
       "  </thead>\n",
       "  <tbody>\n",
       "    <tr>\n",
       "      <th>0</th>\n",
       "      <td>0</td>\n",
       "      <td>0.318761</td>\n",
       "    </tr>\n",
       "    <tr>\n",
       "      <th>1</th>\n",
       "      <td>1</td>\n",
       "      <td>0.523392</td>\n",
       "    </tr>\n",
       "  </tbody>\n",
       "</table>\n",
       "</div>"
      ],
      "text/plain": [
       "   Survived     alone\n",
       "0         0  0.318761\n",
       "1         1  0.523392"
      ]
     },
     "execution_count": 28,
     "metadata": {},
     "output_type": "execute_result"
    },
    {
     "data": {
      "image/png": "[encoded data removed]",
      "text/plain": [
       "<Figure size 432x288 with 1 Axes>"
      ]
     },
     "metadata": {
      "needs_background": "light"
     },
     "output_type": "display_data"
    }
   ],
   "source": [
    "sns.countplot(x=\"alone\", hue=\"Survived\", data=data)\n",
    "data.groupby('Survived', as_index=False)['alone'].mean()"
   ]
  },
  {
   "cell_type": "code",
   "execution_count": 29,
   "id": "5a066ef9",
   "metadata": {},
   "outputs": [],
   "source": [
    "# counting the family size\n",
    "data['family_size'] = data['SibSp'] + data['Parch'] + 1"
   ]
  },
  {
   "cell_type": "code",
   "execution_count": 30,
   "id": "1f42c768",
   "metadata": {},
   "outputs": [
    {
     "data": {
      "image/png": "[encoded data removed]",
      "text/plain": [
       "<Figure size 432x288 with 1 Axes>"
      ]
     },
     "metadata": {
      "needs_background": "light"
     },
     "output_type": "display_data"
    }
   ],
   "source": [
    "data['family_size'].value_counts(sort=False).plot.bar();"
   ]
  },
  {
   "cell_type": "code",
   "execution_count": 31,
   "id": "56de2519",
   "metadata": {},
   "outputs": [
    {
     "name": "stdout",
     "output_type": "stream",
     "text": [
      "Percentage of people with a recorded Cabin number who survived: 66.66666666666666\n",
      "Percentage of people without a recorded Cabin number who survived: 29.985443959243085\n"
     ]
    },
    {
     "data": {
      "image/png": "[encoded data removed]",
      "text/plain": [
       "<Figure size 432x288 with 1 Axes>"
      ]
     },
     "metadata": {
      "needs_background": "light"
     },
     "output_type": "display_data"
    }
   ],
   "source": [
    "data[\"cabin_number\"] = (data[\"Cabin\"].notnull().astype('int'))\n",
    "\n",
    "# calculate percentages of CabinBool vs. survived\n",
    "print(\"Percentage of people with a recorded Cabin number who survived:\",\n",
    "      data[\"Survived\"][data[\"cabin_number\"] == 1].value_counts(normalize=True)[1]*100)\n",
    "\n",
    "print(\"Percentage of people without a recorded Cabin number who survived:\",\n",
    "      data[\"Survived\"][data[\"cabin_number\"] == 0].value_counts(normalize=True)[1]*100)\n",
    "# draw a bar plot of  people with a recorded Cabin number vs. survival\n",
    "sns.barplot(x=\"cabin_number\", y=\"Survived\", data=data)\n",
    "plt.show()"
   ]
  },
  {
   "cell_type": "code",
   "execution_count": 32,
   "id": "e7b01a8e",
   "metadata": {},
   "outputs": [
    {
     "name": "stdout",
     "output_type": "stream",
     "text": [
      "Number of people embarking in Southampton (S):\n",
      "644\n",
      "Number of people embarking in Cherbourg (C):\n",
      "168\n",
      "Number of people embarking in Queenstown (Q):\n",
      "77\n"
     ]
    }
   ],
   "source": [
    "# info about the 'Embarked' feature\n",
    "print(\"Number of people embarking in Southampton (S):\")\n",
    "southampton = data[data[\"Embarked\"] == \"S\"].shape[0]\n",
    "print(southampton)\n",
    "\n",
    "print(\"Number of people embarking in Cherbourg (C):\")\n",
    "cherbourg = data[data[\"Embarked\"] == \"C\"].shape[0]\n",
    "print(cherbourg)\n",
    "\n",
    "print(\"Number of people embarking in Queenstown (Q):\")\n",
    "queenstown = data[data[\"Embarked\"] == \"Q\"].shape[0]\n",
    "print(queenstown)"
   ]
  },
  {
   "cell_type": "code",
   "execution_count": 33,
   "id": "f5f19479",
   "metadata": {},
   "outputs": [],
   "source": [
    "# replace the missing values to the most frequent value\n",
    "data = data.fillna({\"Embarked\": \"S\"})"
   ]
  },
  {
   "cell_type": "code",
   "execution_count": 34,
   "id": "95b2d193",
   "metadata": {},
   "outputs": [
    {
     "data": {
      "text/plain": [
       "'Braund, Mr. Owen Harris'"
      ]
     },
     "execution_count": 34,
     "metadata": {},
     "output_type": "execute_result"
    }
   ],
   "source": [
    "# how the 'Name' looks like\n",
    "data['Name']\n",
    "data.iloc[0]['Name']"
   ]
  },
  {
   "cell_type": "code",
   "execution_count": 35,
   "id": "a1167ec9",
   "metadata": {},
   "outputs": [
    {
     "data": {
      "text/plain": [
       "array(['Mr', 'Mrs', 'Miss', 'Master', 'Don', 'Rev', 'Dr', 'Mme', 'Ms',\n",
       "       'Major', 'Lady', 'Sir', 'Mlle', 'Col', 'Capt', 'Countess',\n",
       "       'Jonkheer'], dtype=object)"
      ]
     },
     "execution_count": 35,
     "metadata": {},
     "output_type": "execute_result"
    }
   ],
   "source": [
    "# get the 'title' from 'Name'\n",
    "data['title'] = data.Name.str.extract(' ([A-Za-z]+)\\.', expand=False)\n",
    "data['title'].unique()"
   ]
  },
  {
   "cell_type": "code",
   "execution_count": 36,
   "id": "347f5a16",
   "metadata": {},
   "outputs": [
    {
     "data": {
      "text/plain": [
       "Mr          517\n",
       "Miss        182\n",
       "Mrs         125\n",
       "Master       40\n",
       "Dr            7\n",
       "Rev           6\n",
       "Mlle          2\n",
       "Major         2\n",
       "Col           2\n",
       "Countess      1\n",
       "Capt          1\n",
       "Ms            1\n",
       "Sir           1\n",
       "Lady          1\n",
       "Mme           1\n",
       "Don           1\n",
       "Jonkheer      1\n",
       "Name: title, dtype: int64"
      ]
     },
     "execution_count": 36,
     "metadata": {},
     "output_type": "execute_result"
    }
   ],
   "source": [
    "data['title'].value_counts()"
   ]
  },
  {
   "cell_type": "code",
   "execution_count": 37,
   "id": "7fddddbc",
   "metadata": {},
   "outputs": [
    {
     "data": {
      "text/html": [
       "<div>\n",
       "<style scoped>\n",
       "    .dataframe tbody tr th:only-of-type {\n",
       "        vertical-align: middle;\n",
       "    }\n",
       "\n",
       "    .dataframe tbody tr th {\n",
       "        vertical-align: top;\n",
       "    }\n",
       "\n",
       "    .dataframe thead th {\n",
       "        text-align: right;\n",
       "    }\n",
       "</style>\n",
       "<table border=\"1\" class=\"dataframe\">\n",
       "  <thead>\n",
       "    <tr style=\"text-align: right;\">\n",
       "      <th></th>\n",
       "      <th>PassengerId</th>\n",
       "      <th>Survived</th>\n",
       "      <th>Pclass</th>\n",
       "      <th>Name</th>\n",
       "      <th>Sex</th>\n",
       "      <th>Age</th>\n",
       "      <th>SibSp</th>\n",
       "      <th>Parch</th>\n",
       "      <th>Ticket</th>\n",
       "      <th>Fare</th>\n",
       "      <th>Cabin</th>\n",
       "      <th>Embarked</th>\n",
       "      <th>alone</th>\n",
       "      <th>family_size</th>\n",
       "      <th>cabin_number</th>\n",
       "      <th>title</th>\n",
       "    </tr>\n",
       "  </thead>\n",
       "  <tbody>\n",
       "    <tr>\n",
       "      <th>641</th>\n",
       "      <td>642</td>\n",
       "      <td>1</td>\n",
       "      <td>1</td>\n",
       "      <td>Sagesser, Mlle. Emma</td>\n",
       "      <td>female</td>\n",
       "      <td>24.0</td>\n",
       "      <td>0</td>\n",
       "      <td>0</td>\n",
       "      <td>PC 17477</td>\n",
       "      <td>69.3000</td>\n",
       "      <td>B35</td>\n",
       "      <td>C</td>\n",
       "      <td>0</td>\n",
       "      <td>1</td>\n",
       "      <td>1</td>\n",
       "      <td>Mlle</td>\n",
       "    </tr>\n",
       "    <tr>\n",
       "      <th>710</th>\n",
       "      <td>711</td>\n",
       "      <td>1</td>\n",
       "      <td>1</td>\n",
       "      <td>Mayne, Mlle. Berthe Antonine (\"Mrs de Villiers\")</td>\n",
       "      <td>female</td>\n",
       "      <td>24.0</td>\n",
       "      <td>0</td>\n",
       "      <td>0</td>\n",
       "      <td>PC 17482</td>\n",
       "      <td>49.5042</td>\n",
       "      <td>C90</td>\n",
       "      <td>C</td>\n",
       "      <td>0</td>\n",
       "      <td>1</td>\n",
       "      <td>1</td>\n",
       "      <td>Mlle</td>\n",
       "    </tr>\n",
       "  </tbody>\n",
       "</table>\n",
       "</div>"
      ],
      "text/plain": [
       "     PassengerId  Survived  Pclass  \\\n",
       "641          642         1       1   \n",
       "710          711         1       1   \n",
       "\n",
       "                                                 Name     Sex   Age  SibSp  \\\n",
       "641                              Sagesser, Mlle. Emma  female  24.0      0   \n",
       "710  Mayne, Mlle. Berthe Antonine (\"Mrs de Villiers\")  female  24.0      0   \n",
       "\n",
       "     Parch    Ticket     Fare Cabin Embarked  alone  family_size  \\\n",
       "641      0  PC 17477  69.3000   B35        C      0            1   \n",
       "710      0  PC 17482  49.5042   C90        C      0            1   \n",
       "\n",
       "     cabin_number title  \n",
       "641             1  Mlle  \n",
       "710             1  Mlle  "
      ]
     },
     "execution_count": 37,
     "metadata": {},
     "output_type": "execute_result"
    }
   ],
   "source": [
    "# what is 'Mlle'?\n",
    "data[data['title'] == 'Mlle']"
   ]
  },
  {
   "cell_type": "code",
   "execution_count": 38,
   "id": "7af5c17a",
   "metadata": {},
   "outputs": [
    {
     "data": {
      "text/html": [
       "<div>\n",
       "<style scoped>\n",
       "    .dataframe tbody tr th:only-of-type {\n",
       "        vertical-align: middle;\n",
       "    }\n",
       "\n",
       "    .dataframe tbody tr th {\n",
       "        vertical-align: top;\n",
       "    }\n",
       "\n",
       "    .dataframe thead th {\n",
       "        text-align: right;\n",
       "    }\n",
       "</style>\n",
       "<table border=\"1\" class=\"dataframe\">\n",
       "  <thead>\n",
       "    <tr style=\"text-align: right;\">\n",
       "      <th></th>\n",
       "      <th>title</th>\n",
       "      <th>Survived</th>\n",
       "    </tr>\n",
       "  </thead>\n",
       "  <tbody>\n",
       "    <tr>\n",
       "      <th>0</th>\n",
       "      <td>Master</td>\n",
       "      <td>0.575000</td>\n",
       "    </tr>\n",
       "    <tr>\n",
       "      <th>1</th>\n",
       "      <td>Miss</td>\n",
       "      <td>0.702703</td>\n",
       "    </tr>\n",
       "    <tr>\n",
       "      <th>2</th>\n",
       "      <td>Mr</td>\n",
       "      <td>0.156673</td>\n",
       "    </tr>\n",
       "    <tr>\n",
       "      <th>3</th>\n",
       "      <td>Mrs</td>\n",
       "      <td>0.793651</td>\n",
       "    </tr>\n",
       "    <tr>\n",
       "      <th>4</th>\n",
       "      <td>Other</td>\n",
       "      <td>0.347826</td>\n",
       "    </tr>\n",
       "  </tbody>\n",
       "</table>\n",
       "</div>"
      ],
      "text/plain": [
       "    title  Survived\n",
       "0  Master  0.575000\n",
       "1    Miss  0.702703\n",
       "2      Mr  0.156673\n",
       "3     Mrs  0.793651\n",
       "4   Other  0.347826"
      ]
     },
     "execution_count": 38,
     "metadata": {},
     "output_type": "execute_result"
    }
   ],
   "source": [
    "# grouping the 'title' into five groups\n",
    "data['title'] = data['title'].replace(['Lady', 'Capt', 'Col', 'Don', 'Dr', 'Major',\n",
    "                                       'Rev', 'Jonkheer', 'Dona', 'Countess', 'Sir'], 'Other')\n",
    "data['title'] = data['title'].replace('Mlle', 'Miss')\n",
    "data['title'] = data['title'].replace('Ms', 'Miss')\n",
    "data['title'] = data['title'].replace('Mme', 'Mrs')\n",
    "\n",
    "data[['title', 'Survived']].groupby(['title'], as_index=False).mean()"
   ]
  },
  {
   "cell_type": "code",
   "execution_count": 39,
   "id": "3c780a7b",
   "metadata": {},
   "outputs": [
    {
     "data": {
      "text/plain": [
       "Mr        517\n",
       "Miss      185\n",
       "Mrs       126\n",
       "Master     40\n",
       "Other      23\n",
       "Name: title, dtype: int64"
      ]
     },
     "execution_count": 39,
     "metadata": {},
     "output_type": "execute_result"
    }
   ],
   "source": [
    "data['title'].value_counts()"
   ]
  },
  {
   "cell_type": "code",
   "execution_count": 40,
   "id": "c0322ea0",
   "metadata": {},
   "outputs": [
    {
     "data": {
      "text/html": [
       "<div>\n",
       "<style scoped>\n",
       "    .dataframe tbody tr th:only-of-type {\n",
       "        vertical-align: middle;\n",
       "    }\n",
       "\n",
       "    .dataframe tbody tr th {\n",
       "        vertical-align: top;\n",
       "    }\n",
       "\n",
       "    .dataframe thead th {\n",
       "        text-align: right;\n",
       "    }\n",
       "</style>\n",
       "<table border=\"1\" class=\"dataframe\">\n",
       "  <thead>\n",
       "    <tr style=\"text-align: right;\">\n",
       "      <th></th>\n",
       "      <th>PassengerId</th>\n",
       "      <th>Survived</th>\n",
       "      <th>Pclass</th>\n",
       "      <th>Name</th>\n",
       "      <th>Sex</th>\n",
       "      <th>Age</th>\n",
       "      <th>SibSp</th>\n",
       "      <th>Parch</th>\n",
       "      <th>Ticket</th>\n",
       "      <th>Fare</th>\n",
       "      <th>Cabin</th>\n",
       "      <th>Embarked</th>\n",
       "      <th>alone</th>\n",
       "      <th>family_size</th>\n",
       "      <th>cabin_number</th>\n",
       "      <th>title</th>\n",
       "    </tr>\n",
       "  </thead>\n",
       "  <tbody>\n",
       "    <tr>\n",
       "      <th>0</th>\n",
       "      <td>1</td>\n",
       "      <td>0</td>\n",
       "      <td>3</td>\n",
       "      <td>Braund, Mr. Owen Harris</td>\n",
       "      <td>male</td>\n",
       "      <td>22.0</td>\n",
       "      <td>1</td>\n",
       "      <td>0</td>\n",
       "      <td>A/5 21171</td>\n",
       "      <td>7.2500</td>\n",
       "      <td>NaN</td>\n",
       "      <td>S</td>\n",
       "      <td>1</td>\n",
       "      <td>2</td>\n",
       "      <td>0</td>\n",
       "      <td>1</td>\n",
       "    </tr>\n",
       "    <tr>\n",
       "      <th>1</th>\n",
       "      <td>2</td>\n",
       "      <td>1</td>\n",
       "      <td>1</td>\n",
       "      <td>Cumings, Mrs. John Bradley (Florence Briggs Th...</td>\n",
       "      <td>female</td>\n",
       "      <td>38.0</td>\n",
       "      <td>1</td>\n",
       "      <td>0</td>\n",
       "      <td>PC 17599</td>\n",
       "      <td>71.2833</td>\n",
       "      <td>C85</td>\n",
       "      <td>C</td>\n",
       "      <td>1</td>\n",
       "      <td>2</td>\n",
       "      <td>1</td>\n",
       "      <td>3</td>\n",
       "    </tr>\n",
       "    <tr>\n",
       "      <th>2</th>\n",
       "      <td>3</td>\n",
       "      <td>1</td>\n",
       "      <td>3</td>\n",
       "      <td>Heikkinen, Miss. Laina</td>\n",
       "      <td>female</td>\n",
       "      <td>26.0</td>\n",
       "      <td>0</td>\n",
       "      <td>0</td>\n",
       "      <td>STON/O2. 3101282</td>\n",
       "      <td>7.9250</td>\n",
       "      <td>NaN</td>\n",
       "      <td>S</td>\n",
       "      <td>0</td>\n",
       "      <td>1</td>\n",
       "      <td>0</td>\n",
       "      <td>2</td>\n",
       "    </tr>\n",
       "    <tr>\n",
       "      <th>3</th>\n",
       "      <td>4</td>\n",
       "      <td>1</td>\n",
       "      <td>1</td>\n",
       "      <td>Futrelle, Mrs. Jacques Heath (Lily May Peel)</td>\n",
       "      <td>female</td>\n",
       "      <td>35.0</td>\n",
       "      <td>1</td>\n",
       "      <td>0</td>\n",
       "      <td>113803</td>\n",
       "      <td>53.1000</td>\n",
       "      <td>C123</td>\n",
       "      <td>S</td>\n",
       "      <td>1</td>\n",
       "      <td>2</td>\n",
       "      <td>1</td>\n",
       "      <td>3</td>\n",
       "    </tr>\n",
       "    <tr>\n",
       "      <th>4</th>\n",
       "      <td>5</td>\n",
       "      <td>0</td>\n",
       "      <td>3</td>\n",
       "      <td>Allen, Mr. William Henry</td>\n",
       "      <td>male</td>\n",
       "      <td>35.0</td>\n",
       "      <td>0</td>\n",
       "      <td>0</td>\n",
       "      <td>373450</td>\n",
       "      <td>8.0500</td>\n",
       "      <td>NaN</td>\n",
       "      <td>S</td>\n",
       "      <td>0</td>\n",
       "      <td>1</td>\n",
       "      <td>0</td>\n",
       "      <td>1</td>\n",
       "    </tr>\n",
       "  </tbody>\n",
       "</table>\n",
       "</div>"
      ],
      "text/plain": [
       "   PassengerId  Survived  Pclass  \\\n",
       "0            1         0       3   \n",
       "1            2         1       1   \n",
       "2            3         1       3   \n",
       "3            4         1       1   \n",
       "4            5         0       3   \n",
       "\n",
       "                                                Name     Sex   Age  SibSp  \\\n",
       "0                            Braund, Mr. Owen Harris    male  22.0      1   \n",
       "1  Cumings, Mrs. John Bradley (Florence Briggs Th...  female  38.0      1   \n",
       "2                             Heikkinen, Miss. Laina  female  26.0      0   \n",
       "3       Futrelle, Mrs. Jacques Heath (Lily May Peel)  female  35.0      1   \n",
       "4                           Allen, Mr. William Henry    male  35.0      0   \n",
       "\n",
       "   Parch            Ticket     Fare Cabin Embarked  alone  family_size  \\\n",
       "0      0         A/5 21171   7.2500   NaN        S      1            2   \n",
       "1      0          PC 17599  71.2833   C85        C      1            2   \n",
       "2      0  STON/O2. 3101282   7.9250   NaN        S      0            1   \n",
       "3      0            113803  53.1000  C123        S      1            2   \n",
       "4      0            373450   8.0500   NaN        S      0            1   \n",
       "\n",
       "   cabin_number  title  \n",
       "0             0      1  \n",
       "1             1      3  \n",
       "2             0      2  \n",
       "3             1      3  \n",
       "4             0      1  "
      ]
     },
     "execution_count": 40,
     "metadata": {},
     "output_type": "execute_result"
    }
   ],
   "source": [
    "# map each of the title groups to a numerical value\n",
    "title_dict = {\"Mr\": 1, \"Miss\": 2, \"Mrs\": 3, \"Master\": 4, \"Other\": 5}\n",
    "data['title'] = data['title'].replace(to_replace=title_dict)\n",
    "\n",
    "data.head()"
   ]
  },
  {
   "cell_type": "code",
   "execution_count": 41,
   "id": "1c9ae3cb",
   "metadata": {
    "scrolled": true
   },
   "outputs": [
    {
     "name": "stdout",
     "output_type": "stream",
     "text": [
      "Mean value of Fare is : 32.2042079685746\n",
      "Median value of Fare is : 14.4542\n"
     ]
    },
    {
     "data": {
      "image/png": "[encoded data removed]",
      "text/plain": [
       "<Figure size 432x288 with 1 Axes>"
      ]
     },
     "metadata": {
      "needs_background": "light"
     },
     "output_type": "display_data"
    }
   ],
   "source": [
    "# plotting the 'Fare' column to see the data distribution\n",
    "sns.boxplot(\"Fare\", data=data)\n",
    "\n",
    "# checking the mean and median values\n",
    "print(\"Mean value of Fare is :\", data.Fare.mean())\n",
    "print(\"Median value of Fare is :\", data.Fare.median())"
   ]
  },
  {
   "cell_type": "code",
   "execution_count": 42,
   "id": "5c1a2ee8",
   "metadata": {},
   "outputs": [
    {
     "data": {
      "text/html": [
       "<div>\n",
       "<style scoped>\n",
       "    .dataframe tbody tr th:only-of-type {\n",
       "        vertical-align: middle;\n",
       "    }\n",
       "\n",
       "    .dataframe tbody tr th {\n",
       "        vertical-align: top;\n",
       "    }\n",
       "\n",
       "    .dataframe thead th {\n",
       "        text-align: right;\n",
       "    }\n",
       "</style>\n",
       "<table border=\"1\" class=\"dataframe\">\n",
       "  <thead>\n",
       "    <tr style=\"text-align: right;\">\n",
       "      <th></th>\n",
       "      <th>min</th>\n",
       "      <th>mean</th>\n",
       "      <th>max</th>\n",
       "    </tr>\n",
       "    <tr>\n",
       "      <th>Pclass</th>\n",
       "      <th></th>\n",
       "      <th></th>\n",
       "      <th></th>\n",
       "    </tr>\n",
       "  </thead>\n",
       "  <tbody>\n",
       "    <tr>\n",
       "      <th>1</th>\n",
       "      <td>5.0000</td>\n",
       "      <td>86.148874</td>\n",
       "      <td>512.3292</td>\n",
       "    </tr>\n",
       "    <tr>\n",
       "      <th>2</th>\n",
       "      <td>10.5000</td>\n",
       "      <td>21.358661</td>\n",
       "      <td>73.5000</td>\n",
       "    </tr>\n",
       "    <tr>\n",
       "      <th>3</th>\n",
       "      <td>4.0125</td>\n",
       "      <td>13.787875</td>\n",
       "      <td>69.5500</td>\n",
       "    </tr>\n",
       "  </tbody>\n",
       "</table>\n",
       "</div>"
      ],
      "text/plain": [
       "            min       mean       max\n",
       "Pclass                              \n",
       "1        5.0000  86.148874  512.3292\n",
       "2       10.5000  21.358661   73.5000\n",
       "3        4.0125  13.787875   69.5500"
      ]
     },
     "execution_count": 42,
     "metadata": {},
     "output_type": "execute_result"
    }
   ],
   "source": [
    "# calculating the min, max and mean price of the ticket, excluding the free tickets\n",
    "data[data['Fare'] > 0].groupby(by='Pclass')['Fare'].agg(['min', 'mean', 'max'])"
   ]
  },
  {
   "cell_type": "code",
   "execution_count": 43,
   "id": "9e8b3539",
   "metadata": {},
   "outputs": [
    {
     "data": {
      "text/html": [
       "<div>\n",
       "<style scoped>\n",
       "    .dataframe tbody tr th:only-of-type {\n",
       "        vertical-align: middle;\n",
       "    }\n",
       "\n",
       "    .dataframe tbody tr th {\n",
       "        vertical-align: top;\n",
       "    }\n",
       "\n",
       "    .dataframe thead tr th {\n",
       "        text-align: left;\n",
       "    }\n",
       "\n",
       "    .dataframe thead tr:last-of-type th {\n",
       "        text-align: right;\n",
       "    }\n",
       "</style>\n",
       "<table border=\"1\" class=\"dataframe\">\n",
       "  <thead>\n",
       "    <tr>\n",
       "      <th></th>\n",
       "      <th colspan=\"2\" halign=\"left\">min</th>\n",
       "      <th colspan=\"2\" halign=\"left\">mean</th>\n",
       "      <th colspan=\"2\" halign=\"left\">max</th>\n",
       "    </tr>\n",
       "    <tr>\n",
       "      <th>Survived</th>\n",
       "      <th>0</th>\n",
       "      <th>1</th>\n",
       "      <th>0</th>\n",
       "      <th>1</th>\n",
       "      <th>0</th>\n",
       "      <th>1</th>\n",
       "    </tr>\n",
       "    <tr>\n",
       "      <th>Pclass</th>\n",
       "      <th></th>\n",
       "      <th></th>\n",
       "      <th></th>\n",
       "      <th></th>\n",
       "      <th></th>\n",
       "      <th></th>\n",
       "    </tr>\n",
       "  </thead>\n",
       "  <tbody>\n",
       "    <tr>\n",
       "      <th>1</th>\n",
       "      <td>0.0</td>\n",
       "      <td>25.9292</td>\n",
       "      <td>64.684007</td>\n",
       "      <td>95.608029</td>\n",
       "      <td>263.00</td>\n",
       "      <td>512.3292</td>\n",
       "    </tr>\n",
       "    <tr>\n",
       "      <th>2</th>\n",
       "      <td>0.0</td>\n",
       "      <td>10.5000</td>\n",
       "      <td>19.412328</td>\n",
       "      <td>22.055700</td>\n",
       "      <td>73.50</td>\n",
       "      <td>65.0000</td>\n",
       "    </tr>\n",
       "    <tr>\n",
       "      <th>3</th>\n",
       "      <td>0.0</td>\n",
       "      <td>0.0000</td>\n",
       "      <td>13.669364</td>\n",
       "      <td>13.694887</td>\n",
       "      <td>69.55</td>\n",
       "      <td>56.4958</td>\n",
       "    </tr>\n",
       "  </tbody>\n",
       "</table>\n",
       "</div>"
      ],
      "text/plain": [
       "          min                mean                max          \n",
       "Survived    0        1          0          1       0         1\n",
       "Pclass                                                        \n",
       "1         0.0  25.9292  64.684007  95.608029  263.00  512.3292\n",
       "2         0.0  10.5000  19.412328  22.055700   73.50   65.0000\n",
       "3         0.0   0.0000  13.669364  13.694887   69.55   56.4958"
      ]
     },
     "execution_count": 43,
     "metadata": {},
     "output_type": "execute_result"
    }
   ],
   "source": [
    "# calculating the min,max,mean ticket price according to the class for survived and not survived passengers\n",
    "data.pivot_table(values='Fare', index='Pclass',\n",
    "                 columns='Survived', aggfunc=['min', 'mean', 'max'])"
   ]
  },
  {
   "cell_type": "code",
   "execution_count": 44,
   "id": "753f56f5",
   "metadata": {},
   "outputs": [
    {
     "data": {
      "text/html": [
       "<div>\n",
       "<style scoped>\n",
       "    .dataframe tbody tr th:only-of-type {\n",
       "        vertical-align: middle;\n",
       "    }\n",
       "\n",
       "    .dataframe tbody tr th {\n",
       "        vertical-align: top;\n",
       "    }\n",
       "\n",
       "    .dataframe thead th {\n",
       "        text-align: right;\n",
       "    }\n",
       "</style>\n",
       "<table border=\"1\" class=\"dataframe\">\n",
       "  <thead>\n",
       "    <tr style=\"text-align: right;\">\n",
       "      <th></th>\n",
       "      <th>PassengerId</th>\n",
       "      <th>Survived</th>\n",
       "      <th>Pclass</th>\n",
       "      <th>Name</th>\n",
       "      <th>Sex</th>\n",
       "      <th>Age</th>\n",
       "      <th>SibSp</th>\n",
       "      <th>Parch</th>\n",
       "      <th>Ticket</th>\n",
       "      <th>Fare</th>\n",
       "      <th>Cabin</th>\n",
       "      <th>Embarked</th>\n",
       "      <th>alone</th>\n",
       "      <th>family_size</th>\n",
       "      <th>cabin_number</th>\n",
       "      <th>title</th>\n",
       "    </tr>\n",
       "  </thead>\n",
       "  <tbody>\n",
       "    <tr>\n",
       "      <th>0</th>\n",
       "      <td>1</td>\n",
       "      <td>0</td>\n",
       "      <td>3</td>\n",
       "      <td>Braund, Mr. Owen Harris</td>\n",
       "      <td>male</td>\n",
       "      <td>22.0</td>\n",
       "      <td>1</td>\n",
       "      <td>0</td>\n",
       "      <td>A/5 21171</td>\n",
       "      <td>7.25</td>\n",
       "      <td>NaN</td>\n",
       "      <td>S</td>\n",
       "      <td>1</td>\n",
       "      <td>2</td>\n",
       "      <td>0</td>\n",
       "      <td>1</td>\n",
       "    </tr>\n",
       "    <tr>\n",
       "      <th>1</th>\n",
       "      <td>2</td>\n",
       "      <td>1</td>\n",
       "      <td>1</td>\n",
       "      <td>Cumings, Mrs. John Bradley (Florence Briggs Th...</td>\n",
       "      <td>female</td>\n",
       "      <td>38.0</td>\n",
       "      <td>1</td>\n",
       "      <td>0</td>\n",
       "      <td>PC 17599</td>\n",
       "      <td>71.28</td>\n",
       "      <td>C85</td>\n",
       "      <td>C</td>\n",
       "      <td>1</td>\n",
       "      <td>2</td>\n",
       "      <td>1</td>\n",
       "      <td>3</td>\n",
       "    </tr>\n",
       "    <tr>\n",
       "      <th>2</th>\n",
       "      <td>3</td>\n",
       "      <td>1</td>\n",
       "      <td>3</td>\n",
       "      <td>Heikkinen, Miss. Laina</td>\n",
       "      <td>female</td>\n",
       "      <td>26.0</td>\n",
       "      <td>0</td>\n",
       "      <td>0</td>\n",
       "      <td>STON/O2. 3101282</td>\n",
       "      <td>7.92</td>\n",
       "      <td>NaN</td>\n",
       "      <td>S</td>\n",
       "      <td>0</td>\n",
       "      <td>1</td>\n",
       "      <td>0</td>\n",
       "      <td>2</td>\n",
       "    </tr>\n",
       "    <tr>\n",
       "      <th>3</th>\n",
       "      <td>4</td>\n",
       "      <td>1</td>\n",
       "      <td>1</td>\n",
       "      <td>Futrelle, Mrs. Jacques Heath (Lily May Peel)</td>\n",
       "      <td>female</td>\n",
       "      <td>35.0</td>\n",
       "      <td>1</td>\n",
       "      <td>0</td>\n",
       "      <td>113803</td>\n",
       "      <td>53.10</td>\n",
       "      <td>C123</td>\n",
       "      <td>S</td>\n",
       "      <td>1</td>\n",
       "      <td>2</td>\n",
       "      <td>1</td>\n",
       "      <td>3</td>\n",
       "    </tr>\n",
       "    <tr>\n",
       "      <th>4</th>\n",
       "      <td>5</td>\n",
       "      <td>0</td>\n",
       "      <td>3</td>\n",
       "      <td>Allen, Mr. William Henry</td>\n",
       "      <td>male</td>\n",
       "      <td>35.0</td>\n",
       "      <td>0</td>\n",
       "      <td>0</td>\n",
       "      <td>373450</td>\n",
       "      <td>8.05</td>\n",
       "      <td>NaN</td>\n",
       "      <td>S</td>\n",
       "      <td>0</td>\n",
       "      <td>1</td>\n",
       "      <td>0</td>\n",
       "      <td>1</td>\n",
       "    </tr>\n",
       "  </tbody>\n",
       "</table>\n",
       "</div>"
      ],
      "text/plain": [
       "   PassengerId  Survived  Pclass  \\\n",
       "0            1         0       3   \n",
       "1            2         1       1   \n",
       "2            3         1       3   \n",
       "3            4         1       1   \n",
       "4            5         0       3   \n",
       "\n",
       "                                                Name     Sex   Age  SibSp  \\\n",
       "0                            Braund, Mr. Owen Harris    male  22.0      1   \n",
       "1  Cumings, Mrs. John Bradley (Florence Briggs Th...  female  38.0      1   \n",
       "2                             Heikkinen, Miss. Laina  female  26.0      0   \n",
       "3       Futrelle, Mrs. Jacques Heath (Lily May Peel)  female  35.0      1   \n",
       "4                           Allen, Mr. William Henry    male  35.0      0   \n",
       "\n",
       "   Parch            Ticket   Fare Cabin Embarked  alone  family_size  \\\n",
       "0      0         A/5 21171   7.25   NaN        S      1            2   \n",
       "1      0          PC 17599  71.28   C85        C      1            2   \n",
       "2      0  STON/O2. 3101282   7.92   NaN        S      0            1   \n",
       "3      0            113803  53.10  C123        S      1            2   \n",
       "4      0            373450   8.05   NaN        S      0            1   \n",
       "\n",
       "   cabin_number  title  \n",
       "0             0      1  \n",
       "1             1      3  \n",
       "2             0      2  \n",
       "3             1      3  \n",
       "4             0      1  "
      ]
     },
     "execution_count": 44,
     "metadata": {},
     "output_type": "execute_result"
    }
   ],
   "source": [
    "data['Fare'] = round(data['Fare'], 2)\n",
    "data.head()"
   ]
  },
  {
   "cell_type": "code",
   "execution_count": 45,
   "id": "3fd86736",
   "metadata": {},
   "outputs": [],
   "source": [
    "data = data.drop(['Name', 'Ticket'], axis=1)"
   ]
  },
  {
   "cell_type": "code",
   "execution_count": 46,
   "id": "d5033e4c",
   "metadata": {},
   "outputs": [
    {
     "data": {
      "text/html": [
       "<div>\n",
       "<style scoped>\n",
       "    .dataframe tbody tr th:only-of-type {\n",
       "        vertical-align: middle;\n",
       "    }\n",
       "\n",
       "    .dataframe tbody tr th {\n",
       "        vertical-align: top;\n",
       "    }\n",
       "\n",
       "    .dataframe thead th {\n",
       "        text-align: right;\n",
       "    }\n",
       "</style>\n",
       "<table border=\"1\" class=\"dataframe\">\n",
       "  <thead>\n",
       "    <tr style=\"text-align: right;\">\n",
       "      <th></th>\n",
       "      <th>PassengerId</th>\n",
       "      <th>Survived</th>\n",
       "      <th>Pclass</th>\n",
       "      <th>Sex</th>\n",
       "      <th>Age</th>\n",
       "      <th>SibSp</th>\n",
       "      <th>Parch</th>\n",
       "      <th>Fare</th>\n",
       "      <th>Cabin</th>\n",
       "      <th>Embarked</th>\n",
       "      <th>alone</th>\n",
       "      <th>family_size</th>\n",
       "      <th>cabin_number</th>\n",
       "      <th>title</th>\n",
       "    </tr>\n",
       "  </thead>\n",
       "  <tbody>\n",
       "    <tr>\n",
       "      <th>0</th>\n",
       "      <td>1</td>\n",
       "      <td>0</td>\n",
       "      <td>3</td>\n",
       "      <td>male</td>\n",
       "      <td>22.0</td>\n",
       "      <td>1</td>\n",
       "      <td>0</td>\n",
       "      <td>7.25</td>\n",
       "      <td>NaN</td>\n",
       "      <td>S</td>\n",
       "      <td>1</td>\n",
       "      <td>2</td>\n",
       "      <td>0</td>\n",
       "      <td>1</td>\n",
       "    </tr>\n",
       "    <tr>\n",
       "      <th>1</th>\n",
       "      <td>2</td>\n",
       "      <td>1</td>\n",
       "      <td>1</td>\n",
       "      <td>female</td>\n",
       "      <td>38.0</td>\n",
       "      <td>1</td>\n",
       "      <td>0</td>\n",
       "      <td>71.28</td>\n",
       "      <td>C85</td>\n",
       "      <td>C</td>\n",
       "      <td>1</td>\n",
       "      <td>2</td>\n",
       "      <td>1</td>\n",
       "      <td>3</td>\n",
       "    </tr>\n",
       "    <tr>\n",
       "      <th>2</th>\n",
       "      <td>3</td>\n",
       "      <td>1</td>\n",
       "      <td>3</td>\n",
       "      <td>female</td>\n",
       "      <td>26.0</td>\n",
       "      <td>0</td>\n",
       "      <td>0</td>\n",
       "      <td>7.92</td>\n",
       "      <td>NaN</td>\n",
       "      <td>S</td>\n",
       "      <td>0</td>\n",
       "      <td>1</td>\n",
       "      <td>0</td>\n",
       "      <td>2</td>\n",
       "    </tr>\n",
       "    <tr>\n",
       "      <th>3</th>\n",
       "      <td>4</td>\n",
       "      <td>1</td>\n",
       "      <td>1</td>\n",
       "      <td>female</td>\n",
       "      <td>35.0</td>\n",
       "      <td>1</td>\n",
       "      <td>0</td>\n",
       "      <td>53.10</td>\n",
       "      <td>C123</td>\n",
       "      <td>S</td>\n",
       "      <td>1</td>\n",
       "      <td>2</td>\n",
       "      <td>1</td>\n",
       "      <td>3</td>\n",
       "    </tr>\n",
       "    <tr>\n",
       "      <th>4</th>\n",
       "      <td>5</td>\n",
       "      <td>0</td>\n",
       "      <td>3</td>\n",
       "      <td>male</td>\n",
       "      <td>35.0</td>\n",
       "      <td>0</td>\n",
       "      <td>0</td>\n",
       "      <td>8.05</td>\n",
       "      <td>NaN</td>\n",
       "      <td>S</td>\n",
       "      <td>0</td>\n",
       "      <td>1</td>\n",
       "      <td>0</td>\n",
       "      <td>1</td>\n",
       "    </tr>\n",
       "  </tbody>\n",
       "</table>\n",
       "</div>"
      ],
      "text/plain": [
       "   PassengerId  Survived  Pclass     Sex   Age  SibSp  Parch   Fare Cabin  \\\n",
       "0            1         0       3    male  22.0      1      0   7.25   NaN   \n",
       "1            2         1       1  female  38.0      1      0  71.28   C85   \n",
       "2            3         1       3  female  26.0      0      0   7.92   NaN   \n",
       "3            4         1       1  female  35.0      1      0  53.10  C123   \n",
       "4            5         0       3    male  35.0      0      0   8.05   NaN   \n",
       "\n",
       "  Embarked  alone  family_size  cabin_number  title  \n",
       "0        S      1            2             0      1  \n",
       "1        C      1            2             1      3  \n",
       "2        S      0            1             0      2  \n",
       "3        S      1            2             1      3  \n",
       "4        S      0            1             0      1  "
      ]
     },
     "execution_count": 46,
     "metadata": {},
     "output_type": "execute_result"
    }
   ],
   "source": [
    "data.head()"
   ]
  },
  {
   "cell_type": "code",
   "execution_count": 47,
   "id": "38105f20",
   "metadata": {},
   "outputs": [
    {
     "data": {
      "text/plain": [
       "Index(['PassengerId', 'Survived', 'Pclass', 'Sex', 'Age', 'SibSp', 'Parch',\n",
       "       'Fare', 'Cabin', 'Embarked', 'alone', 'family_size', 'cabin_number',\n",
       "       'title'],\n",
       "      dtype='object')"
      ]
     },
     "execution_count": 47,
     "metadata": {},
     "output_type": "execute_result"
    }
   ],
   "source": [
    "data.columns"
   ]
  },
  {
   "cell_type": "code",
   "execution_count": 48,
   "id": "f3fe883c",
   "metadata": {},
   "outputs": [
    {
     "data": {
      "text/html": [
       "<div>\n",
       "<style scoped>\n",
       "    .dataframe tbody tr th:only-of-type {\n",
       "        vertical-align: middle;\n",
       "    }\n",
       "\n",
       "    .dataframe tbody tr th {\n",
       "        vertical-align: top;\n",
       "    }\n",
       "\n",
       "    .dataframe thead th {\n",
       "        text-align: right;\n",
       "    }\n",
       "</style>\n",
       "<table border=\"1\" class=\"dataframe\">\n",
       "  <thead>\n",
       "    <tr style=\"text-align: right;\">\n",
       "      <th></th>\n",
       "      <th>PassengerId</th>\n",
       "      <th>Survived</th>\n",
       "      <th>Pclass</th>\n",
       "      <th>Sex</th>\n",
       "      <th>Age</th>\n",
       "      <th>SibSp</th>\n",
       "      <th>Parch</th>\n",
       "      <th>Fare</th>\n",
       "      <th>Cabin</th>\n",
       "      <th>Embarked</th>\n",
       "      <th>alone</th>\n",
       "      <th>family_size</th>\n",
       "      <th>cabin_number</th>\n",
       "      <th>title</th>\n",
       "    </tr>\n",
       "  </thead>\n",
       "  <tbody>\n",
       "    <tr>\n",
       "      <th>0</th>\n",
       "      <td>1</td>\n",
       "      <td>0</td>\n",
       "      <td>3</td>\n",
       "      <td>male</td>\n",
       "      <td>22.0</td>\n",
       "      <td>1</td>\n",
       "      <td>0</td>\n",
       "      <td>7.25</td>\n",
       "      <td>NaN</td>\n",
       "      <td>S</td>\n",
       "      <td>1</td>\n",
       "      <td>2</td>\n",
       "      <td>0</td>\n",
       "      <td>1</td>\n",
       "    </tr>\n",
       "    <tr>\n",
       "      <th>1</th>\n",
       "      <td>2</td>\n",
       "      <td>1</td>\n",
       "      <td>1</td>\n",
       "      <td>female</td>\n",
       "      <td>38.0</td>\n",
       "      <td>1</td>\n",
       "      <td>0</td>\n",
       "      <td>71.28</td>\n",
       "      <td>C85</td>\n",
       "      <td>C</td>\n",
       "      <td>1</td>\n",
       "      <td>2</td>\n",
       "      <td>1</td>\n",
       "      <td>3</td>\n",
       "    </tr>\n",
       "    <tr>\n",
       "      <th>2</th>\n",
       "      <td>3</td>\n",
       "      <td>1</td>\n",
       "      <td>3</td>\n",
       "      <td>female</td>\n",
       "      <td>26.0</td>\n",
       "      <td>0</td>\n",
       "      <td>0</td>\n",
       "      <td>7.92</td>\n",
       "      <td>NaN</td>\n",
       "      <td>S</td>\n",
       "      <td>0</td>\n",
       "      <td>1</td>\n",
       "      <td>0</td>\n",
       "      <td>2</td>\n",
       "    </tr>\n",
       "    <tr>\n",
       "      <th>3</th>\n",
       "      <td>4</td>\n",
       "      <td>1</td>\n",
       "      <td>1</td>\n",
       "      <td>female</td>\n",
       "      <td>35.0</td>\n",
       "      <td>1</td>\n",
       "      <td>0</td>\n",
       "      <td>53.10</td>\n",
       "      <td>C123</td>\n",
       "      <td>S</td>\n",
       "      <td>1</td>\n",
       "      <td>2</td>\n",
       "      <td>1</td>\n",
       "      <td>3</td>\n",
       "    </tr>\n",
       "    <tr>\n",
       "      <th>4</th>\n",
       "      <td>5</td>\n",
       "      <td>0</td>\n",
       "      <td>3</td>\n",
       "      <td>male</td>\n",
       "      <td>35.0</td>\n",
       "      <td>0</td>\n",
       "      <td>0</td>\n",
       "      <td>8.05</td>\n",
       "      <td>NaN</td>\n",
       "      <td>S</td>\n",
       "      <td>0</td>\n",
       "      <td>1</td>\n",
       "      <td>0</td>\n",
       "      <td>1</td>\n",
       "    </tr>\n",
       "  </tbody>\n",
       "</table>\n",
       "</div>"
      ],
      "text/plain": [
       "   PassengerId  Survived  Pclass     Sex   Age  SibSp  Parch   Fare Cabin  \\\n",
       "0            1         0       3    male  22.0      1      0   7.25   NaN   \n",
       "1            2         1       1  female  38.0      1      0  71.28   C85   \n",
       "2            3         1       3  female  26.0      0      0   7.92   NaN   \n",
       "3            4         1       1  female  35.0      1      0  53.10  C123   \n",
       "4            5         0       3    male  35.0      0      0   8.05   NaN   \n",
       "\n",
       "  Embarked  alone  family_size  cabin_number  title  \n",
       "0        S      1            2             0      1  \n",
       "1        C      1            2             1      3  \n",
       "2        S      0            1             0      2  \n",
       "3        S      1            2             1      3  \n",
       "4        S      0            1             0      1  "
      ]
     },
     "execution_count": 48,
     "metadata": {},
     "output_type": "execute_result"
    }
   ],
   "source": [
    "data.head()"
   ]
  },
  {
   "cell_type": "code",
   "execution_count": 49,
   "id": "d7dc2ef3",
   "metadata": {},
   "outputs": [
    {
     "data": {
      "text/html": [
       "<div>\n",
       "<style scoped>\n",
       "    .dataframe tbody tr th:only-of-type {\n",
       "        vertical-align: middle;\n",
       "    }\n",
       "\n",
       "    .dataframe tbody tr th {\n",
       "        vertical-align: top;\n",
       "    }\n",
       "\n",
       "    .dataframe thead th {\n",
       "        text-align: right;\n",
       "    }\n",
       "</style>\n",
       "<table border=\"1\" class=\"dataframe\">\n",
       "  <thead>\n",
       "    <tr style=\"text-align: right;\">\n",
       "      <th></th>\n",
       "      <th>PassengerId</th>\n",
       "      <th>Survived</th>\n",
       "      <th>Pclass</th>\n",
       "      <th>Sex</th>\n",
       "      <th>Age</th>\n",
       "      <th>SibSp</th>\n",
       "      <th>Parch</th>\n",
       "      <th>Fare</th>\n",
       "      <th>Cabin</th>\n",
       "      <th>Embarked</th>\n",
       "      <th>alone</th>\n",
       "      <th>family_size</th>\n",
       "      <th>cabin_number</th>\n",
       "      <th>title</th>\n",
       "    </tr>\n",
       "  </thead>\n",
       "  <tbody>\n",
       "    <tr>\n",
       "      <th>0</th>\n",
       "      <td>1</td>\n",
       "      <td>0</td>\n",
       "      <td>3</td>\n",
       "      <td>male</td>\n",
       "      <td>22.0</td>\n",
       "      <td>1</td>\n",
       "      <td>0</td>\n",
       "      <td>7.25</td>\n",
       "      <td>NaN</td>\n",
       "      <td>S</td>\n",
       "      <td>1</td>\n",
       "      <td>2</td>\n",
       "      <td>0</td>\n",
       "      <td>1</td>\n",
       "    </tr>\n",
       "    <tr>\n",
       "      <th>1</th>\n",
       "      <td>2</td>\n",
       "      <td>1</td>\n",
       "      <td>1</td>\n",
       "      <td>female</td>\n",
       "      <td>38.0</td>\n",
       "      <td>1</td>\n",
       "      <td>0</td>\n",
       "      <td>71.28</td>\n",
       "      <td>C85</td>\n",
       "      <td>C</td>\n",
       "      <td>1</td>\n",
       "      <td>2</td>\n",
       "      <td>1</td>\n",
       "      <td>3</td>\n",
       "    </tr>\n",
       "    <tr>\n",
       "      <th>2</th>\n",
       "      <td>3</td>\n",
       "      <td>1</td>\n",
       "      <td>3</td>\n",
       "      <td>female</td>\n",
       "      <td>26.0</td>\n",
       "      <td>0</td>\n",
       "      <td>0</td>\n",
       "      <td>7.92</td>\n",
       "      <td>NaN</td>\n",
       "      <td>S</td>\n",
       "      <td>0</td>\n",
       "      <td>1</td>\n",
       "      <td>0</td>\n",
       "      <td>2</td>\n",
       "    </tr>\n",
       "    <tr>\n",
       "      <th>3</th>\n",
       "      <td>4</td>\n",
       "      <td>1</td>\n",
       "      <td>1</td>\n",
       "      <td>female</td>\n",
       "      <td>35.0</td>\n",
       "      <td>1</td>\n",
       "      <td>0</td>\n",
       "      <td>53.10</td>\n",
       "      <td>C123</td>\n",
       "      <td>S</td>\n",
       "      <td>1</td>\n",
       "      <td>2</td>\n",
       "      <td>1</td>\n",
       "      <td>3</td>\n",
       "    </tr>\n",
       "    <tr>\n",
       "      <th>4</th>\n",
       "      <td>5</td>\n",
       "      <td>0</td>\n",
       "      <td>3</td>\n",
       "      <td>male</td>\n",
       "      <td>35.0</td>\n",
       "      <td>0</td>\n",
       "      <td>0</td>\n",
       "      <td>8.05</td>\n",
       "      <td>NaN</td>\n",
       "      <td>S</td>\n",
       "      <td>0</td>\n",
       "      <td>1</td>\n",
       "      <td>0</td>\n",
       "      <td>1</td>\n",
       "    </tr>\n",
       "  </tbody>\n",
       "</table>\n",
       "</div>"
      ],
      "text/plain": [
       "   PassengerId  Survived  Pclass     Sex   Age  SibSp  Parch   Fare Cabin  \\\n",
       "0            1         0       3    male  22.0      1      0   7.25   NaN   \n",
       "1            2         1       1  female  38.0      1      0  71.28   C85   \n",
       "2            3         1       3  female  26.0      0      0   7.92   NaN   \n",
       "3            4         1       1  female  35.0      1      0  53.10  C123   \n",
       "4            5         0       3    male  35.0      0      0   8.05   NaN   \n",
       "\n",
       "  Embarked  alone  family_size  cabin_number  title  \n",
       "0        S      1            2             0      1  \n",
       "1        C      1            2             1      3  \n",
       "2        S      0            1             0      2  \n",
       "3        S      1            2             1      3  \n",
       "4        S      0            1             0      1  "
      ]
     },
     "execution_count": 49,
     "metadata": {},
     "output_type": "execute_result"
    }
   ],
   "source": [
    "df=data\n",
    "df.head()"
   ]
  },
  {
   "cell_type": "markdown",
   "id": "513b7587",
   "metadata": {},
   "source": [
    "# Data check"
   ]
  },
  {
   "cell_type": "code",
   "execution_count": 50,
   "id": "d1d17a5d",
   "metadata": {},
   "outputs": [
    {
     "data": {
      "text/plain": [
       "<AxesSubplot:>"
      ]
     },
     "execution_count": 50,
     "metadata": {},
     "output_type": "execute_result"
    },
    {
     "data": {
      "image/png": "[encoded data removed]",
      "text/plain": [
       "<Figure size 576x360 with 2 Axes>"
      ]
     },
     "metadata": {
      "needs_background": "light"
     },
     "output_type": "display_data"
    }
   ],
   "source": [
    "# correlation matrix\n",
    "plt.figure(figsize=(8, 5))\n",
    "sns.heatmap(data.corr().abs(), vmin=0, vmax=1, annot=True, fmt=\".2f\")"
   ]
  },
  {
   "cell_type": "code",
   "execution_count": 51,
   "id": "9b8567dc",
   "metadata": {},
   "outputs": [
    {
     "data": {
      "text/plain": [
       "<AxesSubplot:xlabel='family_size', ylabel='Count'>"
      ]
     },
     "execution_count": 51,
     "metadata": {},
     "output_type": "execute_result"
    },
    {
     "data": {
      "image/png": "[encoded data removed]",
      "text/plain": [
       "<Figure size 720x432 with 1 Axes>"
      ]
     },
     "metadata": {
      "needs_background": "light"
     },
     "output_type": "display_data"
    }
   ],
   "source": [
    "# even the correlation of 'alone' and 'family_size' is high, I'll leave both features to test first \n",
    "plt.figure(figsize=(10, 6))\n",
    "sns.histplot(data=data, x='family_size', hue='alone')"
   ]
  },
  {
   "cell_type": "markdown",
   "id": "ece505d6",
   "metadata": {},
   "source": [
    "# Baseline"
   ]
  },
  {
   "cell_type": "markdown",
   "id": "70d2187d",
   "metadata": {},
   "source": [
    "1. Goal: to predict the survivals"
   ]
  },
  {
   "cell_type": "code",
   "execution_count": 52,
   "id": "90865b1d",
   "metadata": {},
   "outputs": [],
   "source": [
    "# define X and y\n",
    "X = data[['Pclass', 'Age', 'Fare', 'alone', 'cabin_number',\n",
    "          'title', 'family_size', 'SibSp', 'Parch']]\n",
    "y = data['Survived']"
   ]
  },
  {
   "cell_type": "code",
   "execution_count": 53,
   "id": "1ade7973",
   "metadata": {},
   "outputs": [],
   "source": [
    "# split the data\n",
    "X_train, X_val, y_train, y_val = train_test_split(X, y, test_size=0.25)"
   ]
  },
  {
   "cell_type": "code",
   "execution_count": 54,
   "id": "9a0bc642",
   "metadata": {},
   "outputs": [],
   "source": [
    "# create a baseline model\n",
    "m_bl = DummyClassifier(strategy='most_frequent')\n",
    "m_bl.fit(X_train, y_train)\n",
    "y_pred = m_bl.predict(X_train)"
   ]
  },
  {
   "cell_type": "code",
   "execution_count": 55,
   "id": "a7e8a28d",
   "metadata": {},
   "outputs": [
    {
     "data": {
      "text/plain": [
       "0.5973053892215568"
      ]
     },
     "execution_count": 55,
     "metadata": {},
     "output_type": "execute_result"
    }
   ],
   "source": [
    "m_bl.score(X_train, y_train)"
   ]
  },
  {
   "cell_type": "code",
   "execution_count": 56,
   "id": "500bef26",
   "metadata": {},
   "outputs": [
    {
     "data": {
      "text/plain": [
       "0.672645739910314"
      ]
     },
     "execution_count": 56,
     "metadata": {},
     "output_type": "execute_result"
    }
   ],
   "source": [
    "m_bl.score(X_val, y_val)"
   ]
  },
  {
   "cell_type": "markdown",
   "id": "fa37a5e9",
   "metadata": {},
   "source": [
    "# Logistic Regression"
   ]
  },
  {
   "cell_type": "code",
   "execution_count": 57,
   "id": "b9eec774",
   "metadata": {},
   "outputs": [],
   "source": [
    "# define X and y\n",
    "X = data[['Pclass', 'Age', 'Fare', 'alone', 'cabin_number',\n",
    "          'title', 'family_size', 'SibSp', 'Parch']]\n",
    "y = data['Survived']"
   ]
  },
  {
   "cell_type": "code",
   "execution_count": 58,
   "id": "962d3cea",
   "metadata": {},
   "outputs": [],
   "source": [
    "# split the data\n",
    "X_train, X_test, y_train, y_test = train_test_split(\n",
    "    X, y, test_size=0.2, random_state=42)"
   ]
  },
  {
   "cell_type": "code",
   "execution_count": 59,
   "id": "a9d8f0a0",
   "metadata": {},
   "outputs": [
    {
     "data": {
      "text/plain": [
       "((712, 9), (712,))"
      ]
     },
     "execution_count": 59,
     "metadata": {},
     "output_type": "execute_result"
    }
   ],
   "source": [
    "X_train.shape, y_train.shape"
   ]
  },
  {
   "cell_type": "code",
   "execution_count": 60,
   "id": "c9ba2524",
   "metadata": {},
   "outputs": [
    {
     "data": {
      "text/plain": [
       "((179, 9), (179,))"
      ]
     },
     "execution_count": 60,
     "metadata": {},
     "output_type": "execute_result"
    }
   ],
   "source": [
    "X_test.shape, y_test.shape"
   ]
  },
  {
   "cell_type": "code",
   "execution_count": 61,
   "id": "e400fe5f",
   "metadata": {},
   "outputs": [],
   "source": [
    "m_lr = LogisticRegression(class_weight=\"balanced\")"
   ]
  },
  {
   "cell_type": "code",
   "execution_count": 62,
   "id": "bb1fb3a7",
   "metadata": {},
   "outputs": [
    {
     "data": {
      "text/plain": [
       "LogisticRegression(class_weight='balanced')"
      ]
     },
     "execution_count": 62,
     "metadata": {},
     "output_type": "execute_result"
    }
   ],
   "source": [
    "m_lr.fit(X_train, y_train)"
   ]
  },
  {
   "cell_type": "code",
   "execution_count": 63,
   "id": "b167affb",
   "metadata": {},
   "outputs": [
    {
     "data": {
      "text/plain": [
       "' w1: [[-0.45044377 -0.03347861  0.00562036  0.66875551  0.68527327  1.19721614\\n  -0.3288839  -0.4776415   0.02081386]] and w0: [0.14764691]'"
      ]
     },
     "execution_count": 63,
     "metadata": {},
     "output_type": "execute_result"
    }
   ],
   "source": [
    "f' w1: {m_lr.coef_} and w0: {m_lr.intercept_}'"
   ]
  },
  {
   "cell_type": "code",
   "execution_count": 64,
   "id": "6834a9af",
   "metadata": {},
   "outputs": [
    {
     "data": {
      "text/plain": [
       "(0.82, 0.79)"
      ]
     },
     "execution_count": 64,
     "metadata": {},
     "output_type": "execute_result"
    }
   ],
   "source": [
    "# calculate the accuracy\n",
    "round(m_lr.score(X_test, y_test), 2), round(m_lr.score(X_train, y_train), 2)"
   ]
  },
  {
   "cell_type": "code",
   "execution_count": 65,
   "id": "82b23174",
   "metadata": {},
   "outputs": [
    {
     "data": {
      "text/plain": [
       "array([1, 0, 0, 1, 1, 1, 1, 0, 1, 1, 1, 0, 0, 0, 0, 1, 1, 1, 1, 0, 0, 0,\n",
       "       1, 0, 0, 1, 1, 0, 1, 0, 0, 1, 0, 1, 0, 0, 1, 1, 1, 0, 0, 0, 0, 0,\n",
       "       1, 0, 0, 0, 0, 0, 0, 1, 0, 1, 0, 1, 0, 1, 1, 1, 0, 1, 1, 0, 0, 1,\n",
       "       0, 0, 0, 1, 1, 1, 1, 1, 0, 0, 0, 1, 1, 1, 0, 1, 1, 0, 0, 0, 1, 1,\n",
       "       1, 0, 1, 0, 0, 0, 0, 0, 0, 0, 1, 0, 0, 0, 1, 0, 0, 0, 1, 0, 0, 1,\n",
       "       1, 0, 1, 1, 1, 0, 0, 0, 1, 0, 0, 1, 1, 1, 0, 0, 1, 1, 1, 0, 1, 1,\n",
       "       0, 1, 1, 1, 1, 0, 0, 1, 0, 1, 0, 0, 1, 1, 0, 0, 1, 0, 0, 0, 0, 1,\n",
       "       0, 0, 0, 1, 1, 1, 0, 0, 0, 1, 0, 0, 1, 1, 0, 0, 1, 1, 1, 1, 0, 0,\n",
       "       0, 1, 1])"
      ]
     },
     "execution_count": 65,
     "metadata": {},
     "output_type": "execute_result"
    }
   ],
   "source": [
    "m_lr.predict(X_test)"
   ]
  },
  {
   "cell_type": "code",
   "execution_count": 66,
   "id": "5260fd64",
   "metadata": {},
   "outputs": [
    {
     "data": {
      "text/plain": [
       "array([[0.1135991 , 0.8864009 ],\n",
       "       [0.70343968, 0.29656032],\n",
       "       [0.72320411, 0.27679589],\n",
       "       [0.16008533, 0.83991467],\n",
       "       [0.42102518, 0.57897482],\n",
       "       [0.20825555, 0.79174445],\n",
       "       [0.4840682 , 0.5159318 ],\n",
       "       [0.84737233, 0.15262767],\n",
       "       [0.40859805, 0.59140195],\n",
       "       [0.11792278, 0.88207722],\n",
       "       [0.45691433, 0.54308567],\n",
       "       [0.85360587, 0.14639413],\n",
       "       [0.86938696, 0.13061304],\n",
       "       [0.78568877, 0.21431123],\n",
       "       [0.73440219, 0.26559781],\n",
       "       [0.07624504, 0.92375496],\n",
       "       [0.49942827, 0.50057173],\n",
       "       [0.48395591, 0.51604409],\n",
       "       [0.01673957, 0.98326043],\n",
       "       [0.50760627, 0.49239373],\n",
       "       [0.74921649, 0.25078351],\n",
       "       [0.60432449, 0.39567551],\n",
       "       [0.46701788, 0.53298212],\n",
       "       [0.72173912, 0.27826088],\n",
       "       [0.74942162, 0.25057838],\n",
       "       [0.329299  , 0.670701  ],\n",
       "       [0.01520137, 0.98479863],\n",
       "       [0.70050014, 0.29949986],\n",
       "       [0.28654394, 0.71345606],\n",
       "       [0.5329156 , 0.4670844 ],\n",
       "       [0.71647538, 0.28352462],\n",
       "       [0.45787699, 0.54212301],\n",
       "       [0.63225943, 0.36774057],\n",
       "       [0.48434894, 0.51565106],\n",
       "       [0.70945184, 0.29054816],\n",
       "       [0.7851324 , 0.2148676 ],\n",
       "       [0.37450686, 0.62549314],\n",
       "       [0.4840682 , 0.5159318 ],\n",
       "       [0.2823926 , 0.7176074 ],\n",
       "       [0.75632288, 0.24367712],\n",
       "       [0.75383256, 0.24616744],\n",
       "       [0.80287772, 0.19712228],\n",
       "       [0.75616747, 0.24383253],\n",
       "       [0.75647822, 0.24352178],\n",
       "       [0.27003552, 0.72996448],\n",
       "       [0.85065685, 0.14934315],\n",
       "       [0.71617844, 0.28382156],\n",
       "       [0.74145419, 0.25854581],\n",
       "       [0.75011304, 0.24988696],\n",
       "       [0.50041532, 0.49958468],\n",
       "       [0.61055515, 0.38944485],\n",
       "       [0.12089131, 0.87910869],\n",
       "       [0.94723698, 0.05276302],\n",
       "       [0.0121918 , 0.9878082 ],\n",
       "       [0.92186091, 0.07813909],\n",
       "       [0.08740924, 0.91259076],\n",
       "       [0.71037584, 0.28962416],\n",
       "       [0.023588  , 0.976412  ],\n",
       "       [0.43571184, 0.56428816],\n",
       "       [0.43289265, 0.56710735],\n",
       "       [0.73001064, 0.26998936],\n",
       "       [0.20630097, 0.79369903],\n",
       "       [0.1707272 , 0.8292728 ],\n",
       "       [0.63848332, 0.36151668],\n",
       "       [0.75647822, 0.24352178],\n",
       "       [0.20660208, 0.79339792],\n",
       "       [0.5436047 , 0.4563953 ],\n",
       "       [0.77936047, 0.22063953],\n",
       "       [0.78746183, 0.21253817],\n",
       "       [0.09916932, 0.90083068],\n",
       "       [0.20761378, 0.79238622],\n",
       "       [0.146835  , 0.853165  ],\n",
       "       [0.36610213, 0.63389787],\n",
       "       [0.23795792, 0.76204208],\n",
       "       [0.74292751, 0.25707249],\n",
       "       [0.83075048, 0.16924952],\n",
       "       [0.52888675, 0.47111325],\n",
       "       [0.11483086, 0.88516914],\n",
       "       [0.47173385, 0.52826615],\n",
       "       [0.29887516, 0.70112484],\n",
       "       [0.97106536, 0.02893464],\n",
       "       [0.09254649, 0.90745351],\n",
       "       [0.06810341, 0.93189659],\n",
       "       [0.75648857, 0.24351143],\n",
       "       [0.61098357, 0.38901643],\n",
       "       [0.8224796 , 0.1775204 ],\n",
       "       [0.1290829 , 0.8709171 ],\n",
       "       [0.14633587, 0.85366413],\n",
       "       [0.01659022, 0.98340978],\n",
       "       [0.75699554, 0.24300446],\n",
       "       [0.0421711 , 0.9578289 ],\n",
       "       [0.91961481, 0.08038519],\n",
       "       [0.6478807 , 0.3521193 ],\n",
       "       [0.75649893, 0.24350107],\n",
       "       [0.75632288, 0.24367712],\n",
       "       [0.7735793 , 0.2264207 ],\n",
       "       [0.55024878, 0.44975122],\n",
       "       [0.85774012, 0.14225988],\n",
       "       [0.11278221, 0.88721779],\n",
       "       [0.7676116 , 0.2323884 ],\n",
       "       [0.80705183, 0.19294817],\n",
       "       [0.81261415, 0.18738585],\n",
       "       [0.03282213, 0.96717787],\n",
       "       [0.82748628, 0.17251372],\n",
       "       [0.78771487, 0.21228513],\n",
       "       [0.78011916, 0.21988084],\n",
       "       [0.28014681, 0.71985319],\n",
       "       [0.52655056, 0.47344944],\n",
       "       [0.78352316, 0.21647684],\n",
       "       [0.47853935, 0.52146065],\n",
       "       [0.07448675, 0.92551325],\n",
       "       [0.72728994, 0.27271006],\n",
       "       [0.06132727, 0.93867273],\n",
       "       [0.45181552, 0.54818448],\n",
       "       [0.22841392, 0.77158608],\n",
       "       [0.72102745, 0.27897255],\n",
       "       [0.71736474, 0.28263526],\n",
       "       [0.58236142, 0.41763858],\n",
       "       [0.18389998, 0.81610002],\n",
       "       [0.60268022, 0.39731978],\n",
       "       [0.86326154, 0.13673846],\n",
       "       [0.14118453, 0.85881547],\n",
       "       [0.34541258, 0.65458742],\n",
       "       [0.0199464 , 0.9800536 ],\n",
       "       [0.75612848, 0.24387152],\n",
       "       [0.61230117, 0.38769883],\n",
       "       [0.01050901, 0.98949099],\n",
       "       [0.29060362, 0.70939638],\n",
       "       [0.23850241, 0.76149759],\n",
       "       [0.72971145, 0.27028855],\n",
       "       [0.48388573, 0.51611427],\n",
       "       [0.1135991 , 0.8864009 ],\n",
       "       [0.7078924 , 0.2921076 ],\n",
       "       [0.31764558, 0.68235442],\n",
       "       [0.01013656, 0.98986344],\n",
       "       [0.18237404, 0.81762596],\n",
       "       [0.24862966, 0.75137034],\n",
       "       [0.7794571 , 0.2205429 ],\n",
       "       [0.8454067 , 0.1545933 ],\n",
       "       [0.19485956, 0.80514044],\n",
       "       [0.72929   , 0.27071   ],\n",
       "       [0.26022018, 0.73977982],\n",
       "       [0.67901412, 0.32098588],\n",
       "       [0.75310798, 0.24689202],\n",
       "       [0.48863085, 0.51136915],\n",
       "       [0.24823035, 0.75176965],\n",
       "       [0.69342954, 0.30657046],\n",
       "       [0.8844725 , 0.1155275 ],\n",
       "       [0.04517591, 0.95482409],\n",
       "       [0.84937256, 0.15062744],\n",
       "       [0.75548288, 0.24451712],\n",
       "       [0.74963866, 0.25036134],\n",
       "       [0.70974138, 0.29025862],\n",
       "       [0.49546194, 0.50453806],\n",
       "       [0.75616747, 0.24383253],\n",
       "       [0.75720225, 0.24279775],\n",
       "       [0.70255096, 0.29744904],\n",
       "       [0.48401206, 0.51598794],\n",
       "       [0.21204318, 0.78795682],\n",
       "       [0.3477282 , 0.6522718 ],\n",
       "       [0.74677099, 0.25322901],\n",
       "       [0.63766562, 0.36233438],\n",
       "       [0.75352646, 0.24647354],\n",
       "       [0.11878149, 0.88121851],\n",
       "       [0.75574235, 0.24425765],\n",
       "       [0.55385669, 0.44614331],\n",
       "       [0.01487683, 0.98512317],\n",
       "       [0.07454101, 0.92545899],\n",
       "       [0.73642719, 0.26357281],\n",
       "       [0.81267405, 0.18732595],\n",
       "       [0.23190389, 0.76809611],\n",
       "       [0.30251021, 0.69748979],\n",
       "       [0.45167632, 0.54832368],\n",
       "       [0.45006032, 0.54993968],\n",
       "       [0.70359405, 0.29640595],\n",
       "       [0.75702655, 0.24297345],\n",
       "       [0.67146183, 0.32853817],\n",
       "       [0.30955829, 0.69044171],\n",
       "       [0.25707202, 0.74292798]])"
      ]
     },
     "execution_count": 66,
     "metadata": {},
     "output_type": "execute_result"
    }
   ],
   "source": [
    "m_lr.predict_proba(X_test)"
   ]
  },
  {
   "cell_type": "code",
   "execution_count": 67,
   "id": "352c9886",
   "metadata": {},
   "outputs": [
    {
     "name": "stdout",
     "output_type": "stream",
     "text": [
      "accuracy:  0.8212290502793296\n",
      "precision:  0.75\n",
      "recall:  0.8513513513513513\n",
      "f1_score:  0.7974683544303798\n"
     ]
    }
   ],
   "source": [
    "ypred = m_lr.predict(X_test)\n",
    "print('accuracy: ', accuracy_score(y_test, ypred))\n",
    "print('precision: ', precision_score(y_test, ypred))\n",
    "print('recall: ', recall_score(y_test, ypred))\n",
    "print('f1_score: ', f1_score(y_test, ypred))"
   ]
  },
  {
   "cell_type": "code",
   "execution_count": 68,
   "id": "0e6e2f61",
   "metadata": {},
   "outputs": [],
   "source": [
    "probs = m_lr.predict_proba(X_test)\n",
    "probs = probs[:, 1]\n",
    "\n",
    "fpr, tpr, threshold = roc_curve(y_test, probs)\n",
    "roc_auc = roc_auc_score(y_test, probs)"
   ]
  },
  {
   "cell_type": "code",
   "execution_count": 69,
   "id": "3790a7fd",
   "metadata": {},
   "outputs": [
    {
     "name": "stdout",
     "output_type": "stream",
     "text": [
      "Area under the curve =  0.8648648648648648\n"
     ]
    }
   ],
   "source": [
    "auc_score = auc(fpr, tpr)\n",
    "print(\"Area under the curve = \", auc_score)"
   ]
  },
  {
   "cell_type": "code",
   "execution_count": 70,
   "id": "26423605",
   "metadata": {},
   "outputs": [
    {
     "data": {
      "image/png": "[encoded data removed]",
      "text/plain": [
       "<Figure size 432x288 with 1 Axes>"
      ]
     },
     "metadata": {
      "needs_background": "light"
     },
     "output_type": "display_data"
    }
   ],
   "source": [
    "# visualization ROC AUC\n",
    "plt.figure()\n",
    "plt.plot([0, 1], label='Baseline', linestyle='--')\n",
    "plt.plot(fpr, tpr, label='Regression')\n",
    "plt.title('Logistic Regression ROC AUC = %0.3f' % roc_auc)\n",
    "plt.ylabel('True Positive Rate')\n",
    "plt.xlabel('False Positive Rate')\n",
    "plt.legend(loc='lower right')\n",
    "plt.show()"
   ]
  },
  {
   "cell_type": "markdown",
   "id": "9f011fe4",
   "metadata": {},
   "source": [
    "# Feature engineering"
   ]
  },
  {
   "cell_type": "code",
   "execution_count": 71,
   "id": "60b649e7",
   "metadata": {},
   "outputs": [
    {
     "data": {
      "text/html": [
       "<div>\n",
       "<style scoped>\n",
       "    .dataframe tbody tr th:only-of-type {\n",
       "        vertical-align: middle;\n",
       "    }\n",
       "\n",
       "    .dataframe tbody tr th {\n",
       "        vertical-align: top;\n",
       "    }\n",
       "\n",
       "    .dataframe thead th {\n",
       "        text-align: right;\n",
       "    }\n",
       "</style>\n",
       "<table border=\"1\" class=\"dataframe\">\n",
       "  <thead>\n",
       "    <tr style=\"text-align: right;\">\n",
       "      <th></th>\n",
       "      <th>PassengerId</th>\n",
       "      <th>Survived</th>\n",
       "      <th>Pclass</th>\n",
       "      <th>Sex</th>\n",
       "      <th>Age</th>\n",
       "      <th>SibSp</th>\n",
       "      <th>Parch</th>\n",
       "      <th>Fare</th>\n",
       "      <th>Cabin</th>\n",
       "      <th>Embarked</th>\n",
       "      <th>alone</th>\n",
       "      <th>family_size</th>\n",
       "      <th>cabin_number</th>\n",
       "      <th>title</th>\n",
       "    </tr>\n",
       "  </thead>\n",
       "  <tbody>\n",
       "    <tr>\n",
       "      <th>0</th>\n",
       "      <td>1</td>\n",
       "      <td>0</td>\n",
       "      <td>3</td>\n",
       "      <td>male</td>\n",
       "      <td>22.0</td>\n",
       "      <td>1</td>\n",
       "      <td>0</td>\n",
       "      <td>7.25</td>\n",
       "      <td>NaN</td>\n",
       "      <td>S</td>\n",
       "      <td>1</td>\n",
       "      <td>2</td>\n",
       "      <td>0</td>\n",
       "      <td>1</td>\n",
       "    </tr>\n",
       "    <tr>\n",
       "      <th>1</th>\n",
       "      <td>2</td>\n",
       "      <td>1</td>\n",
       "      <td>1</td>\n",
       "      <td>female</td>\n",
       "      <td>38.0</td>\n",
       "      <td>1</td>\n",
       "      <td>0</td>\n",
       "      <td>71.28</td>\n",
       "      <td>C85</td>\n",
       "      <td>C</td>\n",
       "      <td>1</td>\n",
       "      <td>2</td>\n",
       "      <td>1</td>\n",
       "      <td>3</td>\n",
       "    </tr>\n",
       "    <tr>\n",
       "      <th>2</th>\n",
       "      <td>3</td>\n",
       "      <td>1</td>\n",
       "      <td>3</td>\n",
       "      <td>female</td>\n",
       "      <td>26.0</td>\n",
       "      <td>0</td>\n",
       "      <td>0</td>\n",
       "      <td>7.92</td>\n",
       "      <td>NaN</td>\n",
       "      <td>S</td>\n",
       "      <td>0</td>\n",
       "      <td>1</td>\n",
       "      <td>0</td>\n",
       "      <td>2</td>\n",
       "    </tr>\n",
       "    <tr>\n",
       "      <th>3</th>\n",
       "      <td>4</td>\n",
       "      <td>1</td>\n",
       "      <td>1</td>\n",
       "      <td>female</td>\n",
       "      <td>35.0</td>\n",
       "      <td>1</td>\n",
       "      <td>0</td>\n",
       "      <td>53.10</td>\n",
       "      <td>C123</td>\n",
       "      <td>S</td>\n",
       "      <td>1</td>\n",
       "      <td>2</td>\n",
       "      <td>1</td>\n",
       "      <td>3</td>\n",
       "    </tr>\n",
       "    <tr>\n",
       "      <th>4</th>\n",
       "      <td>5</td>\n",
       "      <td>0</td>\n",
       "      <td>3</td>\n",
       "      <td>male</td>\n",
       "      <td>35.0</td>\n",
       "      <td>0</td>\n",
       "      <td>0</td>\n",
       "      <td>8.05</td>\n",
       "      <td>NaN</td>\n",
       "      <td>S</td>\n",
       "      <td>0</td>\n",
       "      <td>1</td>\n",
       "      <td>0</td>\n",
       "      <td>1</td>\n",
       "    </tr>\n",
       "  </tbody>\n",
       "</table>\n",
       "</div>"
      ],
      "text/plain": [
       "   PassengerId  Survived  Pclass     Sex   Age  SibSp  Parch   Fare Cabin  \\\n",
       "0            1         0       3    male  22.0      1      0   7.25   NaN   \n",
       "1            2         1       1  female  38.0      1      0  71.28   C85   \n",
       "2            3         1       3  female  26.0      0      0   7.92   NaN   \n",
       "3            4         1       1  female  35.0      1      0  53.10  C123   \n",
       "4            5         0       3    male  35.0      0      0   8.05   NaN   \n",
       "\n",
       "  Embarked  alone  family_size  cabin_number  title  \n",
       "0        S      1            2             0      1  \n",
       "1        C      1            2             1      3  \n",
       "2        S      0            1             0      2  \n",
       "3        S      1            2             1      3  \n",
       "4        S      0            1             0      1  "
      ]
     },
     "execution_count": 71,
     "metadata": {},
     "output_type": "execute_result"
    }
   ],
   "source": [
    "data.head()"
   ]
  },
  {
   "cell_type": "code",
   "execution_count": 72,
   "id": "a06a251d",
   "metadata": {},
   "outputs": [],
   "source": [
    "columns_to_change = ['Sex', 'Embarked']\n",
    "\n",
    "for column in columns_to_change:\n",
    "    data[column] = data[column].astype('category').cat.codes"
   ]
  },
  {
   "cell_type": "code",
   "execution_count": 73,
   "id": "3d356d64",
   "metadata": {},
   "outputs": [
    {
     "data": {
      "text/plain": [
       "0        (0.34, 26.947]\n",
       "1      (26.947, 53.473]\n",
       "2        (0.34, 26.947]\n",
       "3      (26.947, 53.473]\n",
       "4      (26.947, 53.473]\n",
       "             ...       \n",
       "886    (26.947, 53.473]\n",
       "887      (0.34, 26.947]\n",
       "888      (0.34, 26.947]\n",
       "889      (0.34, 26.947]\n",
       "890    (26.947, 53.473]\n",
       "Name: Age, Length: 891, dtype: category\n",
       "Categories (3, interval[float64, right]): [(0.34, 26.947] < (26.947, 53.473] < (53.473, 80.0]]"
      ]
     },
     "execution_count": 73,
     "metadata": {},
     "output_type": "execute_result"
    }
   ],
   "source": [
    "pd.cut(data['Age'], bins=3)"
   ]
  },
  {
   "cell_type": "code",
   "execution_count": 74,
   "id": "b106dea5",
   "metadata": {},
   "outputs": [
    {
     "data": {
      "text/plain": [
       "<AxesSubplot:>"
      ]
     },
     "execution_count": 74,
     "metadata": {},
     "output_type": "execute_result"
    },
    {
     "data": {
      "image/png": "[encoded data removed]",
      "text/plain": [
       "<Figure size 432x288 with 1 Axes>"
      ]
     },
     "metadata": {
      "needs_background": "light"
     },
     "output_type": "display_data"
    }
   ],
   "source": [
    "# bin the imputed 'Age' column into 3 bins (young, middle-aged, old)\n",
    "pd.cut(data['Age'], bins=3, labels=['young', 'middle_aged', 'old']\n",
    "       ).value_counts(sort=False).plot.bar()"
   ]
  },
  {
   "cell_type": "code",
   "execution_count": 75,
   "id": "94c100c8",
   "metadata": {},
   "outputs": [],
   "source": [
    "data['age_binned'] = pd.cut(data['Age'], bins=3, labels=[\n",
    "                            'young', 'middle_aged', 'old'])"
   ]
  },
  {
   "cell_type": "code",
   "execution_count": 76,
   "id": "0a961a45",
   "metadata": {},
   "outputs": [
    {
     "data": {
      "text/plain": [
       "young          455\n",
       "middle_aged    386\n",
       "old             50\n",
       "Name: age_binned, dtype: int64"
      ]
     },
     "execution_count": 76,
     "metadata": {},
     "output_type": "execute_result"
    }
   ],
   "source": [
    "data['age_binned'].value_counts()"
   ]
  },
  {
   "cell_type": "code",
   "execution_count": 77,
   "id": "bfbbcc69",
   "metadata": {},
   "outputs": [],
   "source": [
    "data['age_binned'] = data['age_binned'].astype('category').cat.codes"
   ]
  },
  {
   "cell_type": "code",
   "execution_count": 78,
   "id": "62b11269",
   "metadata": {},
   "outputs": [
    {
     "data": {
      "text/html": [
       "<div>\n",
       "<style scoped>\n",
       "    .dataframe tbody tr th:only-of-type {\n",
       "        vertical-align: middle;\n",
       "    }\n",
       "\n",
       "    .dataframe tbody tr th {\n",
       "        vertical-align: top;\n",
       "    }\n",
       "\n",
       "    .dataframe thead th {\n",
       "        text-align: right;\n",
       "    }\n",
       "</style>\n",
       "<table border=\"1\" class=\"dataframe\">\n",
       "  <thead>\n",
       "    <tr style=\"text-align: right;\">\n",
       "      <th></th>\n",
       "      <th>PassengerId</th>\n",
       "      <th>Survived</th>\n",
       "      <th>Pclass</th>\n",
       "      <th>Sex</th>\n",
       "      <th>Age</th>\n",
       "      <th>SibSp</th>\n",
       "      <th>Parch</th>\n",
       "      <th>Fare</th>\n",
       "      <th>Cabin</th>\n",
       "      <th>Embarked</th>\n",
       "      <th>alone</th>\n",
       "      <th>family_size</th>\n",
       "      <th>cabin_number</th>\n",
       "      <th>title</th>\n",
       "      <th>age_binned</th>\n",
       "    </tr>\n",
       "  </thead>\n",
       "  <tbody>\n",
       "    <tr>\n",
       "      <th>0</th>\n",
       "      <td>1</td>\n",
       "      <td>0</td>\n",
       "      <td>3</td>\n",
       "      <td>1</td>\n",
       "      <td>22.0</td>\n",
       "      <td>1</td>\n",
       "      <td>0</td>\n",
       "      <td>7.25</td>\n",
       "      <td>NaN</td>\n",
       "      <td>2</td>\n",
       "      <td>1</td>\n",
       "      <td>2</td>\n",
       "      <td>0</td>\n",
       "      <td>1</td>\n",
       "      <td>0</td>\n",
       "    </tr>\n",
       "    <tr>\n",
       "      <th>1</th>\n",
       "      <td>2</td>\n",
       "      <td>1</td>\n",
       "      <td>1</td>\n",
       "      <td>0</td>\n",
       "      <td>38.0</td>\n",
       "      <td>1</td>\n",
       "      <td>0</td>\n",
       "      <td>71.28</td>\n",
       "      <td>C85</td>\n",
       "      <td>0</td>\n",
       "      <td>1</td>\n",
       "      <td>2</td>\n",
       "      <td>1</td>\n",
       "      <td>3</td>\n",
       "      <td>1</td>\n",
       "    </tr>\n",
       "    <tr>\n",
       "      <th>2</th>\n",
       "      <td>3</td>\n",
       "      <td>1</td>\n",
       "      <td>3</td>\n",
       "      <td>0</td>\n",
       "      <td>26.0</td>\n",
       "      <td>0</td>\n",
       "      <td>0</td>\n",
       "      <td>7.92</td>\n",
       "      <td>NaN</td>\n",
       "      <td>2</td>\n",
       "      <td>0</td>\n",
       "      <td>1</td>\n",
       "      <td>0</td>\n",
       "      <td>2</td>\n",
       "      <td>0</td>\n",
       "    </tr>\n",
       "    <tr>\n",
       "      <th>3</th>\n",
       "      <td>4</td>\n",
       "      <td>1</td>\n",
       "      <td>1</td>\n",
       "      <td>0</td>\n",
       "      <td>35.0</td>\n",
       "      <td>1</td>\n",
       "      <td>0</td>\n",
       "      <td>53.10</td>\n",
       "      <td>C123</td>\n",
       "      <td>2</td>\n",
       "      <td>1</td>\n",
       "      <td>2</td>\n",
       "      <td>1</td>\n",
       "      <td>3</td>\n",
       "      <td>1</td>\n",
       "    </tr>\n",
       "    <tr>\n",
       "      <th>4</th>\n",
       "      <td>5</td>\n",
       "      <td>0</td>\n",
       "      <td>3</td>\n",
       "      <td>1</td>\n",
       "      <td>35.0</td>\n",
       "      <td>0</td>\n",
       "      <td>0</td>\n",
       "      <td>8.05</td>\n",
       "      <td>NaN</td>\n",
       "      <td>2</td>\n",
       "      <td>0</td>\n",
       "      <td>1</td>\n",
       "      <td>0</td>\n",
       "      <td>1</td>\n",
       "      <td>1</td>\n",
       "    </tr>\n",
       "  </tbody>\n",
       "</table>\n",
       "</div>"
      ],
      "text/plain": [
       "   PassengerId  Survived  Pclass  Sex   Age  SibSp  Parch   Fare Cabin  \\\n",
       "0            1         0       3    1  22.0      1      0   7.25   NaN   \n",
       "1            2         1       1    0  38.0      1      0  71.28   C85   \n",
       "2            3         1       3    0  26.0      0      0   7.92   NaN   \n",
       "3            4         1       1    0  35.0      1      0  53.10  C123   \n",
       "4            5         0       3    1  35.0      0      0   8.05   NaN   \n",
       "\n",
       "   Embarked  alone  family_size  cabin_number  title  age_binned  \n",
       "0         2      1            2             0      1           0  \n",
       "1         0      1            2             1      3           1  \n",
       "2         2      0            1             0      2           0  \n",
       "3         2      1            2             1      3           1  \n",
       "4         2      0            1             0      1           1  "
      ]
     },
     "execution_count": 78,
     "metadata": {},
     "output_type": "execute_result"
    }
   ],
   "source": [
    "data.head()"
   ]
  },
  {
   "cell_type": "code",
   "execution_count": 79,
   "id": "14d75976",
   "metadata": {},
   "outputs": [
    {
     "data": {
      "image/png": "[encoded data removed]",
      "text/plain": [
       "<Figure size 432x288 with 1 Axes>"
      ]
     },
     "metadata": {
      "needs_background": "light"
     },
     "output_type": "display_data"
    }
   ],
   "source": [
    "data['family_size'].value_counts(sort=False).plot.bar();"
   ]
  },
  {
   "cell_type": "code",
   "execution_count": 80,
   "id": "945440c5",
   "metadata": {},
   "outputs": [],
   "source": [
    "data['big_family'] = data['family_size'].apply(lambda x: 0 if x <= 3 else 1)"
   ]
  },
  {
   "cell_type": "code",
   "execution_count": 81,
   "id": "d8dd373d",
   "metadata": {},
   "outputs": [
    {
     "data": {
      "text/plain": [
       "0      Unknown\n",
       "1          C85\n",
       "2      Unknown\n",
       "3         C123\n",
       "4      Unknown\n",
       "        ...   \n",
       "886    Unknown\n",
       "887        B42\n",
       "888    Unknown\n",
       "889       C148\n",
       "890    Unknown\n",
       "Name: Cabin, Length: 891, dtype: object"
      ]
     },
     "execution_count": 81,
     "metadata": {},
     "output_type": "execute_result"
    }
   ],
   "source": [
    "data['Cabin'].fillna('Unknown')"
   ]
  },
  {
   "cell_type": "code",
   "execution_count": 82,
   "id": "5b770f81",
   "metadata": {},
   "outputs": [
    {
     "data": {
      "text/plain": [
       "n    687\n",
       "C     59\n",
       "B     47\n",
       "D     33\n",
       "E     32\n",
       "A     15\n",
       "F     13\n",
       "G      4\n",
       "T      1\n",
       "Name: cabin_label, dtype: int64"
      ]
     },
     "execution_count": 82,
     "metadata": {},
     "output_type": "execute_result"
    }
   ],
   "source": [
    "# use the cabin information \n",
    "data['cabin_label'] = data.Cabin.apply(lambda x: str(x)[0])\n",
    "data['cabin_label'].value_counts()"
   ]
  },
  {
   "cell_type": "code",
   "execution_count": 83,
   "id": "a45ff5b1",
   "metadata": {},
   "outputs": [],
   "source": [
    "data = pd.get_dummies(data, columns=['cabin_label'])"
   ]
  },
  {
   "cell_type": "code",
   "execution_count": 84,
   "id": "ab5681d1",
   "metadata": {},
   "outputs": [],
   "source": [
    "#data['cabin_label'] = data['cabin_label'].astype('category').cat.codes"
   ]
  },
  {
   "cell_type": "code",
   "execution_count": 85,
   "id": "976c8754",
   "metadata": {},
   "outputs": [
    {
     "name": "stderr",
     "output_type": "stream",
     "text": [
      "No artists with labels found to put in legend.  Note that artists whose label start with an underscore are ignored when legend() is called with no argument.\n"
     ]
    },
    {
     "data": {
      "text/plain": [
       "<matplotlib.legend.Legend at 0x7fdfd5509730>"
      ]
     },
     "execution_count": 85,
     "metadata": {},
     "output_type": "execute_result"
    },
    {
     "data": {
      "text/plain": [
       "<Figure size 720x432 with 0 Axes>"
      ]
     },
     "metadata": {},
     "output_type": "display_data"
    },
    {
     "data": {
      "image/png": "[encoded data removed]",
      "text/plain": [
       "<Figure size 1131.88x360 with 3 Axes>"
      ]
     },
     "metadata": {
      "needs_background": "light"
     },
     "output_type": "display_data"
    }
   ],
   "source": [
    "plt.figure(figsize=(10, 6))\n",
    "sns.displot(data=data, x=\"Fare\", hue='Survived', col='Pclass')\n",
    "plt.legend()"
   ]
  },
  {
   "cell_type": "code",
   "execution_count": 86,
   "id": "8b0b9860",
   "metadata": {},
   "outputs": [],
   "source": [
    "# cut the 'Fare' column into 4 equal-sized bins\n",
    "data[\"fare_range\"] = pd.qcut(data['Fare'], 4, labels=[\n",
    "                             'mega_cheap', 'cheap', 'middle', 'expensive'])"
   ]
  },
  {
   "cell_type": "code",
   "execution_count": 87,
   "id": "cefb3ff1",
   "metadata": {},
   "outputs": [
    {
     "data": {
      "text/html": [
       "<div>\n",
       "<style scoped>\n",
       "    .dataframe tbody tr th:only-of-type {\n",
       "        vertical-align: middle;\n",
       "    }\n",
       "\n",
       "    .dataframe tbody tr th {\n",
       "        vertical-align: top;\n",
       "    }\n",
       "\n",
       "    .dataframe thead th {\n",
       "        text-align: right;\n",
       "    }\n",
       "</style>\n",
       "<table border=\"1\" class=\"dataframe\">\n",
       "  <thead>\n",
       "    <tr style=\"text-align: right;\">\n",
       "      <th></th>\n",
       "      <th>fare_range</th>\n",
       "      <th>Survived</th>\n",
       "    </tr>\n",
       "  </thead>\n",
       "  <tbody>\n",
       "    <tr>\n",
       "      <th>3</th>\n",
       "      <td>expensive</td>\n",
       "      <td>0.581081</td>\n",
       "    </tr>\n",
       "    <tr>\n",
       "      <th>2</th>\n",
       "      <td>middle</td>\n",
       "      <td>0.454955</td>\n",
       "    </tr>\n",
       "    <tr>\n",
       "      <th>1</th>\n",
       "      <td>cheap</td>\n",
       "      <td>0.303571</td>\n",
       "    </tr>\n",
       "    <tr>\n",
       "      <th>0</th>\n",
       "      <td>mega_cheap</td>\n",
       "      <td>0.197309</td>\n",
       "    </tr>\n",
       "  </tbody>\n",
       "</table>\n",
       "</div>"
      ],
      "text/plain": [
       "   fare_range  Survived\n",
       "3   expensive  0.581081\n",
       "2      middle  0.454955\n",
       "1       cheap  0.303571\n",
       "0  mega_cheap  0.197309"
      ]
     },
     "execution_count": 87,
     "metadata": {},
     "output_type": "execute_result"
    }
   ],
   "source": [
    "# survival rate for all fare range\n",
    "data[['fare_range', 'Survived']].groupby(['fare_range'], as_index=False)[\n",
    "    'Survived'].mean().sort_values(by='fare_range', ascending=False)"
   ]
  },
  {
   "cell_type": "code",
   "execution_count": 88,
   "id": "8e6fa511",
   "metadata": {},
   "outputs": [
    {
     "data": {
      "text/plain": [
       "<seaborn.axisgrid.FacetGrid at 0x7fdfd5463ca0>"
      ]
     },
     "execution_count": 88,
     "metadata": {},
     "output_type": "execute_result"
    },
    {
     "data": {
      "image/png": "[encoded data removed]",
      "text/plain": [
       "<Figure size 411.875x360 with 1 Axes>"
      ]
     },
     "metadata": {
      "needs_background": "light"
     },
     "output_type": "display_data"
    }
   ],
   "source": [
    "# check the 'fare_range' (0-100)\n",
    "sns.displot(data=data[data['Fare'] < 100], x=\"Fare\",\n",
    "            kind=\"hist\", kde=True, hue='Survived')"
   ]
  },
  {
   "cell_type": "code",
   "execution_count": 89,
   "id": "bcd1efa6",
   "metadata": {},
   "outputs": [
    {
     "data": {
      "text/plain": [
       "<seaborn.axisgrid.FacetGrid at 0x7fdfd5d63550>"
      ]
     },
     "execution_count": 89,
     "metadata": {},
     "output_type": "execute_result"
    },
    {
     "data": {
      "image/png": "[encoded data removed]",
      "text/plain": [
       "<Figure size 411.875x360 with 1 Axes>"
      ]
     },
     "metadata": {
      "needs_background": "light"
     },
     "output_type": "display_data"
    }
   ],
   "source": [
    "sns.displot(data=data[data['Fare'] > 100], x=\"Fare\",\n",
    "            kind=\"hist\", kde=True, hue='Survived')"
   ]
  },
  {
   "cell_type": "code",
   "execution_count": 90,
   "id": "a26af38c",
   "metadata": {},
   "outputs": [],
   "source": [
    "data['fare_range'] = data['fare_range'].astype('category').cat.codes"
   ]
  },
  {
   "cell_type": "markdown",
   "id": "a0ee88c4",
   "metadata": {},
   "source": [
    "Scalling"
   ]
  },
  {
   "cell_type": "code",
   "execution_count": 91,
   "id": "aefc160e",
   "metadata": {},
   "outputs": [],
   "source": [
    "scaler = MinMaxScaler()"
   ]
  },
  {
   "cell_type": "code",
   "execution_count": 92,
   "id": "cde1da5f",
   "metadata": {
    "scrolled": true
   },
   "outputs": [
    {
     "data": {
      "text/html": [
       "<div>\n",
       "<style scoped>\n",
       "    .dataframe tbody tr th:only-of-type {\n",
       "        vertical-align: middle;\n",
       "    }\n",
       "\n",
       "    .dataframe tbody tr th {\n",
       "        vertical-align: top;\n",
       "    }\n",
       "\n",
       "    .dataframe thead th {\n",
       "        text-align: right;\n",
       "    }\n",
       "</style>\n",
       "<table border=\"1\" class=\"dataframe\">\n",
       "  <thead>\n",
       "    <tr style=\"text-align: right;\">\n",
       "      <th></th>\n",
       "      <th>Fare</th>\n",
       "    </tr>\n",
       "  </thead>\n",
       "  <tbody>\n",
       "    <tr>\n",
       "      <th>0</th>\n",
       "      <td>7.25</td>\n",
       "    </tr>\n",
       "    <tr>\n",
       "      <th>1</th>\n",
       "      <td>71.28</td>\n",
       "    </tr>\n",
       "    <tr>\n",
       "      <th>2</th>\n",
       "      <td>7.92</td>\n",
       "    </tr>\n",
       "    <tr>\n",
       "      <th>3</th>\n",
       "      <td>53.10</td>\n",
       "    </tr>\n",
       "    <tr>\n",
       "      <th>4</th>\n",
       "      <td>8.05</td>\n",
       "    </tr>\n",
       "    <tr>\n",
       "      <th>...</th>\n",
       "      <td>...</td>\n",
       "    </tr>\n",
       "    <tr>\n",
       "      <th>886</th>\n",
       "      <td>13.00</td>\n",
       "    </tr>\n",
       "    <tr>\n",
       "      <th>887</th>\n",
       "      <td>30.00</td>\n",
       "    </tr>\n",
       "    <tr>\n",
       "      <th>888</th>\n",
       "      <td>23.45</td>\n",
       "    </tr>\n",
       "    <tr>\n",
       "      <th>889</th>\n",
       "      <td>30.00</td>\n",
       "    </tr>\n",
       "    <tr>\n",
       "      <th>890</th>\n",
       "      <td>7.75</td>\n",
       "    </tr>\n",
       "  </tbody>\n",
       "</table>\n",
       "<p>891 rows × 1 columns</p>\n",
       "</div>"
      ],
      "text/plain": [
       "      Fare\n",
       "0     7.25\n",
       "1    71.28\n",
       "2     7.92\n",
       "3    53.10\n",
       "4     8.05\n",
       "..     ...\n",
       "886  13.00\n",
       "887  30.00\n",
       "888  23.45\n",
       "889  30.00\n",
       "890   7.75\n",
       "\n",
       "[891 rows x 1 columns]"
      ]
     },
     "execution_count": 92,
     "metadata": {},
     "output_type": "execute_result"
    }
   ],
   "source": [
    "col = data[['Fare']]\n",
    "col"
   ]
  },
  {
   "cell_type": "code",
   "execution_count": 93,
   "id": "7cb7f84a",
   "metadata": {},
   "outputs": [],
   "source": [
    "scaler.fit(col)\n",
    "t = scaler.transform(col)"
   ]
  },
  {
   "cell_type": "code",
   "execution_count": 94,
   "id": "5d35eb8a",
   "metadata": {},
   "outputs": [
    {
     "data": {
      "text/html": [
       "<div>\n",
       "<style scoped>\n",
       "    .dataframe tbody tr th:only-of-type {\n",
       "        vertical-align: middle;\n",
       "    }\n",
       "\n",
       "    .dataframe tbody tr th {\n",
       "        vertical-align: top;\n",
       "    }\n",
       "\n",
       "    .dataframe thead th {\n",
       "        text-align: right;\n",
       "    }\n",
       "</style>\n",
       "<table border=\"1\" class=\"dataframe\">\n",
       "  <thead>\n",
       "    <tr style=\"text-align: right;\">\n",
       "      <th></th>\n",
       "      <th>Fare</th>\n",
       "    </tr>\n",
       "  </thead>\n",
       "  <tbody>\n",
       "    <tr>\n",
       "      <th>0</th>\n",
       "      <td>0.014151</td>\n",
       "    </tr>\n",
       "    <tr>\n",
       "      <th>1</th>\n",
       "      <td>0.139129</td>\n",
       "    </tr>\n",
       "    <tr>\n",
       "      <th>2</th>\n",
       "      <td>0.015459</td>\n",
       "    </tr>\n",
       "    <tr>\n",
       "      <th>3</th>\n",
       "      <td>0.103644</td>\n",
       "    </tr>\n",
       "    <tr>\n",
       "      <th>4</th>\n",
       "      <td>0.015713</td>\n",
       "    </tr>\n",
       "  </tbody>\n",
       "</table>\n",
       "</div>"
      ],
      "text/plain": [
       "       Fare\n",
       "0  0.014151\n",
       "1  0.139129\n",
       "2  0.015459\n",
       "3  0.103644\n",
       "4  0.015713"
      ]
     },
     "execution_count": 94,
     "metadata": {},
     "output_type": "execute_result"
    }
   ],
   "source": [
    "col_scaled = pd.DataFrame(t, columns=col.columns)\n",
    "col_scaled.head(5)"
   ]
  },
  {
   "cell_type": "code",
   "execution_count": 95,
   "id": "2e626a35",
   "metadata": {},
   "outputs": [
    {
     "data": {
      "text/html": [
       "<div>\n",
       "<style scoped>\n",
       "    .dataframe tbody tr th:only-of-type {\n",
       "        vertical-align: middle;\n",
       "    }\n",
       "\n",
       "    .dataframe tbody tr th {\n",
       "        vertical-align: top;\n",
       "    }\n",
       "\n",
       "    .dataframe thead th {\n",
       "        text-align: right;\n",
       "    }\n",
       "</style>\n",
       "<table border=\"1\" class=\"dataframe\">\n",
       "  <thead>\n",
       "    <tr style=\"text-align: right;\">\n",
       "      <th></th>\n",
       "      <th>PassengerId</th>\n",
       "      <th>Survived</th>\n",
       "      <th>Pclass</th>\n",
       "      <th>Sex</th>\n",
       "      <th>Age</th>\n",
       "      <th>SibSp</th>\n",
       "      <th>Parch</th>\n",
       "      <th>Fare</th>\n",
       "      <th>Cabin</th>\n",
       "      <th>Embarked</th>\n",
       "      <th>...</th>\n",
       "      <th>cabin_label_A</th>\n",
       "      <th>cabin_label_B</th>\n",
       "      <th>cabin_label_C</th>\n",
       "      <th>cabin_label_D</th>\n",
       "      <th>cabin_label_E</th>\n",
       "      <th>cabin_label_F</th>\n",
       "      <th>cabin_label_G</th>\n",
       "      <th>cabin_label_T</th>\n",
       "      <th>cabin_label_n</th>\n",
       "      <th>fare_range</th>\n",
       "    </tr>\n",
       "  </thead>\n",
       "  <tbody>\n",
       "    <tr>\n",
       "      <th>0</th>\n",
       "      <td>1</td>\n",
       "      <td>0</td>\n",
       "      <td>3</td>\n",
       "      <td>1</td>\n",
       "      <td>22.0</td>\n",
       "      <td>1</td>\n",
       "      <td>0</td>\n",
       "      <td>7.25</td>\n",
       "      <td>NaN</td>\n",
       "      <td>2</td>\n",
       "      <td>...</td>\n",
       "      <td>0</td>\n",
       "      <td>0</td>\n",
       "      <td>0</td>\n",
       "      <td>0</td>\n",
       "      <td>0</td>\n",
       "      <td>0</td>\n",
       "      <td>0</td>\n",
       "      <td>0</td>\n",
       "      <td>1</td>\n",
       "      <td>0</td>\n",
       "    </tr>\n",
       "    <tr>\n",
       "      <th>1</th>\n",
       "      <td>2</td>\n",
       "      <td>1</td>\n",
       "      <td>1</td>\n",
       "      <td>0</td>\n",
       "      <td>38.0</td>\n",
       "      <td>1</td>\n",
       "      <td>0</td>\n",
       "      <td>71.28</td>\n",
       "      <td>C85</td>\n",
       "      <td>0</td>\n",
       "      <td>...</td>\n",
       "      <td>0</td>\n",
       "      <td>0</td>\n",
       "      <td>1</td>\n",
       "      <td>0</td>\n",
       "      <td>0</td>\n",
       "      <td>0</td>\n",
       "      <td>0</td>\n",
       "      <td>0</td>\n",
       "      <td>0</td>\n",
       "      <td>3</td>\n",
       "    </tr>\n",
       "    <tr>\n",
       "      <th>2</th>\n",
       "      <td>3</td>\n",
       "      <td>1</td>\n",
       "      <td>3</td>\n",
       "      <td>0</td>\n",
       "      <td>26.0</td>\n",
       "      <td>0</td>\n",
       "      <td>0</td>\n",
       "      <td>7.92</td>\n",
       "      <td>NaN</td>\n",
       "      <td>2</td>\n",
       "      <td>...</td>\n",
       "      <td>0</td>\n",
       "      <td>0</td>\n",
       "      <td>0</td>\n",
       "      <td>0</td>\n",
       "      <td>0</td>\n",
       "      <td>0</td>\n",
       "      <td>0</td>\n",
       "      <td>0</td>\n",
       "      <td>1</td>\n",
       "      <td>1</td>\n",
       "    </tr>\n",
       "    <tr>\n",
       "      <th>3</th>\n",
       "      <td>4</td>\n",
       "      <td>1</td>\n",
       "      <td>1</td>\n",
       "      <td>0</td>\n",
       "      <td>35.0</td>\n",
       "      <td>1</td>\n",
       "      <td>0</td>\n",
       "      <td>53.10</td>\n",
       "      <td>C123</td>\n",
       "      <td>2</td>\n",
       "      <td>...</td>\n",
       "      <td>0</td>\n",
       "      <td>0</td>\n",
       "      <td>1</td>\n",
       "      <td>0</td>\n",
       "      <td>0</td>\n",
       "      <td>0</td>\n",
       "      <td>0</td>\n",
       "      <td>0</td>\n",
       "      <td>0</td>\n",
       "      <td>3</td>\n",
       "    </tr>\n",
       "    <tr>\n",
       "      <th>4</th>\n",
       "      <td>5</td>\n",
       "      <td>0</td>\n",
       "      <td>3</td>\n",
       "      <td>1</td>\n",
       "      <td>35.0</td>\n",
       "      <td>0</td>\n",
       "      <td>0</td>\n",
       "      <td>8.05</td>\n",
       "      <td>NaN</td>\n",
       "      <td>2</td>\n",
       "      <td>...</td>\n",
       "      <td>0</td>\n",
       "      <td>0</td>\n",
       "      <td>0</td>\n",
       "      <td>0</td>\n",
       "      <td>0</td>\n",
       "      <td>0</td>\n",
       "      <td>0</td>\n",
       "      <td>0</td>\n",
       "      <td>1</td>\n",
       "      <td>1</td>\n",
       "    </tr>\n",
       "  </tbody>\n",
       "</table>\n",
       "<p>5 rows × 26 columns</p>\n",
       "</div>"
      ],
      "text/plain": [
       "   PassengerId  Survived  Pclass  Sex   Age  SibSp  Parch   Fare Cabin  \\\n",
       "0            1         0       3    1  22.0      1      0   7.25   NaN   \n",
       "1            2         1       1    0  38.0      1      0  71.28   C85   \n",
       "2            3         1       3    0  26.0      0      0   7.92   NaN   \n",
       "3            4         1       1    0  35.0      1      0  53.10  C123   \n",
       "4            5         0       3    1  35.0      0      0   8.05   NaN   \n",
       "\n",
       "   Embarked  ...  cabin_label_A  cabin_label_B  cabin_label_C  cabin_label_D  \\\n",
       "0         2  ...              0              0              0              0   \n",
       "1         0  ...              0              0              1              0   \n",
       "2         2  ...              0              0              0              0   \n",
       "3         2  ...              0              0              1              0   \n",
       "4         2  ...              0              0              0              0   \n",
       "\n",
       "   cabin_label_E  cabin_label_F  cabin_label_G  cabin_label_T  cabin_label_n  \\\n",
       "0              0              0              0              0              1   \n",
       "1              0              0              0              0              0   \n",
       "2              0              0              0              0              1   \n",
       "3              0              0              0              0              0   \n",
       "4              0              0              0              0              1   \n",
       "\n",
       "   fare_range  \n",
       "0           0  \n",
       "1           3  \n",
       "2           1  \n",
       "3           3  \n",
       "4           1  \n",
       "\n",
       "[5 rows x 26 columns]"
      ]
     },
     "execution_count": 95,
     "metadata": {},
     "output_type": "execute_result"
    }
   ],
   "source": [
    "data.head()"
   ]
  },
  {
   "cell_type": "code",
   "execution_count": 96,
   "id": "95a55508",
   "metadata": {},
   "outputs": [],
   "source": [
    "data = data.drop(['Cabin'], axis=1)"
   ]
  },
  {
   "cell_type": "code",
   "execution_count": 97,
   "id": "f82891fa",
   "metadata": {},
   "outputs": [
    {
     "data": {
      "text/html": [
       "<div>\n",
       "<style scoped>\n",
       "    .dataframe tbody tr th:only-of-type {\n",
       "        vertical-align: middle;\n",
       "    }\n",
       "\n",
       "    .dataframe tbody tr th {\n",
       "        vertical-align: top;\n",
       "    }\n",
       "\n",
       "    .dataframe thead th {\n",
       "        text-align: right;\n",
       "    }\n",
       "</style>\n",
       "<table border=\"1\" class=\"dataframe\">\n",
       "  <thead>\n",
       "    <tr style=\"text-align: right;\">\n",
       "      <th></th>\n",
       "      <th>PassengerId</th>\n",
       "      <th>Survived</th>\n",
       "      <th>Pclass</th>\n",
       "      <th>Sex</th>\n",
       "      <th>Age</th>\n",
       "      <th>SibSp</th>\n",
       "      <th>Parch</th>\n",
       "      <th>Fare</th>\n",
       "      <th>Embarked</th>\n",
       "      <th>alone</th>\n",
       "      <th>...</th>\n",
       "      <th>cabin_label_A</th>\n",
       "      <th>cabin_label_B</th>\n",
       "      <th>cabin_label_C</th>\n",
       "      <th>cabin_label_D</th>\n",
       "      <th>cabin_label_E</th>\n",
       "      <th>cabin_label_F</th>\n",
       "      <th>cabin_label_G</th>\n",
       "      <th>cabin_label_T</th>\n",
       "      <th>cabin_label_n</th>\n",
       "      <th>fare_range</th>\n",
       "    </tr>\n",
       "  </thead>\n",
       "  <tbody>\n",
       "    <tr>\n",
       "      <th>0</th>\n",
       "      <td>1</td>\n",
       "      <td>0</td>\n",
       "      <td>3</td>\n",
       "      <td>1</td>\n",
       "      <td>22.0</td>\n",
       "      <td>1</td>\n",
       "      <td>0</td>\n",
       "      <td>7.25</td>\n",
       "      <td>2</td>\n",
       "      <td>1</td>\n",
       "      <td>...</td>\n",
       "      <td>0</td>\n",
       "      <td>0</td>\n",
       "      <td>0</td>\n",
       "      <td>0</td>\n",
       "      <td>0</td>\n",
       "      <td>0</td>\n",
       "      <td>0</td>\n",
       "      <td>0</td>\n",
       "      <td>1</td>\n",
       "      <td>0</td>\n",
       "    </tr>\n",
       "    <tr>\n",
       "      <th>1</th>\n",
       "      <td>2</td>\n",
       "      <td>1</td>\n",
       "      <td>1</td>\n",
       "      <td>0</td>\n",
       "      <td>38.0</td>\n",
       "      <td>1</td>\n",
       "      <td>0</td>\n",
       "      <td>71.28</td>\n",
       "      <td>0</td>\n",
       "      <td>1</td>\n",
       "      <td>...</td>\n",
       "      <td>0</td>\n",
       "      <td>0</td>\n",
       "      <td>1</td>\n",
       "      <td>0</td>\n",
       "      <td>0</td>\n",
       "      <td>0</td>\n",
       "      <td>0</td>\n",
       "      <td>0</td>\n",
       "      <td>0</td>\n",
       "      <td>3</td>\n",
       "    </tr>\n",
       "    <tr>\n",
       "      <th>2</th>\n",
       "      <td>3</td>\n",
       "      <td>1</td>\n",
       "      <td>3</td>\n",
       "      <td>0</td>\n",
       "      <td>26.0</td>\n",
       "      <td>0</td>\n",
       "      <td>0</td>\n",
       "      <td>7.92</td>\n",
       "      <td>2</td>\n",
       "      <td>0</td>\n",
       "      <td>...</td>\n",
       "      <td>0</td>\n",
       "      <td>0</td>\n",
       "      <td>0</td>\n",
       "      <td>0</td>\n",
       "      <td>0</td>\n",
       "      <td>0</td>\n",
       "      <td>0</td>\n",
       "      <td>0</td>\n",
       "      <td>1</td>\n",
       "      <td>1</td>\n",
       "    </tr>\n",
       "    <tr>\n",
       "      <th>3</th>\n",
       "      <td>4</td>\n",
       "      <td>1</td>\n",
       "      <td>1</td>\n",
       "      <td>0</td>\n",
       "      <td>35.0</td>\n",
       "      <td>1</td>\n",
       "      <td>0</td>\n",
       "      <td>53.10</td>\n",
       "      <td>2</td>\n",
       "      <td>1</td>\n",
       "      <td>...</td>\n",
       "      <td>0</td>\n",
       "      <td>0</td>\n",
       "      <td>1</td>\n",
       "      <td>0</td>\n",
       "      <td>0</td>\n",
       "      <td>0</td>\n",
       "      <td>0</td>\n",
       "      <td>0</td>\n",
       "      <td>0</td>\n",
       "      <td>3</td>\n",
       "    </tr>\n",
       "    <tr>\n",
       "      <th>4</th>\n",
       "      <td>5</td>\n",
       "      <td>0</td>\n",
       "      <td>3</td>\n",
       "      <td>1</td>\n",
       "      <td>35.0</td>\n",
       "      <td>0</td>\n",
       "      <td>0</td>\n",
       "      <td>8.05</td>\n",
       "      <td>2</td>\n",
       "      <td>0</td>\n",
       "      <td>...</td>\n",
       "      <td>0</td>\n",
       "      <td>0</td>\n",
       "      <td>0</td>\n",
       "      <td>0</td>\n",
       "      <td>0</td>\n",
       "      <td>0</td>\n",
       "      <td>0</td>\n",
       "      <td>0</td>\n",
       "      <td>1</td>\n",
       "      <td>1</td>\n",
       "    </tr>\n",
       "  </tbody>\n",
       "</table>\n",
       "<p>5 rows × 25 columns</p>\n",
       "</div>"
      ],
      "text/plain": [
       "   PassengerId  Survived  Pclass  Sex   Age  SibSp  Parch   Fare  Embarked  \\\n",
       "0            1         0       3    1  22.0      1      0   7.25         2   \n",
       "1            2         1       1    0  38.0      1      0  71.28         0   \n",
       "2            3         1       3    0  26.0      0      0   7.92         2   \n",
       "3            4         1       1    0  35.0      1      0  53.10         2   \n",
       "4            5         0       3    1  35.0      0      0   8.05         2   \n",
       "\n",
       "   alone  ...  cabin_label_A  cabin_label_B  cabin_label_C  cabin_label_D  \\\n",
       "0      1  ...              0              0              0              0   \n",
       "1      1  ...              0              0              1              0   \n",
       "2      0  ...              0              0              0              0   \n",
       "3      1  ...              0              0              1              0   \n",
       "4      0  ...              0              0              0              0   \n",
       "\n",
       "   cabin_label_E  cabin_label_F  cabin_label_G  cabin_label_T  cabin_label_n  \\\n",
       "0              0              0              0              0              1   \n",
       "1              0              0              0              0              0   \n",
       "2              0              0              0              0              1   \n",
       "3              0              0              0              0              0   \n",
       "4              0              0              0              0              1   \n",
       "\n",
       "   fare_range  \n",
       "0           0  \n",
       "1           3  \n",
       "2           1  \n",
       "3           3  \n",
       "4           1  \n",
       "\n",
       "[5 rows x 25 columns]"
      ]
     },
     "execution_count": 97,
     "metadata": {},
     "output_type": "execute_result"
    }
   ],
   "source": [
    "data.head()"
   ]
  },
  {
   "cell_type": "markdown",
   "id": "1f3f0302",
   "metadata": {},
   "source": [
    "# Logistic Regression vol.2"
   ]
  },
  {
   "cell_type": "code",
   "execution_count": 98,
   "id": "30d27a0d",
   "metadata": {},
   "outputs": [],
   "source": [
    "X = data[['Pclass', 'Age', 'Fare', 'alone', 'cabin_number', 'title', 'Sex', 'Embarked',\n",
    "          'family_size', 'age_binned', 'big_family']]\n",
    "y = data['Survived']"
   ]
  },
  {
   "cell_type": "code",
   "execution_count": 99,
   "id": "acf41199",
   "metadata": {},
   "outputs": [],
   "source": [
    "X_train, X_val, y_train, y_val = train_test_split(X, y, test_size=0.25)"
   ]
  },
  {
   "cell_type": "code",
   "execution_count": 100,
   "id": "0fc15f55",
   "metadata": {},
   "outputs": [
    {
     "name": "stdout",
     "output_type": "stream",
     "text": [
      "(891, 11) (891,)\n"
     ]
    }
   ],
   "source": [
    "print(X.shape, y.shape)"
   ]
  },
  {
   "cell_type": "code",
   "execution_count": 101,
   "id": "6ce597f4",
   "metadata": {},
   "outputs": [],
   "source": [
    "m_lr1 = LogisticRegression(max_iter=10000)"
   ]
  },
  {
   "cell_type": "code",
   "execution_count": 102,
   "id": "ffa4945a",
   "metadata": {},
   "outputs": [
    {
     "data": {
      "text/plain": [
       "LogisticRegression(max_iter=10000)"
      ]
     },
     "execution_count": 102,
     "metadata": {},
     "output_type": "execute_result"
    }
   ],
   "source": [
    "m_lr1.fit(X_train, y_train)"
   ]
  },
  {
   "cell_type": "code",
   "execution_count": 103,
   "id": "d6d00dc6",
   "metadata": {},
   "outputs": [
    {
     "data": {
      "text/plain": [
       "0.8203592814371258"
      ]
     },
     "execution_count": 103,
     "metadata": {},
     "output_type": "execute_result"
    }
   ],
   "source": [
    "# calculating the accuracy score\n",
    "m_lr1.score(X_train, y_train)"
   ]
  },
  {
   "cell_type": "code",
   "execution_count": 104,
   "id": "7e270de9",
   "metadata": {},
   "outputs": [
    {
     "data": {
      "text/plain": [
       "0.820627802690583"
      ]
     },
     "execution_count": 104,
     "metadata": {},
     "output_type": "execute_result"
    }
   ],
   "source": [
    "ypred = m_lr1.predict(X_val)  # generating predictive results\n",
    "accuracy_score(y_val, ypred)  # compare predictive results to actual result"
   ]
  },
  {
   "cell_type": "code",
   "execution_count": 105,
   "id": "37a52053",
   "metadata": {},
   "outputs": [],
   "source": [
    "# comparing metrics\n",
    "metrics = ['accuracy', 'precision', 'recall', 'f1_score', 'ROC_AUC']\n",
    "summary = pd.DataFrame(index=metrics)\n",
    "\n",
    "\n",
    "def summary_metrics(summary, col, y_val, ypred, y_probs):\n",
    "    values = [accuracy_score(y_val, ypred), precision_score(y_val, ypred), recall_score(y, ypred),\n",
    "              f1_score(y_val, ypred), roc_auc_score(y_val, y_probs)]\n",
    "    summary[col] = values\n",
    "    return summary"
   ]
  },
  {
   "cell_type": "code",
   "execution_count": 106,
   "id": "4fe78bc0",
   "metadata": {},
   "outputs": [
    {
     "name": "stdout",
     "output_type": "stream",
     "text": [
      "accuracy:  0.820627802690583\n",
      "precision:  0.7752808988764045\n",
      "recall:  0.7752808988764045\n",
      "f1_score:  0.7752808988764045\n"
     ]
    }
   ],
   "source": [
    "ypred = m_lr1.predict(X_val)\n",
    "print('accuracy: ', accuracy_score(y_val, ypred))\n",
    "print('precision: ', precision_score(y_val, ypred))\n",
    "print('recall: ', recall_score(y_val, ypred))\n",
    "print('f1_score: ', f1_score(y_val, ypred))"
   ]
  },
  {
   "cell_type": "code",
   "execution_count": 107,
   "id": "1f422615",
   "metadata": {},
   "outputs": [
    {
     "data": {
      "text/plain": [
       "array([[114,  20],\n",
       "       [ 20,  69]])"
      ]
     },
     "execution_count": 107,
     "metadata": {},
     "output_type": "execute_result"
    }
   ],
   "source": [
    "conf = confusion_matrix(y_val, ypred)\n",
    "conf"
   ]
  },
  {
   "cell_type": "code",
   "execution_count": 108,
   "id": "e388a791",
   "metadata": {},
   "outputs": [
    {
     "data": {
      "text/plain": [
       "<sklearn.metrics._plot.confusion_matrix.ConfusionMatrixDisplay at 0x7fdfd66f5190>"
      ]
     },
     "execution_count": 108,
     "metadata": {},
     "output_type": "execute_result"
    },
    {
     "data": {
      "image/png": "[encoded data removed]",
      "text/plain": [
       "<Figure size 432x288 with 2 Axes>"
      ]
     },
     "metadata": {
      "needs_background": "light"
     },
     "output_type": "display_data"
    }
   ],
   "source": [
    "plot_confusion_matrix(m_lr1, X_val, y_val, normalize=None)"
   ]
  },
  {
   "cell_type": "code",
   "execution_count": 109,
   "id": "b6ac2ad6",
   "metadata": {},
   "outputs": [
    {
     "data": {
      "text/plain": [
       "array([1, 0, 0, 1, 0, 0, 0, 0, 1, 0, 0, 0, 1, 1, 0, 1, 1, 0, 1, 0, 1, 0,\n",
       "       1, 0, 0, 0, 0, 0, 0, 0, 1, 0, 0, 1, 0, 0, 1, 1, 1, 0, 1, 0, 0, 1,\n",
       "       1, 0, 0, 1, 1, 1, 0, 0, 1, 0, 0, 0, 1, 1, 0, 0, 0, 1, 1, 0, 0, 1,\n",
       "       0, 1, 0, 0, 1, 1, 0, 1, 0, 1, 1, 0, 0, 0, 0, 0, 1, 0, 0, 0, 1, 0,\n",
       "       0, 1, 0, 0, 0, 0, 0, 1, 0, 0, 0, 0, 0, 0, 0, 1, 1, 1, 0, 1, 0, 0,\n",
       "       0, 1, 1, 0, 1, 0, 0, 1, 0, 0, 0, 0, 0, 0, 1, 0, 1, 0, 0, 1, 1, 1,\n",
       "       1, 1, 0, 1, 0, 0, 0, 1, 1, 0, 1, 0, 1, 1, 1, 0, 0, 0, 0, 0, 1, 1,\n",
       "       1, 1, 0, 0, 0, 1, 0, 0, 0, 1, 0, 0, 0, 0, 1, 0, 1, 0, 1, 0, 1, 0,\n",
       "       0, 0, 1, 1, 1, 1, 0, 1, 0, 1, 0, 0, 0, 1, 1, 0, 1, 0, 1, 1, 0, 1,\n",
       "       0, 0, 0, 0, 1, 1, 0, 0, 0, 0, 1, 0, 1, 1, 1, 0, 1, 0, 0, 0, 0, 0,\n",
       "       0, 1, 0])"
      ]
     },
     "execution_count": 109,
     "metadata": {},
     "output_type": "execute_result"
    }
   ],
   "source": [
    "m_lr1.predict(X_val)"
   ]
  },
  {
   "cell_type": "code",
   "execution_count": 110,
   "id": "8688c4dd",
   "metadata": {},
   "outputs": [
    {
     "data": {
      "text/plain": [
       "array([[0.35011175, 0.64988825],\n",
       "       [0.89863826, 0.10136174],\n",
       "       [0.75028406, 0.24971594],\n",
       "       [0.32140423, 0.67859577],\n",
       "       [0.77166812, 0.22833188],\n",
       "       [0.89877898, 0.10122102],\n",
       "       [0.93336168, 0.06663832],\n",
       "       [0.91216702, 0.08783298],\n",
       "       [0.30224402, 0.69775598],\n",
       "       [0.81968095, 0.18031905],\n",
       "       [0.88383353, 0.11616647],\n",
       "       [0.91259292, 0.08740708],\n",
       "       [0.38702751, 0.61297249],\n",
       "       [0.32045012, 0.67954988],\n",
       "       [0.57264479, 0.42735521],\n",
       "       [0.2413625 , 0.7586375 ],\n",
       "       [0.39821274, 0.60178726],\n",
       "       [0.91830595, 0.08169405],\n",
       "       [0.03229402, 0.96770598],\n",
       "       [0.84006102, 0.15993898],\n",
       "       [0.07248805, 0.92751195],\n",
       "       [0.90589343, 0.09410657],\n",
       "       [0.24155612, 0.75844388],\n",
       "       [0.88404078, 0.11595922],\n",
       "       [0.95313111, 0.04686889],\n",
       "       [0.91829985, 0.08170015],\n",
       "       [0.91259292, 0.08740708],\n",
       "       [0.9034667 , 0.0965333 ],\n",
       "       [0.70276744, 0.29723256],\n",
       "       [0.89051097, 0.10948903],\n",
       "       [0.34087835, 0.65912165],\n",
       "       [0.94014242, 0.05985758],\n",
       "       [0.76502435, 0.23497565],\n",
       "       [0.38309703, 0.61690297],\n",
       "       [0.6372961 , 0.3627039 ],\n",
       "       [0.62019567, 0.37980433],\n",
       "       [0.43592879, 0.56407121],\n",
       "       [0.27121537, 0.72878463],\n",
       "       [0.38462288, 0.61537712],\n",
       "       [0.85072591, 0.14927409],\n",
       "       [0.01385333, 0.98614667],\n",
       "       [0.89164617, 0.10835383],\n",
       "       [0.96613768, 0.03386232],\n",
       "       [0.10264013, 0.89735987],\n",
       "       [0.48272688, 0.51727312],\n",
       "       [0.75984335, 0.24015665],\n",
       "       [0.59126895, 0.40873105],\n",
       "       [0.35759236, 0.64240764],\n",
       "       [0.39382453, 0.60617547],\n",
       "       [0.39046945, 0.60953055],\n",
       "       [0.54602442, 0.45397558],\n",
       "       [0.88890302, 0.11109698],\n",
       "       [0.03483299, 0.96516701],\n",
       "       [0.91991839, 0.08008161],\n",
       "       [0.52565504, 0.47434496],\n",
       "       [0.54822109, 0.45177891],\n",
       "       [0.43654806, 0.56345194],\n",
       "       [0.03570849, 0.96429151],\n",
       "       [0.66259802, 0.33740198],\n",
       "       [0.82642067, 0.17357933],\n",
       "       [0.50154667, 0.49845333],\n",
       "       [0.11649118, 0.88350882],\n",
       "       [0.04800397, 0.95199603],\n",
       "       [0.91829741, 0.08170259],\n",
       "       [0.888813  , 0.111187  ],\n",
       "       [0.17047695, 0.82952305],\n",
       "       [0.67406472, 0.32593528],\n",
       "       [0.41684543, 0.58315457],\n",
       "       [0.85728861, 0.14271139],\n",
       "       [0.89672603, 0.10327397],\n",
       "       [0.24477799, 0.75522201],\n",
       "       [0.09884051, 0.90115949],\n",
       "       [0.86820576, 0.13179424],\n",
       "       [0.05080394, 0.94919606],\n",
       "       [0.93490796, 0.06509204],\n",
       "       [0.38462288, 0.61537712],\n",
       "       [0.01813363, 0.98186637],\n",
       "       [0.83728211, 0.16271789],\n",
       "       [0.82583634, 0.17416366],\n",
       "       [0.86988684, 0.13011316],\n",
       "       [0.95208254, 0.04791746],\n",
       "       [0.91261239, 0.08738761],\n",
       "       [0.04793057, 0.95206943],\n",
       "       [0.62759281, 0.37240719],\n",
       "       [0.92916639, 0.07083361],\n",
       "       [0.70403158, 0.29596842],\n",
       "       [0.30551175, 0.69448825],\n",
       "       [0.91261239, 0.08738761],\n",
       "       [0.86988868, 0.13011132],\n",
       "       [0.06716926, 0.93283074],\n",
       "       [0.91259292, 0.08740708],\n",
       "       [0.85987895, 0.14012105],\n",
       "       [0.72078168, 0.27921832],\n",
       "       [0.96767897, 0.03232103],\n",
       "       [0.82048939, 0.17951061],\n",
       "       [0.22869856, 0.77130144],\n",
       "       [0.89322411, 0.10677589],\n",
       "       [0.88514687, 0.11485313],\n",
       "       [0.889001  , 0.110999  ],\n",
       "       [0.79066534, 0.20933466],\n",
       "       [0.82600025, 0.17399975],\n",
       "       [0.9117521 , 0.0882479 ],\n",
       "       [0.8775053 , 0.1224947 ],\n",
       "       [0.02860548, 0.97139452],\n",
       "       [0.08569458, 0.91430542],\n",
       "       [0.31283539, 0.68716461],\n",
       "       [0.89889734, 0.10110266],\n",
       "       [0.43858286, 0.56141714],\n",
       "       [0.8775053 , 0.1224947 ],\n",
       "       [0.99121798, 0.00878202],\n",
       "       [0.56505531, 0.43494469],\n",
       "       [0.43879649, 0.56120351],\n",
       "       [0.07998066, 0.92001934],\n",
       "       [0.52146692, 0.47853308],\n",
       "       [0.17789509, 0.82210491],\n",
       "       [0.93254307, 0.06745693],\n",
       "       [0.69813404, 0.30186596],\n",
       "       [0.46005667, 0.53994333],\n",
       "       [0.55867664, 0.44132336],\n",
       "       [0.89541524, 0.10458476],\n",
       "       [0.86988684, 0.13011316],\n",
       "       [0.90569209, 0.09430791],\n",
       "       [0.55657489, 0.44342511],\n",
       "       [0.91000624, 0.08999376],\n",
       "       [0.46632783, 0.53367217],\n",
       "       [0.63203803, 0.36796197],\n",
       "       [0.42373165, 0.57626835],\n",
       "       [0.91327464, 0.08672536],\n",
       "       [0.90992115, 0.09007885],\n",
       "       [0.17347279, 0.82652721],\n",
       "       [0.04853387, 0.95146613],\n",
       "       [0.38457281, 0.61542719],\n",
       "       [0.05167613, 0.94832387],\n",
       "       [0.29730253, 0.70269747],\n",
       "       [0.74040755, 0.25959245],\n",
       "       [0.11565186, 0.88434814],\n",
       "       [0.63903201, 0.36096799],\n",
       "       [0.77238409, 0.22761591],\n",
       "       [0.70718135, 0.29281865],\n",
       "       [0.38462288, 0.61537712],\n",
       "       [0.40013127, 0.59986873],\n",
       "       [0.77033776, 0.22966224],\n",
       "       [0.06100027, 0.93899973],\n",
       "       [0.6429773 , 0.3570227 ],\n",
       "       [0.38994053, 0.61005947],\n",
       "       [0.10018619, 0.89981381],\n",
       "       [0.0394006 , 0.9605994 ],\n",
       "       [0.55845597, 0.44154403],\n",
       "       [0.89402786, 0.10597214],\n",
       "       [0.96414257, 0.03585743],\n",
       "       [0.96769424, 0.03230576],\n",
       "       [0.81112178, 0.18887822],\n",
       "       [0.1811933 , 0.8188067 ],\n",
       "       [0.23113583, 0.76886417],\n",
       "       [0.16832037, 0.83167963],\n",
       "       [0.052584  , 0.947416  ],\n",
       "       [0.97386319, 0.02613681],\n",
       "       [0.89308901, 0.10691099],\n",
       "       [0.91214315, 0.08785685],\n",
       "       [0.39928166, 0.60071834],\n",
       "       [0.91261239, 0.08738761],\n",
       "       [0.89121318, 0.10878682],\n",
       "       [0.89308591, 0.10691409],\n",
       "       [0.38492169, 0.61507831],\n",
       "       [0.6914115 , 0.3085885 ],\n",
       "       [0.91258513, 0.08741487],\n",
       "       [0.9148164 , 0.0851836 ],\n",
       "       [0.89602472, 0.10397528],\n",
       "       [0.03461554, 0.96538446],\n",
       "       [0.7628952 , 0.2371048 ],\n",
       "       [0.26840863, 0.73159137],\n",
       "       [0.55506281, 0.44493719],\n",
       "       [0.3607669 , 0.6392331 ],\n",
       "       [0.89398932, 0.10601068],\n",
       "       [0.38460747, 0.61539253],\n",
       "       [0.69958854, 0.30041146],\n",
       "       [0.88383353, 0.11616647],\n",
       "       [0.94161145, 0.05838855],\n",
       "       [0.27141411, 0.72858589],\n",
       "       [0.4178388 , 0.5821612 ],\n",
       "       [0.24488829, 0.75511171],\n",
       "       [0.2275014 , 0.7724986 ],\n",
       "       [0.89688487, 0.10311513],\n",
       "       [0.38457281, 0.61542719],\n",
       "       [0.77238409, 0.22761591],\n",
       "       [0.08731125, 0.91268875],\n",
       "       [0.91268892, 0.08731108],\n",
       "       [0.89990482, 0.10009518],\n",
       "       [0.65819152, 0.34180848],\n",
       "       [0.33743973, 0.66256027],\n",
       "       [0.39929337, 0.60070663],\n",
       "       [0.74620006, 0.25379994],\n",
       "       [0.4428471 , 0.5571529 ],\n",
       "       [0.92335582, 0.07664418],\n",
       "       [0.07894669, 0.92105331],\n",
       "       [0.38447268, 0.61552732],\n",
       "       [0.87092137, 0.12907863],\n",
       "       [0.25606383, 0.74393617],\n",
       "       [0.92799717, 0.07200283],\n",
       "       [0.90142517, 0.09857483],\n",
       "       [0.99534176, 0.00465824],\n",
       "       [0.97132935, 0.02867065],\n",
       "       [0.37636652, 0.62363348],\n",
       "       [0.31920066, 0.68079934],\n",
       "       [0.90119359, 0.09880641],\n",
       "       [0.70673722, 0.29326278],\n",
       "       [0.73759865, 0.26240135],\n",
       "       [0.8918758 , 0.1081242 ],\n",
       "       [0.33434991, 0.66565009],\n",
       "       [0.81631063, 0.18368937],\n",
       "       [0.43404034, 0.56595966],\n",
       "       [0.17789509, 0.82210491],\n",
       "       [0.28062108, 0.71937892],\n",
       "       [0.93078647, 0.06921353],\n",
       "       [0.16400848, 0.83599152],\n",
       "       [0.75904316, 0.24095684],\n",
       "       [0.81546979, 0.18453021],\n",
       "       [0.96602634, 0.03397366],\n",
       "       [0.88903311, 0.11096689],\n",
       "       [0.86000611, 0.13999389],\n",
       "       [0.96474062, 0.03525938],\n",
       "       [0.42953047, 0.57046953],\n",
       "       [0.74416534, 0.25583466]])"
      ]
     },
     "execution_count": 110,
     "metadata": {},
     "output_type": "execute_result"
    }
   ],
   "source": [
    "m_lr1.predict_proba(X_val)"
   ]
  },
  {
   "cell_type": "code",
   "execution_count": 111,
   "id": "0cf24a1f",
   "metadata": {},
   "outputs": [
    {
     "data": {
      "text/plain": [
       "<sklearn.metrics._plot.roc_curve.RocCurveDisplay at 0x7fdfd5d63820>"
      ]
     },
     "execution_count": 111,
     "metadata": {},
     "output_type": "execute_result"
    },
    {
     "data": {
      "image/png": "[encoded data removed]",
      "text/plain": [
       "<Figure size 432x288 with 1 Axes>"
      ]
     },
     "metadata": {
      "needs_background": "light"
     },
     "output_type": "display_data"
    }
   ],
   "source": [
    "plot_roc_curve(m_lr1, X_val, y_val)"
   ]
  },
  {
   "cell_type": "code",
   "execution_count": 112,
   "id": "332d7027",
   "metadata": {},
   "outputs": [],
   "source": [
    "fpr, tpr, threshold = roc_curve(y_val, m_lr1.predict_proba(X_val)[:, 1])"
   ]
  },
  {
   "cell_type": "code",
   "execution_count": 113,
   "id": "7b6b1cc9",
   "metadata": {},
   "outputs": [
    {
     "name": "stdout",
     "output_type": "stream",
     "text": [
      "Area under the curve =  0.8686483313768237\n"
     ]
    }
   ],
   "source": [
    "auc_score = auc(fpr, tpr)\n",
    "print(\"Area under the curve = \", auc_score)"
   ]
  },
  {
   "cell_type": "code",
   "execution_count": 114,
   "id": "d2456e78",
   "metadata": {},
   "outputs": [
    {
     "data": {
      "image/png": "[encoded data removed]",
      "text/plain": [
       "<Figure size 432x288 with 1 Axes>"
      ]
     },
     "metadata": {
      "needs_background": "light"
     },
     "output_type": "display_data"
    }
   ],
   "source": [
    "probs = m_lr1.predict_proba(X_val)\n",
    "probs = probs[:, 1]\n",
    "\n",
    "fpr, tpr, threshold = roc_curve(y_val, probs)\n",
    "roc_auc = roc_auc_score(y_val, probs)\n",
    "\n",
    "# visualisation ROC AUC\n",
    "plt.figure()\n",
    "plt.plot([0, 1], label='Baseline', linestyle='--')\n",
    "plt.plot(fpr, tpr, label='Regression')\n",
    "plt.title('Logistic Regression ROC AUC = %0.3f' % roc_auc)\n",
    "plt.ylabel('True Positive Rate')\n",
    "plt.xlabel('False Positive Rate')\n",
    "plt.legend(loc='lower right')\n",
    "plt.show()"
   ]
  },
  {
   "cell_type": "markdown",
   "id": "1ca7c295",
   "metadata": {},
   "source": [
    "# Decision Tree Classifier"
   ]
  },
  {
   "cell_type": "code",
   "execution_count": 115,
   "id": "4d1df65b",
   "metadata": {},
   "outputs": [],
   "source": [
    "X = data[['Pclass', 'Age', 'SibSp', 'Parch', 'Fare', 'alone', 'cabin_number', 'title', 'Sex', 'Embarked',\n",
    "          'family_size', 'age_binned', 'big_family']]\n",
    "y = data['Survived']"
   ]
  },
  {
   "cell_type": "code",
   "execution_count": 116,
   "id": "fd000a52",
   "metadata": {},
   "outputs": [
    {
     "data": {
      "text/plain": [
       "DecisionTreeClassifier(max_depth=5)"
      ]
     },
     "execution_count": 116,
     "metadata": {},
     "output_type": "execute_result"
    }
   ],
   "source": [
    "m_dt = DecisionTreeClassifier(max_depth=5, criterion='gini')\n",
    "m_dt.fit(X, y)"
   ]
  },
  {
   "cell_type": "code",
   "execution_count": 117,
   "id": "fe89580a",
   "metadata": {},
   "outputs": [],
   "source": [
    "ypred = m_dt.predict(X)"
   ]
  },
  {
   "cell_type": "code",
   "execution_count": 118,
   "id": "8d1e1587",
   "metadata": {},
   "outputs": [
    {
     "data": {
      "text/plain": [
       "0.8484848484848485"
      ]
     },
     "execution_count": 118,
     "metadata": {},
     "output_type": "execute_result"
    }
   ],
   "source": [
    "accuracy_score(y, ypred)"
   ]
  },
  {
   "cell_type": "code",
   "execution_count": 119,
   "id": "f495485f",
   "metadata": {},
   "outputs": [
    {
     "data": {
      "image/png": "[encoded data removed]",
      "text/plain": [
       "<Figure size 864x576 with 1 Axes>"
      ]
     },
     "metadata": {
      "needs_background": "light"
     },
     "output_type": "display_data"
    }
   ],
   "source": [
    "plt.figure(figsize=(12, 8))\n",
    "t = plot_tree(m_dt, feature_names=['Pclass', 'Age', 'SibSp', 'Parch', 'Fare', 'alone', 'cabin_number', 'title', 'Sex', 'Embarked',\n",
    "                                   'family_size', 'age_binned', 'big_family'], class_names=['Survived', 'Not_Survived'])"
   ]
  },
  {
   "cell_type": "markdown",
   "id": "3c8e9e41",
   "metadata": {},
   "source": [
    "# RandomForest"
   ]
  },
  {
   "cell_type": "code",
   "execution_count": 120,
   "id": "75b2ea44",
   "metadata": {},
   "outputs": [],
   "source": [
    "X = data[['Pclass', 'Age', 'SibSp', 'Parch', 'Fare', 'alone', 'cabin_number', 'title', 'Sex', 'Embarked',\n",
    "          'family_size', 'age_binned', 'big_family']]\n",
    "y = data['Survived']"
   ]
  },
  {
   "cell_type": "code",
   "execution_count": 121,
   "id": "b0509345",
   "metadata": {},
   "outputs": [],
   "source": [
    "X_train, X_val, y_train, y_val = train_test_split(X, y, test_size=0.25)"
   ]
  },
  {
   "cell_type": "code",
   "execution_count": 122,
   "id": "37b97886",
   "metadata": {},
   "outputs": [],
   "source": [
    "m_rf = RandomForestClassifier(max_depth=5, random_state=42, n_estimators=15)"
   ]
  },
  {
   "cell_type": "code",
   "execution_count": 123,
   "id": "d5ad7d31",
   "metadata": {},
   "outputs": [
    {
     "data": {
      "text/plain": [
       "RandomForestClassifier(max_depth=5, n_estimators=15, random_state=42)"
      ]
     },
     "execution_count": 123,
     "metadata": {},
     "output_type": "execute_result"
    }
   ],
   "source": [
    "m_rf.fit(X_train, y_train)"
   ]
  },
  {
   "cell_type": "code",
   "execution_count": 124,
   "id": "96af3b97",
   "metadata": {},
   "outputs": [],
   "source": [
    "ypred = m_rf.predict(X_val)"
   ]
  },
  {
   "cell_type": "code",
   "execution_count": 125,
   "id": "b02daedc",
   "metadata": {},
   "outputs": [
    {
     "data": {
      "text/plain": [
       "0.8430493273542601"
      ]
     },
     "execution_count": 125,
     "metadata": {},
     "output_type": "execute_result"
    }
   ],
   "source": [
    "accuracy_score(ypred, y_val)"
   ]
  },
  {
   "cell_type": "code",
   "execution_count": 126,
   "id": "82c8c9c4",
   "metadata": {},
   "outputs": [
    {
     "name": "stdout",
     "output_type": "stream",
     "text": [
      "accuracy:  0.8430493273542601\n",
      "precision:  0.8028169014084507\n",
      "recall:  0.7307692307692307\n",
      "f1_score:  0.7651006711409397\n"
     ]
    }
   ],
   "source": [
    "ypred = m_rf.predict(X_val)\n",
    "print('accuracy: ', accuracy_score(y_val, ypred))\n",
    "print('precision: ', precision_score(y_val, ypred))\n",
    "print('recall: ', recall_score(y_val, ypred))\n",
    "print('f1_score: ', f1_score(y_val, ypred))"
   ]
  },
  {
   "cell_type": "code",
   "execution_count": 127,
   "id": "1ad4d629",
   "metadata": {},
   "outputs": [],
   "source": [
    "probs = m_rf.predict_proba(X_val)\n",
    "probs = probs[:, 1]\n",
    "\n",
    "fpr, tpr, threshold = roc_curve(y_val, probs)\n",
    "roc_auc = roc_auc_score(y_val, probs)"
   ]
  },
  {
   "cell_type": "code",
   "execution_count": 128,
   "id": "9ebe7285",
   "metadata": {},
   "outputs": [
    {
     "name": "stdout",
     "output_type": "stream",
     "text": [
      "Area under the curve =  0.8936781609195403\n"
     ]
    }
   ],
   "source": [
    "auc_score = auc(fpr, tpr)\n",
    "print(\"Area under the curve = \", auc_score)"
   ]
  },
  {
   "cell_type": "code",
   "execution_count": 129,
   "id": "62e349b3",
   "metadata": {},
   "outputs": [
    {
     "data": {
      "image/png": "[encoded data removed]",
      "text/plain": [
       "<Figure size 432x288 with 1 Axes>"
      ]
     },
     "metadata": {
      "needs_background": "light"
     },
     "output_type": "display_data"
    }
   ],
   "source": [
    "# visualization ROC AUC\n",
    "plt.figure()\n",
    "plt.plot([0, 1], label='Baseline', linestyle='--')\n",
    "plt.plot(fpr, tpr, label='Regression')\n",
    "plt.title('Logistic Regression ROC AUC = %0.3f' % roc_auc)\n",
    "plt.ylabel('True Positive Rate')\n",
    "plt.xlabel('False Positive Rate')\n",
    "plt.legend(loc='lower right')\n",
    "plt.show()"
   ]
  },
  {
   "cell_type": "code",
   "execution_count": 130,
   "id": "320f617b",
   "metadata": {},
   "outputs": [
    {
     "data": {
      "text/plain": [
       "array([[131,  14],\n",
       "       [ 21,  57]])"
      ]
     },
     "execution_count": 130,
     "metadata": {},
     "output_type": "execute_result"
    }
   ],
   "source": [
    "conf = confusion_matrix(y_val, ypred)\n",
    "conf"
   ]
  },
  {
   "cell_type": "markdown",
   "id": "016fc3f3",
   "metadata": {},
   "source": [
    "Crossvalidation"
   ]
  },
  {
   "cell_type": "code",
   "execution_count": 131,
   "id": "c31f3432",
   "metadata": {},
   "outputs": [
    {
     "name": "stderr",
     "output_type": "stream",
     "text": [
      "[Parallel(n_jobs=1)]: Using backend SequentialBackend with 1 concurrent workers.\n",
      "[Parallel(n_jobs=1)]: Done   1 out of   1 | elapsed:    0.0s remaining:    0.0s\n",
      "[Parallel(n_jobs=1)]: Done   2 out of   2 | elapsed:    0.1s remaining:    0.0s\n"
     ]
    },
    {
     "name": "stdout",
     "output_type": "stream",
     "text": [
      "[CV] END ................................ score: (test=0.836) total time=   0.0s\n",
      "[CV] END ................................ score: (test=0.776) total time=   0.1s\n",
      "[CV] END ................................ score: (test=0.821) total time=   0.0s\n",
      "[CV] END ................................ score: (test=0.776) total time=   0.0s\n",
      "[CV] END ................................ score: (test=0.791) total time=   0.0s\n",
      "[CV] END ................................ score: (test=0.881) total time=   0.1s\n",
      "[CV] END ................................ score: (test=0.731) total time=   0.1s\n",
      "[CV] END ................................ score: (test=0.851) total time=   0.1s\n",
      "[CV] END ................................ score: (test=0.848) total time=   0.3s\n",
      "[CV] END ................................ score: (test=0.848) total time=   0.3s\n"
     ]
    },
    {
     "name": "stderr",
     "output_type": "stream",
     "text": [
      "[Parallel(n_jobs=1)]: Done  10 out of  10 | elapsed:    1.1s finished\n"
     ]
    }
   ],
   "source": [
    "acc = cross_val_score(m_rf, X_train, y_train,\n",
    "                      cv=10, verbose=3, scoring='accuracy')"
   ]
  },
  {
   "cell_type": "code",
   "execution_count": 132,
   "id": "9d94384d",
   "metadata": {},
   "outputs": [
    {
     "data": {
      "text/plain": [
       "0.8159656264133875"
      ]
     },
     "execution_count": 132,
     "metadata": {},
     "output_type": "execute_result"
    }
   ],
   "source": [
    "results = cross_val_score(m_rf, X_train, y_train, cv=10)\n",
    "results.mean()"
   ]
  },
  {
   "cell_type": "code",
   "execution_count": 133,
   "id": "70d63f47",
   "metadata": {},
   "outputs": [
    {
     "data": {
      "text/plain": [
       "0.04344867935674748"
      ]
     },
     "execution_count": 133,
     "metadata": {},
     "output_type": "execute_result"
    }
   ],
   "source": [
    "results.std()"
   ]
  },
  {
   "cell_type": "code",
   "execution_count": 134,
   "id": "15feb690",
   "metadata": {},
   "outputs": [
    {
     "data": {
      "text/plain": [
       "0.8430493273542601"
      ]
     },
     "execution_count": 134,
     "metadata": {},
     "output_type": "execute_result"
    }
   ],
   "source": [
    "m_rf.score(X_val, y_val)"
   ]
  },
  {
   "cell_type": "markdown",
   "id": "ce017d28",
   "metadata": {},
   "source": [
    "StratifiedShuffleSplit "
   ]
  },
  {
   "cell_type": "code",
   "execution_count": 135,
   "id": "e7bada06",
   "metadata": {},
   "outputs": [],
   "source": [
    "shuffle_s = StratifiedShuffleSplit(n_splits=10, test_size=.20,\n",
    "                                   random_state=1)"
   ]
  },
  {
   "cell_type": "code",
   "execution_count": 136,
   "id": "af962ce4",
   "metadata": {},
   "outputs": [
    {
     "name": "stderr",
     "output_type": "stream",
     "text": [
      "[Parallel(n_jobs=1)]: Using backend SequentialBackend with 1 concurrent workers.\n",
      "[Parallel(n_jobs=1)]: Done   1 out of   1 | elapsed:    0.1s remaining:    0.0s\n",
      "[Parallel(n_jobs=1)]: Done   2 out of   2 | elapsed:    0.1s remaining:    0.0s\n"
     ]
    },
    {
     "name": "stdout",
     "output_type": "stream",
     "text": [
      "[CV] END ................................ score: (test=0.836) total time=   0.1s\n",
      "[CV] END ................................ score: (test=0.799) total time=   0.0s\n",
      "[CV] END ................................ score: (test=0.813) total time=   0.0s\n",
      "[CV] END ................................ score: (test=0.813) total time=   0.0s\n",
      "[CV] END ................................ score: (test=0.836) total time=   0.0s\n",
      "[CV] END ................................ score: (test=0.828) total time=   0.0s\n",
      "[CV] END ................................ score: (test=0.799) total time=   0.1s\n",
      "[CV] END ................................ score: (test=0.784) total time=   0.1s\n",
      "[CV] END ................................ score: (test=0.836) total time=   0.1s\n",
      "[CV] END ................................ score: (test=0.851) total time=   0.1s\n"
     ]
    },
    {
     "name": "stderr",
     "output_type": "stream",
     "text": [
      "[Parallel(n_jobs=1)]: Done  10 out of  10 | elapsed:    0.6s finished\n"
     ]
    }
   ],
   "source": [
    "cross_validation_m_rf = cross_val_score(estimator=m_rf,\n",
    "                                        X=X_train,\n",
    "                                        y=y_train,\n",
    "                                        scoring='accuracy',\n",
    "                                        cv=shuffle_s,\n",
    "                                        verbose=3)"
   ]
  },
  {
   "cell_type": "code",
   "execution_count": 137,
   "id": "2cea1118",
   "metadata": {
    "scrolled": true
   },
   "outputs": [
    {
     "name": "stdout",
     "output_type": "stream",
     "text": [
      "Validation accuracy scores: [0.84 0.8  0.81 0.81 0.84 0.83 0.8  0.78 0.84 0.85]\n",
      "\n",
      "mean: 0.82\n",
      "std: 0.02\n"
     ]
    }
   ],
   "source": [
    "print(f'Validation accuracy scores: {np.round(cross_validation_m_rf,2)}')\n",
    "print(f'\\nmean: {cross_validation_m_rf.mean():.2}')\n",
    "print(f'std: {cross_validation_m_rf.std():.1}')"
   ]
  },
  {
   "cell_type": "markdown",
   "id": "53bb266b",
   "metadata": {},
   "source": [
    "# Hyperparameters"
   ]
  },
  {
   "cell_type": "code",
   "execution_count": 138,
   "id": "9360d09f",
   "metadata": {},
   "outputs": [],
   "source": [
    "X = data[['Pclass','Age','SibSp','Parch','Fare','alone', 'cabin_number', 'title', 'Sex','Embarked',\n",
    "          'family_size', 'age_binned','big_family']]\n",
    "y = data['Survived']\n",
    "\n",
    "X_train, X_val, y_train, y_val = train_test_split(\n",
    "    X, y, test_size=0.30, random_state=42, stratify=y)"
   ]
  },
  {
   "cell_type": "code",
   "execution_count": 139,
   "id": "52d709d6",
   "metadata": {},
   "outputs": [
    {
     "name": "stdout",
     "output_type": "stream",
     "text": [
      "Best Penalty: l2\n",
      "Best C: 7.742636826811269\n"
     ]
    }
   ],
   "source": [
    "# types of regularization\n",
    "penalty = ['l1', 'l2']\n",
    "\n",
    "# set restrictions for the regularization parameter\n",
    "C = np.logspace(0, 4, 10)\n",
    "\n",
    "# create hyperparameters\n",
    "hyperparameters = dict(C=C, penalty=penalty)\n",
    "\n",
    "m_rf = LogisticRegression()\n",
    "m_rf.fit(X_train, y_train)\n",
    "\n",
    "# create a search grid using 5-fold cross-validation\n",
    "clf = GridSearchCV(m_rf, hyperparameters, cv=5, verbose=0)\n",
    "\n",
    "best_model = clf.fit(X_train, y_train)\n",
    "\n",
    "# check of the best hyperparameters\n",
    "print('Best Penalty:', best_model.best_estimator_.get_params()['penalty'])\n",
    "print('Best C:', best_model.best_estimator_.get_params()['C'])"
   ]
  },
  {
   "cell_type": "code",
   "execution_count": 140,
   "id": "5f71c979",
   "metadata": {},
   "outputs": [
    {
     "data": {
      "text/plain": [
       "LogisticRegression(C=7.742636826811269, max_iter=1000)"
      ]
     },
     "execution_count": 140,
     "metadata": {},
     "output_type": "execute_result"
    }
   ],
   "source": [
    "# train model with hyperparameters\n",
    "m_rf = LogisticRegression(\n",
    "    penalty='l2', C=7.742636826811269, max_iter=1000)\n",
    "m_rf.fit(X_train, y_train)"
   ]
  },
  {
   "cell_type": "code",
   "execution_count": 141,
   "id": "11a15dbc",
   "metadata": {},
   "outputs": [],
   "source": [
    "probs = m_rf.predict_proba(X_val)\n",
    "y_probs = probs[:, 1]\n",
    "ypred = m_rf.predict(X_val)"
   ]
  },
  {
   "cell_type": "code",
   "execution_count": 142,
   "id": "d44c5541",
   "metadata": {},
   "outputs": [
    {
     "name": "stdout",
     "output_type": "stream",
     "text": [
      "accuracy:  0.8059701492537313\n",
      "precision:  0.7383177570093458\n",
      "recall:  0.7669902912621359\n",
      "f1_score:  0.7523809523809523\n"
     ]
    }
   ],
   "source": [
    "print('accuracy: ', accuracy_score(y_val, ypred))\n",
    "print('precision: ', precision_score(y_val, ypred))\n",
    "print('recall: ', recall_score(y_val, ypred))\n",
    "print('f1_score: ', f1_score(y_val, ypred))"
   ]
  },
  {
   "cell_type": "markdown",
   "id": "c7ebe5fe",
   "metadata": {},
   "source": [
    "# RandomForest vol.2"
   ]
  },
  {
   "cell_type": "code",
   "execution_count": 143,
   "id": "d81dc0b6",
   "metadata": {
    "scrolled": true
   },
   "outputs": [
    {
     "data": {
      "text/plain": [
       "Index(['PassengerId', 'Survived', 'Pclass', 'Sex', 'Age', 'SibSp', 'Parch',\n",
       "       'Fare', 'Embarked', 'alone', 'family_size', 'cabin_number', 'title',\n",
       "       'age_binned', 'big_family', 'cabin_label_A', 'cabin_label_B',\n",
       "       'cabin_label_C', 'cabin_label_D', 'cabin_label_E', 'cabin_label_F',\n",
       "       'cabin_label_G', 'cabin_label_T', 'cabin_label_n', 'fare_range'],\n",
       "      dtype='object')"
      ]
     },
     "execution_count": 143,
     "metadata": {},
     "output_type": "execute_result"
    }
   ],
   "source": [
    "data.columns"
   ]
  },
  {
   "cell_type": "code",
   "execution_count": 144,
   "id": "80103fe9",
   "metadata": {},
   "outputs": [],
   "source": [
    "X = data[['Pclass', 'Sex', 'Embarked', 'fare_range', 'title', 'age_binned', 'big_family',\n",
    "          'cabin_label_A', 'cabin_label_B', 'cabin_label_C', 'cabin_label_D', 'cabin_label_E',\n",
    "          'cabin_label_F', 'cabin_label_G', 'cabin_label_T', 'cabin_label_n', 'fare_range']]\n",
    "y = data['Survived']"
   ]
  },
  {
   "cell_type": "code",
   "execution_count": 145,
   "id": "791a41a1",
   "metadata": {},
   "outputs": [],
   "source": [
    "X_train, X_val, y_train, y_val = train_test_split(X, y, test_size=0.25)"
   ]
  },
  {
   "cell_type": "code",
   "execution_count": 146,
   "id": "b034bbd7",
   "metadata": {},
   "outputs": [
    {
     "data": {
      "text/plain": [
       "RandomForestClassifier(max_depth=5, n_estimators=15, random_state=42)"
      ]
     },
     "execution_count": 146,
     "metadata": {},
     "output_type": "execute_result"
    }
   ],
   "source": [
    "m_rf2 = RandomForestClassifier(n_estimators=15, random_state=42, max_depth=5)\n",
    "\n",
    "m_rf2.fit(X_train,y_train)"
   ]
  },
  {
   "cell_type": "code",
   "execution_count": 147,
   "id": "4ec1680a",
   "metadata": {},
   "outputs": [
    {
     "data": {
      "text/plain": [
       "0.8562874251497006"
      ]
     },
     "execution_count": 147,
     "metadata": {},
     "output_type": "execute_result"
    }
   ],
   "source": [
    "m_rf2.score(X_train, y_train)"
   ]
  },
  {
   "cell_type": "code",
   "execution_count": 148,
   "id": "77fe8a14",
   "metadata": {},
   "outputs": [],
   "source": [
    "ypred_rf = m_rf2.predict(X_val)"
   ]
  },
  {
   "cell_type": "code",
   "execution_count": 149,
   "id": "3c4a9394",
   "metadata": {},
   "outputs": [
    {
     "data": {
      "text/plain": [
       "0.7713004484304933"
      ]
     },
     "execution_count": 149,
     "metadata": {},
     "output_type": "execute_result"
    }
   ],
   "source": [
    "accuracy_score(ypred_rf, y_val)"
   ]
  },
  {
   "cell_type": "code",
   "execution_count": 150,
   "id": "0ceae9d0",
   "metadata": {},
   "outputs": [
    {
     "name": "stdout",
     "output_type": "stream",
     "text": [
      "accuracy:  0.7713004484304933\n",
      "precision:  0.7560975609756098\n",
      "recall:  0.6666666666666666\n",
      "f1_score:  0.7085714285714285\n"
     ]
    }
   ],
   "source": [
    "ypred = m_rf2.predict(X_val)\n",
    "print('accuracy: ', accuracy_score(y_val, ypred_rf))\n",
    "print('precision: ', precision_score(y_val, ypred_rf))\n",
    "print('recall: ', recall_score(y_val, ypred_rf))\n",
    "print('f1_score: ', f1_score(y_val, ypred_rf))"
   ]
  },
  {
   "cell_type": "code",
   "execution_count": 151,
   "id": "dc98ab5c",
   "metadata": {},
   "outputs": [],
   "source": [
    "probs = m_rf2.predict_proba(X_val)\n",
    "probs = probs[:, 1]\n",
    "\n",
    "fpr, tpr, threshold = roc_curve(y_val, probs)\n",
    "roc_auc = roc_auc_score(y_val, probs)"
   ]
  },
  {
   "cell_type": "code",
   "execution_count": 152,
   "id": "6c537536",
   "metadata": {},
   "outputs": [
    {
     "name": "stdout",
     "output_type": "stream",
     "text": [
      "Area under the curve =  0.8370140612076098\n"
     ]
    }
   ],
   "source": [
    "auc_score = auc(fpr, tpr)\n",
    "print(\"Area under the curve = \", auc_score)"
   ]
  },
  {
   "cell_type": "code",
   "execution_count": 153,
   "id": "553875da",
   "metadata": {},
   "outputs": [
    {
     "data": {
      "image/png": "[encoded data removed]",
      "text/plain": [
       "<Figure size 432x288 with 1 Axes>"
      ]
     },
     "metadata": {
      "needs_background": "light"
     },
     "output_type": "display_data"
    }
   ],
   "source": [
    "# visualization ROC AUC\n",
    "plt.figure()\n",
    "plt.plot([0, 1], label='Baseline', linestyle='--')\n",
    "plt.plot(fpr, tpr, label='Regression')\n",
    "plt.title('Logistic Regression ROC AUC = %0.3f' % roc_auc)\n",
    "plt.ylabel('True Positive Rate')\n",
    "plt.xlabel('False Positive Rate')\n",
    "plt.legend(loc='lower right')\n",
    "plt.show()"
   ]
  },
  {
   "cell_type": "code",
   "execution_count": 154,
   "id": "3ad93cbb",
   "metadata": {},
   "outputs": [
    {
     "data": {
      "text/plain": [
       "Index(['PassengerId', 'Survived', 'Pclass', 'Sex', 'Age', 'SibSp', 'Parch',\n",
       "       'Fare', 'Cabin', 'Embarked', 'alone', 'family_size', 'cabin_number',\n",
       "       'title', 'age_binned', 'big_family', 'cabin_label'],\n",
       "      dtype='object')"
      ]
     },
     "execution_count": 154,
     "metadata": {},
     "output_type": "execute_result"
    }
   ],
   "source": [
    "df.columns"
   ]
  },
  {
   "cell_type": "markdown",
   "id": "0120641e",
   "metadata": {},
   "source": [
    "# Polynomial Features"
   ]
  },
  {
   "cell_type": "code",
   "execution_count": 155,
   "id": "b7774c32",
   "metadata": {},
   "outputs": [
    {
     "name": "stdout",
     "output_type": "stream",
     "text": [
      "accuracy:  0.515695067264574\n",
      "precision:  0.4024390243902439\n",
      "recall:  0.358695652173913\n",
      "f1_score:  0.3793103448275862\n"
     ]
    }
   ],
   "source": [
    "from sklearn import preprocessing\n",
    "\n",
    "X = data[['Pclass', 'Sex', 'Embarked', 'fare_range', 'title', 'age_binned', 'big_family',\n",
    "          'cabin_label_A', 'cabin_label_B', 'cabin_label_C', 'cabin_label_D', 'cabin_label_E',\n",
    "          'cabin_label_F', 'cabin_label_G', 'cabin_label_T', 'cabin_label_n', 'fare_range']]\n",
    "y = data['Survived']\n",
    "\n",
    "X_train, X_val, y_train, y_val = train_test_split(X, y, test_size=0.25)\n",
    "\n",
    "poly = preprocessing.PolynomialFeatures(degree=2,include_bias=False)\n",
    "poly_features = poly.fit_transform(X)\n",
    "\n",
    "m_rf5 = RandomForestClassifier(n_estimators=15, random_state=42, max_depth=5)\n",
    "m_rf5.fit(X_train, y_train)\n",
    "ypred_5=m_rf5.predict(X_val)\n",
    "\n",
    "print('accuracy: ', accuracy_score(y_val, ypred_rf))\n",
    "print('precision: ', precision_score(y_val, ypred_rf))\n",
    "print('recall: ', recall_score(y_val, ypred_rf))\n",
    "print('f1_score: ', f1_score(y_val, ypred_rf))"
   ]
  },
  {
   "cell_type": "markdown",
   "id": "00be6b7b",
   "metadata": {},
   "source": [
    "# SVC"
   ]
  },
  {
   "cell_type": "code",
   "execution_count": 156,
   "id": "4d2a312a",
   "metadata": {},
   "outputs": [
    {
     "data": {
      "text/plain": [
       "Index(['PassengerId', 'Survived', 'Pclass', 'Sex', 'Age', 'SibSp', 'Parch',\n",
       "       'Fare', 'Embarked', 'alone', 'family_size', 'cabin_number', 'title',\n",
       "       'age_binned', 'big_family', 'cabin_label_A', 'cabin_label_B',\n",
       "       'cabin_label_C', 'cabin_label_D', 'cabin_label_E', 'cabin_label_F',\n",
       "       'cabin_label_G', 'cabin_label_T', 'cabin_label_n', 'fare_range'],\n",
       "      dtype='object')"
      ]
     },
     "execution_count": 156,
     "metadata": {},
     "output_type": "execute_result"
    }
   ],
   "source": [
    "data.columns"
   ]
  },
  {
   "cell_type": "code",
   "execution_count": 157,
   "id": "dd606453",
   "metadata": {},
   "outputs": [
    {
     "name": "stdout",
     "output_type": "stream",
     "text": [
      "0.6736526946107785\n"
     ]
    }
   ],
   "source": [
    "from sklearn.svm import SVC\n",
    "from matplotlib import pyplot as plt\n",
    "\n",
    "X = data[['Pclass', 'Sex', 'Age', 'SibSp', 'Parch',\n",
    "       'Fare', 'Embarked', 'alone', 'family_size', 'title',\n",
    "       'age_binned', 'big_family', 'cabin_label_A', 'cabin_label_B',\n",
    "       'cabin_label_C', 'cabin_label_D', 'cabin_label_E', 'cabin_label_F',\n",
    "       'cabin_label_G', 'cabin_label_T', 'cabin_label_n', 'fare_range']]\n",
    "y = data['Survived']\n",
    "\n",
    "X_train, X_val, y_train, y_val = train_test_split(X, y, test_size=0.25)\n",
    "\n",
    "# train a classifier\n",
    "m_svc = SVC(kernel='rbf', C=0.1)\n",
    "m_svc.fit(X_train, y_train)\n",
    "print(m_svc.score(X_train, y_train))"
   ]
  },
  {
   "cell_type": "markdown",
   "id": "fbdc0d72",
   "metadata": {},
   "source": [
    "# Feature engineering vol.2"
   ]
  },
  {
   "cell_type": "code",
   "execution_count": 158,
   "id": "72085aa1",
   "metadata": {},
   "outputs": [
    {
     "data": {
      "text/html": [
       "<div>\n",
       "<style scoped>\n",
       "    .dataframe tbody tr th:only-of-type {\n",
       "        vertical-align: middle;\n",
       "    }\n",
       "\n",
       "    .dataframe tbody tr th {\n",
       "        vertical-align: top;\n",
       "    }\n",
       "\n",
       "    .dataframe thead th {\n",
       "        text-align: right;\n",
       "    }\n",
       "</style>\n",
       "<table border=\"1\" class=\"dataframe\">\n",
       "  <thead>\n",
       "    <tr style=\"text-align: right;\">\n",
       "      <th></th>\n",
       "      <th>PassengerId</th>\n",
       "      <th>Survived</th>\n",
       "      <th>Pclass</th>\n",
       "      <th>Sex</th>\n",
       "      <th>Age</th>\n",
       "      <th>SibSp</th>\n",
       "      <th>Parch</th>\n",
       "      <th>Fare</th>\n",
       "      <th>Cabin</th>\n",
       "      <th>Embarked</th>\n",
       "      <th>alone</th>\n",
       "      <th>family_size</th>\n",
       "      <th>cabin_number</th>\n",
       "      <th>title</th>\n",
       "      <th>age_binned</th>\n",
       "      <th>big_family</th>\n",
       "      <th>cabin_label</th>\n",
       "    </tr>\n",
       "  </thead>\n",
       "  <tbody>\n",
       "    <tr>\n",
       "      <th>0</th>\n",
       "      <td>1</td>\n",
       "      <td>0</td>\n",
       "      <td>3</td>\n",
       "      <td>1</td>\n",
       "      <td>22.0</td>\n",
       "      <td>1</td>\n",
       "      <td>0</td>\n",
       "      <td>7.25</td>\n",
       "      <td>NaN</td>\n",
       "      <td>2</td>\n",
       "      <td>1</td>\n",
       "      <td>2</td>\n",
       "      <td>0</td>\n",
       "      <td>1</td>\n",
       "      <td>0</td>\n",
       "      <td>0</td>\n",
       "      <td>n</td>\n",
       "    </tr>\n",
       "    <tr>\n",
       "      <th>1</th>\n",
       "      <td>2</td>\n",
       "      <td>1</td>\n",
       "      <td>1</td>\n",
       "      <td>0</td>\n",
       "      <td>38.0</td>\n",
       "      <td>1</td>\n",
       "      <td>0</td>\n",
       "      <td>71.28</td>\n",
       "      <td>C85</td>\n",
       "      <td>0</td>\n",
       "      <td>1</td>\n",
       "      <td>2</td>\n",
       "      <td>1</td>\n",
       "      <td>3</td>\n",
       "      <td>1</td>\n",
       "      <td>0</td>\n",
       "      <td>C</td>\n",
       "    </tr>\n",
       "    <tr>\n",
       "      <th>2</th>\n",
       "      <td>3</td>\n",
       "      <td>1</td>\n",
       "      <td>3</td>\n",
       "      <td>0</td>\n",
       "      <td>26.0</td>\n",
       "      <td>0</td>\n",
       "      <td>0</td>\n",
       "      <td>7.92</td>\n",
       "      <td>NaN</td>\n",
       "      <td>2</td>\n",
       "      <td>0</td>\n",
       "      <td>1</td>\n",
       "      <td>0</td>\n",
       "      <td>2</td>\n",
       "      <td>0</td>\n",
       "      <td>0</td>\n",
       "      <td>n</td>\n",
       "    </tr>\n",
       "    <tr>\n",
       "      <th>3</th>\n",
       "      <td>4</td>\n",
       "      <td>1</td>\n",
       "      <td>1</td>\n",
       "      <td>0</td>\n",
       "      <td>35.0</td>\n",
       "      <td>1</td>\n",
       "      <td>0</td>\n",
       "      <td>53.10</td>\n",
       "      <td>C123</td>\n",
       "      <td>2</td>\n",
       "      <td>1</td>\n",
       "      <td>2</td>\n",
       "      <td>1</td>\n",
       "      <td>3</td>\n",
       "      <td>1</td>\n",
       "      <td>0</td>\n",
       "      <td>C</td>\n",
       "    </tr>\n",
       "    <tr>\n",
       "      <th>4</th>\n",
       "      <td>5</td>\n",
       "      <td>0</td>\n",
       "      <td>3</td>\n",
       "      <td>1</td>\n",
       "      <td>35.0</td>\n",
       "      <td>0</td>\n",
       "      <td>0</td>\n",
       "      <td>8.05</td>\n",
       "      <td>NaN</td>\n",
       "      <td>2</td>\n",
       "      <td>0</td>\n",
       "      <td>1</td>\n",
       "      <td>0</td>\n",
       "      <td>1</td>\n",
       "      <td>1</td>\n",
       "      <td>0</td>\n",
       "      <td>n</td>\n",
       "    </tr>\n",
       "  </tbody>\n",
       "</table>\n",
       "</div>"
      ],
      "text/plain": [
       "   PassengerId  Survived  Pclass  Sex   Age  SibSp  Parch   Fare Cabin  \\\n",
       "0            1         0       3    1  22.0      1      0   7.25   NaN   \n",
       "1            2         1       1    0  38.0      1      0  71.28   C85   \n",
       "2            3         1       3    0  26.0      0      0   7.92   NaN   \n",
       "3            4         1       1    0  35.0      1      0  53.10  C123   \n",
       "4            5         0       3    1  35.0      0      0   8.05   NaN   \n",
       "\n",
       "   Embarked  alone  family_size  cabin_number  title  age_binned  big_family  \\\n",
       "0         2      1            2             0      1           0           0   \n",
       "1         0      1            2             1      3           1           0   \n",
       "2         2      0            1             0      2           0           0   \n",
       "3         2      1            2             1      3           1           0   \n",
       "4         2      0            1             0      1           1           0   \n",
       "\n",
       "  cabin_label  \n",
       "0           n  \n",
       "1           C  \n",
       "2           n  \n",
       "3           C  \n",
       "4           n  "
      ]
     },
     "execution_count": 158,
     "metadata": {},
     "output_type": "execute_result"
    }
   ],
   "source": [
    "df.head()"
   ]
  },
  {
   "cell_type": "code",
   "execution_count": 159,
   "id": "69465ff5",
   "metadata": {},
   "outputs": [
    {
     "data": {
      "text/plain": [
       "(16.336, 32.252]    493\n",
       "(32.252, 48.168]    218\n",
       "(0.34, 16.336]      100\n",
       "(48.168, 64.084]     69\n",
       "(64.084, 80.0]       11\n",
       "Name: Age, dtype: int64"
      ]
     },
     "execution_count": 159,
     "metadata": {},
     "output_type": "execute_result"
    }
   ],
   "source": [
    "pd.cut(df['Age'], bins = 5).value_counts()"
   ]
  },
  {
   "cell_type": "code",
   "execution_count": 160,
   "id": "4712d6c0",
   "metadata": {},
   "outputs": [],
   "source": [
    "# cut the 'Age' column into 5 equal-sized bins\n",
    "df[\"age_cut\"] = pd.qcut(df['Age'],5,labels = ['kids', 'young', 'middle_aged', 'old','super_old'])"
   ]
  },
  {
   "cell_type": "code",
   "execution_count": 161,
   "id": "15266380",
   "metadata": {},
   "outputs": [
    {
     "data": {
      "text/plain": [
       "young          258\n",
       "kids           179\n",
       "super_old      177\n",
       "old            158\n",
       "middle_aged    119\n",
       "Name: age_cut, dtype: int64"
      ]
     },
     "execution_count": 161,
     "metadata": {},
     "output_type": "execute_result"
    }
   ],
   "source": [
    "df[\"age_cut\"].value_counts()"
   ]
  },
  {
   "cell_type": "code",
   "execution_count": 162,
   "id": "f0b87602",
   "metadata": {},
   "outputs": [],
   "source": [
    "df['big_family'] = df['family_size'].apply(lambda x: 0 if x<=3 else 1)"
   ]
  },
  {
   "cell_type": "code",
   "execution_count": 163,
   "id": "50073094",
   "metadata": {},
   "outputs": [],
   "source": [
    "df[\"fare_range\"] = pd.qcut(df['Fare'],5,labels = ['mega_cheap', 'cheap','economy', 'middle_priced','expensive'])"
   ]
  },
  {
   "cell_type": "code",
   "execution_count": 164,
   "id": "1715edc3",
   "metadata": {},
   "outputs": [],
   "source": [
    "# instantiate our One-Hot Encoder object\n",
    "ohe = OneHotEncoder(drop = 'first')"
   ]
  },
  {
   "cell_type": "code",
   "execution_count": 165,
   "id": "2aa72997",
   "metadata": {},
   "outputs": [
    {
     "data": {
      "text/plain": [
       "array([[0., 0., 0., ..., 0., 1., 0.],\n",
       "       [0., 1., 0., ..., 1., 0., 0.],\n",
       "       [1., 0., 0., ..., 0., 0., 0.],\n",
       "       ...,\n",
       "       [0., 0., 0., ..., 0., 0., 1.],\n",
       "       [1., 0., 0., ..., 0., 0., 1.],\n",
       "       [0., 1., 0., ..., 0., 1., 0.]])"
      ]
     },
     "execution_count": 165,
     "metadata": {},
     "output_type": "execute_result"
    }
   ],
   "source": [
    "encoded = ohe.fit_transform(df[['age_cut', 'cabin_label', 'fare_range']]).toarray()\n",
    "encoded"
   ]
  },
  {
   "cell_type": "code",
   "execution_count": 166,
   "id": "8183fef8",
   "metadata": {},
   "outputs": [
    {
     "data": {
      "text/plain": [
       "array(['age_cut_middle_aged', 'age_cut_old', 'age_cut_super_old',\n",
       "       'age_cut_young', 'cabin_label_B', 'cabin_label_C', 'cabin_label_D',\n",
       "       'cabin_label_E', 'cabin_label_F', 'cabin_label_G', 'cabin_label_T',\n",
       "       'cabin_label_n', 'fare_range_economy', 'fare_range_expensive',\n",
       "       'fare_range_mega_cheap', 'fare_range_middle_priced'], dtype=object)"
      ]
     },
     "execution_count": 166,
     "metadata": {},
     "output_type": "execute_result"
    }
   ],
   "source": [
    "labels = ohe.get_feature_names_out()\n",
    "labels"
   ]
  },
  {
   "cell_type": "code",
   "execution_count": 167,
   "id": "57457f96",
   "metadata": {},
   "outputs": [],
   "source": [
    "enc_df = pd.DataFrame(data = encoded, \n",
    "                      columns = labels, \n",
    "                      index = df.index)"
   ]
  },
  {
   "cell_type": "code",
   "execution_count": 168,
   "id": "649ce495",
   "metadata": {},
   "outputs": [
    {
     "data": {
      "text/html": [
       "<div>\n",
       "<style scoped>\n",
       "    .dataframe tbody tr th:only-of-type {\n",
       "        vertical-align: middle;\n",
       "    }\n",
       "\n",
       "    .dataframe tbody tr th {\n",
       "        vertical-align: top;\n",
       "    }\n",
       "\n",
       "    .dataframe thead th {\n",
       "        text-align: right;\n",
       "    }\n",
       "</style>\n",
       "<table border=\"1\" class=\"dataframe\">\n",
       "  <thead>\n",
       "    <tr style=\"text-align: right;\">\n",
       "      <th></th>\n",
       "      <th>PassengerId</th>\n",
       "      <th>Survived</th>\n",
       "      <th>Pclass</th>\n",
       "      <th>Sex</th>\n",
       "      <th>Age</th>\n",
       "      <th>SibSp</th>\n",
       "      <th>Parch</th>\n",
       "      <th>Fare</th>\n",
       "      <th>Cabin</th>\n",
       "      <th>Embarked</th>\n",
       "      <th>...</th>\n",
       "      <th>cabin_label_D</th>\n",
       "      <th>cabin_label_E</th>\n",
       "      <th>cabin_label_F</th>\n",
       "      <th>cabin_label_G</th>\n",
       "      <th>cabin_label_T</th>\n",
       "      <th>cabin_label_n</th>\n",
       "      <th>fare_range_economy</th>\n",
       "      <th>fare_range_expensive</th>\n",
       "      <th>fare_range_mega_cheap</th>\n",
       "      <th>fare_range_middle_priced</th>\n",
       "    </tr>\n",
       "  </thead>\n",
       "  <tbody>\n",
       "    <tr>\n",
       "      <th>0</th>\n",
       "      <td>1</td>\n",
       "      <td>0</td>\n",
       "      <td>3</td>\n",
       "      <td>1</td>\n",
       "      <td>22.00000</td>\n",
       "      <td>1</td>\n",
       "      <td>0</td>\n",
       "      <td>7.25</td>\n",
       "      <td>NaN</td>\n",
       "      <td>2</td>\n",
       "      <td>...</td>\n",
       "      <td>0.0</td>\n",
       "      <td>0.0</td>\n",
       "      <td>0.0</td>\n",
       "      <td>0.0</td>\n",
       "      <td>0.0</td>\n",
       "      <td>1.0</td>\n",
       "      <td>0.0</td>\n",
       "      <td>0.0</td>\n",
       "      <td>1.0</td>\n",
       "      <td>0.0</td>\n",
       "    </tr>\n",
       "    <tr>\n",
       "      <th>1</th>\n",
       "      <td>2</td>\n",
       "      <td>1</td>\n",
       "      <td>1</td>\n",
       "      <td>0</td>\n",
       "      <td>38.00000</td>\n",
       "      <td>1</td>\n",
       "      <td>0</td>\n",
       "      <td>71.28</td>\n",
       "      <td>C85</td>\n",
       "      <td>0</td>\n",
       "      <td>...</td>\n",
       "      <td>0.0</td>\n",
       "      <td>0.0</td>\n",
       "      <td>0.0</td>\n",
       "      <td>0.0</td>\n",
       "      <td>0.0</td>\n",
       "      <td>0.0</td>\n",
       "      <td>0.0</td>\n",
       "      <td>1.0</td>\n",
       "      <td>0.0</td>\n",
       "      <td>0.0</td>\n",
       "    </tr>\n",
       "    <tr>\n",
       "      <th>2</th>\n",
       "      <td>3</td>\n",
       "      <td>1</td>\n",
       "      <td>3</td>\n",
       "      <td>0</td>\n",
       "      <td>26.00000</td>\n",
       "      <td>0</td>\n",
       "      <td>0</td>\n",
       "      <td>7.92</td>\n",
       "      <td>NaN</td>\n",
       "      <td>2</td>\n",
       "      <td>...</td>\n",
       "      <td>0.0</td>\n",
       "      <td>0.0</td>\n",
       "      <td>0.0</td>\n",
       "      <td>0.0</td>\n",
       "      <td>0.0</td>\n",
       "      <td>1.0</td>\n",
       "      <td>0.0</td>\n",
       "      <td>0.0</td>\n",
       "      <td>0.0</td>\n",
       "      <td>0.0</td>\n",
       "    </tr>\n",
       "    <tr>\n",
       "      <th>3</th>\n",
       "      <td>4</td>\n",
       "      <td>1</td>\n",
       "      <td>1</td>\n",
       "      <td>0</td>\n",
       "      <td>35.00000</td>\n",
       "      <td>1</td>\n",
       "      <td>0</td>\n",
       "      <td>53.10</td>\n",
       "      <td>C123</td>\n",
       "      <td>2</td>\n",
       "      <td>...</td>\n",
       "      <td>0.0</td>\n",
       "      <td>0.0</td>\n",
       "      <td>0.0</td>\n",
       "      <td>0.0</td>\n",
       "      <td>0.0</td>\n",
       "      <td>0.0</td>\n",
       "      <td>0.0</td>\n",
       "      <td>1.0</td>\n",
       "      <td>0.0</td>\n",
       "      <td>0.0</td>\n",
       "    </tr>\n",
       "    <tr>\n",
       "      <th>4</th>\n",
       "      <td>5</td>\n",
       "      <td>0</td>\n",
       "      <td>3</td>\n",
       "      <td>1</td>\n",
       "      <td>35.00000</td>\n",
       "      <td>0</td>\n",
       "      <td>0</td>\n",
       "      <td>8.05</td>\n",
       "      <td>NaN</td>\n",
       "      <td>2</td>\n",
       "      <td>...</td>\n",
       "      <td>0.0</td>\n",
       "      <td>0.0</td>\n",
       "      <td>0.0</td>\n",
       "      <td>0.0</td>\n",
       "      <td>0.0</td>\n",
       "      <td>1.0</td>\n",
       "      <td>0.0</td>\n",
       "      <td>0.0</td>\n",
       "      <td>0.0</td>\n",
       "      <td>0.0</td>\n",
       "    </tr>\n",
       "    <tr>\n",
       "      <th>...</th>\n",
       "      <td>...</td>\n",
       "      <td>...</td>\n",
       "      <td>...</td>\n",
       "      <td>...</td>\n",
       "      <td>...</td>\n",
       "      <td>...</td>\n",
       "      <td>...</td>\n",
       "      <td>...</td>\n",
       "      <td>...</td>\n",
       "      <td>...</td>\n",
       "      <td>...</td>\n",
       "      <td>...</td>\n",
       "      <td>...</td>\n",
       "      <td>...</td>\n",
       "      <td>...</td>\n",
       "      <td>...</td>\n",
       "      <td>...</td>\n",
       "      <td>...</td>\n",
       "      <td>...</td>\n",
       "      <td>...</td>\n",
       "      <td>...</td>\n",
       "    </tr>\n",
       "    <tr>\n",
       "      <th>886</th>\n",
       "      <td>887</td>\n",
       "      <td>0</td>\n",
       "      <td>2</td>\n",
       "      <td>1</td>\n",
       "      <td>27.00000</td>\n",
       "      <td>0</td>\n",
       "      <td>0</td>\n",
       "      <td>13.00</td>\n",
       "      <td>NaN</td>\n",
       "      <td>2</td>\n",
       "      <td>...</td>\n",
       "      <td>0.0</td>\n",
       "      <td>0.0</td>\n",
       "      <td>0.0</td>\n",
       "      <td>0.0</td>\n",
       "      <td>0.0</td>\n",
       "      <td>1.0</td>\n",
       "      <td>1.0</td>\n",
       "      <td>0.0</td>\n",
       "      <td>0.0</td>\n",
       "      <td>0.0</td>\n",
       "    </tr>\n",
       "    <tr>\n",
       "      <th>887</th>\n",
       "      <td>888</td>\n",
       "      <td>1</td>\n",
       "      <td>1</td>\n",
       "      <td>0</td>\n",
       "      <td>19.00000</td>\n",
       "      <td>0</td>\n",
       "      <td>0</td>\n",
       "      <td>30.00</td>\n",
       "      <td>B42</td>\n",
       "      <td>2</td>\n",
       "      <td>...</td>\n",
       "      <td>0.0</td>\n",
       "      <td>0.0</td>\n",
       "      <td>0.0</td>\n",
       "      <td>0.0</td>\n",
       "      <td>0.0</td>\n",
       "      <td>0.0</td>\n",
       "      <td>0.0</td>\n",
       "      <td>0.0</td>\n",
       "      <td>0.0</td>\n",
       "      <td>1.0</td>\n",
       "    </tr>\n",
       "    <tr>\n",
       "      <th>888</th>\n",
       "      <td>889</td>\n",
       "      <td>0</td>\n",
       "      <td>3</td>\n",
       "      <td>0</td>\n",
       "      <td>25.14062</td>\n",
       "      <td>1</td>\n",
       "      <td>2</td>\n",
       "      <td>23.45</td>\n",
       "      <td>NaN</td>\n",
       "      <td>2</td>\n",
       "      <td>...</td>\n",
       "      <td>0.0</td>\n",
       "      <td>0.0</td>\n",
       "      <td>0.0</td>\n",
       "      <td>0.0</td>\n",
       "      <td>0.0</td>\n",
       "      <td>1.0</td>\n",
       "      <td>0.0</td>\n",
       "      <td>0.0</td>\n",
       "      <td>0.0</td>\n",
       "      <td>1.0</td>\n",
       "    </tr>\n",
       "    <tr>\n",
       "      <th>889</th>\n",
       "      <td>890</td>\n",
       "      <td>1</td>\n",
       "      <td>1</td>\n",
       "      <td>1</td>\n",
       "      <td>26.00000</td>\n",
       "      <td>0</td>\n",
       "      <td>0</td>\n",
       "      <td>30.00</td>\n",
       "      <td>C148</td>\n",
       "      <td>0</td>\n",
       "      <td>...</td>\n",
       "      <td>0.0</td>\n",
       "      <td>0.0</td>\n",
       "      <td>0.0</td>\n",
       "      <td>0.0</td>\n",
       "      <td>0.0</td>\n",
       "      <td>0.0</td>\n",
       "      <td>0.0</td>\n",
       "      <td>0.0</td>\n",
       "      <td>0.0</td>\n",
       "      <td>1.0</td>\n",
       "    </tr>\n",
       "    <tr>\n",
       "      <th>890</th>\n",
       "      <td>891</td>\n",
       "      <td>0</td>\n",
       "      <td>3</td>\n",
       "      <td>1</td>\n",
       "      <td>32.00000</td>\n",
       "      <td>0</td>\n",
       "      <td>0</td>\n",
       "      <td>7.75</td>\n",
       "      <td>NaN</td>\n",
       "      <td>1</td>\n",
       "      <td>...</td>\n",
       "      <td>0.0</td>\n",
       "      <td>0.0</td>\n",
       "      <td>0.0</td>\n",
       "      <td>0.0</td>\n",
       "      <td>0.0</td>\n",
       "      <td>1.0</td>\n",
       "      <td>0.0</td>\n",
       "      <td>0.0</td>\n",
       "      <td>1.0</td>\n",
       "      <td>0.0</td>\n",
       "    </tr>\n",
       "  </tbody>\n",
       "</table>\n",
       "<p>891 rows × 32 columns</p>\n",
       "</div>"
      ],
      "text/plain": [
       "     PassengerId  Survived  Pclass  Sex       Age  SibSp  Parch   Fare Cabin  \\\n",
       "0              1         0       3    1  22.00000      1      0   7.25   NaN   \n",
       "1              2         1       1    0  38.00000      1      0  71.28   C85   \n",
       "2              3         1       3    0  26.00000      0      0   7.92   NaN   \n",
       "3              4         1       1    0  35.00000      1      0  53.10  C123   \n",
       "4              5         0       3    1  35.00000      0      0   8.05   NaN   \n",
       "..           ...       ...     ...  ...       ...    ...    ...    ...   ...   \n",
       "886          887         0       2    1  27.00000      0      0  13.00   NaN   \n",
       "887          888         1       1    0  19.00000      0      0  30.00   B42   \n",
       "888          889         0       3    0  25.14062      1      2  23.45   NaN   \n",
       "889          890         1       1    1  26.00000      0      0  30.00  C148   \n",
       "890          891         0       3    1  32.00000      0      0   7.75   NaN   \n",
       "\n",
       "     Embarked  ...  cabin_label_D  cabin_label_E  cabin_label_F  \\\n",
       "0           2  ...            0.0            0.0            0.0   \n",
       "1           0  ...            0.0            0.0            0.0   \n",
       "2           2  ...            0.0            0.0            0.0   \n",
       "3           2  ...            0.0            0.0            0.0   \n",
       "4           2  ...            0.0            0.0            0.0   \n",
       "..        ...  ...            ...            ...            ...   \n",
       "886         2  ...            0.0            0.0            0.0   \n",
       "887         2  ...            0.0            0.0            0.0   \n",
       "888         2  ...            0.0            0.0            0.0   \n",
       "889         0  ...            0.0            0.0            0.0   \n",
       "890         1  ...            0.0            0.0            0.0   \n",
       "\n",
       "     cabin_label_G  cabin_label_T  cabin_label_n  fare_range_economy  \\\n",
       "0              0.0            0.0            1.0                 0.0   \n",
       "1              0.0            0.0            0.0                 0.0   \n",
       "2              0.0            0.0            1.0                 0.0   \n",
       "3              0.0            0.0            0.0                 0.0   \n",
       "4              0.0            0.0            1.0                 0.0   \n",
       "..             ...            ...            ...                 ...   \n",
       "886            0.0            0.0            1.0                 1.0   \n",
       "887            0.0            0.0            0.0                 0.0   \n",
       "888            0.0            0.0            1.0                 0.0   \n",
       "889            0.0            0.0            0.0                 0.0   \n",
       "890            0.0            0.0            1.0                 0.0   \n",
       "\n",
       "     fare_range_expensive  fare_range_mega_cheap  fare_range_middle_priced  \n",
       "0                     0.0                    1.0                       0.0  \n",
       "1                     1.0                    0.0                       0.0  \n",
       "2                     0.0                    0.0                       0.0  \n",
       "3                     1.0                    0.0                       0.0  \n",
       "4                     0.0                    0.0                       0.0  \n",
       "..                    ...                    ...                       ...  \n",
       "886                   0.0                    0.0                       0.0  \n",
       "887                   0.0                    0.0                       1.0  \n",
       "888                   0.0                    0.0                       1.0  \n",
       "889                   0.0                    0.0                       1.0  \n",
       "890                   0.0                    1.0                       0.0  \n",
       "\n",
       "[891 rows x 32 columns]"
      ]
     },
     "execution_count": 168,
     "metadata": {},
     "output_type": "execute_result"
    }
   ],
   "source": [
    "df = pd.concat([df, enc_df], axis = 1).drop(['age_cut', 'cabin_label', 'fare_range'], axis = 1)\n",
    "df"
   ]
  },
  {
   "cell_type": "code",
   "execution_count": 169,
   "id": "8369aa56",
   "metadata": {},
   "outputs": [],
   "source": [
    "scaler = StandardScaler()"
   ]
  },
  {
   "cell_type": "code",
   "execution_count": 170,
   "id": "ecc4ca9c",
   "metadata": {},
   "outputs": [],
   "source": [
    "col = df[['Fare']]"
   ]
  },
  {
   "cell_type": "code",
   "execution_count": 171,
   "id": "cafbb834",
   "metadata": {},
   "outputs": [],
   "source": [
    "scaler.fit(col)\n",
    "t = scaler.transform(col)"
   ]
  },
  {
   "cell_type": "code",
   "execution_count": 172,
   "id": "b30f79d7",
   "metadata": {},
   "outputs": [
    {
     "data": {
      "text/html": [
       "<div>\n",
       "<style scoped>\n",
       "    .dataframe tbody tr th:only-of-type {\n",
       "        vertical-align: middle;\n",
       "    }\n",
       "\n",
       "    .dataframe tbody tr th {\n",
       "        vertical-align: top;\n",
       "    }\n",
       "\n",
       "    .dataframe thead th {\n",
       "        text-align: right;\n",
       "    }\n",
       "</style>\n",
       "<table border=\"1\" class=\"dataframe\">\n",
       "  <thead>\n",
       "    <tr style=\"text-align: right;\">\n",
       "      <th></th>\n",
       "      <th>Fare</th>\n",
       "    </tr>\n",
       "  </thead>\n",
       "  <tbody>\n",
       "    <tr>\n",
       "      <th>0</th>\n",
       "      <td>-0.502449</td>\n",
       "    </tr>\n",
       "    <tr>\n",
       "      <th>1</th>\n",
       "      <td>0.786776</td>\n",
       "    </tr>\n",
       "    <tr>\n",
       "      <th>2</th>\n",
       "      <td>-0.488958</td>\n",
       "    </tr>\n",
       "    <tr>\n",
       "      <th>3</th>\n",
       "      <td>0.420727</td>\n",
       "    </tr>\n",
       "    <tr>\n",
       "      <th>4</th>\n",
       "      <td>-0.486341</td>\n",
       "    </tr>\n",
       "  </tbody>\n",
       "</table>\n",
       "</div>"
      ],
      "text/plain": [
       "       Fare\n",
       "0 -0.502449\n",
       "1  0.786776\n",
       "2 -0.488958\n",
       "3  0.420727\n",
       "4 -0.486341"
      ]
     },
     "execution_count": 172,
     "metadata": {},
     "output_type": "execute_result"
    }
   ],
   "source": [
    "fare_scaled = pd.DataFrame(t, columns = col.columns)\n",
    "fare_scaled.head(5)"
   ]
  },
  {
   "cell_type": "code",
   "execution_count": 173,
   "id": "3f9af430",
   "metadata": {},
   "outputs": [
    {
     "data": {
      "text/html": [
       "<div>\n",
       "<style scoped>\n",
       "    .dataframe tbody tr th:only-of-type {\n",
       "        vertical-align: middle;\n",
       "    }\n",
       "\n",
       "    .dataframe tbody tr th {\n",
       "        vertical-align: top;\n",
       "    }\n",
       "\n",
       "    .dataframe thead th {\n",
       "        text-align: right;\n",
       "    }\n",
       "</style>\n",
       "<table border=\"1\" class=\"dataframe\">\n",
       "  <thead>\n",
       "    <tr style=\"text-align: right;\">\n",
       "      <th></th>\n",
       "      <th>PassengerId</th>\n",
       "      <th>Survived</th>\n",
       "      <th>Pclass</th>\n",
       "      <th>Sex</th>\n",
       "      <th>Age</th>\n",
       "      <th>SibSp</th>\n",
       "      <th>Parch</th>\n",
       "      <th>Fare</th>\n",
       "      <th>Cabin</th>\n",
       "      <th>Embarked</th>\n",
       "      <th>...</th>\n",
       "      <th>cabin_label_D</th>\n",
       "      <th>cabin_label_E</th>\n",
       "      <th>cabin_label_F</th>\n",
       "      <th>cabin_label_G</th>\n",
       "      <th>cabin_label_T</th>\n",
       "      <th>cabin_label_n</th>\n",
       "      <th>fare_range_economy</th>\n",
       "      <th>fare_range_expensive</th>\n",
       "      <th>fare_range_mega_cheap</th>\n",
       "      <th>fare_range_middle_priced</th>\n",
       "    </tr>\n",
       "  </thead>\n",
       "  <tbody>\n",
       "    <tr>\n",
       "      <th>0</th>\n",
       "      <td>1</td>\n",
       "      <td>0</td>\n",
       "      <td>3</td>\n",
       "      <td>1</td>\n",
       "      <td>22.00000</td>\n",
       "      <td>1</td>\n",
       "      <td>0</td>\n",
       "      <td>7.25</td>\n",
       "      <td>NaN</td>\n",
       "      <td>2</td>\n",
       "      <td>...</td>\n",
       "      <td>0.0</td>\n",
       "      <td>0.0</td>\n",
       "      <td>0.0</td>\n",
       "      <td>0.0</td>\n",
       "      <td>0.0</td>\n",
       "      <td>1.0</td>\n",
       "      <td>0.0</td>\n",
       "      <td>0.0</td>\n",
       "      <td>1.0</td>\n",
       "      <td>0.0</td>\n",
       "    </tr>\n",
       "    <tr>\n",
       "      <th>1</th>\n",
       "      <td>2</td>\n",
       "      <td>1</td>\n",
       "      <td>1</td>\n",
       "      <td>0</td>\n",
       "      <td>38.00000</td>\n",
       "      <td>1</td>\n",
       "      <td>0</td>\n",
       "      <td>71.28</td>\n",
       "      <td>C85</td>\n",
       "      <td>0</td>\n",
       "      <td>...</td>\n",
       "      <td>0.0</td>\n",
       "      <td>0.0</td>\n",
       "      <td>0.0</td>\n",
       "      <td>0.0</td>\n",
       "      <td>0.0</td>\n",
       "      <td>0.0</td>\n",
       "      <td>0.0</td>\n",
       "      <td>1.0</td>\n",
       "      <td>0.0</td>\n",
       "      <td>0.0</td>\n",
       "    </tr>\n",
       "    <tr>\n",
       "      <th>2</th>\n",
       "      <td>3</td>\n",
       "      <td>1</td>\n",
       "      <td>3</td>\n",
       "      <td>0</td>\n",
       "      <td>26.00000</td>\n",
       "      <td>0</td>\n",
       "      <td>0</td>\n",
       "      <td>7.92</td>\n",
       "      <td>NaN</td>\n",
       "      <td>2</td>\n",
       "      <td>...</td>\n",
       "      <td>0.0</td>\n",
       "      <td>0.0</td>\n",
       "      <td>0.0</td>\n",
       "      <td>0.0</td>\n",
       "      <td>0.0</td>\n",
       "      <td>1.0</td>\n",
       "      <td>0.0</td>\n",
       "      <td>0.0</td>\n",
       "      <td>0.0</td>\n",
       "      <td>0.0</td>\n",
       "    </tr>\n",
       "    <tr>\n",
       "      <th>3</th>\n",
       "      <td>4</td>\n",
       "      <td>1</td>\n",
       "      <td>1</td>\n",
       "      <td>0</td>\n",
       "      <td>35.00000</td>\n",
       "      <td>1</td>\n",
       "      <td>0</td>\n",
       "      <td>53.10</td>\n",
       "      <td>C123</td>\n",
       "      <td>2</td>\n",
       "      <td>...</td>\n",
       "      <td>0.0</td>\n",
       "      <td>0.0</td>\n",
       "      <td>0.0</td>\n",
       "      <td>0.0</td>\n",
       "      <td>0.0</td>\n",
       "      <td>0.0</td>\n",
       "      <td>0.0</td>\n",
       "      <td>1.0</td>\n",
       "      <td>0.0</td>\n",
       "      <td>0.0</td>\n",
       "    </tr>\n",
       "    <tr>\n",
       "      <th>4</th>\n",
       "      <td>5</td>\n",
       "      <td>0</td>\n",
       "      <td>3</td>\n",
       "      <td>1</td>\n",
       "      <td>35.00000</td>\n",
       "      <td>0</td>\n",
       "      <td>0</td>\n",
       "      <td>8.05</td>\n",
       "      <td>NaN</td>\n",
       "      <td>2</td>\n",
       "      <td>...</td>\n",
       "      <td>0.0</td>\n",
       "      <td>0.0</td>\n",
       "      <td>0.0</td>\n",
       "      <td>0.0</td>\n",
       "      <td>0.0</td>\n",
       "      <td>1.0</td>\n",
       "      <td>0.0</td>\n",
       "      <td>0.0</td>\n",
       "      <td>0.0</td>\n",
       "      <td>0.0</td>\n",
       "    </tr>\n",
       "    <tr>\n",
       "      <th>...</th>\n",
       "      <td>...</td>\n",
       "      <td>...</td>\n",
       "      <td>...</td>\n",
       "      <td>...</td>\n",
       "      <td>...</td>\n",
       "      <td>...</td>\n",
       "      <td>...</td>\n",
       "      <td>...</td>\n",
       "      <td>...</td>\n",
       "      <td>...</td>\n",
       "      <td>...</td>\n",
       "      <td>...</td>\n",
       "      <td>...</td>\n",
       "      <td>...</td>\n",
       "      <td>...</td>\n",
       "      <td>...</td>\n",
       "      <td>...</td>\n",
       "      <td>...</td>\n",
       "      <td>...</td>\n",
       "      <td>...</td>\n",
       "      <td>...</td>\n",
       "    </tr>\n",
       "    <tr>\n",
       "      <th>886</th>\n",
       "      <td>887</td>\n",
       "      <td>0</td>\n",
       "      <td>2</td>\n",
       "      <td>1</td>\n",
       "      <td>27.00000</td>\n",
       "      <td>0</td>\n",
       "      <td>0</td>\n",
       "      <td>13.00</td>\n",
       "      <td>NaN</td>\n",
       "      <td>2</td>\n",
       "      <td>...</td>\n",
       "      <td>0.0</td>\n",
       "      <td>0.0</td>\n",
       "      <td>0.0</td>\n",
       "      <td>0.0</td>\n",
       "      <td>0.0</td>\n",
       "      <td>1.0</td>\n",
       "      <td>1.0</td>\n",
       "      <td>0.0</td>\n",
       "      <td>0.0</td>\n",
       "      <td>0.0</td>\n",
       "    </tr>\n",
       "    <tr>\n",
       "      <th>887</th>\n",
       "      <td>888</td>\n",
       "      <td>1</td>\n",
       "      <td>1</td>\n",
       "      <td>0</td>\n",
       "      <td>19.00000</td>\n",
       "      <td>0</td>\n",
       "      <td>0</td>\n",
       "      <td>30.00</td>\n",
       "      <td>B42</td>\n",
       "      <td>2</td>\n",
       "      <td>...</td>\n",
       "      <td>0.0</td>\n",
       "      <td>0.0</td>\n",
       "      <td>0.0</td>\n",
       "      <td>0.0</td>\n",
       "      <td>0.0</td>\n",
       "      <td>0.0</td>\n",
       "      <td>0.0</td>\n",
       "      <td>0.0</td>\n",
       "      <td>0.0</td>\n",
       "      <td>1.0</td>\n",
       "    </tr>\n",
       "    <tr>\n",
       "      <th>888</th>\n",
       "      <td>889</td>\n",
       "      <td>0</td>\n",
       "      <td>3</td>\n",
       "      <td>0</td>\n",
       "      <td>25.14062</td>\n",
       "      <td>1</td>\n",
       "      <td>2</td>\n",
       "      <td>23.45</td>\n",
       "      <td>NaN</td>\n",
       "      <td>2</td>\n",
       "      <td>...</td>\n",
       "      <td>0.0</td>\n",
       "      <td>0.0</td>\n",
       "      <td>0.0</td>\n",
       "      <td>0.0</td>\n",
       "      <td>0.0</td>\n",
       "      <td>1.0</td>\n",
       "      <td>0.0</td>\n",
       "      <td>0.0</td>\n",
       "      <td>0.0</td>\n",
       "      <td>1.0</td>\n",
       "    </tr>\n",
       "    <tr>\n",
       "      <th>889</th>\n",
       "      <td>890</td>\n",
       "      <td>1</td>\n",
       "      <td>1</td>\n",
       "      <td>1</td>\n",
       "      <td>26.00000</td>\n",
       "      <td>0</td>\n",
       "      <td>0</td>\n",
       "      <td>30.00</td>\n",
       "      <td>C148</td>\n",
       "      <td>0</td>\n",
       "      <td>...</td>\n",
       "      <td>0.0</td>\n",
       "      <td>0.0</td>\n",
       "      <td>0.0</td>\n",
       "      <td>0.0</td>\n",
       "      <td>0.0</td>\n",
       "      <td>0.0</td>\n",
       "      <td>0.0</td>\n",
       "      <td>0.0</td>\n",
       "      <td>0.0</td>\n",
       "      <td>1.0</td>\n",
       "    </tr>\n",
       "    <tr>\n",
       "      <th>890</th>\n",
       "      <td>891</td>\n",
       "      <td>0</td>\n",
       "      <td>3</td>\n",
       "      <td>1</td>\n",
       "      <td>32.00000</td>\n",
       "      <td>0</td>\n",
       "      <td>0</td>\n",
       "      <td>7.75</td>\n",
       "      <td>NaN</td>\n",
       "      <td>1</td>\n",
       "      <td>...</td>\n",
       "      <td>0.0</td>\n",
       "      <td>0.0</td>\n",
       "      <td>0.0</td>\n",
       "      <td>0.0</td>\n",
       "      <td>0.0</td>\n",
       "      <td>1.0</td>\n",
       "      <td>0.0</td>\n",
       "      <td>0.0</td>\n",
       "      <td>1.0</td>\n",
       "      <td>0.0</td>\n",
       "    </tr>\n",
       "  </tbody>\n",
       "</table>\n",
       "<p>891 rows × 32 columns</p>\n",
       "</div>"
      ],
      "text/plain": [
       "     PassengerId  Survived  Pclass  Sex       Age  SibSp  Parch   Fare Cabin  \\\n",
       "0              1         0       3    1  22.00000      1      0   7.25   NaN   \n",
       "1              2         1       1    0  38.00000      1      0  71.28   C85   \n",
       "2              3         1       3    0  26.00000      0      0   7.92   NaN   \n",
       "3              4         1       1    0  35.00000      1      0  53.10  C123   \n",
       "4              5         0       3    1  35.00000      0      0   8.05   NaN   \n",
       "..           ...       ...     ...  ...       ...    ...    ...    ...   ...   \n",
       "886          887         0       2    1  27.00000      0      0  13.00   NaN   \n",
       "887          888         1       1    0  19.00000      0      0  30.00   B42   \n",
       "888          889         0       3    0  25.14062      1      2  23.45   NaN   \n",
       "889          890         1       1    1  26.00000      0      0  30.00  C148   \n",
       "890          891         0       3    1  32.00000      0      0   7.75   NaN   \n",
       "\n",
       "     Embarked  ...  cabin_label_D  cabin_label_E  cabin_label_F  \\\n",
       "0           2  ...            0.0            0.0            0.0   \n",
       "1           0  ...            0.0            0.0            0.0   \n",
       "2           2  ...            0.0            0.0            0.0   \n",
       "3           2  ...            0.0            0.0            0.0   \n",
       "4           2  ...            0.0            0.0            0.0   \n",
       "..        ...  ...            ...            ...            ...   \n",
       "886         2  ...            0.0            0.0            0.0   \n",
       "887         2  ...            0.0            0.0            0.0   \n",
       "888         2  ...            0.0            0.0            0.0   \n",
       "889         0  ...            0.0            0.0            0.0   \n",
       "890         1  ...            0.0            0.0            0.0   \n",
       "\n",
       "     cabin_label_G  cabin_label_T  cabin_label_n  fare_range_economy  \\\n",
       "0              0.0            0.0            1.0                 0.0   \n",
       "1              0.0            0.0            0.0                 0.0   \n",
       "2              0.0            0.0            1.0                 0.0   \n",
       "3              0.0            0.0            0.0                 0.0   \n",
       "4              0.0            0.0            1.0                 0.0   \n",
       "..             ...            ...            ...                 ...   \n",
       "886            0.0            0.0            1.0                 1.0   \n",
       "887            0.0            0.0            0.0                 0.0   \n",
       "888            0.0            0.0            1.0                 0.0   \n",
       "889            0.0            0.0            0.0                 0.0   \n",
       "890            0.0            0.0            1.0                 0.0   \n",
       "\n",
       "     fare_range_expensive  fare_range_mega_cheap  fare_range_middle_priced  \n",
       "0                     0.0                    1.0                       0.0  \n",
       "1                     1.0                    0.0                       0.0  \n",
       "2                     0.0                    0.0                       0.0  \n",
       "3                     1.0                    0.0                       0.0  \n",
       "4                     0.0                    0.0                       0.0  \n",
       "..                    ...                    ...                       ...  \n",
       "886                   0.0                    0.0                       0.0  \n",
       "887                   0.0                    0.0                       1.0  \n",
       "888                   0.0                    0.0                       1.0  \n",
       "889                   0.0                    0.0                       1.0  \n",
       "890                   0.0                    1.0                       0.0  \n",
       "\n",
       "[891 rows x 32 columns]"
      ]
     },
     "execution_count": 173,
     "metadata": {},
     "output_type": "execute_result"
    }
   ],
   "source": [
    "#df = pd.concat(([df, fare_scaled], axis = 1).drop(['Fare'], axis = 1))\n",
    "df"
   ]
  },
  {
   "cell_type": "code",
   "execution_count": 174,
   "id": "e3b6944e",
   "metadata": {},
   "outputs": [
    {
     "data": {
      "text/plain": [
       "Index(['PassengerId', 'Survived', 'Pclass', 'Sex', 'Age', 'SibSp', 'Parch',\n",
       "       'Fare', 'Cabin', 'Embarked', 'alone', 'family_size', 'cabin_number',\n",
       "       'title', 'age_binned', 'big_family', 'age_cut_middle_aged',\n",
       "       'age_cut_old', 'age_cut_super_old', 'age_cut_young', 'cabin_label_B',\n",
       "       'cabin_label_C', 'cabin_label_D', 'cabin_label_E', 'cabin_label_F',\n",
       "       'cabin_label_G', 'cabin_label_T', 'cabin_label_n', 'fare_range_economy',\n",
       "       'fare_range_expensive', 'fare_range_mega_cheap',\n",
       "       'fare_range_middle_priced'],\n",
       "      dtype='object')"
      ]
     },
     "execution_count": 174,
     "metadata": {},
     "output_type": "execute_result"
    }
   ],
   "source": [
    "df.columns"
   ]
  },
  {
   "cell_type": "code",
   "execution_count": 175,
   "id": "62abfa48",
   "metadata": {},
   "outputs": [],
   "source": [
    "df = df.drop(['Cabin', 'alone', 'cabin_number','Age'],axis=1)"
   ]
  },
  {
   "cell_type": "code",
   "execution_count": 176,
   "id": "76b54579",
   "metadata": {},
   "outputs": [
    {
     "data": {
      "text/html": [
       "<div>\n",
       "<style scoped>\n",
       "    .dataframe tbody tr th:only-of-type {\n",
       "        vertical-align: middle;\n",
       "    }\n",
       "\n",
       "    .dataframe tbody tr th {\n",
       "        vertical-align: top;\n",
       "    }\n",
       "\n",
       "    .dataframe thead th {\n",
       "        text-align: right;\n",
       "    }\n",
       "</style>\n",
       "<table border=\"1\" class=\"dataframe\">\n",
       "  <thead>\n",
       "    <tr style=\"text-align: right;\">\n",
       "      <th></th>\n",
       "      <th>PassengerId</th>\n",
       "      <th>Survived</th>\n",
       "      <th>Pclass</th>\n",
       "      <th>Sex</th>\n",
       "      <th>SibSp</th>\n",
       "      <th>Parch</th>\n",
       "      <th>Fare</th>\n",
       "      <th>Embarked</th>\n",
       "      <th>family_size</th>\n",
       "      <th>title</th>\n",
       "      <th>...</th>\n",
       "      <th>cabin_label_D</th>\n",
       "      <th>cabin_label_E</th>\n",
       "      <th>cabin_label_F</th>\n",
       "      <th>cabin_label_G</th>\n",
       "      <th>cabin_label_T</th>\n",
       "      <th>cabin_label_n</th>\n",
       "      <th>fare_range_economy</th>\n",
       "      <th>fare_range_expensive</th>\n",
       "      <th>fare_range_mega_cheap</th>\n",
       "      <th>fare_range_middle_priced</th>\n",
       "    </tr>\n",
       "  </thead>\n",
       "  <tbody>\n",
       "    <tr>\n",
       "      <th>0</th>\n",
       "      <td>1</td>\n",
       "      <td>0</td>\n",
       "      <td>3</td>\n",
       "      <td>1</td>\n",
       "      <td>1</td>\n",
       "      <td>0</td>\n",
       "      <td>7.25</td>\n",
       "      <td>2</td>\n",
       "      <td>2</td>\n",
       "      <td>1</td>\n",
       "      <td>...</td>\n",
       "      <td>0.0</td>\n",
       "      <td>0.0</td>\n",
       "      <td>0.0</td>\n",
       "      <td>0.0</td>\n",
       "      <td>0.0</td>\n",
       "      <td>1.0</td>\n",
       "      <td>0.0</td>\n",
       "      <td>0.0</td>\n",
       "      <td>1.0</td>\n",
       "      <td>0.0</td>\n",
       "    </tr>\n",
       "    <tr>\n",
       "      <th>1</th>\n",
       "      <td>2</td>\n",
       "      <td>1</td>\n",
       "      <td>1</td>\n",
       "      <td>0</td>\n",
       "      <td>1</td>\n",
       "      <td>0</td>\n",
       "      <td>71.28</td>\n",
       "      <td>0</td>\n",
       "      <td>2</td>\n",
       "      <td>3</td>\n",
       "      <td>...</td>\n",
       "      <td>0.0</td>\n",
       "      <td>0.0</td>\n",
       "      <td>0.0</td>\n",
       "      <td>0.0</td>\n",
       "      <td>0.0</td>\n",
       "      <td>0.0</td>\n",
       "      <td>0.0</td>\n",
       "      <td>1.0</td>\n",
       "      <td>0.0</td>\n",
       "      <td>0.0</td>\n",
       "    </tr>\n",
       "    <tr>\n",
       "      <th>2</th>\n",
       "      <td>3</td>\n",
       "      <td>1</td>\n",
       "      <td>3</td>\n",
       "      <td>0</td>\n",
       "      <td>0</td>\n",
       "      <td>0</td>\n",
       "      <td>7.92</td>\n",
       "      <td>2</td>\n",
       "      <td>1</td>\n",
       "      <td>2</td>\n",
       "      <td>...</td>\n",
       "      <td>0.0</td>\n",
       "      <td>0.0</td>\n",
       "      <td>0.0</td>\n",
       "      <td>0.0</td>\n",
       "      <td>0.0</td>\n",
       "      <td>1.0</td>\n",
       "      <td>0.0</td>\n",
       "      <td>0.0</td>\n",
       "      <td>0.0</td>\n",
       "      <td>0.0</td>\n",
       "    </tr>\n",
       "    <tr>\n",
       "      <th>3</th>\n",
       "      <td>4</td>\n",
       "      <td>1</td>\n",
       "      <td>1</td>\n",
       "      <td>0</td>\n",
       "      <td>1</td>\n",
       "      <td>0</td>\n",
       "      <td>53.10</td>\n",
       "      <td>2</td>\n",
       "      <td>2</td>\n",
       "      <td>3</td>\n",
       "      <td>...</td>\n",
       "      <td>0.0</td>\n",
       "      <td>0.0</td>\n",
       "      <td>0.0</td>\n",
       "      <td>0.0</td>\n",
       "      <td>0.0</td>\n",
       "      <td>0.0</td>\n",
       "      <td>0.0</td>\n",
       "      <td>1.0</td>\n",
       "      <td>0.0</td>\n",
       "      <td>0.0</td>\n",
       "    </tr>\n",
       "    <tr>\n",
       "      <th>4</th>\n",
       "      <td>5</td>\n",
       "      <td>0</td>\n",
       "      <td>3</td>\n",
       "      <td>1</td>\n",
       "      <td>0</td>\n",
       "      <td>0</td>\n",
       "      <td>8.05</td>\n",
       "      <td>2</td>\n",
       "      <td>1</td>\n",
       "      <td>1</td>\n",
       "      <td>...</td>\n",
       "      <td>0.0</td>\n",
       "      <td>0.0</td>\n",
       "      <td>0.0</td>\n",
       "      <td>0.0</td>\n",
       "      <td>0.0</td>\n",
       "      <td>1.0</td>\n",
       "      <td>0.0</td>\n",
       "      <td>0.0</td>\n",
       "      <td>0.0</td>\n",
       "      <td>0.0</td>\n",
       "    </tr>\n",
       "  </tbody>\n",
       "</table>\n",
       "<p>5 rows × 28 columns</p>\n",
       "</div>"
      ],
      "text/plain": [
       "   PassengerId  Survived  Pclass  Sex  SibSp  Parch   Fare  Embarked  \\\n",
       "0            1         0       3    1      1      0   7.25         2   \n",
       "1            2         1       1    0      1      0  71.28         0   \n",
       "2            3         1       3    0      0      0   7.92         2   \n",
       "3            4         1       1    0      1      0  53.10         2   \n",
       "4            5         0       3    1      0      0   8.05         2   \n",
       "\n",
       "   family_size  title  ...  cabin_label_D  cabin_label_E  cabin_label_F  \\\n",
       "0            2      1  ...            0.0            0.0            0.0   \n",
       "1            2      3  ...            0.0            0.0            0.0   \n",
       "2            1      2  ...            0.0            0.0            0.0   \n",
       "3            2      3  ...            0.0            0.0            0.0   \n",
       "4            1      1  ...            0.0            0.0            0.0   \n",
       "\n",
       "   cabin_label_G  cabin_label_T  cabin_label_n  fare_range_economy  \\\n",
       "0            0.0            0.0            1.0                 0.0   \n",
       "1            0.0            0.0            0.0                 0.0   \n",
       "2            0.0            0.0            1.0                 0.0   \n",
       "3            0.0            0.0            0.0                 0.0   \n",
       "4            0.0            0.0            1.0                 0.0   \n",
       "\n",
       "   fare_range_expensive  fare_range_mega_cheap  fare_range_middle_priced  \n",
       "0                   0.0                    1.0                       0.0  \n",
       "1                   1.0                    0.0                       0.0  \n",
       "2                   0.0                    0.0                       0.0  \n",
       "3                   1.0                    0.0                       0.0  \n",
       "4                   0.0                    0.0                       0.0  \n",
       "\n",
       "[5 rows x 28 columns]"
      ]
     },
     "execution_count": 176,
     "metadata": {},
     "output_type": "execute_result"
    }
   ],
   "source": [
    "df.head()"
   ]
  },
  {
   "cell_type": "markdown",
   "id": "0a34d309",
   "metadata": {},
   "source": [
    "# Logistic Regression vol.3"
   ]
  },
  {
   "cell_type": "code",
   "execution_count": 177,
   "id": "29f56e95",
   "metadata": {},
   "outputs": [],
   "source": [
    "X = df[['Pclass', 'Sex', 'family_size', 'title', \n",
    "       'age_cut_middle_aged', 'age_cut_old', 'age_cut_super_old',\n",
    "        'age_cut_young', 'cabin_label_B', 'cabin_label_C', 'cabin_label_D',\n",
    "        'cabin_label_E', 'cabin_label_F', 'cabin_label_G', 'cabin_label_T',\n",
    "        'cabin_label_n', 'Fare']]\n",
    "y = df['Survived']"
   ]
  },
  {
   "cell_type": "code",
   "execution_count": 178,
   "id": "3fa6ff63",
   "metadata": {},
   "outputs": [],
   "source": [
    "X_train, X_val, y_train, y_val = train_test_split(X, y, test_size=0.25)"
   ]
  },
  {
   "cell_type": "code",
   "execution_count": 179,
   "id": "e9f21d31",
   "metadata": {},
   "outputs": [
    {
     "name": "stdout",
     "output_type": "stream",
     "text": [
      "(891, 17) (891,)\n"
     ]
    }
   ],
   "source": [
    "print(X.shape, y.shape)"
   ]
  },
  {
   "cell_type": "code",
   "execution_count": 180,
   "id": "9b99c092",
   "metadata": {},
   "outputs": [],
   "source": [
    "m_lr3 = LogisticRegression(C=7.7)"
   ]
  },
  {
   "cell_type": "code",
   "execution_count": 181,
   "id": "d9523385",
   "metadata": {
    "scrolled": true
   },
   "outputs": [
    {
     "data": {
      "text/plain": [
       "LogisticRegression(C=7.7)"
      ]
     },
     "execution_count": 181,
     "metadata": {},
     "output_type": "execute_result"
    }
   ],
   "source": [
    "m_lr3.fit(X_train, y_train)"
   ]
  },
  {
   "cell_type": "code",
   "execution_count": 182,
   "id": "b296ed83",
   "metadata": {},
   "outputs": [
    {
     "data": {
      "text/plain": [
       "0.8233532934131736"
      ]
     },
     "execution_count": 182,
     "metadata": {},
     "output_type": "execute_result"
    }
   ],
   "source": [
    "#calculating the accuracy score\n",
    "m_lr3.score(X_train, y_train) "
   ]
  },
  {
   "cell_type": "code",
   "execution_count": 183,
   "id": "b96e0dd0",
   "metadata": {},
   "outputs": [
    {
     "name": "stdout",
     "output_type": "stream",
     "text": [
      "accuracy:  0.8116591928251121\n",
      "precision:  0.7530864197530864\n",
      "recall:  0.7349397590361446\n",
      "f1_score:  0.7439024390243902\n"
     ]
    }
   ],
   "source": [
    "ypred = m_lr3.predict(X_val)\n",
    "print('accuracy: ', accuracy_score(y_val, ypred))\n",
    "print('precision: ', precision_score(y_val, ypred))\n",
    "print('recall: ', recall_score(y_val, ypred))\n",
    "print('f1_score: ', f1_score(y_val, ypred))"
   ]
  },
  {
   "cell_type": "code",
   "execution_count": 184,
   "id": "a063329c",
   "metadata": {},
   "outputs": [
    {
     "data": {
      "text/plain": [
       "array([[120,  20],\n",
       "       [ 22,  61]])"
      ]
     },
     "execution_count": 184,
     "metadata": {},
     "output_type": "execute_result"
    }
   ],
   "source": [
    "conf = confusion_matrix(y_val, ypred)\n",
    "conf"
   ]
  },
  {
   "cell_type": "code",
   "execution_count": 185,
   "id": "e495c56e",
   "metadata": {},
   "outputs": [
    {
     "data": {
      "text/plain": [
       "<sklearn.metrics._plot.roc_curve.RocCurveDisplay at 0x7fdfd5711a90>"
      ]
     },
     "execution_count": 185,
     "metadata": {},
     "output_type": "execute_result"
    },
    {
     "data": {
      "image/png": "[encoded data removed]",
      "text/plain": [
       "<Figure size 432x288 with 1 Axes>"
      ]
     },
     "metadata": {
      "needs_background": "light"
     },
     "output_type": "display_data"
    }
   ],
   "source": [
    "plot_roc_curve(m_lr3, X_val, y_val)"
   ]
  },
  {
   "cell_type": "code",
   "execution_count": 186,
   "id": "92327576",
   "metadata": {},
   "outputs": [],
   "source": [
    "fpr, tpr, threshold = roc_curve(y_val, m_lr3.predict_proba(X_val)[:,1]);"
   ]
  },
  {
   "cell_type": "code",
   "execution_count": 187,
   "id": "76dfe460",
   "metadata": {},
   "outputs": [
    {
     "name": "stdout",
     "output_type": "stream",
     "text": [
      "Area under the curve =  0.8455679862306369\n"
     ]
    }
   ],
   "source": [
    "auc_score = auc(fpr, tpr)\n",
    "print(\"Area under the curve = \", auc_score)"
   ]
  },
  {
   "cell_type": "code",
   "execution_count": 188,
   "id": "1066255c",
   "metadata": {
    "scrolled": true
   },
   "outputs": [
    {
     "data": {
      "image/png": "[encoded data removed]",
      "text/plain": [
       "<Figure size 432x288 with 1 Axes>"
      ]
     },
     "metadata": {
      "needs_background": "light"
     },
     "output_type": "display_data"
    }
   ],
   "source": [
    "probs = m_lr3.predict_proba(X_val)\n",
    "probs = probs[:, 1]\n",
    "\n",
    "fpr, tpr, threshold = roc_curve(y_val, probs)\n",
    "roc_auc = roc_auc_score(y_val, probs)\n",
    "\n",
    "# visualisation ROC AUC\n",
    "plt.figure()\n",
    "plt.plot([0, 1], label='Baseline', linestyle='--')\n",
    "plt.plot(fpr, tpr, label='Regression')\n",
    "plt.title('Logistic Regression ROC AUC = %0.3f' % roc_auc)\n",
    "plt.ylabel('True Positive Rate')\n",
    "plt.xlabel('False Positive Rate')\n",
    "plt.legend(loc='lower right')\n",
    "plt.show()"
   ]
  },
  {
   "cell_type": "markdown",
   "id": "436f94ea",
   "metadata": {},
   "source": [
    "# RandomForest vol.3"
   ]
  },
  {
   "cell_type": "code",
   "execution_count": 189,
   "id": "82a61447",
   "metadata": {},
   "outputs": [
    {
     "data": {
      "text/plain": [
       "Index(['PassengerId', 'Survived', 'Pclass', 'Sex', 'SibSp', 'Parch', 'Fare',\n",
       "       'Embarked', 'family_size', 'title', 'age_binned', 'big_family',\n",
       "       'age_cut_middle_aged', 'age_cut_old', 'age_cut_super_old',\n",
       "       'age_cut_young', 'cabin_label_B', 'cabin_label_C', 'cabin_label_D',\n",
       "       'cabin_label_E', 'cabin_label_F', 'cabin_label_G', 'cabin_label_T',\n",
       "       'cabin_label_n', 'fare_range_economy', 'fare_range_expensive',\n",
       "       'fare_range_mega_cheap', 'fare_range_middle_priced'],\n",
       "      dtype='object')"
      ]
     },
     "execution_count": 189,
     "metadata": {},
     "output_type": "execute_result"
    }
   ],
   "source": [
    "df.columns"
   ]
  },
  {
   "cell_type": "code",
   "execution_count": 190,
   "id": "2e7f35cd",
   "metadata": {},
   "outputs": [],
   "source": [
    "X = df[['Pclass', 'Sex','family_size', 'title', 'age_cut_middle_aged', 'age_cut_old', 'age_cut_super_old',\n",
    "       'age_cut_young', 'cabin_label_B', 'cabin_label_C', 'cabin_label_D',\n",
    "       'cabin_label_E', 'cabin_label_F', 'cabin_label_G', 'cabin_label_T',\n",
    "       'cabin_label_n', 'Fare']]\n",
    "y = df['Survived']"
   ]
  },
  {
   "cell_type": "code",
   "execution_count": 191,
   "id": "0e8302f0",
   "metadata": {},
   "outputs": [],
   "source": [
    "X_train, X_val, y_train, y_val = train_test_split(X, y, test_size=0.25)"
   ]
  },
  {
   "cell_type": "code",
   "execution_count": 192,
   "id": "1ebf9b54",
   "metadata": {},
   "outputs": [
    {
     "name": "stdout",
     "output_type": "stream",
     "text": [
      "(223, 17) (223,)\n",
      "(668, 17) (668,)\n"
     ]
    }
   ],
   "source": [
    "print(X_val.shape,y_val.shape)\n",
    "print(X_train.shape,y_train.shape)"
   ]
  },
  {
   "cell_type": "code",
   "execution_count": 193,
   "id": "53352723",
   "metadata": {},
   "outputs": [],
   "source": [
    "m_rf3 = RandomForestClassifier(random_state=42, n_estimators=15,max_depth=5)"
   ]
  },
  {
   "cell_type": "code",
   "execution_count": 194,
   "id": "186d737c",
   "metadata": {},
   "outputs": [
    {
     "data": {
      "text/plain": [
       "RandomForestClassifier(max_depth=5, n_estimators=15, random_state=42)"
      ]
     },
     "execution_count": 194,
     "metadata": {},
     "output_type": "execute_result"
    }
   ],
   "source": [
    "m_rf3.fit(X_train,y_train)"
   ]
  },
  {
   "cell_type": "code",
   "execution_count": 195,
   "id": "fe7a2be7",
   "metadata": {},
   "outputs": [],
   "source": [
    "ypred_rf3 = m_rf3.predict(X_val)"
   ]
  },
  {
   "cell_type": "code",
   "execution_count": 196,
   "id": "f2a65165",
   "metadata": {},
   "outputs": [
    {
     "data": {
      "text/plain": [
       "0.8878923766816144"
      ]
     },
     "execution_count": 196,
     "metadata": {},
     "output_type": "execute_result"
    }
   ],
   "source": [
    "accuracy_score(ypred_rf3,y_val)"
   ]
  },
  {
   "cell_type": "code",
   "execution_count": 197,
   "id": "4c1c96a7",
   "metadata": {},
   "outputs": [
    {
     "name": "stdout",
     "output_type": "stream",
     "text": [
      "accuracy:  0.8878923766816144\n",
      "precision:  0.890625\n",
      "recall:  0.76\n",
      "f1_score:  0.8201438848920863\n"
     ]
    }
   ],
   "source": [
    "ypred_rf3 = m_rf3.predict(X_val)\n",
    "print('accuracy: ', accuracy_score(y_val, ypred_rf3))\n",
    "print('precision: ', precision_score(y_val, ypred_rf3))\n",
    "print('recall: ', recall_score(y_val, ypred_rf3))\n",
    "print('f1_score: ', f1_score(y_val, ypred_rf3))"
   ]
  },
  {
   "cell_type": "code",
   "execution_count": 198,
   "id": "93049da1",
   "metadata": {},
   "outputs": [
    {
     "data": {
      "text/plain": [
       "array([0.74626866, 0.85074627, 0.71641791, 0.8358209 , 0.92537313,\n",
       "       0.8358209 , 0.88059701, 0.7761194 , 0.83333333, 0.86363636])"
      ]
     },
     "execution_count": 198,
     "metadata": {},
     "output_type": "execute_result"
    }
   ],
   "source": [
    "acc_rf = cross_val_score(m_rf3, X_train, y_train, \\\n",
    "                      cv=10, scoring='accuracy')\n",
    "acc_rf"
   ]
  },
  {
   "cell_type": "code",
   "execution_count": 199,
   "id": "05f23424",
   "metadata": {},
   "outputs": [
    {
     "data": {
      "text/plain": [
       "0.8264133876074174"
      ]
     },
     "execution_count": 199,
     "metadata": {},
     "output_type": "execute_result"
    }
   ],
   "source": [
    "results = cross_val_score(m_rf3, X_train, y_train,cv=10) \n",
    "results.mean()"
   ]
  },
  {
   "cell_type": "code",
   "execution_count": 200,
   "id": "524b2532",
   "metadata": {},
   "outputs": [
    {
     "data": {
      "text/plain": [
       "0.059985908193982064"
      ]
     },
     "execution_count": 200,
     "metadata": {},
     "output_type": "execute_result"
    }
   ],
   "source": [
    "results.std()"
   ]
  },
  {
   "cell_type": "markdown",
   "id": "f161570e",
   "metadata": {},
   "source": [
    "# Submit the predictions to Kaggle"
   ]
  },
  {
   "cell_type": "code",
   "execution_count": 201,
   "id": "ee08125a",
   "metadata": {
    "scrolled": true
   },
   "outputs": [],
   "source": [
    "ypred_rf3 = m_rf3.predict(X)\n",
    "submission = pd.DataFrame({\"PassengerId\": df.PassengerId, \"Survived\": ypred_rf3})\n",
    "submission.to_csv('submission_titanic.csv', index=False)"
   ]
  },
  {
   "cell_type": "code",
   "execution_count": 202,
   "id": "9f35716b",
   "metadata": {},
   "outputs": [
    {
     "data": {
      "text/html": [
       "<div>\n",
       "<style scoped>\n",
       "    .dataframe tbody tr th:only-of-type {\n",
       "        vertical-align: middle;\n",
       "    }\n",
       "\n",
       "    .dataframe tbody tr th {\n",
       "        vertical-align: top;\n",
       "    }\n",
       "\n",
       "    .dataframe thead th {\n",
       "        text-align: right;\n",
       "    }\n",
       "</style>\n",
       "<table border=\"1\" class=\"dataframe\">\n",
       "  <thead>\n",
       "    <tr style=\"text-align: right;\">\n",
       "      <th></th>\n",
       "      <th>Pclass</th>\n",
       "      <th>Sex</th>\n",
       "      <th>family_size</th>\n",
       "      <th>title</th>\n",
       "      <th>age_cut_middle_aged</th>\n",
       "      <th>age_cut_old</th>\n",
       "      <th>age_cut_super_old</th>\n",
       "      <th>age_cut_young</th>\n",
       "      <th>cabin_label_B</th>\n",
       "      <th>cabin_label_C</th>\n",
       "      <th>cabin_label_D</th>\n",
       "      <th>cabin_label_E</th>\n",
       "      <th>cabin_label_F</th>\n",
       "      <th>cabin_label_G</th>\n",
       "      <th>cabin_label_T</th>\n",
       "      <th>cabin_label_n</th>\n",
       "      <th>Fare</th>\n",
       "    </tr>\n",
       "  </thead>\n",
       "  <tbody>\n",
       "    <tr>\n",
       "      <th>0</th>\n",
       "      <td>3</td>\n",
       "      <td>1</td>\n",
       "      <td>2</td>\n",
       "      <td>1</td>\n",
       "      <td>0.0</td>\n",
       "      <td>0.0</td>\n",
       "      <td>0.0</td>\n",
       "      <td>1.0</td>\n",
       "      <td>0.0</td>\n",
       "      <td>0.0</td>\n",
       "      <td>0.0</td>\n",
       "      <td>0.0</td>\n",
       "      <td>0.0</td>\n",
       "      <td>0.0</td>\n",
       "      <td>0.0</td>\n",
       "      <td>1.0</td>\n",
       "      <td>7.25</td>\n",
       "    </tr>\n",
       "    <tr>\n",
       "      <th>1</th>\n",
       "      <td>1</td>\n",
       "      <td>0</td>\n",
       "      <td>2</td>\n",
       "      <td>3</td>\n",
       "      <td>0.0</td>\n",
       "      <td>1.0</td>\n",
       "      <td>0.0</td>\n",
       "      <td>0.0</td>\n",
       "      <td>0.0</td>\n",
       "      <td>1.0</td>\n",
       "      <td>0.0</td>\n",
       "      <td>0.0</td>\n",
       "      <td>0.0</td>\n",
       "      <td>0.0</td>\n",
       "      <td>0.0</td>\n",
       "      <td>0.0</td>\n",
       "      <td>71.28</td>\n",
       "    </tr>\n",
       "    <tr>\n",
       "      <th>2</th>\n",
       "      <td>3</td>\n",
       "      <td>0</td>\n",
       "      <td>1</td>\n",
       "      <td>2</td>\n",
       "      <td>1.0</td>\n",
       "      <td>0.0</td>\n",
       "      <td>0.0</td>\n",
       "      <td>0.0</td>\n",
       "      <td>0.0</td>\n",
       "      <td>0.0</td>\n",
       "      <td>0.0</td>\n",
       "      <td>0.0</td>\n",
       "      <td>0.0</td>\n",
       "      <td>0.0</td>\n",
       "      <td>0.0</td>\n",
       "      <td>1.0</td>\n",
       "      <td>7.92</td>\n",
       "    </tr>\n",
       "    <tr>\n",
       "      <th>3</th>\n",
       "      <td>1</td>\n",
       "      <td>0</td>\n",
       "      <td>2</td>\n",
       "      <td>3</td>\n",
       "      <td>0.0</td>\n",
       "      <td>1.0</td>\n",
       "      <td>0.0</td>\n",
       "      <td>0.0</td>\n",
       "      <td>0.0</td>\n",
       "      <td>1.0</td>\n",
       "      <td>0.0</td>\n",
       "      <td>0.0</td>\n",
       "      <td>0.0</td>\n",
       "      <td>0.0</td>\n",
       "      <td>0.0</td>\n",
       "      <td>0.0</td>\n",
       "      <td>53.10</td>\n",
       "    </tr>\n",
       "    <tr>\n",
       "      <th>4</th>\n",
       "      <td>3</td>\n",
       "      <td>1</td>\n",
       "      <td>1</td>\n",
       "      <td>1</td>\n",
       "      <td>0.0</td>\n",
       "      <td>1.0</td>\n",
       "      <td>0.0</td>\n",
       "      <td>0.0</td>\n",
       "      <td>0.0</td>\n",
       "      <td>0.0</td>\n",
       "      <td>0.0</td>\n",
       "      <td>0.0</td>\n",
       "      <td>0.0</td>\n",
       "      <td>0.0</td>\n",
       "      <td>0.0</td>\n",
       "      <td>1.0</td>\n",
       "      <td>8.05</td>\n",
       "    </tr>\n",
       "  </tbody>\n",
       "</table>\n",
       "</div>"
      ],
      "text/plain": [
       "   Pclass  Sex  family_size  title  age_cut_middle_aged  age_cut_old  \\\n",
       "0       3    1            2      1                  0.0          0.0   \n",
       "1       1    0            2      3                  0.0          1.0   \n",
       "2       3    0            1      2                  1.0          0.0   \n",
       "3       1    0            2      3                  0.0          1.0   \n",
       "4       3    1            1      1                  0.0          1.0   \n",
       "\n",
       "   age_cut_super_old  age_cut_young  cabin_label_B  cabin_label_C  \\\n",
       "0                0.0            1.0            0.0            0.0   \n",
       "1                0.0            0.0            0.0            1.0   \n",
       "2                0.0            0.0            0.0            0.0   \n",
       "3                0.0            0.0            0.0            1.0   \n",
       "4                0.0            0.0            0.0            0.0   \n",
       "\n",
       "   cabin_label_D  cabin_label_E  cabin_label_F  cabin_label_G  cabin_label_T  \\\n",
       "0            0.0            0.0            0.0            0.0            0.0   \n",
       "1            0.0            0.0            0.0            0.0            0.0   \n",
       "2            0.0            0.0            0.0            0.0            0.0   \n",
       "3            0.0            0.0            0.0            0.0            0.0   \n",
       "4            0.0            0.0            0.0            0.0            0.0   \n",
       "\n",
       "   cabin_label_n   Fare  \n",
       "0            1.0   7.25  \n",
       "1            0.0  71.28  \n",
       "2            1.0   7.92  \n",
       "3            0.0  53.10  \n",
       "4            1.0   8.05  "
      ]
     },
     "execution_count": 202,
     "metadata": {},
     "output_type": "execute_result"
    }
   ],
   "source": [
    "X.head()"
   ]
  },
  {
   "cell_type": "markdown",
   "id": "48a4f024",
   "metadata": {},
   "source": [
    "Summary:\n",
    "\n",
    "- I made a detailed EDA for the provided titanic train dataset. I started with the target column ‘Survived’. Only 342  from 891 passengers survived, from the first class survived 136 passengers(66% from total number of the 1st class passengers, where 91 female and 45 male passengers); from the second class survived  87 passengers(47% from total number of the 2nd class passengers, where 70 female and 17 male passengers); from the third class survived  119 passengers(24% from total number of the 3rd class passengers, where 72 female and 47 male passengers); \n",
    "- The average age of passengers is : 29, the maximum age of passengers is : 80, the minimum age of passengers is : less than 1 year, the average age of not survived passengers is  31 year, the average age of survived passengers is  28 years. The average age of the female passenger in the 1st class is 35,of the male - 41; the average age of the female passenger in the 2nd is 29, of the male - 31; the average age of the female passenger in the 3rd is 23, of the male - 26. The missing values in ‘Age’ column I filled with the mean age according to the 'Pclass' and 'Sex'.\n",
    "- 52% of the passengers, who was alone survived. According to the info from SibSp, Parch I calculated the family size. 537 passengers were alone, 161 passengers travelled with someone, 102 passengers had 2 family members,29 passengers had 4 family members, 15 passengers 5 family members, 22 passengers had 6 family members, 12 passengers had 7 family members, 6 passengers had 8 family members, 7 passengers had 11 family members.\n",
    "- Percentage of people with a recorded Cabin number who survived: 67%, percentage of people without a recorded Cabin number who survived: 30%.\n",
    "- 644 passengers embarked in Southampton (S), 168 passengers embarked in Cherbourg (C), 77 passengers embarked in Queenstown (Q). I replaced the missing values with the most frequent one.\n",
    "- I used the 'title' from 'Name’ column and grouped the results into five groups,\"Mr\", \"Miss\", \"Mrs\", \"Master\",\"Other\"(based on frequency)\n",
    "- Mean value of Fare is : 32.2, median value of Fare is : 14.45; I rounded the values in 'Fare'.\n",
    "I calculated the min, max and mean price of the ticket, excluding the free tickets and min/max/mean price of the ticket for each class for survived/not survived passengers(e.g. the passenger with the most expensive ticket survived and with free ticket didn't)\n",
    "- I deleted 'Name', 'Ticket' columns; even the correlation of 'alone' and 'family_size' is high, at the beginning I left both features to test. \n",
    "\n",
    "- 1 model: baseline with DummyClassifier, m_bl.score = 0.6152694610778443\n",
    "- 2 model: m_lr = LogisticRegression(class_weight=\"balanced\"),(on 'Pclass', 'Age', 'Fare', 'alone', 'cabin_number','title', 'family_size', 'SibSp', 'Parch’), accuracy:  0.8212290502793296, precision:  0.75, recall:  0.8513513513513513, f1_score:  0.7974683544303798\n",
    "\n",
    "- New transformations:The 'Sex' and 'Embarked' columns encoded to categorical ones.I binned the imputed 'Age' column into 3 bins (young, middle-aged, old) and encoded them to categorical ones. I created a 'big_family' feature for 'family_size' <= 3. The missing values in 'cabin' I filled with 'Unknown'.I tried to use the cabin information (deck letter) and created a 'cabin_label' feature and encoded it with get_dummies.I cut the 'Fare' column into 4 equal-sized bins 'mega_cheap', 'cheap', 'middle', 'expensive' and encoded them to categorical ones . I scalled the 'Fare' column with MinMaxScaller().\n",
    "\n",
    "- 3 model: m_lr1 = LogisticRegression(max_iter=10000),(on 'Pclass', 'Age', 'Fare', 'alone', 'cabin_number', 'title', 'Sex', 'Embarked','family_size', 'age_binned', 'big_family'), accuracy:  0.8116591928251121, precision:  0.7974683544303798, recall:  0.7078651685393258, f1_score:  0.7499999999999999\n",
    "\n",
    "- 4 model: DecisionTreeClassifier, (on 'Pclass', 'Age', 'SibSp', 'Parch', 'Fare', 'alone', 'cabin_number', 'title', 'Sex', 'Embarked','family_size', 'age_binned', 'big_family'), m_dt = DecisionTreeClassifier(max_depth=5, criterion='gini’), accuracy score=0.8484848484848485\n",
    "\n",
    "- 5 model: RandomForest, m_rf = RandomForestClassifier(max_depth=5, random_state=42, n_estimators=15), (on 'Pclass', 'Age', 'SibSp', 'Parch', 'Fare', 'alone', 'cabin_number', 'title', 'Sex', 'Embarked','family_size', 'age_binned', 'big_family'), accuracy:  0.8161434977578476, precision:  0.9672131147540983, recall:  0.6020408163265306, f1_score:  0.7421383647798743; crossvalidation: 0.833921302578019; StratifiedShuffleSplit: Validation accuracy scores: [0.84 0.79 0.84 0.84 0.89 0.83 0.86 0.86 0.88 0.85], mean: 0.85, std: 0.03\n",
    "- Hyperparameters: Best Penalty: l2, Best C: 7.742636826811269\n",
    "\n",
    "- 6 model: m_rf = LogisticRegression(penalty='l2', C=7.742636826811269, max_iter=1000), accuracy:  0.8059701492537313, precision:  0.7383177570093458, recall:  0.7669902912621359, f1_score:  0.7523809523809523\n",
    "\n",
    "- 7 model: m_rf2 = RandomForestClassifier(n_estimators=15, random_state=42, max_depth=5),(on 'Pclass', 'Sex', 'Embarked', 'fare_range', 'title', 'age_binned', 'big_family','cabin_label_A', 'cabin_label_B', 'cabin_label_C', 'cabin_label_D', 'cabin_label_E','cabin_label_F', 'cabin_label_G', 'cabin_label_T', 'cabin_label_n', 'fare_range'), accuracy:  0.8295964125560538, precision:  0.8571428571428571, recall:  0.7096774193548387, f1_score:  0.7764705882352942\n",
    "\n",
    "- 8 model: Polynomial Features, accuracy:  0.5874439461883408, precision:  0.40540540540540543, recall:  0.38461538461538464, f1_score:  0.39473684210526316\n",
    "\n",
    "- 9 model: SVC, score=0.6736526946107785\n",
    "\n",
    "- New changes: I cut the 'Age' column into 5 equal-sized bins ('kids', 'young', 'middle_aged', 'old','super_old') and 'Fare' into 5 bins('mega_cheap', 'cheap','economy', 'middle_priced','expensive'). I used one_hot_encoding for 'age_cut', 'cabin_label', 'fare_range'. I scalled 'Fare' with StandardScaler(). I deleted 'Cabin', 'alone', 'cabin_number','Age' columns.\n",
    "\n",
    "- 10 model: m_lr3 = LogisticRegression(C=7.7), (on 'Pclass', 'Sex', 'family_size', 'title','age_cut_middle_aged', 'age_cut_old', 'age_cut_super_old','age_cut_young', 'cabin_label_B', 'cabin_label_C', 'cabin_label_D','cabin_label_E', 'cabin_label_F', 'cabin_label_G', 'cabin_label_T','cabin_label_n', 'Fare'), accuracy:  0.8385650224215246, precision:  0.7444444444444445, recall:  0.8375, f1_score:  0.788235294117647\n",
    "\n",
    "- 11 model: m_rf3 = RandomForestClassifier(random_state=42, n_estimators=15,max_depth=5), (on 'Pclass', 'Sex','family_size', 'title', 'age_cut_middle_aged', 'age_cut_old', 'age_cut_super_old','age_cut_young', 'cabin_label_B', 'cabin_label_C', 'cabin_label_D','cabin_label_E', 'cabin_label_F', 'cabin_label_G', 'cabin_label_T','cabin_label_n', 'Fare'), accuracy:  0.8789237668161435(BEST SCORE), precision:  0.8666666666666667, recall:  0.7926829268292683, f1_score:  0.8280254777070064; crossvalidation score= 0.8145183175033921"
   ]
  }
 ],
 "metadata": {
  "kernelspec": {
   "display_name": "Python 3 (ipykernel)",
   "language": "python",
   "name": "python3"
  },
  "language_info": {
   "codemirror_mode": {
    "name": "ipython",
    "version": 3
   },
   "file_extension": ".py",
   "mimetype": "text/x-python",
   "name": "python",
   "nbconvert_exporter": "python",
   "pygments_lexer": "ipython3",
   "version": "3.9.12"
  }
 },
 "nbformat": 4,
 "nbformat_minor": 5
}
